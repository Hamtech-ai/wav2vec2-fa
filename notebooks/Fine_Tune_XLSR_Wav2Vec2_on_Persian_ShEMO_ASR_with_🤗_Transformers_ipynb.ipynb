{
 "cells": [
  {
   "cell_type": "markdown",
   "metadata": {},
   "source": [
    "# This CODE IS FOR MEHRDAD : https://github.com/m3hrdadfi/notebooks/"
   ]
  },
  {
   "cell_type": "code",
   "execution_count": 1,
   "metadata": {
    "colab": {
     "base_uri": "https://localhost:8080/"
    },
    "id": "pJbYXou6chZf",
    "outputId": "e342c71f-e885-4dda-a74d-315ed856b452"
   },
   "outputs": [
    {
     "name": "stdout",
     "output_type": "stream",
     "text": [
      "Tue Mar 30 13:54:13 2021       \n",
      "+-----------------------------------------------------------------------------+\n",
      "| NVIDIA-SMI 460.56       Driver Version: 460.32.03    CUDA Version: 11.2     |\n",
      "|-------------------------------+----------------------+----------------------+\n",
      "| GPU  Name        Persistence-M| Bus-Id        Disp.A | Volatile Uncorr. ECC |\n",
      "| Fan  Temp  Perf  Pwr:Usage/Cap|         Memory-Usage | GPU-Util  Compute M. |\n",
      "|                               |                      |               MIG M. |\n",
      "|===============================+======================+======================|\n",
      "|   0  Tesla P100-PCIE...  Off  | 00000000:00:04.0 Off |                    0 |\n",
      "| N/A   35C    P0    26W / 250W |      0MiB / 16280MiB |      0%      Default |\n",
      "|                               |                      |                  N/A |\n",
      "+-------------------------------+----------------------+----------------------+\n",
      "                                                                               \n",
      "+-----------------------------------------------------------------------------+\n",
      "| Processes:                                                                  |\n",
      "|  GPU   GI   CI        PID   Type   Process name                  GPU Memory |\n",
      "|        ID   ID                                                   Usage      |\n",
      "|=============================================================================|\n",
      "|  No running processes found                                                 |\n",
      "+-----------------------------------------------------------------------------+\n"
     ]
    }
   ],
   "source": [
    "!nvidia-smi"
   ]
  },
  {
   "cell_type": "code",
   "execution_count": 2,
   "metadata": {
    "id": "Uxrq0i0Bvj4w"
   },
   "outputs": [],
   "source": [
    "from google.colab import drive\n",
    "\n",
    "drive.mount('/content/drive/', force_remount=True)"
   ]
  },
  {
   "cell_type": "code",
   "execution_count": 3,
   "metadata": {
    "colab": {
     "base_uri": "https://localhost:8080/"
    },
    "id": "AbCcAkfNvxNN",
    "outputId": "8e861663-b7c0-4266-ac2a-392b25c3b1e7"
   },
   "outputs": [
    {
     "name": "stdout",
     "output_type": "stream",
     "text": [
      "env: LC_ALL=C.UTF-8\n",
      "env: LANG=C.UTF-8\n",
      "env: TRANSFORMERS_CACHE=/content/cache\n",
      "env: HF_DATASETS_CACHE=/content/cache\n",
      "env: CUDA_LAUNCH_BLOCKING=1\n"
     ]
    }
   ],
   "source": [
    "%env LC_ALL=C.UTF-8\n",
    "%env LANG=C.UTF-8\n",
    "%env TRANSFORMERS_CACHE=/content/cache\n",
    "%env HF_DATASETS_CACHE=/content/cache\n",
    "%env CUDA_LAUNCH_BLOCKING=1"
   ]
  },
  {
   "cell_type": "markdown",
   "metadata": {
    "id": "LBSYoWbi-45k"
   },
   "source": [
    "# **Fine-tuning XLSR-Wav2Vec2 for Multi-Lingual ASR with 🤗 Transformers**"
   ]
  },
  {
   "cell_type": "markdown",
   "metadata": {
    "id": "V7YOT2mnUiea"
   },
   "source": [
    "Wav2Vec2 is a pretrained model for Automatic Speech Recognition (ASR) and was released in [September 2020](https://ai.facebook.com/blog/wav2vec-20-learning-the-structure-of-speech-from-raw-audio/) by Alexei Baevski, Michael Auli, and Alex Conneau.  Soon after the superior performance of Wav2Vec2 was demonstrated on the English ASR dataset LibriSpeech, *Facebook AI* presented XLSR-Wav2Vec2 (click [here](https://arxiv.org/abs/2006.13979)). XLSR stands for *cross-lingual  speech representations* and refers to XLSR-Wav2Vec2`s ability to learn speech representations that are useful across multiple languages.\n",
    "\n",
    "Similar to Wav2Vec2, XLSR-Wav2Vec2 learns powerful speech representations from hundreds of thousands of hours of speech in more than 50 languages of unlabeled speech. Similar, to [BERT's masked language modeling](http://jalammar.github.io/illustrated-bert/), the model learns contextualized speech representations by randomly masking feature vectors before passing them to a transformer network.\n",
    "\n",
    "![wav2vec2_structure](https://raw.githubusercontent.com/patrickvonplaten/scientific_images/master/xlsr_wav2vec2.png)\n",
    "\n",
    "The authors show for the first time that massively pretraining an ASR model on cross-lingual unlabeled speech data, followed by language-specific fine-tuning on very little labeled data achieves state-of-the-art results. See Table 1-5 of the official [paper](https://arxiv.org/pdf/2006.13979.pdf)."
   ]
  },
  {
   "cell_type": "markdown",
   "metadata": {
    "id": "nT_QrfWtsxIz"
   },
   "source": [
    "In this notebook, we will give an in-detail explanation of how XLSR-Wav2Vec2's pretrained checkpoint can be fine-tuned on a low-resource ASR dataset of any language. Note that in this notebook, we will fine-tune XLSR-Wav2Vec2 without making use of a language model. It is much simpler and more efficient to use XLSR-Wav2Vec2 without a language model, but better results can be achieved by including a language model. \n",
    "\n",
    "For demonstration purposes, we fine-tune the [wav2vec2-large-xlsr-53](https://huggingface.co/facebook/wav2vec2-large-xlsr-53) on the low resource Turkish ASR dataset of [Common Voice](https://huggingface.co/datasets/common_voice) that contains just ~6h of validated training data."
   ]
  },
  {
   "cell_type": "markdown",
   "metadata": {
    "id": "Gx9OdDYrCtQ1"
   },
   "source": [
    "XLSR-Wav2Vec2 is fine-tuned using Connectionist Temporal Classification (CTC), which is an algorithm that is used to train neural networks for sequence-to-sequence problems and mainly in Automatic Speech Recognition and handwriting recognition. \n",
    "\n",
    "I highly recommend reading the blog post [Sequence Modeling with CTC (2017)](https://distill.pub/2017/ctc/) very well-written blog post by Awni Hannun."
   ]
  },
  {
   "cell_type": "markdown",
   "metadata": {
    "id": "e335hPmdtASZ"
   },
   "source": [
    "Before we start, let's install both `datasets` and `transformers` from master. Also, we need the `torchaudio` and `librosa` package to load audio files and the `jiwer` to evaluate our fine-tuned model using the [word error rate (WER)](https://huggingface.co/metrics/wer) metric ${}^1$."
   ]
  },
  {
   "cell_type": "code",
   "execution_count": 4,
   "metadata": {
    "id": "c8eh87Hoee5d"
   },
   "outputs": [],
   "source": [
    "%%capture\n",
    "!pip install -U datasets\n",
    "!pip install -U transformers\n",
    "!pip install torchaudio\n",
    "!pip install librosa\n",
    "!pip install jiwer\n",
    "!pip install hazm\n",
    "!pip install num2fawords\n",
    "# !pip install wandb"
   ]
  },
  {
   "cell_type": "code",
   "execution_count": null,
   "metadata": {
    "id": "k86O-W87v1YP"
   },
   "outputs": [],
   "source": [
    "# %env WANDB_PROJECT=YOUR_WANDB_PROJECT_PROJECT_NAME\n",
    "# !wandb login YOUR_API_KEY --relogin"
   ]
  },
  {
   "cell_type": "markdown",
   "metadata": {
    "id": "Mn9swf6EQ9Vd"
   },
   "source": [
    "\n",
    "\n",
    "\n",
    "---\n",
    "\n",
    "${}^1$ In the [paper](https://arxiv.org/pdf/2006.13979.pdf), the model was evaluated using the phoneme error rate (PER), but by far the most common metric in ASR is the word error rate (WER). To keep this notebook as general as possible we decided to evaluate the model using WER."
   ]
  },
  {
   "cell_type": "markdown",
   "metadata": {
    "id": "0mW-C1Nt-j7k"
   },
   "source": [
    "## Prepare Data, Tokenizer, Feature Extractor"
   ]
  },
  {
   "cell_type": "markdown",
   "metadata": {
    "id": "BeBosnY9BH3e"
   },
   "source": [
    "ASR models transcribe speech to text, which means that we both need a feature extractor that processes the speech signal to the model's input format, *e.g.* a feature vector, and a tokenizer that processes the model's output format to text. \n",
    "\n",
    "In 🤗 Transformers, the XLSR-Wav2Vec2 model is thus accompanied by both a tokenizer, called [Wav2Vec2CTCTokenizer](https://huggingface.co/transformers/master/model_doc/wav2vec2.html#wav2vec2ctctokenizer), and a feature extractor, called [Wav2Vec2FeatureExtractor](https://huggingface.co/transformers/master/model_doc/wav2vec2.html#wav2vec2featureextractor).\n",
    "\n",
    "Let's start by creating the tokenizer responsible for decoding the model's predictions."
   ]
  },
  {
   "cell_type": "markdown",
   "metadata": {
    "id": "sEXEWEJGQPqD"
   },
   "source": [
    "### Create Wav2Vec2CTCTokenizer"
   ]
  },
  {
   "cell_type": "markdown",
   "metadata": {
    "id": "tWmMikuNEKl_"
   },
   "source": [
    "The [pretrained Wav2Vec2 checkpoint]( ) maps the speech signal to a sequence of context representations as illustrated in the figure above. A fine-tuned XLSR-Wav2Vec2 checkpoint needs to map this sequence of context representations to its corresponding transcription so that a linear layer has to be added on top of the transformer block (shown in yellow). This linear layer is used to classifies each context representation to a token class analogous how, *e.g.*, after pretraining a linear layer is added on top of BERT's embeddings for further classification - *cf.* with *\"BERT\"* section of this [blog post](https://huggingface.co/blog/warm-starting-encoder-decoder).\n",
    "\n",
    "The output size of this layer corresponds to the number of tokens in the vocabulary, which does **not** depend on XLSR-Wav2Vec2's pretraining task, but only on the labeled dataset used for fine-tuning. So in the first step, we will take a look at Common Voice and define a vocabulary based on the dataset's transcriptions."
   ]
  },
  {
   "cell_type": "markdown",
   "metadata": {
    "id": "idBczw8mWzgt"
   },
   "source": [
    "First, let's go to [Common Voice](https://commonvoice.mozilla.org/en) and pick your favorite language you would like to fine-tune XLSR-Wav2Vec2 on. For this notebook, we will use Turkish.  Some languages have very little transcribed data, so it might be sensible to search for more transcribed data for this language and include it in the training data. We can use the following link:\n",
    "\n",
    "```\n",
    "https://voice-prod-bundler-ee1969a6ce8178826482b88e843c335139bd3fb4.s3.amazonaws.com/cv-corpus-6.1-2020-12-11/{lang}.tar.gz\n",
    "```\n",
    "\n",
    "as the downwload link for any language of the 6.1 version of Common Voice. You simply have to replace `{lang}` with the language code of your selected language on [Common Voice Dataset](https://commonvoice.mozilla.org/en/datasets). The language code can be found in the filed \"*Version*\" as the prefix before the underscore.\n",
    "For Turkish, the language code is `tr`."
   ]
  },
  {
   "cell_type": "code",
   "execution_count": null,
   "metadata": {
    "id": "afNe1N8mXNfp"
   },
   "outputs": [],
   "source": [
    "# !rm -rf /content/cv-corpus-6.1-2020-12-11\n",
    "# !wget https://voice-prod-bundler-ee1969a6ce8178826482b88e843c335139bd3fb4.s3.amazonaws.com/cv-corpus-6.1-2020-12-11/fa.tar.gz"
   ]
  },
  {
   "cell_type": "markdown",
   "metadata": {
    "id": "E0nV6zlzX-M5"
   },
   "source": [
    "Cool, let's copy the downloaded file name from the output of the cell above and unzip it."
   ]
  },
  {
   "cell_type": "code",
   "execution_count": null,
   "metadata": {
    "id": "bTjNp2KUYAl8"
   },
   "outputs": [],
   "source": [
    "# !tar -xzf fa.tar.gz"
   ]
  },
  {
   "cell_type": "code",
   "execution_count": null,
   "metadata": {
    "id": "Yiy0eY0YAlai"
   },
   "outputs": [],
   "source": [
    "# !rm -rf fa.tar.gz"
   ]
  },
  {
   "cell_type": "markdown",
   "metadata": {
    "id": "DxO8BRTgYayX"
   },
   "source": [
    "The data is now saved under `./cv-corpus-6.1-2020-12-11`. We can leverage datasets now to preprocess the dataset."
   ]
  },
  {
   "cell_type": "markdown",
   "metadata": {
    "id": "bee4g9rpLxll"
   },
   "source": [
    "Let's start by loading the dataset and taking a look at its structure. [Common Voice](https://huggingface.co/datasets/common_voice) has many different splits including `invalidated`, which refers to data that was not rated as \"clean enough\" to be considered useful. Because the Turkish dataset is so small, we will merge both the validation and training data into a training dataset and simply use the test data for validation.\n",
    "\n",
    "**Note**: the second argument of `load_dataset(...)` corresponds to the same language code used above to download the dataset. Simply \n",
    "replace `\"tr\"` by the correct language code."
   ]
  },
  {
   "cell_type": "code",
   "execution_count": 5,
   "metadata": {
    "id": "8GVzq4cpr-e2"
   },
   "outputs": [],
   "source": [
    "from datasets import load_dataset, load_metric\n",
    "\n",
    "import pandas as pd\n",
    "import numpy as np\n",
    "\n",
    "import hazm\n",
    "from num2fawords import words, ordinal_words\n",
    "from tqdm import tqdm\n",
    "\n",
    "from sklearn.model_selection import train_test_split\n",
    "\n",
    "import os\n",
    "import string\n",
    "import six\n",
    "import re\n",
    "import glob"
   ]
  },
  {
   "cell_type": "code",
   "execution_count": 6,
   "metadata": {
    "id": "2n7bXi2_sBKg"
   },
   "outputs": [],
   "source": [
    "_normalizer = hazm.Normalizer()\n",
    "\n",
    "chars_to_ignore = [\n",
    "    \",\", \"?\", \".\", \"!\", \"-\", \";\", \":\", '\"\"', \"%\", \"'\", '\"', \"�\",\n",
    "    \"#\", \"!\", \"؟\", \"?\", \"«\", \"»\", \"،\", \"(\", \")\", \"؛\", \"'ٔ\", \"٬\",'ٔ', \",\", \"?\", \n",
    "    \".\", \"!\", \"-\", \";\", \":\",'\"',\"“\", \"%\", \"‘\", \"”\", \"�\", \"–\", \"…\", \"_\", \"”\", '“', '„',\n",
    "    'ā', 'š',\n",
    "#     \"ء\",\n",
    "]\n",
    "\n",
    "# In case of farsi\n",
    "chars_to_ignore = chars_to_ignore + list(string.ascii_lowercase + string.digits)\n",
    "\n",
    "chars_to_mapping = {\n",
    "    'ك': 'ک', 'دِ': 'د', 'بِ': 'ب', 'زِ': 'ز', 'ذِ': 'ذ', 'شِ': 'ش', 'سِ': 'س', 'ى': 'ی',\n",
    "    'ي': 'ی', 'أ': 'ا', 'ؤ': 'و', \"ے\": \"ی\", \"ۀ\": \"ه\", \"ﭘ\": \"پ\", \"ﮐ\": \"ک\", \"ﯽ\": \"ی\",\n",
    "    \"ﺎ\": \"ا\", \"ﺑ\": \"ب\", \"ﺘ\": \"ت\", \"ﺧ\": \"خ\", \"ﺩ\": \"د\", \"ﺱ\": \"س\", \"ﻀ\": \"ض\", \"ﻌ\": \"ع\",\n",
    "    \"ﻟ\": \"ل\", \"ﻡ\": \"م\", \"ﻢ\": \"م\", \"ﻪ\": \"ه\", \"ﻮ\": \"و\", 'ﺍ': \"ا\", 'ة': \"ه\",\n",
    "    'ﯾ': \"ی\", 'ﯿ': \"ی\", 'ﺒ': \"ب\", 'ﺖ': \"ت\", 'ﺪ': \"د\", 'ﺮ': \"ر\", 'ﺴ': \"س\", 'ﺷ': \"ش\",\n",
    "    'ﺸ': \"ش\", 'ﻋ': \"ع\", 'ﻤ': \"م\", 'ﻥ': \"ن\", 'ﻧ': \"ن\", 'ﻭ': \"و\", 'ﺭ': \"ر\", \"ﮔ\": \"گ\",\n",
    "        \n",
    "    # \"ها\": \"  ها\", \"ئ\": \"ی\",\n",
    "    \"۱۴ام\": \"۱۴ ام\",\n",
    "        \n",
    "    \"a\": \" ای \", \"b\": \" بی \", \"c\": \" سی \", \"d\": \" دی \", \"e\": \" ایی \", \"f\": \" اف \",\n",
    "    \"g\": \" جی \", \"h\": \" اچ \", \"i\": \" آی \", \"j\": \" جی \", \"k\": \" کی \", \"l\": \" ال \",\n",
    "    \"m\": \" ام \", \"n\": \" ان \", \"o\": \" او \", \"p\": \" پی \", \"q\": \" کیو \", \"r\": \" آر \",\n",
    "    \"s\": \" اس \", \"t\": \" تی \", \"u\": \" یو \", \"v\": \" وی \", \"w\": \" دبلیو \", \"x\": \" اکس \",\n",
    "    \"y\": \" وای \", \"z\": \" زد \",\n",
    "    \"\\u200c\": \" \", \"\\u200d\": \" \", \"\\u200e\": \" \", \"\\u200f\": \" \", \"\\ufeff\": \" \",\n",
    "}\n",
    "\n",
    "\n",
    "def multiple_replace(text, chars_to_mapping):\n",
    "    pattern = \"|\".join(map(re.escape, chars_to_mapping.keys()))\n",
    "    return re.sub(pattern, lambda m: chars_to_mapping[m.group()], str(text))\n",
    "\n",
    "def remove_special_characters(text, chars_to_ignore_regex):\n",
    "    text = re.sub(chars_to_ignore_regex, '', text).lower() + \" \"\n",
    "    return text\n",
    "\n",
    "def normalizer(text, chars_to_ignore=chars_to_ignore, chars_to_mapping=chars_to_mapping):\n",
    "    chars_to_ignore_regex = f\"\"\"[{\"\".join(chars_to_ignore)}]\"\"\"\n",
    "    text = text.lower().strip()\n",
    "\n",
    "    text = _normalizer.normalize(text)\n",
    "    text = multiple_replace(text, chars_to_mapping)\n",
    "    text = remove_special_characters(text, chars_to_ignore_regex)\n",
    "    text = re.sub(\" +\", \" \", text)\n",
    "    _text = []\n",
    "    for word in text.split():\n",
    "        try:\n",
    "            word = int(word)\n",
    "            _text.append(words(word))\n",
    "        except:\n",
    "            _text.append(word)\n",
    "            \n",
    "    text = \" \".join(_text) + \" \"\n",
    "    text = text.strip()\n",
    "\n",
    "    if not len(text) > 0:\n",
    "        return None\n",
    "    \n",
    "    return text + \" \""
   ]
  },
  {
   "cell_type": "code",
   "execution_count": 79,
   "metadata": {
    "cellView": "form",
    "id": "2MMXcWFFgCXU"
   },
   "outputs": [],
   "source": [
    "#@title Kaggle Credential\n",
    "\n",
    "import json\n",
    "\n",
    "username = \"\" #@param {type: \"string\"}\n",
    "api_key = \"\" #@param {type: \"string\"}\n",
    "\n",
    "\n",
    "if username and api_key:\n",
    "    token = {\"username\": username, \"key\": api_key}\n",
    "\n",
    "    !mkdir ~/.kaggle\n",
    "    !mkdir /content/.kaggle\n",
    "    with open('/content/.kaggle/kaggle.json', 'w') as f:\n",
    "        json.dump(token, f)\n",
    "\n",
    "    !cp /content/.kaggle/kaggle.json ~/.kaggle/kaggle.json\n",
    "    !chmod 600 /root/.kaggle/kaggle.json\n",
    "\n",
    "    print('Your are ready to use kaggle API!')\n"
   ]
  },
  {
   "cell_type": "code",
   "execution_count": null,
   "metadata": {
    "colab": {
     "base_uri": "https://localhost:8080/"
    },
    "id": "9PjUziBXNlDh",
    "outputId": "a1f67a63-9e38-44f5-faf6-296b2b6e5fb0",
    "tags": []
   },
   "outputs": [],
   "source": [
    "!mkdir -p /content/data/shemo\n",
    "!kaggle datasets download mansourehk/shemo-persian-speech-emotion-detection-database\n",
    "!unzip shemo-persian-speech-emotion-detection-database.zip -d /content/data/shemo/"
   ]
  },
  {
   "cell_type": "code",
   "execution_count": 9,
   "metadata": {
    "colab": {
     "base_uri": "https://localhost:8080/"
    },
    "id": "jsjq7tG_38Q4",
    "outputId": "bde8c492-af88-458a-a8ef-902b3ca426d3"
   },
   "outputs": [
    {
     "name": "stdout",
     "output_type": "stream",
     "text": [
      "female\tmale  transcript\n"
     ]
    }
   ],
   "source": [
    "abs_path_to_data = os.path.join(\"/content\", \"data\", \"shemo\")\n",
    "!ls {abs_path_to_data}"
   ]
  },
  {
   "cell_type": "code",
   "execution_count": 10,
   "metadata": {
    "colab": {
     "base_uri": "https://localhost:8080/",
     "height": 215
    },
    "id": "iqh_Yj1N4OEe",
    "outputId": "5529a377-5eef-48b0-b3bd-ca156d323cd5"
   },
   "outputs": [
    {
     "name": "stderr",
     "output_type": "stream",
     "text": [
      "100%|██████████| 3000/3000 [00:00<00:00, 40491.81it/s]\n"
     ]
    },
    {
     "data": {
      "text/html": [
       "<div>\n",
       "<style scoped>\n",
       "    .dataframe tbody tr th:only-of-type {\n",
       "        vertical-align: middle;\n",
       "    }\n",
       "\n",
       "    .dataframe tbody tr th {\n",
       "        vertical-align: top;\n",
       "    }\n",
       "\n",
       "    .dataframe thead th {\n",
       "        text-align: right;\n",
       "    }\n",
       "</style>\n",
       "<table border=\"1\" class=\"dataframe\">\n",
       "  <thead>\n",
       "    <tr style=\"text-align: right;\">\n",
       "      <th></th>\n",
       "      <th>_id</th>\n",
       "      <th>sentence</th>\n",
       "      <th>path</th>\n",
       "      <th>gender</th>\n",
       "    </tr>\n",
       "  </thead>\n",
       "  <tbody>\n",
       "    <tr>\n",
       "      <th>0</th>\n",
       "      <td>F01N10</td>\n",
       "      <td>شوهرش حالا زنده است؟\\n</td>\n",
       "      <td>/content/data/shemo/female/F01N10.wav</td>\n",
       "      <td>F</td>\n",
       "    </tr>\n",
       "    <tr>\n",
       "      <th>1</th>\n",
       "      <td>M51N02</td>\n",
       "      <td>﻿هیچی برای روبوت‎ها سخت‎تر از دوست‌داشتن نیست\\n</td>\n",
       "      <td>/content/data/shemo/male/M51N02.wav</td>\n",
       "      <td>M</td>\n",
       "    </tr>\n",
       "    <tr>\n",
       "      <th>2</th>\n",
       "      <td>M46N07</td>\n",
       "      <td>اینجا متعلق به شماست و هیچ کس هم به شایستگی شم...</td>\n",
       "      <td>/content/data/shemo/male/M46N07.wav</td>\n",
       "      <td>M</td>\n",
       "    </tr>\n",
       "    <tr>\n",
       "      <th>3</th>\n",
       "      <td>F10A42</td>\n",
       "      <td>به نظرم خبر نداری توی این شهر چه خبره.\\n</td>\n",
       "      <td>/content/data/shemo/female/F10A42.wav</td>\n",
       "      <td>F</td>\n",
       "    </tr>\n",
       "    <tr>\n",
       "      <th>4</th>\n",
       "      <td>F28A16</td>\n",
       "      <td>بهتره آرزوهای دور و دراز نکنی\\n</td>\n",
       "      <td>/content/data/shemo/female/F28A16.wav</td>\n",
       "      <td>F</td>\n",
       "    </tr>\n",
       "  </tbody>\n",
       "</table>\n",
       "</div>"
      ],
      "text/plain": [
       "      _id  ... gender\n",
       "0  F01N10  ...      F\n",
       "1  M51N02  ...      M\n",
       "2  M46N07  ...      M\n",
       "3  F10A42  ...      F\n",
       "4  F28A16  ...      F\n",
       "\n",
       "[5 rows x 4 columns]"
      ]
     },
     "execution_count": 10,
     "metadata": {
      "tags": []
     },
     "output_type": "execute_result"
    }
   ],
   "source": [
    "data = []\n",
    "for txtfile in tqdm(glob.glob(f\"{abs_path_to_data}/transcript/final text/*.ort\")):\n",
    "    with open(txtfile, \"r\", encoding=\"utf-8\") as f:\n",
    "        text = f.read()\n",
    "        _id = txtfile.split(\"/\")[-1].split(\".\")[0]\n",
    "        male_path = f\"{abs_path_to_data}/male/{_id}.wav\"\n",
    "        female_path = f\"{abs_path_to_data}/female/{_id}.wav\"\n",
    "        \n",
    "        if \"M\" in _id and os.path.exists(male_path):\n",
    "            data.append({\n",
    "                \"_id\": _id,\n",
    "                \"sentence\": text,\n",
    "                \"path\": male_path.strip(),\n",
    "                \"gender\": \"M\"\n",
    "            })\n",
    "        \n",
    "        if \"F\" in _id and os.path.exists(female_path):\n",
    "            data.append({\n",
    "                \"_id\": _id,\n",
    "                \"sentence\": text,\n",
    "                \"path\": female_path.strip(),\n",
    "                \"gender\": \"F\"\n",
    "            })\n",
    "        \n",
    "#     break\n",
    "    \n",
    "df = pd.DataFrame(data)\n",
    "df.head()"
   ]
  },
  {
   "cell_type": "code",
   "execution_count": 11,
   "metadata": {
    "colab": {
     "base_uri": "https://localhost:8080/",
     "height": 251
    },
    "id": "BxynULMPwZpk",
    "outputId": "f254751c-8e9f-4445-9218-70639d66e776"
   },
   "outputs": [
    {
     "name": "stdout",
     "output_type": "stream",
     "text": [
      "Step 0: 2838\n",
      "Step 1: 2838\n",
      "Step 2: 2838\n"
     ]
    },
    {
     "data": {
      "text/html": [
       "<div>\n",
       "<style scoped>\n",
       "    .dataframe tbody tr th:only-of-type {\n",
       "        vertical-align: middle;\n",
       "    }\n",
       "\n",
       "    .dataframe tbody tr th {\n",
       "        vertical-align: top;\n",
       "    }\n",
       "\n",
       "    .dataframe thead th {\n",
       "        text-align: right;\n",
       "    }\n",
       "</style>\n",
       "<table border=\"1\" class=\"dataframe\">\n",
       "  <thead>\n",
       "    <tr style=\"text-align: right;\">\n",
       "      <th></th>\n",
       "      <th>_id</th>\n",
       "      <th>sentence</th>\n",
       "      <th>path</th>\n",
       "      <th>gender</th>\n",
       "    </tr>\n",
       "  </thead>\n",
       "  <tbody>\n",
       "    <tr>\n",
       "      <th>0</th>\n",
       "      <td>M08N04</td>\n",
       "      <td>البته آینه هایی وجود داره که می تونه اونو اصلا...</td>\n",
       "      <td>/content/data/shemo/male/M08N04.wav</td>\n",
       "      <td>M</td>\n",
       "    </tr>\n",
       "    <tr>\n",
       "      <th>1</th>\n",
       "      <td>M22N15</td>\n",
       "      <td>تمام ده کوره های ایتالیا رو نگشتیم ولی شهرهای ...</td>\n",
       "      <td>/content/data/shemo/male/M22N15.wav</td>\n",
       "      <td>M</td>\n",
       "    </tr>\n",
       "    <tr>\n",
       "      <th>2</th>\n",
       "      <td>M29N03</td>\n",
       "      <td>قطعا از آرمیلاس میای</td>\n",
       "      <td>/content/data/shemo/male/M29N03.wav</td>\n",
       "      <td>M</td>\n",
       "    </tr>\n",
       "    <tr>\n",
       "      <th>3</th>\n",
       "      <td>F24W21</td>\n",
       "      <td>حماقت</td>\n",
       "      <td>/content/data/shemo/female/F24W21.wav</td>\n",
       "      <td>F</td>\n",
       "    </tr>\n",
       "    <tr>\n",
       "      <th>4</th>\n",
       "      <td>M41H06</td>\n",
       "      <td>دنیا هم به حشره شناس احتیاج داره هم به نویسنده...</td>\n",
       "      <td>/content/data/shemo/male/M41H06.wav</td>\n",
       "      <td>M</td>\n",
       "    </tr>\n",
       "  </tbody>\n",
       "</table>\n",
       "</div>"
      ],
      "text/plain": [
       "      _id  ... gender\n",
       "0  M08N04  ...      M\n",
       "1  M22N15  ...      M\n",
       "2  M29N03  ...      M\n",
       "3  F24W21  ...      F\n",
       "4  M41H06  ...      M\n",
       "\n",
       "[5 rows x 4 columns]"
      ]
     },
     "execution_count": 11,
     "metadata": {
      "tags": []
     },
     "output_type": "execute_result"
    }
   ],
   "source": [
    "print(f\"Step 0: {len(df)}\")\n",
    "\n",
    "df[\"status\"] = df[\"path\"].apply(lambda path: True if os.path.exists(path) else None)\n",
    "df = df.dropna(subset=[\"path\"])\n",
    "df = df.drop(\"status\", 1)\n",
    "print(f\"Step 1: {len(df)}\")\n",
    "\n",
    "# df[\"prev_sentence\"] = df[\"sentence\"]\n",
    "df[\"sentence\"] = df[\"sentence\"].apply(lambda t: normalizer(t))\n",
    "df = df.dropna(subset=[\"sentence\"])\n",
    "print(f\"Step 2: {len(df)}\")\n",
    "\n",
    "# df = df[[\"prev_sentence\", \"sentence\", \"path\"]]\n",
    "# df = df[[\"sentence\", \"path\"]]\n",
    "df = df.sample(frac=1)\n",
    "df = df.reset_index(drop=True)\n",
    "df.head()"
   ]
  },
  {
   "cell_type": "code",
   "execution_count": 12,
   "metadata": {
    "colab": {
     "base_uri": "https://localhost:8080/"
    },
    "id": "d9mdJXwW4dEt",
    "outputId": "ecfc1bb6-f280-4dad-ae42-6ce5e4bc34e2"
   },
   "outputs": [
    {
     "name": "stdout",
     "output_type": "stream",
     "text": [
      "33 36\n",
      "[' ', 'ء', 'آ', 'ئ', 'ا', 'ب', 'ت', 'ث', 'ج', 'ح', 'خ', 'د', 'ذ', 'ر', 'ز', 'س', 'ش', 'ص', 'ض', 'ط', 'ظ', 'ع', 'غ', 'ف', 'ق', 'ل', 'م', 'ن', 'ه', 'و', 'پ', 'چ', 'ژ', 'ک', 'گ', 'ی']\n"
     ]
    }
   ],
   "source": [
    "main_vocab = [\"ح\", \"چ\", \"ج\", \"ث\", \"ت\", \"پ\", \"ب\", \"آ\", \"ا\", \"ش\", \"س\", \"ژ\", \"ز\", \"ر\", \"ذ\", \"د\", \"خ\", \"ق\", \"ف\", \"غ\", \"ع\", \"ظ\", \"ط\", \"ض\", \"ص\", \"ی\", \"ه\", \"و\", \"ن\", \"م\", \"ل\", \"گ\", \"ک\"]\n",
    "text = \" \".join(df[\"sentence\"].values.tolist())\n",
    "vocab = list(sorted(set(text)))\n",
    "\n",
    "for v in main_vocab:\n",
    "    if v not in vocab:\n",
    "        print(\"v\", v)\n",
    "\n",
    "print(len(main_vocab), len(vocab))\n",
    "print(vocab)"
   ]
  },
  {
   "cell_type": "code",
   "execution_count": 13,
   "metadata": {
    "colab": {
     "base_uri": "https://localhost:8080/",
     "height": 127
    },
    "id": "O1U0B4LswxLw",
    "outputId": "0ed4911c-bded-419f-d8fa-8e6eed912282"
   },
   "outputs": [
    {
     "name": "stdout",
     "output_type": "stream",
     "text": [
      "1645\n",
      "شما دختر فهمیده و عاقلی هستین  \n",
      "\n"
     ]
    },
    {
     "data": {
      "text/html": [
       "\n",
       "                <audio controls=\"controls\" autoplay=\"autoplay\">\n",
       "                    <source src=\"data:audio/wav;base64,UklGRlAGAQBXQVZFZm10IBAAAAABAAEAgD4AAAB9AAACABAAZGF0YSwGAQAGABAAEgAZABsAGQAaABMADgALAAEA+//1/+n/4//e/9T/0//N/8X/xv++/73/wf+//8f/0f/T/+L/7f/1/wUACwASABsAHQAdACIAHgAcABwAEwARAA4ABQAHAAIA//8CAP///v8CAAEABQAPABEAHQAoAC8APgBIAE8AWwBeAF8AYwBdAFgAVQBKAEEAOAAqACAAFAAGAAAA9//v/+r/4v/e/9z/3P/c/+D/4//o/+//9/8AAA0AFwAfACgALAAwADUANAAzADEAKAAiABoADwAKAAQA+v/1/+//5f/p/+f/6P/t/+3/8//8/wMAEQAiACgANwA/AEIATABPAEsATABBADQALgAfABYADwD///b/6//d/9v/2P/U/9j/1v/V/93/4P/n//b/+v8AAAkACAAQABYAEgAWABEACAAFAP3/+f/3/+//6P/k/9r/2P/X/9P/1f/W/9X/2v/f/+X/7//0//f/+//7//3//v/8//v/9//z/+7/6P/j/97/1//U/87/zP/L/8r/zP/P/9P/2P/h/+f/9P/7/wQADwAUABwAIAAgACEAIgAdAB8AHQAXABgAEgAPABIADwAOABEADQAQABcAFwAgACUAIwArACoAKwAzADEALwAxACcAIwAjABoAGQAUAAcAAwD8//P/9f/t/+b/5v/b/9n/2//W/9f/2P/Q/9D/0P/M/9T/1//V/9//4P/m//X/+/8IABUAHAAnADQAOwBHAFIAVABdAF8AXQBiAGIAXwBiAFkAVABSAEYAQgA/ADcANQA2ADIANgA5ADcAPAA+ADsAPQA4ADAALQAhABcAEAABAPT/6P/U/8r/xP+2/7T/rv+o/67/sv+4/8v/1v/j//n/BAAaADMAQABRAF4AXgBqAG4AagBvAGgAXABZAEoAPwA+ACwAIQAYAAYAAAD6/+r/6f/f/8//y/+9/7X/t/+o/6H/nv+O/43/iv+C/4j/iP+G/5L/lv+e/7P/uv/L/+L/6f/+/w4AFgArADgAPQBMAE0ATABTAEsASABLAD0AOgA0ACAAHQATAAQABgD6/+//8P/l/+L/5v/e/9//4f/X/9z/3//d/+n/6v/p//P/8P/z//z/+P/9/wEA+/8CAAUAAgAJAAYAAAAGAAIAAAAGAAAAAAABAPz/AAAFAAAABQAEAAAACwAMAA8AGAAXABcAHAAYAB0AIwAgACIAHwAaABsAGAATABUADgAHAAQA/f/5//j/8v/t/+r/3//a/9P/y//K/8T/uv+y/6j/nP+W/4//if+G/4D/ev96/3z/gf+M/5T/nf+q/7X/xf/Y/+f/+/8GAA8AGAAfACYALQAuACwAKwAiABsAFAAMAAUA/f/v/+b/3v/W/9X/0f/N/8v/x//C/8j/zf/S/93/3//l/+3/8f/9/woAEwAfACYAKQA1AD0ARgBPAE4ASwBHAEAAPAA6ADQALQAhABEACAABAPv/9//v/+b/4P/W/9H/0v/P/83/yv/E/8L/w//D/8f/yf/I/8r/yf/J/9D/1P/W/9z/3v/j/+n/6//w//T/9v/5//z//f///wEAAwAJAA4AEwAbACEAKQA1AEAASgBVAFgAXABgAF8AXgBcAFMASQA8ACwAHwANAPr/5//Q/73/r/+h/5b/jP+C/3z/ev96/4H/iP+O/5b/of+u/8H/0P/e/+z/9P8AAA0AHAAsADYAPABDAEgAUQBaAF8AYQBgAF0AWwBdAF0AXABTAEQANAAkABYACwD9/+n/0/+7/6n/mv+O/4H/df9n/13/Wf9a/2H/Z/9t/3f/f/+N/5v/rP/D/9T/6f/+/xAAJgA7AE4AZgB5AIgAmwCmALMAwADJANEA1wDTAM0AxQC7ALUAqACYAIYAbQBWAEQAMgAhAA4A9//i/8//vv+3/6z/nv+P/37/df9x/27/av9m/2D/XP9e/2X/cf98/4X/j/+f/7P/zv/p/wQAHgA2AFAAbACLAKUAuADJANgA5QDxAPcA+gD1AO4A5ADcANIAwgCuAJkAhgB1AGYAVgBDACkADwD6/+r/3P/L/7f/nv+J/3X/av9h/1j/S/84/zD/K/8x/zr/Rv9P/1j/YP9w/4f/n/+1/8j/2v/t/wAAEgAnADcAQwBMAFEAWgBgAGQAagBtAG0AbgBsAGkAYwBZAFEASAA+ADQAJwAWAAcA9P/h/9H/vf+r/5b/gf9v/1//Uf9I/0D/Nv8v/yj/Jf8p/zH/Pv9S/2T/d/+O/6f/xf/n/wkALQBKAGUAgACaALYAzwDhAOcA5gDeANcA0ADJAL0AqACKAGkATQA1ACEACwDw/9H/s/+a/47/hv9+/2//XP9L/0T/R/9Q/1r/Xf9h/2P/cv+K/6T/vP/N/9r/6v///xwAOQBNAFgAWwBhAG0AegCHAIsAhwB+AHkAfACDAIcAhQB5AHAAagBnAG0AbQBoAFsATABAADkAMwArACAADwD9/+3/4//e/9v/1P/L/8L/uP+z/7P/tv+4/7H/q/+k/5//nf+b/5n/l/+N/4f/iP+K/5T/nf+m/6//uf/F/9n/7v/+/wsAFQAfACYALwA1ADgANAArAB8AGAASAAsAAwD5/+z/4P/b/9b/1P/Q/8T/vP+x/6r/qf+l/6P/mv+P/4n/h/+P/5j/of+r/7H/v//R/+r/AwAaACwANgBDAFEAXwBsAHIAbABlAFcATABFADwAMAAgAAwA/P/v/+f/3//V/8n/u/+y/6v/qv+q/6j/pP+h/6D/ov+n/6z/sf+4/8P/zv/g//D///8LABcAJAAvAD4ASgBQAFgAWgBcAF8AXgBbAFYATQBDADwAOAAzAC4AKAAgABkAEgALAAYAAQD9//f/8//x/+7/7f/s/+j/5//m/+f/7f/x//f///8GAA8AGQAmAC0AMwA5AD0AQwBJAE0ATgBMAEYAPwA6ADcAMQApAB0AEQAIAAEAAAD+//j/8//r/+f/6f/r//H/8//z//T/+P8AAAsAFQAdACEAJQAqADIAPQBGAEsATQBNAE8AUwBZAFsAWwBYAFIAUwBUAFgAWwBaAFoAVABVAFYAWQBfAFwAWgBXAFQAVgBXAFgAUwBMAEcAQAA+AD0AOAAzACkAHwAYABIAEQANAAUA/v/0/+3/7P/q/+v/5v/g/9v/2P/c/9//4//j/+D/3//e/+L/6v/u//T/9f/2//z/AgAPABgAHgAnACkANABAAEwAWgBgAGMAZABjAGQAZABhAFsATwBAADIAJQAdABAAAQDv/93/zv/F/8P/wf++/7r/tf+1/7r/wP/L/8//0P/R/9P/3v/q//f/AAACAAUACwAXACYANgBBAEgATwBWAGIAcAB8AIEAfwB7AHgAewB+AIAAewBzAGgAXwBcAFgAVwBQAEYAOgAwACwAKgAoACEAFgAMAAEA+//3//L/6//h/9f/z//L/8z/y//L/8f/wf+//8H/wv/G/8v/yf/L/8z/0P/W/9v/4P/c/97/3v/g/+j/7P/w//L/8v/1//r///8EAAUABgADAAIABwAKAAwACwAEAP//+f/1//T/7//s/+P/3P/Z/9X/1//Z/9T/0P/J/8j/zP/Q/9f/1//W/9f/2v/i/+r/7//1//b/+/8AAAwAGwAlAC4AMgAzADsAPwBHAEsASQBIAEIAQQBEAEIAQwA+ADUAMgArACcAKgAkACAAGwATAA0ACgAGAP//+//w/+f/4f/b/9b/0f/K/8b/v/++/77/uP+5/7P/sP+x/67/rP+p/6X/ov+f/57/nf+b/5z/m/+c/6D/pf+s/7T/uf+9/8P/yf/P/9X/1v/W/9L/1P/V/9j/2f/c/9z/3f/j/+X/7P/x//H/9P/3//X//P/5//j/9//x/+n/6f/k/+D/3v/Z/9n/1v/a/9v/2//a/93/2f/a/9z/2//b/9r/1v/V/9f/0f/W/9P/0f/V/9f/2v/g/+L/5f/m/+n/7//w//T/9v/2//f/9//5//r/+v/5//b/9f/0//X/9v/3//X/9P/0//L/9P/2//X/9P/0//L/8//3//b/9v/2//T/8//z//H/7v/v//L/8P/x//T/8v/3//z/+//7//3//f8DAAYABQAIAA0AEwAbAB4AHQAgACYAMAAxADEANAA5ADwARQBAAD8ARwBIAEoASgBHAEgAVABUAFcAVABPAFIAVgBVAE4ARwBAAEAAPAA3AC8ALwAzADQALwAuAC8AMwA4ADYALQAkACYAIgAiABsAEgAWABYAHAAaABgAGQAgACYAIwAlACEAKQAsACoAJgAlACQAKQAqABkAHAAaAB0AJwAiABsAHwAfACQAKQAgACAAHQAgACAAGAAXABkAHgAYABkAEgAPAB0AHAAeABkAEgATABoAFwAYABgAEgAaABwAHwAhACIAJQAnACQAIAAjACQAJQArACIAKAAoACUALwAvADEAOAA3ADIAPQA8AEAARQA7ADsANgA3ADUAOAAxADMAMgAuADEALgAwACwANwAwADEALwApAC0AJwAlABsAGwASABUAFQAXABcAGAAhABoAGAAXABUADwAZABIAFgATAAIAFwAZAAwAGAAUAAYAFQASABMAEwARABMAFAAUABcAFQAMAAwACwAOAAQA/v/5/wIACAAGAAwAAQARAA8ADwALAAUA+//w//7/7f///+7//P/5/wMAAgD//xYA8f8WAPT//v///wEACAAAAPz/+P8XAOv/DAAAAAIA/f8BABIACAASAA0AHgABAA4ACwD8//n/DQD7//v//P///xYAAAAPAAgABwD8/wkAAgD5//T//v/v/+//AQDe/+//7f/u/+P/6//Q/9//6v/b/+j/6f/i/+n/+P/h/+v/zf/L/8v/zf/R/77/xv/L/83/4f/U/9f/2v/b/8//3v/R/73/5P+//9H/v//F/7r/1v/M/83/4f+z/9//zv/c/7n/1P/P/8D/2P/X/8r/v//V/8T/1P+8/8r/0//W/9P/5//N/8z/8v/j/+D/5P/O/8r/7v/b/+r/3f/T/+H/4P/p//L/2v/y/wEA6//6//D/4f/m//z/6//x/97/1f/x/+T//P/o/+L/5v/1//H/8f/r/+L////l////1//c/+j/0//d/+P/0f/U/+r/3//l/+r/5P/4//X/3v/2/9v/2f/f/+f/w//g/9H/3//m/9j////V//j/7f////n/+v/n//f/8P/p/w8A1//1/+//6f8AAAYA9v8GABAAAAAJAAAABAAOAAQAFgAaAPX/IAAPABEADwASAP//BwAMAAUAGAD3/zQACQAcAA4AGAANABkAGgAKACUA+P8wAPb/BQAVAP3/DgASAAQAEQAfAAgANAAfAAwAJwALABwAEgAAAAYAAAADAAAADAD0/wQABwALACMADAAXAAwA9v8OABkA7v8IAAsA6v8fAN//5P/6/9f/6P/o/+T/0P8BAP3/BwAQAPn////n/+H/2//p/9H/3P8KAAgAAAAAAP//2v/r/+P/7/8CAPT/FAATAAMAFwAhAAkA+f/T/9j/1//v/xIANwArABIARQAkABgA7//9/+r/6v/z/+P/6P/N/xQA+P8LABMABwALAPb/DwD5//D/BgD1/+H/DADU/8z/DgAYAOr/AwDk/+z/BgAnADoAEAAMAA0AkADR/yUAJAB2/wQAIwAhAPL/HADm/xYASAAlACsA1/8zAP7/GwAKAPX/CQDp/1MA6v8FALf/AwCv//L/FwCW/xIA5v8uAOn/8v8HAA4AAgD0/+r/vf8bAA0A3/8hAAIA9P/+/wIAAgAWAOb/DQAkAO3/LQAKAAQAEwAxAA4AAwASABUAHgAxAA8A8f8QAP3/AACUACAA1/8wAEsAYwDc/5//5P8pAJ7/dQA4ANX/CAA3AFQAv/82ANj/CgDR/1wAIwDo/04A2/9wAM3/TgDz//b/GwDk/1gAFAAlAL//TQAKACgAGgDq/z0A9v8SAPb/BAD7/xEATAALAD4ADQD6/xIA7P8iAO//FgD4//z/+v8GAAwA+f8TAPL/+P/s/+L/vP/P/wIAEwACAO//9v+z/+D/HwDh/yUA5P/m/w4A1P/L////2f/j/yYAAwAEAJ//AQACAAAAFgD0/yAAAAD4/+v/CQDS/wYAMgAaABAA0/8tABkAAgAsADMAzP/v/xQA0v87AM7/CgAQAOb/MgDa//P/z//5/yUAHgA1AM//pf8CABkA5f8IANP/6/8AAMv/2f/h//H//v8OAPv/DADA/9v/AgDY/wkAEwANAAIA8v/Q/wMABQAsAA8A2P8rAKn/+v/w/+3/PwAdAEIAv/8KABAA4P+m/xQAOQD1/y0Av//s/9z/4P8BACUAAADZ//f/5v8FAMX/6P8lAPP/CwDm/+D/8P/q/zAA/v/6/xIA+v/F//f/QQD3/wwALAAKAPr/DQD3/73/HgAUAPL/GwDF/9H/0v8SACYAIgDz/+b/2v+k/y0A9f/H/+3/BQDl/9r/AgC2/9b/HgAFABAAAgCr/43/5f8FAB4ARwAzAB8A7f/5//r/6/83ACsAAwA7ADQADQANANn/GABVABcAWAD5/8v/EwDj//z/QgBRABEAAwAlAND/AwACAMz/8f+//+b/qP/S/7D/lf8JAN//5//u/3b/6v/+/6n/7v/H/yMAKgDq/xEA5v9EAEgAtP8MAOX/+f8CAP7/CAAhABoAf//S/xEA1P8cAFUANAAvANn/+v8KAO7/BgBhAH4ASwAiAK//xP8AALT/w/8dADAABQC6/3j/1////+7/GwACACgAsP/i/yUAEQBdAMP/FwBKAK//7/+X/8P/WAAgAJcAawC2/73/+f8YAEEARAAkACYAPADc/9X/3P/n/00AJQA1AL//zv+Y/3f/1f+t/wAAXADN/7n/9P+D/9T/wf9BAN3/0P8jAHn/LADT/wEAMwAUAAkAyP9zALP/CwAIADMAhADe/38AKAAVAPb/PACMADkA5/8LAGQAAwBqABMAZwBZAKP/MQC//5UAMQDi/7QABABHABQAr/9Y/xYAz//Q/0UAjv9tAIT/tv8TAOH/DQCQ/wAA3v/z/9v/JgA1AFEAuP/i/7gAkP/2/6X/t/+bABAA3f/X/wIAOwBbAPj/zwBqAOL/VgCb/+T/9P/D/zsAnwCwAD4Adv8LAGL/5f6+/2n/wgB9AIX/agDV/9P/Wv9Q/2EABAD0/3wAvACS/53/CAD8/yEA4P8dAFUAeQCq/27/LAAsAOP/UQBPAAAA3gBaALD/NwCBAAYAxf+YADkA8P8eABoA4v81ACEAoP/L/+L/FQDX/2AAbQA5ANP/r/9QADT/Rv/B/9f/YQDi//P/GgD6/93/gf/A/w8AQgA1ANr/+/8KAGQAtv/Y/1sA8P9oAKz/8v+DAND/NgD6/w4AUQATAJQA8f9PACUAAQAWABkA8/+R/xEA3f98ACYAxv93/2j/+P8fANT/zf+LABoAdwBrAJj/PgCf/+3/xABnAL7/5/8jAKb/3/+c/zAA4//7/xQAiv8jAFz/+//l/xkA6wDg/2wAVQCm/6//igA7ABYAQgAUAGIALgAO/y7/PgBy/2kAFQCi/xkA0f8PAOH/YwB3AJn/jwAcATkAcP+c/2sAFwBWABEAGABJAFMAGQDi/0QAHAAgAI0AWwBoAK0Aav8sAPr/1P8/AIv//v/oAG8A4f8sAIX/xP+8/2AA7P+T/zEAx/+O/8r/9v/0/8n/IwB5ABIAx/5t/1z/hv8XAScABwE8AAAA1/+d/+//IwDu/4//bQC8AGMAOv/R/2r/QAB8AKr+3f/Q/4UAbAFXAT8Byf5b/y8A/f+J//f+UP+6ADQCmQEKAPT+bf+w/on9Kv7m/7EBkgEgAt4A8f4M/53+Yf+V//D/3ADHAdkAOABXAGv/lf8yAKn/2/8PAG3/rwBtAc3/iQCb/2H/BgEq//H/AwAA/6D/uACTAHwBkQFi/6L+VP6i/gUAuABDApIBA//W/r7/qv9u/+n/Gv/vAP0AvQCy//z9Fv8W/8L/lgBiAMcAgf82AHYAb/8w/6r/R/+8/2cARP5+AEcAIQI6ASD+Z/7l/YH/vf8HAZ8BsAG5Adj+T/1n/Jb+WAFNAgYFFQOe/gT93vxs/nMCNwFbAf0CLQABAAj9Ev4JAQYARAI+/zAACwG7/iMAxv43/xcAkgAQ/4wAFgL8AFz/2v48AK3+gf6c/6gBagMQAqsAYv3Y/nz/k/3j/5P//gDdAtT/JP1j/wP/eQDIAOf+yP99ABkDYwC2AKkBM/tZ/jwArwDiBKz/Kv6p/6P+1P16/2EABgHpAGz9OP5xATwCcAN//zr62/5y/00BsgOz/8T+4f8U/Qv+GQNEAKz+sf/fABAA0P+j/nn95f7MAYsB2ACCAYf+pf92/NT6s/4tA7AEJANt/UL8d/sw/5wDhQGSABv7zgOZBDQCDwRa+3n4gP1H/2MFOgS3ADMGPf3t/sj5C/xHA2H+qv9RABkFWwIvAfj6r/xR/QX/vwBSAmsEyP0WAqH8VADh/Uj5FQdFAwkBpf1U+LQGFgH+AVUBUvgLBoQBQv5u+5YBwAXnADEDhvf5+i0J1wK+/l8B1gA5AI4Bjfsx+fEEzPvVBt4HLgCn+UD0OwOhApcJ2vwo/aD8CvrUCiUF8AGd/V74fPwzADoAIQepCUv/hfpV+O3+KwEpA6ACNv3rBB8ABv5OAkoB7vkD/QUFcwXvAOz7hf33/VcFyPyC/oYIz/ySAMX9te9UBGQJqgWBBXHz+QQ/Ar/8CP6s/CT6OP59FC0GxAFJ85j2TgBS/aMCqv3rA9IFbAUoCKr1xu3b+0MD1AXV8QQOlw7PAdkDI+YnBRP6LvxSAwYBBw4C+ywEI/47BSX2sv77/BP/qwE28vsUswZrBknzrfChBJ37EwJqAkoHjPlh/LMJvftwA5P9kug/BE4ROf82B9Pz4wGhA779jf/j64sSUP8l/CgPk/iA+zH/TfeoC1r1P/vhDyH9ngz3+qbsiPvl/NkGpRGl9SAEEgyb9fH17/5u7awJsQh7DJcZUPXm7qDd6QUbCAoKcwjrAEoKyf8RBVPtwdgnDt0DVAFLD70B+hqe6McO0fShwB0YnvVeDhI8dvH883fwGvqu9zL28vxX/XAcARVjBY3pEeuJ8vYBvxK2+f79exA5DLv6XdgOBJQKwfiNFz7yDAFC/HD6lQeQ+C0Ew/LrCToSO+JHAZ//pwhYEtji+AYAApD//Pmk7xkPrArHAZAEW+Wb9FwL+ROk/hbwawql+e71eQWYBv0DiQFO+ykS2+vY710HoPnICUkQZAEXDPD6QemD8Mj7zwtcBkAZBgI/8nD+oe628LccOf/s/ogKKPhk+0Hx5A7mFX/qmf4yBAHyDAV3C00WIuc7BXMNpudyCZ7w5PeqI3kA0gwtBsHmEfJ17fYJghAECGYEJRD4AS/0KevT6G8AFBJvGbkON/yb/EXsO/IlDVnztf+OGuEUVva9+XHptPuBHIsM+Pwl28UBbB198fUYPAMr4dgXrurj+o8MVvj2HlkIPd3a+mr+mBAmGa/rrAGFAV7wtBC28BH6mR0I+0QPCfEA+wH/KulCFXX+QQN1EKT3thcxAOHbmu3wCAYLaPyrLS7zSfzbFxLW1PDvBXAHRgdFDsURafa59KP1ZP3RGDf40vxQ8xwMJw8v9Zwa2exT8jD6vPv1D7QCoht/9a/zf/jr5McW2wMDDDQUjQaL7ZrOTg5JF40A3hZM63kHHQUm828JmeGQGQv6mfmaHLL2Ye+nCTT70/cFG9HwyQGoDBny8P/G/9b0swkkAKIILRBB/PYKy+/a3R/2CxLFHAAAsAu6/ETq8AZMAeTwwAXvAQnwPAn/GFIT3f3RAjnX7uk5B6cHVyTZDGYOfOi6zW4LrB1kAWf1vQ4G/UD6XwkW39IYnh125NYE6QSj9O8PHu0ODPMCYfctJ1zvOftf8+vngxN6ESIABf4//oURbQIO3hPuDhByJEv9X/JOC2D3J+sfCNkNIuPqF4L8ogcNGK/h5gTY5cwH1ACtGXf6A+qmHmTvZAku+In9jP9l7JL6CAg4DbAYMfZx+3rpHgAR+aXrxkHU1xcYbQQu7HEWj9qHGQTfZg/cFMXsahfT5XQQUPvn6bX5zhmgBTvechmV8yj8Shs86aMMCvvx1y0gfO+tKnPsM+NoC5/4PzD28tD2NsurE9EMlwYnCU7qoS3a1SX6Fhhi3XolwulM/McgSNYAEvP4jQYSGqPetwFo9jwG1gz65VsR5/eFAREGAA0D7gj9Bhl92CAUswcYAeMDRuweC3D2DumsIZYGqgPfC53VjQSF7+X1vzcICAjya/T59EwCygS08lr9YRUQASgeROoj8gn4zsv7H9YOCRZMHUz0s95d5TP05BywEpn/CQKoAUrrOvO1HwDV7xtY7LgB1hzy+k8OrsnvA0L5HA5VDEADIyOP4J33ZQWf5ZAWFQOy5kcjdgIQ83oHgeS/B7z0+vhR+FoW2fVU9S0SiwwhB53MuPmp4Mg2CSUc9LX9pg6+8angSQYS7Z4NW+wFGgISHjeH8hTJZvy3u4UeeA4+6No+4BJ991oM+dd57B3qY+XfIDwedB7+Ddzhr+YF/YHkkvtQDcb1r0IkDCQL9NNiuqUMEPaFNBrxHTAPD6LU2CZ/0TzeuOQS5FtZch6DCkYJcsPe9175O/2V+Vob7fVMFLk0ld5u+nHRY/JeHNP2cSet+nQPV//eyi4T6exoF10Q7tQE/xkiCAl49hcr0Nw62eQGuP5XJ8MFfdDvE7wgfgMfBsD+6e4z2nf9IQTsDxgb5gsx+CEiO+ihvaghgO/a+Jspa+R6FFoN7w5XGPvPa92B8xUKnRXsG8kEt+zRAX7+5OqwHnffpO5FMvbqxzfrFZu3NwLc/IDe3BajDn8caQeoDZLl0M9rNhvFce3IOR39+AvtE2/t4gOCAufVxgyQBEXr4AOkLg8ROfhFCNfpHvJ19Rz96wfBDjsE8AmsICnjBOUm5YX8WRLOBSgW/x/l+F/jmvdw5Wn8gPskIXkYgfk6GzL/SNMBCMz0ygFRJML5thNJ0cIkFhuztwMmsd1+F1pNBKP+GDkV7dpwHWLhuxinGKryYv/Y9EX3xfgQEr4YPREm8wnBuhwtHcDuaD9c2ZfiRSPc5eIUhhOzz24DDQlV+hRFtMjTBlML6NBLPaXRXBWRCWPLdjaGEHLeETA746LnPyAEz6QQWRGrGMnwfB2uAxrnZgpZ28cR0uvA/aAYxURR+UvdNNug71k4WuY46Q4WBQ798yUgFddBFD0hbrqZFTYWe9UGCNwNB/gcNUPxBOUgI1XXd/VVEmjm2ixgJcT6X+JF5uIH5vlS/7oWDN4/NHM2gMF9A/bwc9t9BYAHNBCxP/cQJ9/V2WkEp+7g9CYP6AarHYP1Hg+A+1zcGfmwATvhciZlAkvzyzM09/7j7QDQ4FDmTS54B+rwhg+ZN6fzSN667IzqbgOKI1cO7f6LLrTmkgE/0Frj+DfR2Pwk7v0o46ldDc465GJBYbwL7Qw2T8FIMqoIxO1nJIDcdiEy038KZN3UCAggYyIs12Pe1DnWvqgWFP5sBSsW8xli2vXdcArg82f9UR1sACMAhzIDzxbwOPjxCvMPDfWB9fEBLhtp92AKpdNXCygJN/T/8SYOEhsV3tY2Q8II1mZRaPln8ugsRtmc0pomouN8CCoSawOiJBjstQj14BjgQjaU2szxmEVJ0TYHNRub1gMWmup6BWP2PdYVJ0MAAf/KBQYFEPX/2vERSdq2EJQYL+4jLAIK5tTg7sgHsM1WBvsqwhZz/XgRlvmg07r+vtN5G80TXfxfOLrs3fcR89nWaPXFCL4DGxDZDNTyYQUi8ZYI9OxN7y4S/NZKGZgeTMHMLvMk28gL3v/4nQmrOPgNe+2/C0zPcAMo34EF/S742Hs+qQ5y0cEk3tGS5FES4/c/8RJBn+ViFu8wnb9tRI201+z7GSfr8RJbE00HRhhQ7+bG0Ckw12LvQhQkBTcabwRD6AsJyvFcBvz5zO3aHA3o1yAp8jzpmxcPAPUIjflZ60gRbhJn9776we/h6tgdngTMxwYtTBmh50f9qebOBq8QL/BmAsn3LRET/4zdbSgU+yDn4B5b8gcLUBPX6mTlhuMwM1PnXfXiEenBhxVQ/hPjcCim9yToaQdP9cPt3QiCERX1li5yB1jv/gqX+sv0fR+R/S/t2ixKCdkCO+ufLnnzvfeCDZ/d4DKYDendufIIMhsBUO+xFobnCxRVDAC+XASHEkoRpwssCGj03QpNA+/FIiVq+5f40Sdd5dr94iG+6QP/nBBB5TYHzRNV5ajk3QOkE1HosP6zH3Teqw7g//LisBd579rrXPhWDFzzSQmOLALtF+0u47X8Qwch82v7yv2+CM4W0PXZ6fMJ4/nP6nD38ve/BEALJwTTCI4B0vtJ4TMEQhF//z4Vy/mB/UgRR/u+C8IJTQTyEdcHyQcq6gYR6BiY6cINCgLu+5gWegaABmYPrv8D9kP5TgiC+lX73gb79YkSTvUjElIlx/K5IJnzhuOqC/XuSPgaDlQICx3VB1kBCgWX1EkJfPvI7fAf4fVU96kVFPlD+qb7Au4Z+xn4qAZjCLsBdARzADvsCu/x+GX5HAaxAbcLzQL287D4f/iq9HABJQcB/bwRSg3g66UJE/+t768MSf+JBbcO9RRi9i/1p/6x8dMKRPqyAgEENPyKD/r7nv2eBqYAZAd5/xbxtPzG+GkIeA03/EQMG/+OCdEDn/6x+UD6qglz/u8EYgSLBRkADv9N/+IBOQcADYMDzwIyC5ECQv69/nUAjgfJ/4H9RwXt/WUCcgG9/vwAbwbP/n39wgcKBUcFrgIZ7rvzqPVz+yP1KPq8EEQBoQ2G/2b/bvzPBWT76/B9DLn6HwfqBNYFTRAWCX8B5vZjAYQBAv4GCWYH9AmBDroLQv1S/QUBp/gIAmMHjga8D1MKKgLzCAL6Q/738WT4QQZ6/tsJav5KASoB/wIh/pr3Dv52Adv8Jv4mAsr2Jvs+AcwEtv89A8QKhvo6A80DdfA7A38F1QKtCtQL2QdNBL8Hjf1D+PgF5AO9+D4G4/2n/JgCxPkT/i7+vPyQBYr2xPwdBLPtC/+y+b/4dQH/73j7uADC+fwKufvV+4wO7frDApz+wPcGA6oCSwT9/vMI9wb6AVkHzQA8An37dQE3/iMENAY8/P8FyfiUBJQBHfnBBF8CsQROA+EAz/7BAU4CmAdtBA4CSArcAkwFEAUh/McCyQGSAdMDbQasAgAEFAja/18E0P5lBGoKp/8wBmAEJ/7YBgsCMv+lBBEC5QFRA30DkAJDAOT87QAj/Ib7cQNGAQYLbggp+kgDRvwh+gIEevtZBJAAWABqCAj7ngB3AFT6FgCW+PXzuPiC9cz7Ff2B8iv56vJs8Dz72fJR9ur3p/QK+oTxjvGY8ePxVvcr81n5DftM9fX4o/oK9iD6tPrI+Z4Dpf2H/fMA8/woBGAAKAK2CFwHcg95CoYKNBbSEUgWYxlkEjEYSxoWGCYeLSGEIdYo7ydoIj4nWCK0ITogHx4AHzQULBdFEbUNvA7PBIgIawRf/VP9Yvpx9hX3hfQJ61fwtvGj6znsi+tX60vrdey36Ubrmew16Onrluiy50DqY+Y17Hvoquxc70Pr3/Cp6jXtQOh655zqi+hF7Rnox+tJ6d7nXOjx4Nvmfuk+6I3kueRI6d/m6uhf5j3mneof6A/qwO3t8fz29vk5BYYMZBM4IsYk8i/TOtw+VkYdR19IFUdbRvNFlEDaOYM5cjT6LW4pJCRGI3MbUxUHEc4IBgJP+4D0C/NQ7rznmOcR42TkOue56L7vz/Hx8ijyZfRU+PX2ofhV/Gz8Ev16ANj+KACmA/wCXgZhCLUGqwjGC2oLMgvrC7kHKwT5AMT6BfvE+Gn1zPSW8IXt0+rw6FXnOuiW44Thb+Km26bbQ9YP16XaAdhQ2iHYs90l4L/im+RB5BPnneZR6xfp9ewy8Dfw0vKw7arwCvEX8bH1VvjP/BwAqQZ+CfcO9RWhFb8egiYhK6Ev0S4gMhU10zNyMSAykC6RK7QpRCSEJA4gRR1uHGwWHhYpERMLjwsiCRQHYgPE/cr6c/a79PbzSu+u8FHx6+/z8v7z2/bt9/z4Bffi90b7UPdL++T8nfwQ/7X+WwGwAXUCUAQGA+8HGAr+AnIFSga2A+EG/QEI/N3+6vy19/X3LvSf8yPzLPBE76ftQ+w76rHsJOt97gHuQOkp8H7t8+6y793qvfFw7v/qzO4c65XqL+qd5y/odOjE6Ofmp+Vz523n2uWv5M7jQuUD6Njqiu4q8d32CvnL/MgBgwX2EckUYBmUIMUhKyaJJ2UpSC4JM8IwPDNZNHAytTT2MOIvJS9cK9cjiSGWH44a7Bg5EAQKnAQ1/mT7U/gy+IX0kvAy8EjsP+2s7GTq5eo06tLrP+s97bHsLO+Z8yLw9/FV9E32cfnY+Tb5PPob/Kb5cfgf+sv8HvtF+sv7Gvjy+6D7g/or/wT6Q/tL/Cr97v6d+RH6ufiq+D/4cPUQ9bv2b/ZV8XHxZO7A6ULsAe2S62frrOhS56HoZOZE45Xl0OXX4mrkKeNw4kTml+QS4W3myOjI6ijyEfQ7/HUAEgITCasJyxGNGP8YrB+iIWsieijHJ8AshzC1L+ozrS9HNMM18TGpNC0yHTDHKmEnriX4ITof4RcTEjcRwAhWA2oBw/id+Lv0JO6F7jbtP+p56dTmx+J55Prjkei56JvmHeoX6g7qkOpa7BDsYvB47tztCvU58zf2V/gQ9t34tvc6+Ar9Qv2w/Zz9x/1I/fj5w/ku+Sr5Fvk8+Fv2a/Wh9Bzy/vLe8lXx0PDk8P7tZesa6+nqqesf6Mvi++OC5MngVeD+3vPfauIC4EveneAp4+nkB+pc8G/0hvdO/CT/CgOQCSEONRT1GdkeaiEGJAwp9ytmL1IzMDVwNwg6DjmvON45zDmfOj44YTKzL+MsoCoDJnkfBh1SFRcOeQj4AgMAavxE+DTyzO8e7ePoiOjC5UXiLeNP4KjeGOCy3nvget/N3+HhZOAG4pbkMuaJ6T3rAOuc7qTvdvFA8u7yove2+Mn6Mvuf/kcBIwDLAJb/PALkAsoBJQTnAnEBpQEq/+X90Pvn+Dn4ZvUO9Jnx/+0S7frpe+hA5yXmGOWr4Tvhod3U3Rff99r+26na5dqJ4C3nqOt171z11/ae+xgCNQb0DDUTohZIGkEhuSTWJswsPDDBMDM1/DgYOuc8Ij0vPSk/rzyhOpM30zGbMv4s9SfnIyMa6BXHDSAKbAVX/v78YfX38UnveerD6wnpWuQE43XgAuEg4aje9eFi4uDhTeRY4wbmy+eZ5gHraOwR7Bju0u168GnykvMJ9yj3Uvgd+tb25/jq/Mv8kv4O/uP/LQCxAEYCU/8AAh3/AP4iAOr8c/41/KD5T/oo9r7y7fNB7pTsu+z056brIen75K3ktOIP5JXjjuEs3+Lfl95u3nfmJuyw78nxMvfN/qYCNgqfE4IYByGuIqAjAi3QLWwx7TMZNrM8ljy2Pn4+kD23QKw8oDsvPAo4djZMMNMq8SV9GgAXyg84CCgGhv5y/Iz4jfJE8GztWOqG6mToeOfa5/Hm3Ofm5xPpP+rH7fPtnu4r88r0H/V09574vfgv+r/7AvyO/E38EfpM/Nb70vzg/Tr7sPuV+dD7MPxb+Ab7wfk1+CD5M/aD92z5AfaF9Uf2//av+D31OfZD9z/12/V68LvvzO6z7PnrJupx64jl+uMk5N3i4eKs3xjhCODv3KrdiOCg5LXntOvs8Cr3sfwXAiwJ3w+VFrsejCYxLa40BTg1Ovg9zDzrPhdCY0BTQn0/1zyJO9A3nzePMXorsiYGHnYYsxJqCVQEkP2X98X0l+3L6wzqXOX75KPmk+iH5tjp7+lx6STv7O7b8pn0ufUX+T78YwDMAtABewOLBYYE3Qc1BQMFJQaIAZgDPwEn/OL+nPkC+d/6Avec+G/0PPLj8nPxK/Mp89Dw5fBa72nuOvBr7irsf+7x8dHyhPT49JD0yfT48n/zMfOV8d7zEPMY8ULxmu/27I/qs+d76cLpAeln6ZXnZulc6kLwVvRo9+H+PgOuCUAPzxV2H+MjlCupNWY3NDuZPT093D+wPyY/fkDiOk84ZTiRMr4vISyDKR8kCRuYFGMSyQl9/3T9xvb780bwzunj6iTnaeXU6Kjnpurl7VXudfOs95/4Lvkr/GX/FP6B/VEB2AW5BQYEeQX6B2UIHQUfBLkH4gRQAPoB8f6D+xf4qfWY9VnyNfBU7+nu4+yX6VzqGeug6C7qd+iC6X3sDupb7VTuY+688PDwTfee+FP3evud+Q/7hvn79dH2ovKp78rt5+oy6Yfl6uUE5iHkiubn5LHnXeov6IrtK/eh/lMGsAxYFikl2S2FNfQ+jEeBTeBOTE6GTClIfkI3PJs2WjA+LMYn/iCnHn4cMhu+GF0WHBNYDnAKUQQ1AHr6pvOA8Ovs1+mj6rPqYOqw7V/w3/LJ9VH3u/hL95v3Lvsx+0H5c/jN/BICqQL9BZEK/QyoDswOEQ8cD0YLOgh9Baz/zf3u+IjyMO206hnso+e+5W7m8+U/5SrjLeSw4yTePd6n4SLir+Ra6N/tZvLn9DP6rP6D/6r/gf63/A382/o/9b3rAehk6GzlE+CG3MrgzuNO4SHjLuTW4wXj4N6d4qHrYPR7AnUL9hpBNF0/QUZqTdFQW1WhUCtISEmSQL819zUjL9sqVSiZImUkfSGUHHMgch9jGD0SswpCBAP/bvWh7bzs0Ozh7W7upfC29Rn1nfLF8zn2oPWm8Ebv7PGI83f0u/YI+Jj5PP4WA2wFsQVZCGQM5Q2wB+sEaQikBQECUf2r/D4DowDG+fj40/fI9W3unOby5lTlW+Gq3o3fKOSH5RTnaOio6RXu1/EA9NP1zve3+dT8Tv4b/p/+g/6h/cr7IvnZ+LL4sfE96A/mu+bP4WjbFtfq1wzbAtl51mjW1dZa2cPaOtz06AL+GgsTEyImdkARUsxVuFI6WGhdxFKrSl5DJTleN4EySSwDLb4phyatI7YbyRu0G6IQBgarAIv7i/hu9Gvs7el1673teO9e62bp3u1t7Szp3+hs7EXx2/F/8Mn1xP/XB8YGAwRpCo0ShhNLDOUIjQ6/Dm4J0QfeCEwLXApXB0EFXQRzA1H+EfXk7eTtIeyv4h3dVd9a4X7gt99d43fmzeZu6XjtFu8s8HX00fnj/K4AaAaRCnANSg+WEKsQTA5vCk4G/wDn+6L3tvD+6ifnK+Cy3HraXdf71QvTd9XF1y/TO9PV183X8NdP3XvuZAPIDIMaRzT5SYdT51SHVrpZ3VR/Sh1If0WjOvA3NTg9NdYxYijIJBwgkhB7C34Ktv0/8h7tj+xv7d/neuX56YHoFujT623qj+SE4bDfdd014S7m6ek67FjxB/23A6b/xP4JAwACxf/oBAMNNA4eD7QTtRkYHs4YWhSRE7QNtAy1CugBJgCzAFr6jfWe81Dxyu0I5LXdwuJT4mjb89zD4PPlwuv0607vXvlZ/h7/jgERA2MJkQuiBBcD3gRwAkAA6v9h/wz/g/w3+a/4dPXE63Th0tq41onW5NTu0MPUgNnF2cbZF9hi17fWR9XP2xPs1/0PCzoapC0xP19K7Et3TSlRCk82TMdOslE3TktFej5/O1I0VSYiGP4PnApCBYUC0/1x+PLyHu3j6SjmNeEQ3J/artyp31Lhw98W3mTetN0Q3VzgdON35nrrxvKJ/q0FmQVDCQ8QQROkEmIVqBsnHj4dzyC+KDAoyR9+HrIguxlgD5MLUAyRBhf8Mfh5+Djz6OmR5DHiat5F3L/ca91/4A7jEeR05m3qo+zb61HrQPCS+LD5v/vHBD0K8QpmCyEO3w+hC08HdgcFBxECK/25+Zzze+w+5VLd7tdL02LN6szIzmzQSdAmzVHPvc8dybLF4smWz4zQX9rz9PYKtRSHHkY3503UR/I+5khNVFJN90BVSxtdMFbmQ4tEFk3oPScgnRQcFgANqP3Z+ScAvfo87X3tyutn3wbVwdIE1QvTHdWa4N3lOOJC5bDutO9s6Lvp2vJN+hv/QgbyEjAbSByRH6ojcCMCImAfLx6ZIe0jPCKmIW8gjh2cGA4Q9wlsBaD9mfZJ9OPysvBG7crn7uMB4wXepddJ1YHWSdnN2NvYl+Aq6E/nbejk7b7yM/Sf9CH6DwEoAxsD5wceDQkNlAsXCXIIzQmkBngErgJTAKf+Wvoi9+bzu+1257fhzd493MrVVtPb0k7SrNI60XbSXdTf0XTRKtas263f9+Fp7Ff+ZgorD9EXmSj2MhUxljN6QDtIoEPOQrJQv1mXTztG+UrVSjs8Yy3EKw8qcBvVEMISkxEXA1b2cvSh8NPjKdq42uDbPtdP1cLcr+LN38DdMeKL5nPnfOZr60704/jo/LUDCQr2DDcO7g9hEgsTZBL9FEoYzRgyGskbfBydGlcY/RbDEyIPmgm7BtsD8f07+AX0e+/766/n+eK64D7eAtwd3PDbr9vz3M3dSeJs5oXoDO1N8Uz13Pfj+fj9af53/Hr9tf/hAqsBHv80Al0DfgKyAQL+3f18+wz31Pez9l/2kPWf80D1E/YK9QL0b/HA8A3wBu878Kfu6O778HTymPT+8yH0Tvbi9Zb1EfbF9zr6dPvT/Z0BBQX0BR0GgAfpCBkJugdPBnAINAvBDdcPUBGUE7cUOxYnFzsXMRhOGNwYExx6Hn4gWyBJHw8iGCP1IPseah0CHUUbwRebFyQXsRP+EG8OhAxKChEGqAQQA6f/gv4x/MH6Sfl89XH0CvOc75/ufuwM7C3tU+s47G3sn+zv7j7uhu5G70/vIfP19Gf1V/fY+ab+SwCgASgF5QfpCH8HOwj2ClsKngemBQUHvwdIBDUCOgEmATAAP/3T+2f6Uffa9UL0h/M/8aDuvu+J7vbtme0n7Qbu+Ozg7DDvaO407vbtQu+M8mzyk/M99Sv2jPg3+i/7afwL/Ab+u//R/wIBBgI/A4MEPAOoAywFbgMGAzkDuQPgBAIDBgHtAYcAaf/8/ej7x/y++hP6w/vp+hf8tfuL+w/+c/0A/j/+SP4iAgQENgYPCQkKIg0FD7sQchNCFOAVmhZEF6YYkhhtGhoa0hiqGt8avhpbGI0VohbIFKURcA+NDKALBwleBw4HOgSnAuQBPQFz/3H7Zft+/Dr73fiZ9SX2TfYy9MzxJ/Cd8vDyD/A378ruuPGB8lLwpfI69QP3Wvfp9R/5IvtV+m382PyX/+MAbP8rAAEBcQIvA0ABkwHlAaQCmANoAUkBGgH8/wH/a/75/fT9tvy8/ED8V/xU/NP6+/mt+HL4Z/lm+Zv3Dfdz9jf3N/dE9qz1nvWN9Jv0R/TD9If2qfRB9c72Pvgf+lP5XPra/UH95/2H/rL++v/2/a/+XgAd/3//iP9p/xMAZf6Y/8L/cv5s/6P/9f/h/bH81v1y/mf+Hvxb+jP8p/3S/rr9MfvT/PL98/7N/gD+CgDT/6H/NgJeAjUE3ATZBIcIJQlwCr4Lnwt8DKoMnw0yEC8RgBGJECoQJxLvEggTihGQEK4QMRAEEDsPew0lDRAMhgyYC9MIOggoB2MGwgTkAuQBVAAg/2X+XPvX+dT5pPqz+vz4W/cv+Jb4Mvj69733tPd89/f3Z/bg9i/4KPhl9xP30PhI/J77ZPrl+rz6yfr3+t76gfuN+hv6Vf3k/Tf/eP+L/4z/CP5Z/p0AHwEkAHf9Q/0y/x39yPyI/cT+J/+X/GX7rP2B/Fj8Q/yW+pT6Dfn3+JT6S/xX/OP7ZPo8/En+QP1T+477Wfxe/QX+tv4WABf/7v/MACMAD/5E/x8AVQC8/7r/+wDcARsB9v/gARkDBAUdBI4CCwNpA7ADUAU/BMIDAQT0BKUH4AY0Bn0G2AWkBToFaQPGA+sDkAMLAeH+qQFgA3IC6AFyAaEA4P2R/Ob9N/6i/q3+yP3u/bn9bf2j/JL8kgDIAM78M/2IAQ0EBwSvAcQDfAaIBwQHkAScBvcRLhcGCq76mvkkCNMM6QGo+bP/JgkzCfb9Lvji+w0BHwD69/n22vp3/lj9GfkB98H61fqT/Lj8fvyL/r38xf41AOX+dv0eAX0DfASfAToBsgJvBN4EdgT8AXj/IQXCA2MB3/4jALkBkwHCABMKbg/WEAsNGABp/ID8wv9w/g3/ogI7BlQDNQgLB/j/IPvvB5MV8QXe8T71HwvGDPf5eO3F+SoBl/7A9jn6IAKnAN36a/ia++H8Ivom+CX+v/+SARABlQIXAtUDTwVMBusEKQJ8A40DgQKWAnsGMwefBi8BDAHxBBgENv4V/tcBugIzAJ3+VgTlBFv/3v3SAqkADv08/Yf+bP8U/MH3r/vIBFsHFf6u7dHuAgPDB5v47vIX/PwEbv7o8Yb2hQEDAXb8h/n++0AFbAVA/Qf7Bf6iAqb/3fcX+8MEDAbaAOP9ygF5BaUC/f3F/+AFLgLA+eT4mgDKBHj/wPnVAGEIXAM9/aD/bQYACJMB1f5wBf8IjAdzA6IA3wQKCWMGDAS2AxkIcQd3AVUC6QVpBb3+lPoPAc0DeQBaAbcCegWiAc/+MgO2Awv/sPw3ALkGmQaZA9cCDQK8AfP+bv8S/278pv9eAogBlQF8/p3+If1q+qL9rf1r/C3/6ACJAGcBnwKvA1UB6v+oApsCBf8LANcBsv+5/TD/rgGR/9T9j/9t/k37wPua/y3+nvcB+eT9rPyc+RH3GPoO/dj4i/ec9tn3UP1k/In4nPhJ/LYArP51+1j9OQHBAG3+ev8uAH8B4wHn/3b/Xf8A/3oBWQDV/Zf+Ff4n/mn/+v0K/AD88Pxy/dn7RPoj+kz5cPeo+sX/MABP/6j9gPwS+xP6L/0/AH7/b/8oAbwChwQ7BZwC6ft092v5x/18/5j+lAAkCDwK1QegCIcLaQ24CPkGvAwwEagQLw/6EooWchSzEloRBw/wDGsMxA0ODLoJpgkZCXsHNwV6Az4AtPpr+fH6I/tp+sT1TvPB8/7yYfPg737tlvCP74zu7u8K8gz0yfFl8gX1EvUP9H7z//PJ9IT2r/dG96L4nfrO+ZT4lPrA/OX5afeg9wH58/e680T1ofaC9Pr2cfic98H2G/am99H1CPIm8XnznPUa8ubwMPXa9ffybPEm9Iv13vCW8bP3jfmE+Ob4E/uN+Qj1nPfR+273I/Qr+jwBrf/D/oUCuQHt+s7zcPUk+ar2t/Ww+oQF8hFfHAgipCT3KgAtgylFLJUxzTCDLN8uSjdrOLozsjIULgIhEhh3E2MLPP8j+NL7D/jd7bnsCO1055Xc39cn26DZJNhi22XhW+g17Wjx6PWh+Vf9Uv9i/soABwYvCjEQgBUbFsQVKBafFfsQhQt+C4AKVAMKAKEFsAejAtT9Tf36+lf0uvEw8Bru3e4z7Xns8e6G8mX2Iva793n7Jv4PAScETwbkBHsEzwZOBW0DkQaaCdgFOgHJBXwIRgX0AIj8kvnj9MTwRvC58Rz0q/Rf9Mb2rvi3+er2qPGK8RDy/+6i7tbwQPQw+NT4kfpe/lwBHwEuAAkAgv51/rwA3wBU/wgBvgQsBMkC7wbHCEwEsP2l/Nr+U/2T++T7EvpW9qz0ZPPz787sd+0660joEe3p8RHwC+yn62nuDuv56DTtZu5S8Gv0n/ke+RL3w/ty/CL4UvUd9lb3L/Sr80X0ifQz+Bz8jAbOFdQl/C5bMFY4H0EkQFE85DuiOMcwOzCPNTwy5SnWJWIhyxc9EnUQ8Ap2/z/2N/er9nDyoO6p65XpWuj46nTsAO+u9ej2qven/AgFHwnsBokJzgnECEEIOwkODrEMzQuPDsMN9greB+AIXgO898X2Pfos+pv2ffZt+Hn3LfaD97b7IPke9BP1nfbo92D4Z/q/+hX3GPo3/R7+Rv3C+1f/1/8u/zoAPALfA/T/nv45/iX7xPnB9b71q/bU9WP3N/hY+tD4SvZD9ufyPfEj9A32FvZX9cn3c/rM92T2UPme+tT4k/k3/p8AjAC3/9H9R/7z/lL+nPw0/SgAzgDrAI0CLgVlBH0BYgNWBigDrwJ/BZ0DywCG/84A+P6E/Pr9qPzW/dT9Yv0YAa/+Ff1m/Gz7j/z3+iH6RvkT+338cPve/aH9Zf10/o77K/po+ff7c/y09rH6Jf/5/LP/vgJ7BeIF2wR3CCMGsgLoAKj8A/qO9U/3Ovhn8s3zFPae+NL6rP7VCOgJVAu9EiYY1h1MH5IhviMYJIgm1ydeKI0jih9xH9wb8hc6E+YPXAy6B0IEvQFuAwcAW/tw++/60fpt+Rv8bPxv+c36cvnz96/2aPcL+U/3I/ep9575//nt+TT4x/Oy9aX2rfWL8tnwpPNW8C70mPmR+dn8Rvs4/jgBbv8GApQAzPwb+lv8u/9m/27+TPsP/mD/2v15/1/+Nf07+T/53Ptj+2/7mvdN+Tn7efuh/vX8wAAzAc7/bwEg/Y0AqP+m+Jr4u/nF+hH4i/i7+RX5sPvd+3//VQAv/XgBvgVsA1EBMAK3AQEARP2O/tv+Df5K/zj9oP4v////VAA//OH+sAC4/Qj7O/2XAbj9A/yWAF0DuwBl/Nf+PgJ9/TP7Af03+1j8NP0j/mP+wfuz/Zr+dPw7+mb5cflQ9wT3jPmE+nH6E/3Y/bf7Rf1bAMUCbwNoApsEGgaXBPgDQALHAg0Dv/9S//z9mf5I/tr79/7h/mwAHANYABQBdQIyBKEEIwDwAbEDVwI0AR38HACnA4v+pgLnBxgKTg7jDloSgBYCFa4UjRazFDkOdg11D8cKgAmwCJkKlw8sC8ELIA4DDNsM0QtqCasG1gTjAkECKQIJA6IHQAbCBEQI4ghyBwIG1QSzAg8AzP6//6D/Jv55/gz/EwCh/7z+v////sn9Fvvf+LD63fkK+QP4nffZ/ev+bf2x/VL+/AHo/ib4RvXt9pL3ZfMO8rn0Pfhb+GP3vflW/GT67/dS+jz2MPPO9cn0lPO58Avz6fd990T50/rI+pf9m/86/JL4O/rw+5H40/T69kv5B/dt8u/14/xp+Un78P/w/VX8n/urAPb/OPwO/wIAZgTVAdL8tgCRALD/BPvJ90UA/AWFA7H/awQBCksHGgjiBrID1gPaAXEDwf029/0AbwO6/AD8dP7NBGIEL/xC/Jb9wvpx+Eb5nf9F/wYASwccCqYLZAWiBC0I/gHvAKv8Rf0TAGj5Cf5P/6T8tAMGChQMvgRwAyEMNAzSAnH5of51AQ75EPl2/dT8lvv7AakF0QKSAz0FaAl8BCX6//53ALL7cvwM/Rr+twHWBrYIfwfjBAQChAXBAbP57/te+mr7av5o/Cv+pwIRB6oJzQt7DAgNHQ1gDJoJRQXEBN//2v7Q/kj55/2w+8D90QQC/2EDpwdUCBQIQwEKBn8Fz/5WAVL+KwLqASH9CgRbAegALgNz/1cBPACU/wEARv5UAZECrAAp/SD9YQBFAr4BK/wf/kIG/gIH/+/9xv3AAAX6p/rZ/+P66/vjANcA5v3H/boBhv/f+DP8oP9f/Yr9lP1JAjwBmfyUASn/pf/TAqz/lwDMAhQH/QVaAA3/3QCaA/T+1Pj8/O4BbgLQ/TT6OADgBVIE2/8v/rcB8wWeAoP8WPxsALkB5fvx+bH8R//xBDgEAAD6/yMG7Agn/5j6y/4dBf7/WfdTAP0F7gNAAg4CTAcIBrEBhP+n/QQDkATS/7D8PP94Bgz/jfYe/GUAIACk+kP7tAIbA44CMQJtAasCvQW8BJT9Kv3rAs0B6Pmi+U/+bACa/Hf5XAGHAdb+iQJMACT+oP0FAaYCCvyD/eECWwP8/wT/GwMGAvL+xAEwBLf/Sv4SA5UDEQBZ/jYBPwa2AiX+/wGABUUCfv8w/9IAQgSS/4f+KABdAAkDlAA8AhAAQf4sBC7/Ev8HAIX/TAUhAjMDPQqXCCcCVQdoCx0DKv8ZACwEVAEb+jsCkwbo/9z+PwULCCoBmgJwBOYAwgC/APkAUfsW+bgBEQO7/Vb+WwiWC1kDkwPDBs8GzACU/M7+qv7v/fr/8wDU+wgAqgibA7sAuwO6CJQKzf8VAmMJvQILAJD/T/5K/w/9/fyk/sz8RP6FAmL/5fql/ncBrwEm/bz8VALHAdv+Jv9JA2oAwv84B/sDEf58/zsHGQuL+jv39wQwBcj5re+E+gAEaP7P+kT8rQWVCcME4gPIAF0AJQeyABv4PftCAkkGJv0d+6QHKQsxAOP7mAU0Biv+n/ys/lf/9ADu/rv+lv/y/1UHugHz/KMGkwSa/usBxAJPAtsAlQLwBWf9UgCJBy4Clfv4/jALxQPJ+UgAPAdTA3D6xv12AiIBtP4l/6QFngWrAVABbAKrAtD+yPrh/LMAPf82/Mz+uwIMAsUDOgKUAb4ExACq/HoAVwF//5T7DPmfBOEDNfvs/SoCcAS6AFP6Uv8fAWD9Xf1E+Lb/OwWI/Db+KACqAKEHhPx/+ocEEv5GAH/8cPY4A0wBAvib/ZkA7AE//pL6VARnAiX7AADR/d/9kf+dAPQD1foN/S0Ht/7w+fL/jwFcAaL5xvoaA/T70Pnt/cr8Zv/9/3YAZwIO/yADKQRE/pX9dwD7ATX9kPwVA10DPQBA/2L/BwRwBBUAi/0YAsUG9wJr++f6vwZIBNf4Xfv7A+YDjPuN+tkCnQfr/e/6WAHcABf+tvno/FAANvf/+4wDyPxgAAn+XgB/BZj6Z/8+Asv8E/6n/v7+CwBvABAAKQR2AkL/agDJAhkC3fvr/f39jvz0/3P73ft1Aar9gf/m/RD7jQE7/4D8C/3C//X6lfkA/oX8IQH2/B/8d/+2/p7/D/+J/6v8qf5v/wb+I/uV/TsEkwAI/+YBIgSGBBECov0IAVcCagO3/UD63QL5AOkAnvyzBWoI7frN//gFZwA4++P+PP1t/6QAIgBjAAv8SAJqBiv+Dv04Ar3/yvkb+m0DuwI1/T3+kf/7BHIFYwJt/z8AZgkLBYL8fPyYAuQEs/xA/i4DdwTH/x/+p/5X/i0EyQAX+tL8eATxAo77dPw3BLQBmPq0/VQCxP9+/IcAy/+b/R//1gBx/dD6iQDwAJb/yfzN/G8Civ7a/nABN/9qAGr/GgByAdcB/gBUABYAuACYAmkBjP+r/yQCvAB1/m/+tP8c/738/v7OAH7+uP1d/4P+Df6I+9D8uAAB/WT+7/zs+2X+P/1g/8H9Of6xAAAATP3w/f39bv80AJH8Mf5k/UP99v2Q/pD9Tv3z/c78cfts+2j+mv0m/Qv8DvzC/VL+kP2B+6r8cP3X/Z/7QPrv/FL8jfuP+0b93vxb/DD+ZfwO/KL+m/3l+4P/b/1M/SD/avqk/ID/ov0V/yb+Uf1TACf9wv3zAKH/5v8P/3EAHAFB/tr+Jv+7/lkBYgCv/9n/h/4jAWABfv2F//sAXf/GAJz/ZQIUAen9AgKhAqf/2/+MARkCWAJmAXcCiAIJAaECNwOOADYE0QNtAn8C4ABFA1QF0gJEAOkDkQPFApADEALn/7ABbgHIAr0CbwBJAZwCVAIxAMkCVAGtAWsAIf+PASEDfAEz/2UDMwWrAw0BygBDAQoD5wLk/13/PQAeAaP/VgCC/zYAkwB5/v8AYwA//5UAwQArAZMBUAHqAQsCHwAzAQ0CgP/kAPkB5ABJ/9H++AASASMCMAEfAZACmwDyAGEBogG0ATUBDQDrABEAeP6PABwC3QC+/zMAvf7EADsBe/+4/3cCzQEUANP/bwFDAvH+IgDbASQCNwFOAJQBrAPSAC8ApwFRAaQCpQHcAToBev8dANwBOQL6/zgBKALUAGACxQIwARgBqAEmAtIBjf8P//0BhQJdAqYBDwFIAxUApQDZAQ0ClwFNAFIBiAEWAYP/AgEpAY0BRAEF/9j+MwDN/uz/fgBUAOf/Yv+LAAABK//I/qUB+f4y/9z+MP3s/Sb+z/46/or9P/8a/xD+Mv9J/w8AFf+e/j0CfwAg/54B+ABu/xwAuQHgANMAKP8AAOwAYv+L/qb/jf9B/n7/H/9l/zf+Ov7F/oEA1ACB/x7/kP4gAYgBRf6D/ycBG//1AIj/Cv8iAff9NP74/1b/tP4j/kH+BP9q/67+nv0r/ZL82P0iASj+bP0z/6v/kv0z+/gAdP9i/oEBiwCbAewCOwCa/2kBBgBeAFkA0f7U/+T/G/8QAFz9Cfwm/Yf+IP7G/c/+VP6S/5T9+//w/tP7ff/e/Yv+sv2j/aT+kf9KAbv/kQBQ/QL/ZQKu/zH/kv8xATQCYgHlAV0CMAHyAbMDxAAD/2oAaABSAasAff9jAAcCDQD5/pMAQ/6cABsAK/0BAM0Bmf/f/r4B9/9j/mT84f5eAFf+X/+m/nkAzQAI/yb/hf/F/xP/lP1d/vD/kAGV/wr+mv+D/aL8lvxg/lH/M/zk/J79Vfxc/YP+7fv+/Nr8IQBZAJ/0kfu6Ag794/ve//kBqPyl/FUBf/8c/v3/mgHFAd0AJAPrAfP/1wHwAoIB8f8LAIgBbP9b/vv+uf7qAf8AT/5j/sL/WP2g/dQBaf8y/fX8Kfsw/av+u/84/+/9PABI/lL96wBgABr/z/6pACoEzgFMAUoCHwVLAoX/2gD3AQ0BFQHaAvL/qwECBBMKlv0c9r8BaQCW/u7/qgIDBQgDEgF6AbcAUAImASYAPgPEAl0DJAQVBFgBY/5H/C7+rAE4/jD/yQFQ/7P/Q/8g+2cCxQRQ/OL7fwSbAPUMZBPY9qr8Twz7Bfz4MwKNChYO9AuU/f8KbgD98V/71PaT9dX8JQEn/Er8PPaJ88H6XvJR9KX5hP6j/XD4TAKq/fj32gSPAhn/EgfZDe0M2QnYAhkR4SIoCVYA8f83AgoOJAPK9pgAovs39hEAgff48SvyQPFu6jbsvfRg97TtT+qk9Gjw0+4R9Cr2Vfh0/P0ARQD4+/P4yPq0+WT/awlyA6ABTwvjDg0Daf/7A9H/O/5a/1AAvAKwAq/+BP4p/+X//vWW7qL3CAHj/qv7ZgO/Ap398/4fA2IF3gFp/c/7+/jp/KoFx/w3/QwFn/6//1MEzQWGBgwBfAHXCCUM7AuQBsQGoAfRCaUMvgYxCQ4OCQoCCSUP5AlZBtoGOQEXBuUGdQOFBDQGPgcbCM4JcwTFAtwEKP1tAHMI3AcCC6cEavkB/FUCyfz3+bv7EAByCpcFRv0KA60GGf9Q+Uj88gGiAosFwAq/CBQDIAGjAo76evUE+tb7c/l4/SYES/4S/AH7OveJ9azzevch+JT5XP2v/E3+mgH8+z70ffe2/ej8yfuU/xQDwgLA/ID5Ufqq+1H3nPWZ++v+YAC4+vf2QPo3+r/0zfLb93H+af+J+3L3bftY/UvzgvYl+CTuHPC48aT1iABH9y7y8/YW8H/x/e5Y6xH7wQpyG0gmECn2MZUmbB0AKQ8xzzcqLyQr7zwQOLgy/zeMKO8Z6ASz+cAJywdc/lD86/eSAVsAt/L7773uV+7e7Lbtz/qABZ789vcm/z4IpQprAQ/7ev8yByUJVwUWCg0UEQX98mL6cgqxB4H37vSF/R8Anvxs/bL/I//s+PHy0fjsBXQH5PtV+UUDsAIj+wf2U/SB9PXrHOpX8VT06fCl6A7o3+wk7D3qVuXC4UnlFfBq+Ob0CPQH8qDtHu7g7HTx6/hU9dTxc/WY+8/98PND77T4m/mo9FD8kP/y9pv2+vOc78bymele5fLmT+Oj78HxSuSt4MLXTtYx4XDrn/J88+z72PkHAt8IM+lY6sbtr+osKXdMzFrMdkFUV0hgRRAhkT+5Q+wZISyvOhVAGj/1GKYHE+6tyOHMsuLG9/71BO1w9qn3xftZ+A7ruPMw+joCjRdJKns5IjQbGzsMPRLEFe8J/gTXCCUNlQxQBbkGYAJa7pzdZNmv4inuk/ac+aX1bfW59zv4YfSN9C0AfgbsCeYSuRlyGAMMGgFxAIgE1Qc2CY0JYAdWCEQFJvnT8QLtbOnD87j9Dv2GAR8CSPlA9ZfyYPri//TyNvZ8/xD/vPyA9IvwxOpV43PjWukK9kf5UPNw75Xqi+qt5EPffeEU5JDsruyL6xLwbe4o8Dbw9u/q9Gr0Pvep+G34IQPyBqIB4PtT9oj+dAS//pYETgZH/SP5ie1v7Sj2MedI5urvL+nG6Z7k69tS27PYb9+o4qjlBPC376DsTuB836LsSOjvBDU3y0mzWc1ZjFKoVC82aixORaRA9DxjQsVJUlD9KZIGUfoN4TzaeN+c8DILgwV0/aD8afJb9Xb0zPHZB94eZCssNqQ4mTWYLNkWcAxLFWgYoRaCFpoSZg49ApbwAulC5e/jIuRX6BL0DPm79znxd+6F86jxFvwcDIATfRsmGGcWVREhA3L/kPrn9dfyQPU/ACL+a/f+7mrnu+Od11bbuOk/7czyb/eY/I0Bt/vA+1UBlv9qBMYIWwaZCNIFqQN8ACD44fqm+G3yD/Vr9kD2EO755jfpwuYw5Ojlseii7NHqFehJ7zPwV+qP7ujvJvUE+5v0ufts/m32wP1P/3n86v0F+vD92wNHBK4HwQU3/6b63fa197307/DC7ZvkKOjo6E/jv+uV6Lrhr9+b2cnea+AA4ZHr3PBD6cjlb/HQ7CPmXuwt8IcBfARBFqFOplwZVBxVoFJfU9M+/DfUVJVYAkAHNxREcEAnINYBwvE16jTi3uD08cn7De5p303SgM/u5Dzsm+lb/HgQLR+mHUAYvyIwGu4HcAzvIu8xyCO5FtUSGAJd9B/zu/hE/FD1OfR8/8v82fMT9BXsreko88P/5xKvFukT0xBcAvkBCApiDEsKCgcvDDMH+fvD+Qn3lfAh3xneMPAf7y3y6fEJ5oXw8eyN6Sj8Uvis/lIEW/fFB4QNdQBfAZ7/bQZNDOoHegpSBwX8gvZD+Bv6ffkX+hH8KPpx9NL0qPRJ7LroY+539Wv3yPdE+6D+APzh+Cz9j/tw97j/xwVTBBsFewRq/3z53/fNAKEGivzA+bP8h/Yz8+nv2uvZ5r/f4+Jy51vqz/WT+vHt++BA3lLg0t++3RXxdwYY+fDtZvQp9q7tutzf6IoHrg6qIXBIr13kU6g3yzQEQVU74kW9XwFqSl6nRc1CMz6cG00CTvh8+YD8ifjFAtH9DOGnyaC64cZj2DHb2Of17pn11f5q+fr/8AVe/coBIw+yJY00dSgvICMZvQu9B9oHdg+yEYAHZwgbCk4EOPzL7gfq7Osv71H6oQGkAq7+k/Om7sDwBPP79Xj69gOuCmcGR/+p+on0cuxN60P0Dfyl+y/4y/az8rzqX+dl6IXqie9g96f9UftS9IDwR+5y71b2S/9lBHcC8QG2BNkCHf8K//kCswMM/0cCiArtB6/8h/Wo+Hb6SvNR8SH11PO77q7r6+7r7wzpJOe+6ifse+2m8Tz5bfsl9tr27fyh/vj8PP3AAE0CdADk/7X/r/4L/u/7Dvhy9hr5W/sv+/L8r/+L/tb6Vfp0/df9s/vD/aIAn/6k+oP6+P/XAQX9IPvx/S7/7fvw9xP9mQr8FXAbBRxdHOsbaxUTEDoWsyF4KGgpNSvsLkcu/SprKMEkSh4BG4AdkSFRIngcBhNvCuADLQBI/6L/IALrAe7+Wf0B+0v6KPvq+Wb3NvVJ+PAByAeFB58EnQInAy0Brv95AkgGKQc9B+8IyAn4Bf4BqwB7AE0CSgWiCcgJiAbQAEn3ue737bH05vgp9LHtMvDo9Wr0F+3g6JnsevEI8OnwMPd9/TD9BPdm9iv7RP6/AGAFxgbWAfL5VPyeBoQHvQAf/V0BiAUAA6ABgAFC/3n+xv4lAd0CGwXBB/YD//vr9Mr1BP3m/yf71/OV7Q7sWe3I8KD02vLM8wL4yvz/+ZX04/jGAccBlvjU9y4A3gQL/rf5fv4sBgYH3AUFBwIGcf8v/B0FrQ0aDMACUQXADFAOIwWt/nIBkAH//Ln5sP9UBSQF+v309gXxNvLp9fL3lfYl9dr3F/oJ/fH8b/q88hjsje1t+I4ACf+89szwpe1z7EX4zBefPilMuD/oLwYuGy3oJ1czrE3TXcRX4E60UbtKGDBOF+IP5xbPGs4ghig7IAQDAN63yTvNatyG6uLukerT403b8Nja3ZnkAujW6kD11wNnDgwT8BA3B/j82fy7C0Yc8CTIJVAfehOCCDMG6grMDYQNawu6BxII3gb6+5LpkOHp7ND3dfcq+VIBkwLK8tXjXuij8zv+dQg1EcESkAnFAYz/Mv8IBTALdAubCNUFPgY0Ad761vsy+1z0t+107jX0dPNX7CjkQNsE22rk5u288ALtk+lc5+foafW+/3n63/D+8z4EdAzDCIsEQ/258g7uGfW4/K75G/Yc+db4MvJJ8FP1IfQs6d/krO8h+h34G/Cl7C3uSe3k7ZXz4fc29Abpv+MO55PsXPII9zH5Z+8w3tjWp92q7Qn4wPTS5nnZct6C7e/zmvEt71ft/+hW+0g6A3lFeEhC2RyyJx0+lEs0Zf9/GnVlR0IrIzi9PugjdAdbBDQNPAWh+G/6gff93Ty6JLNd0aLwLPjZ7Lflrecf547ncPD3AqYSSBYfFgUYbR3oHoMWoAv3CB4VGiTVJXMblQ30AEfzdulT8DUCOgqg/wfwz+s87UboBuP85pDuI+2d5dXpifef+ofvduc18REC1AisCCEKSQtKBHT0Gewo9d4GHhN9EMEGSv7q9gvxEOza6Z7pEuq+7574jvxG9pnppuI+5r3vBPi7+oz5yfhi+k78K/6E/nf9HP4I/9oB2ASnBWQDFP3I95n1fvZX+EL3efL+6sbnX+368hDyhu819Nr8kP3q91X5lADvAiP9u/m9/QX/H/vW+Cz+OwR5BM/+C/u1/D387fO27SrwcvOo7/Tnoeym9qT2hO7M5x/n7+XT5wXxW/l0/FD4HvGN7r0KyEvxfsF0WULTJmwwyzyURuZiUX4+cDlEiTBUO9I79SC/CesJgA35CukNiRLKBVjimcOjwiHc5ft3Cbn/Fu1t5Z3liOmK7ogBuxv3IKEULguuFc0c5QtK+u79yA74Eo8KIQqCCygB9/Bo7aj4qgEXAsQA4ve26wvoee9W+GX6tPiS9lT2lvmKAzYGwvuS753yqQI6DCINrwtdBsn8XvS59AD8XgUVBhr7ze+v7cr0QPTk65jnR+tC7Qjv0fNF9ebv/udT6+rz/vnN/mUCeQKe+l3zMvPo+AT/qQDc/h73Te+o7TDvG/G79GP0c+4f7E/xz/bK9Hbzw/Uk+Y/7oP/mBzsMjwjBAbgB3QO3BKAHvwgOBeT/b/6y/Ir4OfOn8D7xb+5U7jvx9Pgd/Kzxp+SG36/k0uZO6kDynvz+/hf1Petw5V7iEuQH62HxNfhE/k38q/Ux7yXuYuon48T77jV9Zdhe5zpWLeMw5SeuLT5UGHYrbphLhUNBSh4+TyJIEoYUPBZuGnAkOiUEE7b1ztqlzD7W2vBMCu8GH/z49jTu1uFg31v5FhABEKcFvAx/FNoMq/4T+oz+QQHyCBITtxX1Dn8CIfYc6yLqL/UbAlgD6/nI+u/3Xe3G5rrsbfTU8yvwJ/pHBsr/8fP87R7wbvNk+CoGbBH6DHj9OfZZ+F7/Ggd8CEQHCvyS87LuKfNt8RTyM/Nu8LT1FfM/8Trsr+ld5TLlqujP7wz7bgBL/8X1UO+J7R/vb/ZTALwGpQHp+LbzCvleADH+pvlP+t37Xvv3+j/6HgE3/+v20/Ys/NcAPAJ//Av6P/04+AzxVfTc/osHbwH59z75F/rv+fX0UfvX/6f5/vDR7iP2GPkB9ojwQfSB9N/zJfO39Kn6bffW9Ob2XP+vBpwDffob9xL3JvmR/zgGPAuHA7f5dvKE9KX2Tvat9jj5eQXJFHEjGx/DFtUPlgvACroXRy6EOUk1PiprLrMuxSTrGp0b6B0dG9sWrxveIDEYFgsOAWEA7PvX+foBywUuA3MCD/8z+1P73P/cAQcAEgB0A5sD9/4K/fb96vvd99X6rPz1+az4ffeW+lr7G/d+9uv45/k09Ev2IPuH/SX4zPfM+3D8Mfvv9O32ZfiN+rzyTPIW96b7ifsc9VH1z/Sq7hbnfe+C+bT7qPZC9lD4Zvnc9UfyZvYC95T05/Wo9xP2cPfo86Trw+sF7ZHwLvUd8633u/Zp71vtWu5b8Kj05/nq/XD+Zvxj/d39KPy//7kERAQkAxcFFgdgB64AKvwiATICBwHSAZAG4QKV/jT45vgNAHz+2QgXDVUKBgbVAjUCCP7E/1kA0AVCBPECFwaRA3MAd/y//8f/wQEQ/6MBlwKr/mL/Pf1zATAAHwF2/tkEsgMN/VIA4/ulAgb+8v64AhoEoQM0/dwAxAGS/nb8DQIkCNYGxAOWBk8HmQYV/9sBqwMDBZYGIgefC1MKFwjC/Dn+1gORAEf/3wX3BBcCK/wN/cz/pv2t/in5yQX1CMYEdAP1AiEFKP+kAV0EhQ3/Cg0G9Ac5BegDxwIYANn/ZwQpApsBKP3OAfX8p/1/+kv4bv86+UP+9P9NAWL+mPyX9qX7LAG1+x//2vzL+or/T/pq+bP4yPqPA9v81/zG/Vb9pvkX+lH7AgMDAXH7JQJH+Y/8Rvoe/McAbgLSBfj9hAPIAAIAlvqU/KP6ufik/5D6vAHh/foAxANT++r4R/84+Uv6lPqb9s/+AfvB96L7+Pn2+GT+sfj8+LoBNfwW+QIBuwEt/f/6AP/X/ZMBFALUBNsEOwJoAPEA8PtiAOoAxf95/3b/MwbC/6oERf0iAdn8N/82/Zr7BwJUABkAVwG5AbcBzfvB/pcBMf4aAsP+gAVrAg0KAQAkBOP/TwBsB/kA2//XAqUBM/u8A8v8fQNsBCcCGv5b/h76X/gQ+Vz6PAOTBfz6FQN0AqoA4v5k+ucD0gNaBqj8PQeyA0QGQQBH/LL+pQLR+KD/LwF0+y8C//etAJH6ywaI+ZoCLv9I/xv9mvnd/AYBlgZvAfQT8w5YHjcXKBZw/5cBUfeY8fjzXO1QAxLwCPr98Jj0D/E27kjstfAb+8Dy6QO3/ecCCQTi/l8B9wTqBKD+9QNjAfcERgMSAL0FaARsCHgDvANIBAkIdwPg/TD9SfIR9i75WfxwA2EBUwEIBVT/LPWqALT6V/mwBrP7pQbn+xT/Ff1y/6/6n/t2AXn2VgEQ+Tv65foJAWj9e/jg+jr85/+5/w79bwYR/9L9lPpm+2f8vvq7AGP+4QFL+2cExP3KANb/wv8PBTr/nwD/AQL9jfzvAI796wge/qv+Rv4W/uUAE/2CBKv8qwPv9xX/f/0fA8ADJ/25B2z7RQgP/ID69gPHBJX66AX+ALL7WQT++yMFDgTB/U36SP+g+3/9qwOnAQz9B/5/+/r6bfao/9gBsgheB7sBTAeMADIC7wItB5AIIAgSByACQgHDA+/+gP+xAS8C/wBuA+v5gwIg/p8A9ggXA54Bc/l//ur7/wCO/acGAQPC+tX4YPgz/YIAjwL7A0oE0v8XAEn4QP1m+oj/Df8I/P4BvAJhAID9fwFPAOsDBQN0/zgHiwagA0kEpwSaAdkCiwKF+hcDVP6qAxMDHv9O/gMBUf3G9sUEZ/zh/3j/f/3AACn/3vwsA6QAEvn8/vv9OwCzAbwHqQF5BnwClgAQAlr4TgJBAPgDvf1YBRkEm/p8/lf80QBg/6gDTf22CFQDlgB5BTb7CgKk/ST+5f2DBLj+IgGIAmf+ZAU6+8z+1f2n/iUCoAAIAkMB5/+F/pYDPgOlBCUBcfxzA+L+5AQmAPsDBwLW/NIAi/vzApD+ov8E+KAAGPux/W//ivniAH//6/5aAvwDvvbb/yn8Kv4+//cAUQIGASwB/PusAqoEi/40BGYB+QI2B8oDhQHhAegKngCvBNn86gA1APj/2ACTAcgFtvxoAtX6NABg/h0CoP57+br+1fpC/p/4MP1q/k8DgQHS+bAB9P+N/on+ivn8AzYJH/9AAuP/MwISAiQBS//ICSwFlwN6A1r8mgeCBEsD9v22BXn/QQKT+uT/BAHg/KX+FPv5Bd76Gv88/vcAR/7CAF/7NAFYAkL8NgEF/B4FgwFVABb+YQAZAH/+ugF4AUYMVQGO/eYAGf2WApr+1gLOAw8J3/5IAOMEHv0FAOH8wQGD/p0GTAFYAXP/5Pj6/bv7wv66+rUEFQG4/XcB6ft//bsBi/xd+xQDZQCtAYL9eP/y/jgBv/2TAQgGV/9gAdoA7AZX/HsBPgCKAckFtv52/yT/0f/0/YUBO/gpB9sCFvif/Y/75gacAOv6Gf4nCdv+Cvzs/5j6KARbATT/yAQACfcDCv4++Gj9YQXLBbr9VQNaCYT8b/lX+Av/qAIK/sr8SgJNAC35Qf4r+nj75fvc/aoBXABu/r//jP9b+IUAFQBYAhYCiQFPAMsA4v+cAfYAvP9wATUAZwFe/2gCsgA9/6T6ogOQ/Ur8JAKHA+IAjABH/lj/1gGx90L/gAP7Ab/9qwKy/Dj98gFU/JL4ZQQQ/9n7zgBk/E8EQwAX+XL6owiG+uAC3QRy+/QC8QAnAKUBLQCt/L0GSf1uAMoEzQOr/mr/TALk/4cCvvqEAkT+X/xEAZUC3f4m+xYAFv24/2UARgG8/wgANP+9ANAAwv3gAEQCQwEtAvL/mABx/68BHQOU/FL/yvxHBGj5QAPtABgEWgJm8TAFgP9r/yD8dARx/dYA6fzS+lgG8/z+AC39AQYPAm0BIv4R/KcEzf6F/1T7BAUD/TD9IAJ1+vUEiPg9/Tb/Uvq+/37+PAHk/A/5qv4oBPb9gfwrAFr9zwSeAkj8cgAyAaz/2wB5/Y8DgwXz/nMAjv5oAFEAl/6L/lT84vyKAh/8NvoR+yoHR//v/xP8ev7tBGz1+/rg/+8GI/jv/ub9ggUFA3v7Nf4w/ygEd/0SA7H7mgM6/6kAQfmv/yoDKAN9BTL5GwJi/wIDPflw/fgBzggHArL4cABDATgHHv4j/IMD/AYeAO3+rwEHBnsD7f1S/yP/KgSK/nX+OgKjAJQE4/7q/eb6iAA0APL9+QKh+lAFBf4e+WX+5wNeBB/7wPoy/zsHmQBSAIUBBghU/uz8jvvyAlQCsQC+Bl37bgYp++UDIwLv/30E4wFm/tb7TABQAbUGyv3KBWT+1v2xAJ8FwgMGAlL+Iv1mCbT4TwT8BDgCWAQA/RgB0gNYACL/GQQkAmH+Hv8sAmj93/0Y+/IAIv9/+378cgE6AU38GwE4/AP+P/l+/Z//Vf6A+IIEGQVJAJ4B2/mxBcb8UvwxAPEHyP4W/fr+8QBhBbP89/3u/kX/S/kU/1YBUQQn/af4PP3E/LH/uPrN/SMAifxM/7D9Jf3q+vwA2v7aAFX+B/5lBOT+Uv68+3kCZP45/8H9pwcUAOn/9gLo+48DNP1+BQICoQIu+1QEQwYQAawCMP3IAoIABwQZ/2UGDgUSAcz9yQMEAQgBeQPb/K8De/8b/4H8XQRA+soAbAFQ9+r8P/0y/qP/B/5M+toCK/aS+u8ELATL+7n+fP/H/CwAP/sLCMn8/f4cBLMEmwYt/2cFAv8+ACr+5P4ZA4cB5AV4BOYDGwH//WP8gPqa/jQCZwL5/50AUgCa/8sB9f2J+Qn9twBL/zYBmPtCAIABq/hcAa4AV/3R/j78i/7t/IIEWAEt+h37ifrbBiz/0gC5//QAewKS+oIF0P1KBZcAe/9HAmQAOwSKAkUE5vsqBkQBkwF+/kcIAQZS/Qn8HP3ICO33qAI5A8oDS/4T+KP+3v63AiL6bP3T+lb65f8V/Db8t/7y/h393/z6/KoAnP+MAdgAU/2S/7L7Kf7oA6MDiwCEAD/9fgO+CDD0Iv3ICK78kQDMAgcDNgzdAHD0cgWPAFf/CwnS/In+2ga+AagAEAZd/9D/sQUo/xQDHgY4ANABRv1QAlsGQAE7AtL/cgmE/Dr6iP8nA8gE1PaHBAr7RQNcA5f4OgZF//j/wv2V/qr7ZwhfBeL8sQWxAO39wgNiBRD+BwXB+QME2QAPATcFpP+wBDL54wej+gD7bgMZBpEBPvclA3IEZwae+oT//QNfAbT9iAPLAO4CnP4j9wQEKfuxCtsEC/ov/OECRP3w+NkFDAI1Bzb6uPjNCXoFCvmj+sX9Iv8lAx4EnfzX+70CcPxf/eX/2gFoBG//KvXo/7gDdfhh/wf/Zf06/+r91/73AOz8K/tQ/5n7Df+pAH/6UgYMAEoAqvxT+z8Dtf69AOX4MApnACP6JAPoAVn8gfhg/XD+sxDk/Wr4tAY8+b32qwaX/E8AkhDy/OIA7/4j+0oJsgSj9+ED5Q4qBf4AsAC0BzYEagKoB/8GPQumB9f5jQNS//D2owoaBAb9YgaK95P9Bgjw+xQDDgn4+zL9ogbo/+cJdgAU+fYEeAFqAwIFWP2B/0ID0vsJ/jkC8gb6/8T9u/yvBTgOgwJoAMTzsPec/Sn8oPRz/iYKrgGx+4H5sgBD/MLz0vg1B8P5wwT6Akb+3gS196kDBgJ3AT0ClAro/Zb5RAgi+owFhwfA/coFVQF5/2gBbQAw/yj9kwBb9Un+QwNR/1wHNwHDArwBGAhz/GT24/+G/dwCLQCa/vMDBgOF/fj5Wvpn/UAAbQNE/bv7Lf12/sQA5ALyBGL+ngGxAFf77//1BPIC8P9sAHcB2Qc4A1n7yPuY+Ez65AKOCL0DVP3F++P4tP9MBLABrgIEANMBjwJFAWz+5fwkAN7+Gf6TAbsDlgIo/kf5YvrG/L36RPyPAXIA6QBuB24FagblBVgGywbJ/GwCtgHRA3wDXgFwCRIBCgHz/4UA1P/+/OkBKQFeBwoFvAWQBrsBfwVsAS0CBQPuAd0FbQLrAW8CqQHt/r8Ac/+R/OoCyAAaBdQCF/z6ApYCVf0K/2EB3wHABSEFfwORAXkA5gEGAioAR/5wBZsGmQZUC58HDwIe+zv9CgEN/Kj9sf3tArUE2v6qAF8ALgBr/tj/bP9e/iIDK/8yAbMBYAJKBDr+NgA8/44GSAgHAAr/TvnzAMQFVP18+Ib7hQUjA27+7ADMBawEq/ck9Bz+RAQK/5L9pP7zAIcD7PsA/NL88/5h/mX5OPis+kv/b/oe/XL/dAD+AYcAYAWaBawEUgRvBKEEMwTeBtYEAgGi/kj67vus/hn7ivbf+rP+RQHwBKUEygdpAl3/DgUHB5IDhwKNBC4DrwIKAlUBgf3L/lT+Ofie+fT72/11/Hz3fP2mBFIBdP/7AC8Bqf66+7P68QKJBmn/h/5MBVwKqAO7+zH6dP6DAP/+4QCq/wz5n/Ut9SH09fd6/If/rwE+A/0ErwFW/kD+h/8jADD7ZPsx/T37vv98AmIAg/kM9wT8w/5oAucCAwQ6BUII2A8rERwM5QbqA0X9qPtQ/5X5VfaG96/6FP92+2H+/gGr/Ev8kfzNA+ENtQrdAxX8//3SAiD97/xLAYYBzfrN+AkA5ACt/0X8evh//CcB0AdNDHUOZg8/CNMBSQSMCFEG+QQGChYLjgf4CHwOHQ2yBmwDYAWrCB0LSwxNCWwJJwdoAq4CiAPHBmkDAvwZ/fL/eAJCAzEDZARhAwH/YvyV/74DVwO6/F75v/np9yz9of5++iX5FfTz9zv8V/lp90r0vPYq9bPv7++388D7+fkN9er3VfVt9vD6Xvgf+Ub6lvzGAJD7avni/c77Yvbo8urzgPaY8+Dt2eu87mruL+137HzrFfSQ+Cb34/pC/LcBOActBOEA/f1r/ZIBJf7J8kjuUvDc8HzvefBC9RT3kfZX9kXwOOuD7pHzQ/GD6Zrs2/YK+W0EeyShQHBDoDp0OSE++kT8QC4wCSWJIC4iMx/KGNcegRnRAGzvlvKB9yXy7/P28yLwkvTX+nYGBA03DbcNJQa2AxwM7Q1LB6QFuwn9A9j6Kf4mBAsAQvCW4yro8O+f7Kvof+vu8IjzUPDx9Q8HfwpAAFD5if1rAxEC1QT2B/EDjv8gAmUKoQcZArcC8voZ9IT3ef/Y/8H6UP1z+3fzIvIT90L5bfZO9gL3Ovpc/7YABf4k+Zf94wFf/w4H5QqfBG0CbgCV/j/+/f+F/sf5hPoM/aj7NfXl9n380fOk8GL8agGk/Y39BQA3ADH+7/iI+Ff6E/rK/gT/yQDTBLX81/Kk8uL7sf7g+jb+uwAiAgEAUPlg+S36GvgQ9XnuKO1O8fXtXumu6eDomupo79fy3vtIBswG/fxb8sDypfTR7mfvPPic/ob7ifFP8qX03elN4I/XU88J0N7ddxa7VDhXLVBtZIhsQVWWOrxEEUmBG8j6AhObMMAn4BN1Aj3vuOh/4KTUBd3Q8Iz3gev17X4WFDkQK58T9Ra7HHkW9gu0CgUWrhOI/UnzZP59BVL6ZudX3wnlJubZ4Xjhn+ci8lfyCvODAY4OIxN1CRgCKgr8C2wJngqJCjAI1v3s8YPzO/yN9hPoR+fF7aXyD/NR777xC/QT75HsVvFc/OsEFgA3/esGmA6yDu4MEw2pBxz+R/8qAD79VQKhATz05+uS9VgEk/+97w/w8vWw7AvqWviU/Yn4BvT59rIDMAkmA9771/e0+Cn0RO9d9tr6bPL86i7yDvtG+Pn1tvft9nn+rAk4Bn0ASwhvCUL5yPShA6YJJwLM/4oJhQuhAIz/ov7O+fb/cP6c9hcDGhZWE5QAx/q5/976xfNQ9hj2ffHN8lzzWPIn+Oz8APX96TTwdv3V92/w6/eL91fu5u+J9cz5rv1T/E/63ftw+/r25+406n3rLOmh8bEoQmctZ8dUR2JNau1QJiZeF+Ud/v1r2pfo5geoFN4JcfPx6vfwN+2W34Lg7fS9BGwD5wdfH3Y0Ri0PD4v9Tf+R/5T4W+8T8zMApfkg7nD4AwDg9YTomt/q5hv3Y/s3/NwCHQpUCw4JhA/BF7YTiwY6AiwMgQwHBBkCCQNFBaj9TPLm/JcL9P8d7B/ubfgE9gnx2PIK+J79+AKmAjD6Vvhw/1z7yvHw+JQD6P7g+Rv+3P7O+hz+AQQHBLIFyAdtBdID6QLa/i/4t/Ol8lXxovCh8533efUO89v2BPmh/LL+mPdK9hb6Y/hZ9lr34PZN8ufvFvCo7+TwSPM4+QH/3P9OA6kFBQR3BiIJZwlCCxcLdAiiB44IpwzCDhUGs/rF/JsFEAJQ+QD6rf2A+8v7HAX+CogGpAN7Atb8Z/j5+qX99/iT+H39Dfpk9CH2JPss+2/yburQ7PL20Pte+lL+EAScA8/80fbi+U790Plh9TH27vtb/b74J/qe/zn3P+Wg34ri2ebJBz472UsFQI5KxWFJUSkmjxkWG3QAiu/3BzUdNBJyB3AL6wfc/+r/VP2Q+bADLhCADWoOOSHXKM0TjQAJA2EFkPd27Drsku8U9VX1ufTn+jMBAQJb/uj5ivvR/mL8ifgo/OkGpQlcARz/xwhQDTMHlQiKD1UMbQWrBwAPrQ+SBpH+Av5K/yX8nfUf93L7Ovhd8xb2VPky9RDzT/aO9df0k/x0Au3/PP8lBI8BAvvl/oADgv8a//0GYQqVBZwDbwJ9+a3x7PL+83TycvbT/JL+NwFvB94ESvqi9Ez15PO97uHtYPEk9y/93vyJ95r3iPqL9tDvuvAB9OPwqvO1/qAFngQ/BggK4AWp/2L+oPxB+in/2wPl/yf8RAHgAHH3hfbZ/lcBf/3k/k0DEAMAAm4BNPy596z5xfrW9ZrxP/JE81b0aPeh9kL1HPkE/h79IPqe+pn4ZfPx8UL0BfT99Kb73QKVAbv8b/xr/1oC5f8n+j70YfKc9Nz2A/qsBzgjkjtrP1Y42Ts1Qewz8BrIEXoXbxMpB9sLEiNTLukedA3zEdkbxxJSABYAJw56E3sPIhL6GkQcHhAsAHv6tgAfApHxkOWf8l4Ejv618oz6zQSr+mLuwfRT/339nPkS/6MFHAdCBckCKQHHA9oFFAGq+jn99gNIBFkAbAJmCXEKxwSZ/rv6yPW/8V3xLPO580T0BPWC9BvzKPNr9ET1c/YU90z2tfZ8+ycAwP8f/PT7Qf/NAu4CY/7t+Lr2X/f79pr2IPlE+5v5TPgM+nn8qPuv+XD41PfT+a39wQANAbH+fPrR9l32/fhT+fj3Dvi2+HP50fpK/YT8rfqr/C8A+wDsAFcC1wL1AQkEnQh+CLEDLv9z/Ln7vv5TBgYKfAOb+hD7DgTtBGb7jfhnA0ILIQSS+Sz3QPYo8ZTvyPO0+LL39fOV9Hn8egRZ/8PzkvIu+pD7zvYL+TwAx/8w+4/80QG0A6oBdwGoBFwIkgkVBz4F7QYNB48DH/58/e7/Jfxc8rfxewTGF/cZXBhdIrwlOBcGDQsaOCb4HKcQPRNkHWweAhWpCcUFIAmKCaAFBgyXGMkY9A+uEg0dDxjDB3MBtAL6APr/YwWuCCIDDv9kAegFOAZhAg79+frY+bj4Fvij+uL8S/mS90j6wv4Y/iX8vPyG/5QCZwajCfQIzAUuA6MFzAX3/2f4e/Yv+bv2UPGi73Hz2/Ut8y7x5vXL/tUBpf0U+qD9Qf90+hb2gvbg96b0lvTg+P/7Svlw9TT3ePwJ/w39svwf/xIBs/6Q/OD6Bvb78Nbw/fUO+SL5g/ht+Db5/vkY9xby0/A18+PzkfIm9aT3j/X28/D3fvs7+qD5J/3n/xkANwExAvQBTAA1/kL7U/qS/HT9T/sn+ib6wvcI9gv5j/3i/Cj65fqH/TX+5/xS+9f5//cN92D5wP5+Ae775PTG963/pP7h9cb1cwAfBnUBzfyC/yIDZQJE/mP8DP79AvUF/ASbBGQGvwlJCEYDUv1l/HD+Hf0C9yz1Qvy6AUMABfu5+kf7ovqg+WD5lvvp/E/82fxXBRYPaw5KBwYH4Ar+CJ8I9g37EDkMhwt8EgUWJBavFHYRSA9QFegZ+RG/CrUQrRScCzMIUw9ZESgJUwfUDJEOuQ7IDY8IBgV2CV0JSv9J/fcIJQt//yD6a/3y/Gv6QP57AD39RwDqBo4EK/4AAIIFdwQXATIBoABG/9T+vPvn9/n48P12/mr8pv6cAG39iPkj96r0VvPd9h37bPlj9Tz0uvWf9sDz2e5+7oL0Kfrr9230f/UO9qbyifDI9Gj68Poh97jyyPBu8iT0JPMO8Tnx1PQd+Ln4nfYs80nyvfNE94n6TP2Y/+X/Rvy79e/xofNW9/73fvlb/U4ATP8v/SX84PjB9V739Px3AMcAmgHsAmABt/vi9X30I/i/+iL5Evnq/qoFfwRt/gH6UvfK9JP2f/7VA9wByf7VAAcCkP1H+Rj88AHuASr9p/xYBLoKfQZH/Zv7ygB4AiIAEAGXBHEE0AMLCaMNvAgLAA0AFAfOCGQC+v0KAlAHQQT0+5v6WQEmBTAAtvq8+kb81/2eAsEH3QUS/5j8KwCoAgQBqv7Q/6sDuQXVBGgFOgluCpwG3wXICysP+gnHBOkHPg04DdAKPQvYDHkMLQqwCIAJoAy9DvYNGA6BEH0QAwzjCfQMqA0+CMIE6weCC3YJkwULBbQFeAPK/7n+HwF5A0cD2wE2AY0BzgDL/rv89Pvg+8L7nvzN/gb/zfsD+aH5Tvpp99z0mvaB+c/5IfnI+c36Ffvs+r35Gfju97X5TPum+5f7EPzz/G79Q/zd+cv4q/ky+zT8y/wm/aX9Hf7w/XH9Uv0b/a38NP1U/or9Cfs5+nz7Pfur+Gv2+vXx9TL18/QR9qX3H/j+91z4G/kd+YL4q/jp+bP6I/qd+bX6A/3f/tD/ggABAcwAVgBeAB8BhQH0AM4AWQLYAz4DvwHzAegCLAJlAOr/GQEWAgECQAENAQ0CawMkA5EB2wA2ATIB9ADxARgDFAJ0AEABLgMPA1kBtwBOAecBTwLfAkUDSwOwAlQBigDrAawDjAMLA88DsgRPBN8DFgRTA5EBBAFuAXwAp/6q/n4AYwGkANL/uf/w/+T/7/9lAGMBgALrAoIDiASiBJMD4gKaAy0EOAOmAscDDQUBBd0EZgZ4B/QFTwTcBFYGbQb6BUYHywiNB3oERQPlBA0GYwQ0AtgBmAI1AtEAngDlAaUCWQEMALwATgEWAOn+Qf8aAJX/X/5G/tP+VP7I/Gr87P1X/mb8Hfup+5j76foO/K79Iv2X+4r7tPwk/Vn8Wfu6+uj6DPsa+v35Y/vA+wX6gvg1+TH6cvmm+Hn5Aftk+8f67vrQ+4z77fkb+cX5Nvo5+g37F/xb/Lv8Mv5i/1n+0vyj/XH/I/9h/Sf9SP6l/qT+/v7Z/hj+WP2N/N77JPzD/FP8evtZ+zz7LPrn+Cr56/n1+Kr34/e8+Ez5VvrH+7b7XPrC+mX8ivy2++X7zP3R/xEAVQCbAWQBwv8X/xcAYgEJAr8ClAOhAysDpwKJAn8D0AMpAtsAhAGUAtUCWALeAXcCTwMKA4YCmgIeAycD4wIIBI8EjAIKATYBhAF+ASEB3gD6/87+l/96AKf/LQBsArUCVwCQ/jz/MACaAGoCVgSOBKgEbgTcAjYCYwNvBE0E4gOOBDcFCgWuBXwGyAVrBKUDJwQ3BWoF7ATGBGkFGQaHBYYE5wS+BQkGWQY7BooFygXFBlYHKQc6Bs0FZwZCBoYE9ALLA6oFWQXHAzwDmwONA5wCDAKdAv8BhP+A/tv/kQBR/+b94/3G/l3+Pvwk+w38WPw/++T6Ffxt/bv+2P8s/479df2U/hL/Df/E/gj+sf37/d79G/2a/An95vxg+y77zfws/Y/8AP17/cj8zPuO/HD++f5k/n/9lfzb/EL93vzi/Az9t/2Y/mz9hPt1+0v8ZPzl+yj8wvwb/L37ufw6/WH95P05/k3+Bv6K/TX9//x3/cH+Qv+G/oj+wP+zAHUAev9w/9wAMgJxAlYC2gLbA84D8QLhAhoDbwPAAyAD6QIXA9kBvAAwAQ0CjQIjAsUB5QIHBF0EBQSVA1YEswSkAyQDrwN0BKME7QNEBOcEqQMHA1YDCgLsAN8AYQBHAGkBUgLTAWQBHQIpAosBegJEA48DhwRmBPMDywSkBaQG+wfoBy8HwwfDCMgIFAliCj4LkgshDFwLUQrVC4kN7wwYDEsMCwwkC78KwwvrDMsLFwm/B7YHXwZfBEoEsARcA3gBRABR/4P+oP4C/3D+FP1W/EH81fu1+zj8+/uv+v75Jfpk+ar3T/dE+Ar4u/Y69g/30veY99/3xPhF+df5TfqJ+lv7m/xl/bv9df5C/9z+3v2I/V/91fzV++b67vrU+jr6dfoB+5/6//n1+Zv5Tvjx95X5hvrt+dr5j/ou+676l/mh+ZL5i/jW95f3qPcK+IL4lPly+nH6zvqD+7L7VPvi+8X9q/4t/4MBrwKpAFD/kACdAZAB9AFYAhcCCgKCAaUAlwHjAvcCGwM+A4MCiwJPBBgF4QPoA/gEpwPfAZ0BDgEDAO7+I/7F/Xv8uPtf/G38Pfuw+iX8+Pzq+8z8JP+Q/tX9+/8rApkCPAPoBRAImwe2B8IJ6gsaDSMOvhBuEhwRWRHSFCoWABXMFZsXJBbNEzcVbxbfE5US3xOIEs4O5Aw7DBcKLQdWBawEXAP+AGT/W/6C/IH6Lflh+C73q/Vv9V71b/Qc9O3zj/Nc843y7fL083ny//DG8azyDPO68xT1i/V99J708/WS9jf3ZPjv+dL6p/lY+Tv7pvvG+gL7KPss+p35KPp7+af3d/cw+I/3i/aO9pz2GvaX9cP1PvYo9kH29/bt9of2PfcT+LH32/bO9rH3Y/j193z3aPcQ93r2i/aI94H47/iX+dX59Pji+OD5jvp4+738pP3H/p7/uf8HADEASABbAXsCywJiAqoCogQwBcEDswTzBogGeAU/BfwEeAQ3BEcF0gXABG0EzwNPArcBIQBc/qf+Uv1s+jf6Dvpe+B74Jvm1+B333fde+iT7yPzJADAC4gI3B7MLow5SEUsU8hhJHNscCx81I7YlASbyJZAmhCYuJsEnMii6JWIjKyHHHrgcphn6FmUVaBLfDbwJbgY2AyoAev2t+XP1efO88b/uLu2a7OvqCOki6ITnt+Z45+Doa+hg6FDqGuv56hLt9e858UjxwfEK8//zdvUn+Uj8o/xC/IH9sv9WAL4A6gOfBg0GNgXRBBsFpgaFBskEmwReBIcCAwGaAOn+uPt6+rT6UPlL+Gn4ovZE9cb1FPXD9O32sPe99Vn0KvUb9vb1efbU9yD48fZ+9UD18PYZ+Dr4Fvnb+fj52fpl+3j7kvuf+2r8N/1g/c79pf4b/+z+dv7f/oP+Tf6t//P+DPxD/FH+Qf63/CT9Sf8U/+z96f7g/5r/nf9//+z/ggBxAOkAXwGkAML/s/4g/gr+HP34/MP9rf3z/Af7hfn2+l37Mvmh+Lj5APqM+KH3ZPlj+hn5pPhY+K/3W/g1+cz5E/pr+gn9gwF3Bn8L6w2VD9kSqRR3FmQcECPXJnoqci8kMQMvUTBFNOwzPDI2Mzcysi1WKR4mjSTDIwUgoRlMFPsOZQgqBIQDOgET++31L/J/7ZbpJ+fZ5BfkneLq3jncotvr2hPbgt3O34XfkN4+4PDiqeXb6MHrz+0v8GLxKPOv9ln5FPvS/bAAXAL1AvwDgAarB0QICAkJCXEJYQtiDNMM1gyJDSMO0wuqCg0N1AyICUoITgi+BioCtf+VAGkArP8A/yb8rvo6+Xr2A/YF9TTyQPL/9KL26fTM80/2Yfb49aT4+ffy9Zv4cvs6/DD7qfqM/U4ABgHrAG0AjAFGAIj8yP1b/4T/+QMdB/ADz/5F/JD+Vf9A/gwAFgCQ/k/+QfzE+jf6YfhR+FH3Lfec+Lf2afUj9mLy4O/n8Zz0qPSB8RvxR/Hr7WPuyfC3783y8fXH8pLuaO/K87fz4/Be9DX37vTT9d73i/i7+Cn5VvpB+jD6V/6bAEH+DfwF+1b9t/8F/1T+fP86/Wn6MfzFA+cHqwkdERMTkgStAPkY+CzGJr4ekCUoJUgeBCyyQ15AXTAvMHszmCkpJiQ1GT3yKVITZxFZGJkYZxNBDjIFQfZI7qnz5PWX7vvn3ORG4P7ZvdoB4czfTtq22pjbZdpA3KvguOAG3DThy+0f76fpi+2G9cr4OPkiAJMIdQatAfMEiAv/D9MRaxOoFHUP7gydEtcW0RSjEBcO5A5CDfgJfAhnB8cHFwU0/2T+Nf/Z+674UPfT9/32ufNY8tHv4uyY7qvw8+8z7iLti+8z8Yrwf/Mp9on2B/da+Ln56Ps2/7UDUgJuAI4GlwwOCw8HagegCjcMdAtqDP8JEwg+CucNzg3ZCuIGIAhxC2oKJwdYBl0J4gg2BeAEdgdyAwMAIABxAVsAWf5f/Dj6rfbC9eT2j/Xw9CrzFPEB73Dts+1z8Erw8fCJ8Hrt4u3x8PXyE/Fp7nnwtfRj81zzFPQE9vX3wvWw9U36kPuO+RT6Cvxv/mX6DvvP/18BqACZAdf/owB+APYA8gIbAp8CDwJq/zb/YQHZAtIG5gTzBxgRlhODCNsC/xSoLGAk6hIrG9cn2SRTJNczxziEKOIkMzWRM7EmKihyMCQqrxlCFncehRp3DS8H7AdiB2H75/DR8rz0se5n5tXgwOHh3+DbC9143UDbg9rz23rdktsl3LHjGOat5irrse3f7X7wcvXV+xsAxQOdBFIBJQT1C0IQ5xAbEG8RSRSHEocRRRRsFHEROg9iEG0P9wmECfYMsAnsA0MCIwOaACr6BPmy+4H4q/Lz8fLzf/Ij7uXuCfFz7ijs+Ovx6m7q+Our7mbwRO9n75nwbfKA9ID3w/mJ+XT5jf4IA5IBbwHPA8oFNwcUC9gLMwoOCpYMgwuhC2UOeQ6pC4QKRQkXB/IHuAgsB14ERQXXAwEB5v4U/4v8Cfuj+fH40veh9pr0AvJ28bbw/e+O7cbt0uwk7Qrsse3D7IzryOoB7R7uru7H8EbxJ/Bl763z1fWd+dH6OfsS+Lr6G/4RAdYBBQXQBC4BMAHABRgKGQf4BPkEhQgABsUFTgZoB6wCqgEEA3UCRP/8/rQA2v09ABQHHQqG/kf6bQXFFaoTiA1HEF4WihWAGV8m+inJIgYhCitvK54n1ChdLywqLyNiIlQmNiFFGJQT/RNkE0wNywUR/xP9Lfrh9tvwKu997I/npuLI5BznuuMS37TfX+JE4GDg8OKw5aLkwOWG6J7rluv27LrvS/Oh9cH1NfgZ/Dz+T/0rAGIF5gfrA9wE0QhhCe8GbAliDG0KbQfsCfMLNgguB54ItAfhA1QEWQURA1n+9v4dAE3+y/xb/Cf6x/ZK9oD3IPdR9Mv0ivQz8mTxJvNw9JTzmPJe8xv0tPOo9U726fZR+Ln67Pvo+577dv3K/rT/KQFNAdwBKALrAgsD/AOZBOEFeASVAz8DzAOcBJAFtAR8AgMCgAP5BHgCzAA0ATYCCwHv/x//HP8u/rb94v3x/I/87PzA/An87Ptv/MT8lvsE+wz8cP2u/a78JPw1/Zj9l/3U/VP+sf3I/AP9M/6S/rL+Zf9U/7T+5/5oAMgAAACE//YBywKGAaUAQAIjBAUFQgQDBPEDvwOuBMcEoQScAwUDcgIrAmYAtQA0AKH/CP6J/RH+s/4a/6n+jf57AJ8EaAVVBa4F0wjYCwMP8xAGEuIRdRSzFzMYGBiyGdIatRkBGWIZkRkJFyUVLxTnEk8QTQ4aDKgJUAYaBbQDugAX/g/8CfoK+fr3i/UL9GT0BvRs8J3v6vHI8XnvGvC68TLyg/El8vPzA/WB9af2V/gA+W75M/pB+7j7+/zc/Xf9A/1R/rH+Vv0n/aT+bP/D/Sv9kv1y/Of6svvV+7f6dfp8+2b7Cvlk+Cv5EfoQ+4H77vkP+YT6fvw5/Sb9Kv88AD3/mP2R/rwBkwMoAg4BsAIgBI0DKwMBBQsGRQW1A8sDzQNUBE8DNAOwBLAF1ATAAwcDgQJXA8MDNwRvBNwE3AK2AcwDswa/BbsE3wOBA68DIQTqBBsEfwP9AnEDoAK+AYoB5wKKAl8AVP+Y/3UAtQCyAJr/Jv4N/qP+Ff5X/aX8GfyI/BP9/PvX+jf8fP1M/Br8VP2B/An7gPyr/n/9LPy//cX+Wv5O/4EAWv+B/mIA4wFZAPT/JwK1AmgBCwKlAg4CNAIAAkwBVQEiAu8AWACVAFAAl/8DAEkASADHAGz/zv7QAAgCLAH8/xQAwABMAbICTQPBAh4CIQHmAPgCgwNGAwADGQOzAnEDoQSrBbMFZQWdBA4EdQX7BBMFsAXHBsYGuwWWBSsHvAZLBd8FHgfRBmUFywSOBQkFxAKwAuwDuwPlAUABLwHa/xEAywBB/7P+8f+j/3f9J/6PACIAc/0A/gr/pf06/tj/K//H/RP+lv8C/kL8iv2c/qj7TvnS+w7+TPxZ+YL6hvrW+UX4XvnK+X34efaT9qT4Xfmo90L2cPkd+Uj2E/Yy+p35//ch+c37tfpG+hf7gvte+3L7NP5B/lb+5P+1AIb++/55AV8CjwA4ACwBOgGWAKIBQAGWAQgCgwGOAdEAVQHSAdQB7gBQAW0CkQE4/2wB0AP9ALD+Ov9FAIkBqv8h/XD+u/+y//v+F/8d/2v9Ev6l/l3+CP9J/93+Cf4W/fL8R/7W/qL/2P8n/4b+4P/RAi4DjADi/70AAwFgA/8DpAIrApYB4gDWAfIBuAF2AaUB7ACF/d3+SAD6/kz9pPyF/hb+4Pv1+lD6v/uG/BL8B/1A/UP7C/nF+Zv8IP2Q++D6tfvj/Cv7s/y5/fr79vuv/T7/xf2l/jgA3f35/goBGAJhAFj/KQJl/zYBmQQIBAEBxwAhA1ECcv9WAjsEXgK7ATEA8gLOAen+kP5yAAQAXf7sAp4Ljv8h9AD9Lwf//qn1SwFfAhX8m/nlAPwCwv0t/4kAzACqAyIBCQCwAEL/AwXSBC0EZwLXBUMNCAQs+5kHTg2sBYj/VwXRDAIAzP4wAiYAt/6xAJ3+sfoz/iwA3vcG8cP4mf10+R30hPhD+Sv38PH09vX5+PfB+O77sPmn+ugB0/8w/RIA9BB/COX6/AM+EroLBQEdBioP0QdeAaMH4Qf/BDUEBgUu/yP+xABKAfP2GflqAaX+0vYN9y76Bfft9GT5Ff73+mD8x/0s+Kr5zP6DAFUB//2mAuQBRQKUBPIARwOJBqMCSgThCVIPIAUh++oEhAeuA8IHOw12Bvz6DwGTCjUBQQGOA+IGywEIAbsFQwDa/zQCiwCkAM8BHwUABMX6bgC2/v7+s/6yAagF1f9F/wECVP6Y/toCOQTxAh/9JAW4Anr/HgIpBjwFDP/zBLUJJgNc/2wCcwU+AzABGQZzACr9pvsp/lv/of2dAOf9l/fm9vb2+fby9e/3Hf1M9Ffyx/Ks9WD3Dvi4+Q/3J/dc+5D4ofW7+Un7o/9T/24FuAK3/kL9OvxyAOYFXwgLBo4FMwRcAQ4AzAbNBPgCegQIBeX/wfzNAvYA0/0tAVIDZAC4/tAAUf7Q+Oz7OQB6AG0CwP56+rr5Pf4oAJD76/zd/sH98P/qA2IH1gMI+2r4w/2fBT0F2wGvAhcAz/lV/dMAo/9W+LT8Lf9z/QX9tf6t/Lr0dfVy+Ob+EQEx/8L0O/Nm9IH7f/vaBb8PIAlVAoL/MQsxDqkOrRgFHvYaBx1eH5wkExt7GyYlBSKIJ/wpKiqAIc4TfRelFMsTLxs9FnoQRwRD/Rv7YvKB9gb31e4s7JDnXuwx55XekOKY4dHibeN37ar0/umy4tTnFO3Y8pT7NAMBAAv5pgC3AWIC/QbnD9ML+gRNDDURLQ5DBMECTf87/DD9xAHqABL8e/C+6dHntOZL63vpMul+31rbqd5j3QDbndhY2dPZVto04gPrguvj6b7lt+hs8DP4zwAqA0cGXgTSA28GsAe7Ce4Kow+wENEPvg/WDG8IQwX9A8EE5QFrAWYAN/ot9//wLvGN8BTvAPQ58YfyTPCs7gXuEOw982X4jPdz+lj8Y/3K+8n5eQEZ/3ICewPBBSAHpAPTBCEBfAHZBGAIkwmDB/kG7Ai+BPMBHfuu+BH5cfqmAdsABAFPAAn/tQJlB1QY6CHXHH8Y8xl8HiUgxSTjMMMweyinKmEsVi8QKIwnsSZJHF0VURcGGtEVPAmIAGr9X/Nj9KPxAvLp7LHkeuOY4I/hMOYQ5zHl/OCb3+npVO3k8gn07vPA90/6OANtCU8MUxAfEckONQ1lEdUaHxynFPMQxwwXCCEGfAhcCrID4f8W/kD6S/Y5+ob6Zfhj8tDzKvf29k/76PmA+Kn21vkL+7H6AfwgAFP66fd++r7/yP5/+pn5MPef9Xb1HfYt857wiO107qDrne3T7eXvuuvS6x3t8vAW8Erx6fKl8pD1z/V6/zQAPAUYAhkCUQErASgCnwaJBbYG0ARnB4QLZAPUB8QCPgYNAdH+6wPN/7L9TvzH9UH2xPLI9l35iPNe+nXzq/aq+JD48fkY9Xr4+fqC92EAFALuAkT/wPsaBVICfAQIBV8EGQQnAs0F4wkyBQAHVgESAJAE0gyKGeAa2x/+JKgn1iumL3svaS66LCA27DPzLswyETUVLvkfjh1+HpYWRRJtEl4J9ANFACAA2/Sq6i/thejv41nm0+tl7e/o3Okt60rlAe/q9Yf0OvCm9H0DeAFRA8ILiw5YC+IGZw0UEB8LPg//EN0M6ARmBsYOGgZt/AX4Ufi99HvvoPJi8K3rrOcz5jnlpeK96C/sX+mf5h/qXvIq8b/zNPgT93T2q/s5CggNAAtPEL0PhgtOBloOLhQnCjoIjgzND6oI4QNRCiQCkfWC8qH1iPUB7XDxyvKW7OLrw/Ha9uvwqe+O8+jy1POJ+jj9Wfyg+o0ABQDqAf8IQAuRB8QC2gYRB6YGGQYeCGwDrP7m+gr8l/uU+D32i/Ma9u/10Pb38kXwPu3+6mLs/vGl85DxMvIW+PP3U/GM9mb7NvrX8iL5mQHG/ab7Wv4l/j723vTe/CP87vZA+in8FvoU9MX5r/t99t71MfqO/878m/yq/db6x/oJCtgdYikLMpxC30dLPWA6TEONQvQ2czjdO182HjH0N/w0OyEHFBcQ6QY/9+Lw6++z6Mbf6Nzk2yHa5dn03BHeg98L4pfnX+2r7WDwnPbX/TcBGwbhD6kRERITFtQWdhKMD2kSdA2lBjgH3whgBA78hfkt9m3xnu/O7Ifrr+dU6QTrguk07Gjs6e7e73rye/Uv9WL4Z/uA/fH/HQI1BjwGoAXLBRoI+wh/Bo0I/wfuBRgBgACvApcADQCW/a38Lfv79vn0NvFu7zXwA/Kc8jzvaO/G8GrwJPHK80L1i/Xj+TX+6/wY+/39cwCb/A38iADIAPL9vv16/wz71fYE+tL8EvxX/df+nf4J/ov/5/47+QX4LPr2+av4i/oO/UX8D/zs/iv+cPk0+nT9W/qq99b6/v7j+u7zVvWU9iP3s/kC/Ij61/UZ99D5E/gz+Xn/VwGM/AL6a/yu/tH8v/ul+gn48/t/AgYEgQD9/sQBWv0W+BL7lvyx9eDu9PGR+vMLjycbPwVFOUV5S8xKWkP4PWU6NDDQI00irSMKJE8pFCoUHOII9QEv/0b0auky4W3ZH9Xy2yzmMeo+7ePw+/LQ8R7zSPq2/2P+4PuW/oAEUgoFFAwdzBtZFeQUyBYpD6UFkgIK/kv1pvHv9BDy6upw7a7x3O5h7Hvute7z6pfrrO988rr3pv/kAnsD9wa2CoILMAmNCe8JTAa6BUIIUAhCBOMA3P/W+9D46vlm+Yr00vIN8yPwRvEF9iv5qPf2+3EEqP+n+3sDBQio/tX45wKeBJL8GwA4COcB0PhkANAGpQDP+13+dvvl7rTrYu6c6ynoBOuN8Ort7O1Q9v365PcP+HIBfQZMBVcHRQz5CwMJGw5eEqIM4gZSBrIDnv3g/KQB4QKXAGb+t/nU9m74nvVe7r7oWOgI6f7l9eQj6DjswO1e73bzI/lz/Hj/nwXlBKcDdAR6Ah8CLgErBMQCSf0iAUMDuAK6BDkFOv9X9f/zEPf386fsmOlb6C7nNehl8YwVNjd2N1M2fUx2YDRPQ0GPTyA/qBf8FnctYyRiEEAi7C9EEFX8vA+bDuXsONvH2wnV6M5o3m3tbej+7j//kwOsBc4NQhcUD938c/4rCyAQoA43EL8VthBpCusQ/w57/ZP1V/j279PfTt6e6WnlRtkl3wrpFO628dHwJ+6F7BnzKPmC9pj8dwcCDLMOZRIUGhQgFx8gGm8TtgwlCKUEcv98+EzywfPI9cnwe/Dj85j0W/Hc66rt/PH79Pb1t/Gw9dUAaQdtCVANYxcoGkIUDxMMFNkPlQizBJoC/P6u/Lf8r/ob9O7uVu0f7EzoKOJq4vjnuutn6/Dq3PWkAScBqv/PBZ0N5woyBjIK2QkGBvsHpAu8CgYGEgdiCg4JkwVRAa79m/kh9XbvTu1I773sS+lq6eTub/M79FL5tfr79xT3sfcL+tD3V/VQ95P8TgA/AIYEVQffAtz5dfZc+LnzEfL+8GPthO3w7yD3Efk9+V39hPuW+G33ofUW8Lvr5e1V7ubuFACiJfo7TzonQ5tYA2HRTodFQktXNAAYYRgIIdMTFQM4EKoT1Prn8+IB5/xR4u3TQdLvzmDRbNtW3gferPHwA9kDsQmyGHcgPBOCCAkRdhIVDM0JZA0fDqMFigjTE9AMT/fn7zr3RO/D3PPbd+Yt4xbcmeXb8Cj2Jvx6/qX6yvgEAJoBcvky+i0AlP9EAKoJyBClC2AH7wvNC2IC//xB/j/5ze507FXzWfa48zX3Ov3F/Uz9jP3J+gb22/V49/700fby/aUArwLyCTcPuw3oDioU0g9aBZoCKgDv9XPuxe9O8OnqO+tO8wX3xfYk97L3Ivf+9Fb25/kA+138//4eBCUJaQloCewHTwR+Asf+ofvi/Gr+N/tq9FL2Iv59+xP2Ufk9/LT4mvYi+1n8afX69S/9/Ptj+Qv9mAQzCLwFrAZwBFf+fP3T+9D3gPMk9Of3X/Sl8//5aPwa+fX1Z/Vs8fjsm+9W8a3rq+o68+X34PaQ+YsA/QAw+Z34bvzf+kX3Jvc4/DX8B/4yEnQq1DPxNMFBC1KZTBRAxT4QN3QgbxCYEKUMogE9AugGWf+V+Iz8LfxA8onsV+oy45/hTuzS81DyPPv7DVcXIBjRHGQkGCBCFMkOOgtvBCf8x/gg+tv33vaa+Rv8ffol9lrzHu/06u/nluV15STrM/Qf+Jz8iwfND/MPTA3SD4cQOAo2BYEDpAPJAusCTgUBBioCm/zC+tf55vQo79rsr+s56enpieyZ7ODu9fGx83n0xflz/3n9g/wX/oj+aP3E/uMDJwYwBacF9wi/C9YJaAhgCIUG5QBn/qv/HPtS+M73h/fS9pb3DP3u/en+pgEkAdsAPQHWA0wEPAIyBJYFqASuA+IGjwk4BncE2gVEBML8yfva/YX7UPpo/HD/2P7//rMBlwC7/lT9BPzL/IP7h/rO+bf6z/ni+SD9L/7g/S/9af2P+if42fnF+YX3Kfby9fP39PlX/In7Yvze/nD8MvpV+on+q/yD+6H+bf/jAREFAQlLCV0Iewv8CUYIAgewApn+ufiB+tn6nvlZ/0MRqyQAJv8pHTsNRDg4iTDQNmEqOBSrEIUScQl3/9MEsgVk/VP+IwCU/s75XvQ+6g3k1uk87bzsZO8U+64GBwuREHkYHhyRF6IOCw1dCW8DWP7H+vX5bvej+sn+eAD3/dX4qffm+G/2IPL77bjujPF29Pv1S/sfBh4IFgXNBDcMewrtAXYBK/9l+J31UvsI/VH2Rfio/mD9/vpR+zf8nvUj9Bn09PDc8UH3Nvz3+Mf8PgfRCisHRQWOBhIEcP90ADT/f/rM+AL9zv5a+Rv5QPyC+2X2IvT1863zuvXJ97X3gPkBAAcHdAaRA6IFCARsAej7Wvl3+kj5APw+/Y8APgOdBb8KuAwECw8ITgvsDLUCvv3xAJwEQf8X/Y8C9/0V/mAA3AF4+m31G/nP9WH0kfS093757vmi/fL9wwPTCNwGVwNh/kQD+wBk/eL7sPsk/Qz4ZPw3/ov7NPcJ9vT2o/FM7xrwj/Gh8KjwxvcL/AMCgAPs/kz+TQAeAyf7Fvnm/bD9r/l8/IoF3wRuBdAHbwdUBnsGYgWW/wT/Gv8q/tkE8xE8G6QddSiJND82IjMNNGQ2qiokHyUa1xSnDCoFcQa4/yb8BAHWA2r/b/qX/bL5jfWB9L3zxPOK9Cf5Z/1wBLkMCA9lFFsSCg8hDC8KBwa8/J78Gfj69R74wvql99v0ePhu9s/wdvGS8aLwtuwA7MzvifR/+/D8GAEPBDMILgaHA20DcgCN+/j3Cfl6+XP2pPab+VD4kfcf9jX2iPRR9D3w5u0q8s/yxfCJ8hX4hvo/+//9HAFfAyEGIAKxATcEpgT/AIQBNwS6//3+XQFyASb/ogAy/2D8MP/3AeL+CQC/BC0Ewv66AxoKZgdAA+kCqAS8/3/9yPzx/WX9AP5FAekEZAc1CLwJoQp6B2QGaAUxAogARQC0/kb7gQFYBOf/Uvy8AhEDxPiR+Fv7Z/fd8a30hPgQ9/76L//s/xUCkAFLAdr+CQF6/b34uvm9+s3+Qf3W/Zv+8gDF/jP6Xv8yAJn6ePkW++77Dvgn/Sr8EfwnAfv/tAEuARMF8P18/mj+Gvwe/XP9Zfvk/VoDdgMA/1sJiwpGBB8ELQcvBkf6bQEq/En+f/21BfUKhA+tGH4gZSNdJFooKSuFHsMZRhySEwILnQhwEQEFWAf6CfAJTAKOA8oD3/re+9b6OfQ882P4Xv2Y/C4BEAqoDOUOcQyaEtMN9gW5AyEEwf8c+qL/ev+v+43+cQJe/8D8DABx/Yn3FPi++K72xPSD9gD6fvsk/JsA6gYIA2EA5gNgAjf56PgK+j7xOvBu9872w/Lj+Kb7Sffk+Qn8z/bx9tT5uPVW8xz7RPzw/AQE7wVEBcAJkQxzB28GhAYUAML9S//a+0b4q/oY/U/7h/0+/uL9bf7L+x/5x/qw/Ej82/7tAOMAMgj2DzYLMgrdD4YPYAfRB5QJB/+1+Q39ef0V97P3c/06/Nb7mf+JARYBYP8dAu39K/us/qEAPv0/+Aj/IwF//zj+4ACdAdP7gft0/af9lPlP+AL8qPou+4L9vf9//iz8av5//dz+n/7J+qr2nfbX+lT45Pif+yP/2//s/fEAIwKMATT9Jf0n/Rn6B/qy/An8W/f19/v8Y/3L/S3+LPyf+o386f04+o37Cf1u+4L5CPwF/3z/M/4s/fD8I/2p/cH/5gLUAqsEWwzEFasYoxlkHR4fHB9iHpQdMhzkFjQSCQ5lCx8IqgbBBU0ASP73/vX9E/ul+mv5AfSu9Dz61fqV+WP8dgHOAbMD9gVLBUMEIQITABf/wf/K/bz7Zfu7+k/5Jfq8+j75gPgW+Uv3bPXp92L4vPYV+mr+lP6eAAUG3QeYBYwHEggtBWEE2QOuAM79AADO/lH7r/sR+134DPdc97D0PfN29gL2QfVZ9wP6RvqH+jH/dP/d/vsAqQJ5Adz/VgK4AUAB9ALnApcBPgBDAlkBJf5//DH7z/r/9xT3UvjX+Mf3vPfR/DP+U/2x/h0B+wAtANgCDQN4Ac0AlAFsAREB4gNpBfsB2wBfBaoGNQJ9AoEGzQOQ/i0BZQOS/Sn6/fuI+lT2f/cm+Hb2zve7+3f8QfzAAUoEGQAi/dv/oP9G+VP45PoJ+X72Vfqe/gz9oP37/xMANP+a/wf95vfp+DX6X/dx9v35hfyd++z8HAAnAlMBRwCaAXoBjP+w/dH+Pv/O/qYAnAIPBOEDKgMRAukCogIY/iP8/fz4+i35FPwd/if9HQFvBIkBhQF1BHoCDv7M/wQBC/8KAy4KoQ3VEsAclyO0JRAplivKKYYlJR+bGMYSUw2HB0QCgv61+6L7KP2B/Yn8W/s1/Ov9b/2z+xn8n/4Z/xj/uwKFB7wKKgzLDOkNYg/+DsUKnAU3AS794/qo+K/2//R+8+nzA/ZW9wr1tPTk99n3n/Sa9Mz4Fvua+2j9yf9BA1YFMQWaBPkDLQLX/y3+t/kb9pz2s/WT8j3z7/Qa8rHy8fdT9m/xt/VF+zn4Kvfk+2/8n/vZ/7EBrf9CArsE4ABa//kCegJx/hT+df2g+kn77/3D/FX6OPpK+vn6dfyr+4/5ivrS/Tn/iP/fABgDVQQAA8cBfwISA5gAQf7M/l3/n/8ZAQQDWwOvA4gEEgQIA8IAYfy1+JT3H/af8ovyOfZR+AH5TPzOAR8FqwYLB5EFcgOJAZD+zfmC9oH1EPTK8s/0wPgQ+qj6s/11//n82/rz+kH49fOx87/17/Vz9yT7Jf2y/+kDwQNt/xP/6ABH/Rr5I/rB+zr8hv89BDUGVgjhCmIKaQipBqUDw/9X/Zf6oPdZ+NL6B/z0/QcBtAL9A/sF5AOr/tn8mPwV+PHy3POa96f5Pf35BYYQiRisH+QnuiwdKwApUilAJKAYvxDnDMYE3f2j//f/3Pn6+VIAgf6r+Z/9N/+g9iL0H/tB+nn0pvnXAB7+t/7lB7kJJQR7BZYHzADi/AUAGvwL837z6Pd69br0mvlf+RL2Z/qz/y389/im/ND96/lQ+kb/jABQ/44BQQRVAzIDhgZ1BiEAf/xT/2P/DPpI+Kb6bPn19y787/0D+vb6SwAR/vb4Avzo/mr6MPlS/RP9y/vZALkD9v98AEkFNAU3A3gEqgO+ALUBYwF9/JL7Qv6s+wb4+PrF/HD5NPr6/Sv8Svm1+8/8hPkq+Zr7AvvY+pj+AgG1/+wAbwVPBlEEAwVnBpwDjAGdBA8F5v+m/SUAav83/JT8F/xY+PT3wPoP+pz5Lv4/AFX9Xf5WA0oDZwDWALoAE/0G/Gv+BP5y+6n7tP1G/qP+jv9R/xH+lP0l/dX7Wvvl+wr7qfgw+Er6F/xM/Lv7BPw+/V7+5f4vAOgBEwGM//MAcgNtA5oC/gIBA8YCSQMeAyUChQEpACT+Df7D/iv99fsV/sX/RP+XAL0DzAMQAXYAqAAC/7n9iP1R+9L5HQDqCLAKBgzFFTQeCBwGG7kgRx6IFG0TIxUACzcD9AnDClEATQATCHYDtP3cBIAETPhh+agC1vtZ8qr6HgFd+fr40AIWBFkA0AP1BEn+m/yd/0n8j/YV9tj2iPX49vn6TPxD+2r7xf0c/kD67PdJ+Sf4JfNs80755/pw+YL7//7a/yIB1QLQAGn+8f4Y/vT6yvq2/B/7m/ny/Pz+aPz1+7r+TP1g+Zf5Gvo392b2HPgG+J35zf68/0z97ABaBSgCwP+FA2wCP/xP/SwB9P2n/KsCwgOB/xYClQaSAin/rQGN/s73mPp8/wX69/XC/FQAhvzq/uYEZQFe/KsAUANT/v79kALYAKH9xQElBToCdgLRBaADUAAdAy8F5ACZ/ooB8AE5/6f/kQKlAvIB6AOSBJMCQgGJAWsA1P0f/Gv6/fhZ+Vf6sfoq+zr9Lf+N/1b/Vv8VAK7/F/79/N78Cf25/F/9CP5O/b79fwD5AosCEQLXAxoFFAVnBFUDUQKLAvYCTAD9/Yj/1gDp/yr/0/8H/+z+7gE6Arf+uv1wAFcAfP0L/Rn9zPzc/l0B7wBWAPQDNAYHBC0CWAJoAmcBTgK/BLQFXQYECWQMWA3dDKIN4QxfCZ0GTQatBXMEjgT6A9YCfwOXBfUFTwRJBHAEeAKiAOD/jv9T/iH9af3V/er93/2j/rIAOAEz/1P+Jf/W/bv6OPn8+N33+/fv+e/5vvn7+4r9f/wK/LD8GPvs+Vv7Qfr89kz3F/t8/DX7cPzh/jQACQGgAcQB1gA8/+390/xj+1r6gvpr+jL6uvsm/vL+Ff9Z/3b93ftH/VT+oPtl+QD8sf6X/qn+hAArAhMBtAD+ASQB6P63/v4AWwEYAKMAFwGmAF8BVwLrAFX/aACaALj+SP5C/+f9jft1/KT9rPyM++j7LPxZ+0j8jv1D/tb/XwAAAIz/UwBoALT9ZP37/lH/3/49AMgDsQSoA0cDcwPlA0oDyAERAGz+3/yu+5L8Gf63/f38Mf7g/2YAxwCHAYwCXgJwAaABnQIaA/wA4P4uAAYB6/6K/ej/egL/AdwCdwU+BbMDWgTUBAwCzv82AWMCpQHPAToCXQLnAuwDQwMaAI8ALAPJAZn/WAA6AvoACQDLA9gE0ALAAswDeQPWAZ8C5AP0A5AEowRPBWAG2wWEBBsDgQIXAa//rgBxAV4BwgI3BBAF8gbXB8cGowQzBNgEIQJDAbYDBATEA7oExgbVBX8CTwOyA00BhQAeASAA7f5FAYwDagEp/wAAvf8a/nf+3P0E+4n5Lvus/Xz8OfvJ/Nz94v2d/ZD+xP4F/S390v1S/PP7zfzI+8/6fPxm/Xv74PpE/dH8dfq9/BL+uPoH+UX7Z/x++jj7gf5k/u78Mf6j/zr/s/4B/3L+8/0aAMIBuP9h/kwANAEv/1L/xgHYAPH/qgHJAUj/Ev6r/0L/Jf1r/dT9hv5NAH8A+P8YAXECtABz/9wAuAF3AL7/SwGBAV0BFwJ/AcsBjgKBAl4CyAH+AccBFgIDAw0CzgBwAQ8DbAKbADYAEwGjATcA3f8NAesAhAHaAUECzgLkAc4CrwJOAdwBkgFuAWwAkP+WAiMD1AGoArwCygKiAkIDRQP+/0AATALo/5n/PQKHA0oDBgJdAdz/4v8MAzEB8vwD/38CAQN+AVYBMgKq/4T+JAB1/479jv1IAEkBn//SAKwCnwJFAm0CGQJzAW0DlAWIBdwGKQjVBZkE2waNBx8FIQRiBf4ETgR/BtcG5wSjBDAEKgPXASMBdQCs/g3/lQCdANEADAHkAFb/Mv5V/yX+yPuY/BT+2/yZ+0T9rf13+2T9mv9b+5X4jvyM/zD8QvpY/eH8y/ox/rn/4vvT+a38C/6e+o/7av9B/rj8VP1M/hn+7P1XAJb+fvyO/9z/qf58/rn+Mv7Z++T9e/4d+lD7GP0c/Sr+Uv6D/7j+L/8tAF/9UP2G/ef8Mf7G/kf/Rf9xABsBtv6//SH+2/3Q/Fz8zv2Z/3D/i/6Z/q3+df4i/oH/9v8g/vL+zAB5AeQBfQH/ABL/QQC1BFgFvAR6BBcGsgcnBXcCZwEkAiECvQBQAo8CiQFrARIBlgFsAKX/R/9s/v/+X/4h/rz/FwFUAlACOwL7AWUAIgCT/6v+TQDPAloEywJNAbYCoACg/ez7IPtn/En7ZPv3/Ir+RwENAZQA6P30+XX7kvyS+z/7F/0HALH/6/4yAGoAgQAtAHr+BP/T/zwACQEZAQcCnQAEAJoCBALUAQMD2gODAmIAEQRzBrEF9Qa8COQIlQWWBRcJDgjGBnoHZAgkBhUDYQgcDMkIgwZoBYQFYgSTAvYAl/1P/w0DeALxAEIBJAJSAFT+Rv51/RL73vvJ/WT7Dfvc/hgAsPuG+aD87vyf/B3+x/1K/Of9rwAp/dv4VPqU/Ir8avyQ/ycBmP5L/vb/hQB5/0z+YP5y/dv9UAHGAVf/nf6fAT0DZQH3AfUAZ/0F/pQBtwE0/Tv8b/9h/1//dv9S/gj+Hf3N/Bf96vxl/Ir8Zfyw+uf5e/um+0H6Wf3yAHIAQwLCAxQBIv6g/GX9/v3D/uD+xP02ArsIygYwAZgAtwCA/4/+rv7H/zP9nPwbADQA7/7g/SsAugTPAR/+dAD//pD9J/+4/84DVQHu/S8AnASmEOoDmu5T+P0FlgaA9n71QgtZDMgF0/9S+l3+6P6aAaX9iPeWA0IMcwmIA48BKwVjAlsAUAD0/CwBogYMBuwBRAEmBkADzPzk+hv8Hv0c+1D7Iv1l/Wj9Yv57/d37Tf+JAGn9lPsKALoFkwKdBccLPQdlBIMIegs3BFkAuwr0DHUG2QjrDKIKeAQ9AacCYwBsAOYBI/9J/zYAvgIAAoP8xfyX/dj7SvvK/vcAO/xX++z/JQEd/uj9FQBK/y39F/4JAvYBAQBs/jv/XQHH/lD9Bfuz+tr+K/55/d/9x/+j/Y74iP8aAiv5KfUg+xYAwP1j/3YCsP+X/h0Bwf9a/WP+m/7R/r/+gv00/kX/6f4c/Qb9kPyI+Zr5jfos+H34JP0R/ir9lP2t/gD+sfoH+vv5Svsu/uf+O/1q/MMACgPC/sH8LgFYAVb7Ufy5AIgBCQIMAnIBQgEDA+IDdgKBAXoAhf5f/8ECAwOiBP0ERwfKCc4Bk/+mBDQHmgGP+lQDkwk1BDEAZf7KAM3/pvqZ+HX3hPr4AAwCif2g+nv9QAE7/aD6I/1r/qz+ZPzj+50ALAX5Aar7yPkI/kcCoQFAAHX+HQBBAZT7mPmM+0f7TvkN96/6fP5O/oz9V/pn+Cr3l/WP+OL+yQb6ChwIWQhODFEMpA15E3ET/Q4tFDkhCSD1FDgYdhk/EMgKdg8XFkoRugyUCosHEAXC/iv51/TI9KT7RP1O+Iv2NPg+9afxR/c/+jP2sPjO/7sAlAKSBlwDj/0fAIsGngQ/BlkJyQSbAT0E9wibAl37sv69/476evfA/dMAbPnz99z+cf4n+Ej50Ptu+fP2Yv1OAu36UPnK/6YG4AP5+SX8DgOaBH0Ay/6wA/gAYvoG/H7/ev03+6b6C/r59lj2yPqb+kz5efUU993+Mfwj9fD03Pnp9snxwPaw/db9h/1z/wz/Wfza9/T4Ff7w/0z/HwCkBC0F5AJOAnX+lP1G/V77rv1NAx4HGwDN+wf/Ff4G+Zn30fwb/2n6q/gK/9UBOfxs9V71tff89Zr2qPuJ/RH6JPZP+JP7Jvgs9wb5/fke+3f91fx8+aj5ivlC9OnyYP34AZH9R/oh+wz9tvga9kX5bPpM+Bn4i/14/hn3+PLI8Vr0Mv54BLoEahQAKNUf6hCWHyky2SIbGxY2w0I1M5UwJj0hM6sZoxr2I/oVvwutGHsgrQwm+Yn7ePvh7kzoTu+0+g/62fHB8R32lvOs7H/tfffD/4cEPwUXBCMJ8QPn+tf/8AaFA60CjRG+D/H6SfnVAiz/0/ck/DME6QMQ/vL3yfVt90/0x+/299D+wPlv9o308/Oq8arxIPbN+CQAkgJy/5YAH/zt9on4Av5PBN8FdAcLBWL8JPrA+fr3F/q99w31f/ge/tT96/Im8Xj2P/Pf8W74KwICBCL9L/tQ+UH4TP60AGP/ZP/WAxkEQf3n/Bn/avvA+OX7Dv4x/Rr6oPos+w/2u/Tf+Dr/s/tZ9p/8wP4Q+dj21Pto/l/5E/rS/xn/Y/56/Xv5aPVd+QMBsPoX9Of5gP7l+fj3k/wY/M719PNb+Pr8pP9r+yb2ovqe/mL6C/Op8wv59fQS85/40v+I/BnzaPIg81Lx1PAy+JH2xu1i88UGsg98Dtgj6DUtJccNMhtAM4YvoTJ1Q3dA+CsVL086lSQgFKgg1iTxDUUHGRnaECD15Okx8fvwaeya74LwP/AQ7pHvceyz6/fxf/hS/6r91wG3BUMED/8P/l8IVwwPCt4FMgW8BSkG8ALY+Lj3J/2//D7zyfJA+fnwpOox7lv3cPcY8Hru7u498uHvZPKI+sH8yfk2AN8IsAEH+q0Ahwr7Am8AAw2CEZ0FUAB5CZ8FYvcA+QIFLAbwAmwBjPqA8LnwK/gn+yz6S/3d/9T92PWA9p396fhn9VP8gQcVA0n/PAPPBIz/5/zOAHgDRANy/Rn90PtR+g34Wvm6+sT5u/c39eTzRfW79YLzYfVr9kb2UvTP9g/3cfSK8wD65Puz99L2Cvvc+QPzz/cy/d379PTo9jn5yPe29Uv34vnq9ZLx6vOy+uH5NvSk8uH0OfQH9vj6awBM/a75vvnJ/jQCmf+T/Tr8ZwEoAo0ACwHkAuX/PPjC+Lr/6QHS/y39dP97Ai4DfgbdEV4isCSVHTcb9iJzJp0odzSMPe47GzNJMRoyKy8MLhgoWyJcHzQdBRpnEm4QcAnk/3v52PlS/A33c/Iy8LjzN/Mr84j2cPgB9oPwdfa2/eH8N/vH/Pb/ov6UAi4I6ANMAKf/1AJTBIgHMgdsAbX8b/o4/Gz+FALg/238EPhe9PnxSPJW9PL28fYg9xf1dvCk7yLvmPFF8qT3wPed9jH4xfrv+Wf73QDv//b8mvr8/TgAdQGl/z4AJwLnAQz+BgEeAr78x/aN9nH6FPnV9xv2MviG9un3+PTR8lzv5u7M7sHtDvQN9RXzHvAU8UbwVfKT9OH09fRl+On4qfWT9gT6n/j29k34Bv0L/z35Z/p9/NT9t/hd+90CRwJT/kT8lf9K/sj7RfvS/tP/8v2o/m79iv0S/QL8J/uq+8sBswCk/uAAAAIR/x/6z/wCAtQFZQjaCpsMaQhgA5wBqwKOAzgH1wwQDr0NqQq8CpoJcgjgCB8JkAjKBiYHZgdRBtEFuAWWAdn+Av/7ABD/yPyR/DL9GP3o+zj7Evzm/eX9o/1m/fj/4gFnAQkB1QPjBW0GIgZ8COQLtQ0gD9MOYQ6+DfwPBRKAErASYRPFE9oSfBK4Eq8SrhAkDiQOlg7nDBsKjAnOCfIGawTiBB8FKwO+/7T9cvxf+VP29vUn9zz34PbB9Hvz1PKr8ufxa/Ha8vLzPPV/9XH2GPdj9zj4hvqz+4f7zvs5/Tv+dv4mAEoBXgDw/zYAXgDRAa4APf+N/j7/Ef/u/0gAif4h/qz88fwb/YD9Mvyt+6b8Efxc/IH8ivtG+377/vuv+g/7cv3U/E/70PpK/pb+//tP+nH83P7C/cL9iv2S/7H/rv2b/bf/ogCN/l7+vABKAPb9Af1W/mEAlgBzAEP+sP2V/jb/6P7G/tP/uf/6/Qn9BgDk/4T/9P8D/8L9VwBRA6cADP5T/Vr+Lv7R/mL/BgGs/9L9Nv2f/Bb9efy0/H/+5f70/Nb8aPyT/Iz7gv5xALj/xf57/Z39Vv0o/i7/PwFbAtMBkwDbAWYB7P9HAT8DAgRDBBIEhALEAiIGXQYPAtYBcgWaBVcE8AToBBgD7AFpA8cD/QMnBI8D6AIEA/0B1f/NALsCQQCMAJUE6gPZAF4A+wLhAjwDpAOBBQAGcASMBO4FsQdHCMAIQAlTCykLdAosCqYLwwypDRwN1wy1DM0M9QweC8AKtAo2C9cJGAkXCCQGDAR+Az0CggEDAMz+iP2C+zD7HPpU+TP3mvb29Dv0k/O281308PX19bPz7PJm9Pj1sPWP9Vj1f/fW9zX4b/ex+K35ufs1+1z5tfuB/bb7W/mJ+kT70P1V/iH9VfqF+hj8t/27/OD8o/5B/hL9jvtB/Ir8hv1w/W/99vs+/G/9ifxH+zL8Lv2w/Xj+w/0i/M76Wvy+/K77mvox+8P7YPpN+WP6m/wV/Xz7+/ja+Sf73PiP+Jf6PvuW+vz5k/p/+877/Pwo/iX/Av+X/az8Gf2j/7MBjAEdAMsAwAKGA38DnAIOAp0DsQQZBPADzAQ4BeAEngOSA/8EzwN2AwoE1gMNA9AAgf9L/kD/DANAAmD+R/0r/sH8lfys/3wBVQDM/Zv92v0l/3QBAAH7AEoDUAOfAKP/agL9AwIEHAXABQsE3ALqAwEFzwYVBr0DrAMJBBIE1QOuA4cESgQIBEUD7wFKAhgC6AJFBKwD1QL2AnACsAEdAgADsARsA+wA5gLUBZEF7AMpBHsGZQUkA88EqgaeBWwFDAc5B9gGqAVzBlIImgheCeQIQwhICeUINwgTCJUGogWGBt8GEgZbBf0EmgMFAoQCAQIvAKP/LP4d/L/6XPnw+Qn6aPiW99n3gfcm96D2cPiu+SD3tfar9qj12PZe+S77LfwZ+n35Ifvy+3b+RwF+AFUA1v6B/UkA+/8V/+0A0AKEAs0Au/4CAOMAsv8YAIT/lP8uAZ3/q/5N/wP//P+HAEkB9QHGABn/x//OAC4BUgJjA4ICrP9v/g0AwwBu/w/+Bv/5AEL/0/yW/f7+Sf6T/GP8Ff0a/Er72PyB/Bv7Sv1d/kX9x/vB+6//5v/Q/Mr8xfwO/uH+wf3w/z0CHP9Y/aL/oALBA0f/gf4NAq8BGAAZAI4BhAJ/AGoAyAIaBC4E/wP5AnoDuQN4AHMBOgS6AxYC0gKXA/4BMv9C//gBOgNpA6IDSgEN/y0AlQEBASr/4wFVAz0ATfwL/hUCDgKoAAMAFf9g/rL/BwFsAeL/EQEnAQb+Xf4gA7MEWwOeAQEC8AGL/WX+qgPgBdcEMASvAm7/7vw1Ag8HXgWQBKEDxwAM//n/9gJvBqAEmQJnATX+jv7uAtIEDwTcAUYAqAD0/wUBBAQRBJECygP6AzIErgIGAv0FfgaxBKkErQQKBGcEtgQ5BdMElQPRA9UBqv98AS4CCf8//Wn+oP5g/Ur+P/6Z/G/67vlS+i361/ro+cb5XPoQ+4/7wful+tz63vtB/PT95f4h/p/9YPsf+9H9YQC0AJf9wP1P/2T+M/uZ+3n9bP/Q/4j+1v3g+6T7gf0S/hn/qwLkAlv/Pv3K/zEBVADJAYwMQxFEBrb5GvrpBe0KnwXN/18AyQGaATf8m/eJ+tMAiwIs/rL4qPgy9ibyHvim/2T9Q/e5+ef7Ufhg9dX6MQAAAEL/Nf7u/bf/YwGf/2YAXgROBhEEhwHlAWsEHwR9AUcBJgbGCUcEDv1M/tMEowX1Am0Arv+l/+D+//3Z/ggAx/2I+lr5L/yT/qz81vo+/Mz9G/5B/e/8ZfxD/Fz/vQH2/u399AFSA2ACJgOcBn4GxQMWBGwGVga3BQgG3QTdA3EDIwTxBFsEogISAdH/oQAQAkoBHv4D/vf/lwCV/lf+QQCh/bz7tv3///T+Ff5J//sAJwHq/2MAPAHDAaAD6gNaAzsB0P8qAqUCMQGXAYAEPAIm/6UA6wFlAM3+MwECAOP83P4RAdj+WPyi/i8B8QEPAa/9t/1IARMDNwDA/zAE7wId/nH+XQPYAk7/qgAuAloCuADZAO8BJQEL/6r+XgJgAwMAW/2t/jj/9fxt/ncAIP+q/W/94P1l+0n7Rv5oAGP+RfyH/Tf9VvwG/W0BSAL2/vn+eAF1AAP9tP6HA0IEwgJ2AZMAVf9DAFsCVgGbAA0BXgPhAu0AF//i/woC9wA+/4X9k/1N/ib/OgCR/pX7IfvF/TD/1f0z/i/+Pv5C/ez9Lv3F+8H+XQGUAPn8s/yb/vL/nv+S/hD/uf7G/U393/04AAL/5/3a/Wj+qf/8/7P/IP2U/Tr/FgGT/9L9AABsAgEDHv/y/eEB8QJ6AIUAJgSoArj+JAD/AMb+JP44BKoEbf31+eT8S/87/qD/wf/I++v4kfwnAV/9AvmG/EUBaf+l+Tr7h/8I/7/8Nv2K/hL9lPx8/QH+E/5P//z+HftC+9kAUwJa/Zf5Efyp/ckBiQrACW7+e/yqCAALqwS5CZQSQw0zBwQRlhhRENUKChIKG6oZbxQeE7IUaxIcD1YVvhnWDjsAUwTQDDEHdACdA8IBSPfO8//4VPmi8b7sLu0E8ATvC+sN62vvB/A87MDtY/KI8aHu0fCt91f5dfhP+bv7Av20/B0AJgQuBhQFqwVWB2oGVQbtCTMNBAwgBy4GEgaCBwwH+AUqBr0FDwTw/WX9hf3f/ZH+qv/v/ID2XfUB+P342/kr+a/4nfmk+iz4gPYK/Tv/lP6//fD/P/0e/JoBfgNrAz4CZwGf/Xj9bANIBhIF5v5W+x7+KgDo/Zr5cf1C/wH7NPb/94f7bPtY+7/81P3a+nD4HPmq+uj7qwCNAlv/+Pn/+hv/DQKiA00Bhf8M/63/0f+vAHMByP3L/CX9f/ub+lD7Mv4w+9n5y/jx+Qj7I/hq98H5Zv6G+VH07PaG/bkCm/8E+zn1ffYU/icFwwVv/0oA2wCo/tD6cQEEBpcCSQI3A4kAVvrA/NAFeBigHpkL+vm3B+QYnBOSGX8ntRpiBi8VEyn9GekRVyJoJS0SvAzGGdQX6A6QCyQTwhLkBm/71/kpA8EAhvp49mb3UfXU7OPtuPMF9VfqZ+c187vyQem05pTyufQY8dH2EvkN9KzsjfRNAB0E2/6d+b3/6wQ5AucA/wdEDb0DTAHkC4IQGgc3/rwGBAmWBgAFgQV/AD73IPsB/VH+K/oW+iH8WPYv8oXyWPwi+jvxVvNQ+pP5cPLF9Pv4Lvkh+8r86P6j/Kz7Dv1k/98CUQDpBMsE6gB///cB6gRn/zABnQVICqsFTPfN9O0AXQgJ/2z8jAJT+fnxZvxiCeQB9fc6/eb+V//b/NEASwKh/X79tQLBC5wAvvgG/98D3gCg/vcHOwK0/CT8vf6PAh4B4wDE+Y/8Jfq49lD7df9a/cn2kfvz+lr3svd9+938XPlB+AX5HPs6+5b4RP24+w32lPZl/XL/2Pa6+0/9mvxr+sH/7wJbAEz/JPyhA0YGHAUn/kAFRAnMAskBVQehCd8BWQGIAiUBTf8DBJgG7gTf/Jr6rv3uAQH+vPy3AJP/gvnI8lT7u/1XADv8mAfCEIIHxPsrAagXiBaaGLsdgB+3EXcSISM8JlQj6CAHJMEenhc1FokcRh+TFAANfRaPEhj/kvZHBf4Esvha+Qv6mvJ/5Dvo0ejL7uzwKu5H6/Dm/uNn4fXutPig+LH1cPp09CfrVu/TAtoM6wWvAFMBnwDL+HH+JgjDDAkE2wAkAIv9bPwV9vTz4vav+6/2NPLr9F7vtuXT6wb01PAb66Dzf/Rg7urtvPRU+cz37vvm+vb/ZfzU+kr6PP9wAqoCHQegBA4EP/9T/739yQM2BP7/9/7Y/Kb6ofpzAGX8I/ZU98342PaB94T95/7/+oz71fn9/mj+7gKjBDoFBQUNANoI1AgQDdQG+gdkCEcGkgbQBOQLRwRBAa3/iQIRAXz74f5Q/Hb8M/oY+GT8TPzw//P7rvqB9ib0kfu1/EcA4P3a//j5bPhA+mH6wv4H/W77bPc0+lb63/Z0++T9avv89zz3Efiu9Bn5Cv1CAH//0wA2A1cAV/1//agDiwS5CJQK5wpGB8YJrwYmA0oJzxLhEB8FjAcICEwHDAP5CB0LvgjhBPD/8/vC+Wz8y/qX/NEKHRkZDjn9qv71DAYGdQ3iI9Utdxl7CyoYVxWrFgEceCs7IocVlA4/DIEOhApODTMNkhGvBUj6AvhA+QL11PC/9gwA1vye8njsOfEv9EftEPVf/eIBFPjm96n41fn1/XD9GAJ8AykFt/s4ADgDIv0P+lIBrANA/Ab/vP4N9vXumPNi9/z8MvkU9HXygfXm7s7suvuT/Sn4PvVB/iz5APcx+vT+4wJTAQ4CjgFPA177QfxdAocCef5QAgQCfvqm+J/7ufoy/PL9/vd/+bj8Mfw39pD+Xf+e+kb8VgKSAxsAdwIn/3UA1gB7AzkDBwZsBI8BCAEjATIBIgB3AK4A+AJ7/6T+/f0Y/RL4N/tg/4z+3fse/FP7aPns+i/7k/uD+vT7g/p9/U/+6gHb/jb+a/6DAE4AKv7FA93/sv1Q+/L/lvys+sP6ZPmB9/v3IPuF+nv44fOd88L1Ufq2+zYAfPzG+qT20PsGAaIF7Ae3AigHvQKWBOsDjQpGCGAEaQbVBQ4I+wcWCaQCzwBCAskCvv+E/c8AVAaj/9v5Hf11BMv5RfBb/wMKkAcH+rn+pgEJ/sj6HAMmF4YXywsjBb4OlQ8HDLgVGCBDHjUVDBZ1GLcVyxMZEk8T3RD8DdAS2hSMDP39HP5gBZwCZwLRCI4McgGp9jb5Y/8oAAz7lv/nBxMJvQCu/vwBc/2d+YD+ago4DJMFVf4t+lj5MfoF/QQFRAetAun68PY7+pD6N/xK+r3/MQOz/qv6Ev0A/eXyZfLq+soD7QN1A6j+f/aE9GT1IP3jBOYFFgAM+QT6o/qZ+1L+Lv8VAGf7NvpD/ZP8FvbN9ET9df4z+lj7dP3U97HyrfmE/5wBP//+/nH/j/oo/PP8dwOnA0oEsQVaAKoA6v4q/5X9RALdB/YCz/+b/7n9KviY9cL8lf+DADf9Dv3k/LD5Gv2R/e0DywKuBJIB0P4OBUkF4gI3/QEDzQVmAroBBQJn/wT5d/Wn+LH8fv/L/RX8dfr49Zb2s/YK+Rv9mgQOBCv87/wj/xL+4/wHA+sIQwTkANoARgGd+6n5AwM1BqoDzQPZBjz/RPiV/g4GrQUDA/0AngH/Aav/Mv0EAf0AMvcH+RUCdgjWAvcAI/4M/GP9Bf7oAx0HXgSp/E//wgJJBJsCJgMYAlkEpwV2BKQJsA3ICc0F1gypEGEQQQ75FEwUtBJeDqcQoBOJDJQJjgdKCwoFWgYlB/sFPACs+Ab8+/9CAcX7ov8gBPv66Pjr/RgCmv0V+/gBSgCpAmX8R/+DA6EArf0T/QcExvzM/Or/WgAf/ET6Kvux+v/6NPgr95/7Tvq99Rb6rv/H/eX2ifuA+8X64PnE+mX+wP2g+3b5LP/o/6v5LPjo+ZH4vvnd+4P8+fi3+OD3R/e2+Fn39/gB+fP28PZ8/AT+Efh2+E39Yvyr+oD6kv4a/d/61viR+sH9rPnw+Yv5qvu//Cz+PP2f+7X9Ev3E++f9Qf6B/ij/mv87AQ8DAAIN+H33mvuM/j3/iwFhBOECxwHx/Sb9pP0c/Dj9TgOHB80FAQHS/dP5F/np+a36u/wD/MT6ufpx+w/6ZPjw+/b8jvsd/U//AAE2/YUAYgEYAPv9EwA/BHUA+wGiA7ED2fzK+xIBvwKM/08ANATgBHT+Jf1d/8v8Xvv8+G0CFQVVBjYCvwNcBksCsgQ2AUUE9ALSBisHZQVDBQb/i/7l/A4BFQO5AMr+If6/A90D+wM7Br4EWwRdBbsJnweeBxMKTwpfDfkNoRAKE+sQSQ3wD44VxBAKDlgTOxB/DvEM7AtyDFUNqw2NCOoLKAUvAFYCXQI3AwYGPQxvBeMEKwc3BU0Co/50AbwCPQe2BvwFXQr//xz7KPuH//f+m/svAHj7bQJc/5L7XvkZ97n4zvhjA+gAxQBQ/YH7LPz//UQCy/wI/3v/Nf3O/e/91PsU+az4uvaZ+iYAD/vx+Gz6afYm85X0U/lk+HL0Jfcd++j8IfmJ9bD17Pgx+UD5jQE3AHb8QPsm/Pz8Bfx5/UT7I//N/6T9u/2C/Sr6YPoP/Rr9JgEVAjT/mfuJ/+P7vvvJ/W39y/61/zYBTQDaAI77t/vr/HP/0Puz/nkCigBE/9r/yP85/bf9e/zQABICiANo/3YCu/6f/bUAGf+C/r37Fv6b+pj+RQCL/R77o/jz+UL8K/xs/EL7lv6z/PX8Ev+o/Wf/0f4QATj+u//RAa8AFAB/AQ0B+wFdADH/RgJFAPL7ewDxBUAEPgOVAyoGsAT0AVb+VAO/BMwA2QTXB5gFegBS/of/Hv+u/Vb7bQDOBa4ABP7G/t3+l/03/Iz7pwPiBS8BTAKfAxkElwOKAT4HOAvACaUIkQnjDl8L+QVcBCIN0AuOCAIK3Qh+CpkFWAP3A/AJIAIaAGUGIwYJB5sBxAKaAU0Alf1v/4kFgwNc/uD+UQNpAIr/kf2MANIAGwDfAJYBHAKh/Uf9FwIZAbP/lP+9+27/Nv1z/LT8G/6I/bL7qfqw+hH9efrd+OD7//4V+1T94fsd+0H8e/jP+z7/b/3l+Z38J/9o+Mr6bPoZ+tz9PvvP/Kb8X/wU+Nz7Lv4O+1D9sfs1/CL+vPyg/AL6a/1U/Qn7GP5u/ez+rvv4/IL8Lv9a/iH61/3//7X9sv0uAgP+kf38/UL8RACuAOX+BAGeAHX/Z/5H/wL8dPsVAK8A1AD3ASgCxf2N/KD9Lf9PAK0AgP4FBFsCjf+dAeH9k/6x+9T/7f8iAHH/Pv/V/nH8uf/R+1f7Gfyi+Z//vQHP/U0CZv+3/ev6xf95/zr9LAHk/kcDRAKHAOP8/f2D/PIAWASUAUUBjwEiAEb8PwHdAvcABAALAZ8CTADj/Yn7d/5KA2P/EAFHA50Di/yA+oz96f5FA1D/9gNXAmsASAGB/KEBDP4DADECbgSCBTgAff+K+doBlgB8+30CYQESAo7/2AGQAbf55QA6/UMAJwNTAksEzARqAAEAegEY/fkB8fyJBO4BBwaZAhsDzQB7+DUAwv4a/0EDDQXf/ksGjf2c/goAAgCL/KUGwQOS+jMLL/vY/UsD9f0b/okCHf35/RcCSP24/LECxfxt/AoDqPV8Ayf91/q2/kL+AgCX+ucByfSG+rIA2vrP/H0Af/+v/lP9CfyZ+wv79v3QAe8Fj/h7AXMCKgJg++X+GAV0/vYG9vlsBRb/gP0TAIL9PAMx/4MAZv6tAYv+Nvrl/5UDofudASn6H/30/577YgB7+rr/nf41/U//C/6BBIgBSvz8Btf+cP3m+yP+SQPZ/fMEF/5kAdwDKfrKAo/5nvwaBhv8vQHo/iYHGgJl9X4BzwG297YF0AOZ+2kJ4v2E+l8N0fra84kLkfgwAm4KTvWvBp0NCfZz/DsJV/QnAqsKLfnUB1kEX/3QCEL6ePheBS4HS/3dAxgNI/fcBJcAtfdxBFwA8wOr/70JFv0Q/Vn/RfYAB1cBAv1WBtMFffuoBCcDpfjaAgAH8vraBFENXPWbCAcMVvPo/yUFOftoBQYLEfa9Cf8DN/XAAzMEzfQc+WsMoPnqAEkImfdoA0kFCe+GBMoB6f57/qQI1QE7/TIJNO9xCZ0BhPKLEbsC0eu3Fz/7wO4KD2YAovGMDoUAcfA3Fk3x6vvRBUn8UfkyBsQBxPXwDAv00PcqDO39xvtT9QMIwwSd8rUUBvAk/LYP3/G++j0GtgWm8vkIW/7T+B0KRe2l97kXU+om+4AOpvA//B4HFQCn7KUJsQGW9msHIQNY88INWgFI8TYLagED/fgGdAT68PcNCfxH9WYPEv4o+UMHNAJJ+2L+awdz9FQFBwgi8tIRpevzBwAFaPX8BYH3Iwa7+g8K+/gI/FEEtP2JAnX/6Px3BIgBFfiMDgL3Twod+rb6ew4c9IYJqPwbAwkBkfmpAbMB3gDo+g8JWQUE+OsKuf0w+HsE+ftzA50JNP7Q+goJCQgf7pkMP/4n7koTKe3fEL8CBPoo+pn/QQrp51cVSgGh7dMSmv8o7Hsj7Oti73cjPuPw/ygiyuBm+T8pStDdBaQYvN7aCR8HvvKvCkgQGuSMCQv9k/swD9fytA5PAD/xqhxi8bvvOiQS3HwCaRIg9rgBHP62A+3qew+FB/3bmSSM+1DfriqZ40oE9gfb8ckADQApFvrg7RM/C5fgaSRh4Z0N+gLa9coU2uRCIgnkKRa630wKoQ4Z5jkdiOP5BzYSuOoQ/V8o3MzfGDIOYN2TIEIMW9XsIXP/reHkJVH3IuvDHPz2IPWxIsrSUR2w9a3ulgtUEhfi9hF9A8fk1jAuzBoXlAol7lv9UBen8Of52yBG2J4QQg+C6qANnP/D7jYSEQfq5oAftvei18Q2P+ag+xMZ6O/Z/S8R4Prv7JcdWO1LEAH3YAT/+34D1wuz71gQDe/JFonsmw91AtztMxvT4ioKWf4i+YMYUNJTIUUYBMF+KPUBI9cfMnf8ysuKOl32jdVfMGP+nNQjKlT8O90qJd77L/O7+K4e1uG6DowFguEWKYnaghhb/wzi/C9e2KUB5hxv2oUdNAbr3GAWlQXA8BPwNSQo9jzsfCDT35YSTQna4XoMQhe62aIih/RF65ghSu+g63chIgj4zYI7kNXOCFgb+dVBHoDxv/ifDePs0BcU+vvjMSjs5yTtFzxN2SPhbz183+vyJjzeyC8MLDvLreAd2SjuxnAtgfqD4d4ubN2j+4ce9fJ+7N8gOdU1FOEFzuH9BMwLgvmN3Ik46sIVHScb9923Dicn+MunFqIIjuqfB24Z1/CP+HUrwcAXPNrPSCBj65saCN7JCYUQ4OGmI0u/RFH0w+YTTwb7B4nmAiHp5036DTUSseQ28+p/BmLqTjptv+YLwy/XmHhc8thq9fczgdQ9DwgA4OixGcjYti681U8M/ReN1GMsJ9+8Eqfj6xcZBVfkAiSl7wj4gSf114wVCQju5oscu+6OCFbyBwdZAPf2SBu83Iklpeci++IikNFBKobpegmd6y0nfutP9TVBMqRXQQz1sNpjN7vuh+MGKBD6xs1mQWi99w6FHGXhzhO8ATYAGu90Ekj0yfgMBzUDx/AGHHj6Bu4RKqjecApEA3rv1xF09AQXxvkV7QUXEfqR6cUmSuSA+/8e/td0Jeny/u1/H/rSJjTS3hsHeR//vBEssPuH5g0VjQWm6BQVbfFWBKcNi9/VGRf9au9xFZ7myg6/En/eshmA+NDxrg2MBxD15vrxDfDiFBVkAOzqSR/K6lvzHSFv2+X97C9owPoosBOKx+o4it3/870bBuqLDPr2zwSZ+xDwtjLjzYEYMPvoAfX5y/SeIDDJJDR25AMMOvs8EfjtBwPTIvC5IDku8yrncx908Qn7HgOsBNX2aP9tFP7pAgjLByDp9CrWw8QaL/GW6DsygL7qSt7Q4wGsMafEzy7a8OvpojLs3DQQWQpf+CX3RQobDkrRzioh58AP5dZtNN/RgQfTGlSz3kpj0dIQ1O5WFUEDhfkA/9sREdVJJqoE88/TRl7ccB238FAbisunCEgYOtixEUIZQeQ86hZHM7+ZD7cZfvmD5t5KVq1H/x9OxKFwJhAnW9CKC0I10pU5R+vlagL9+EcH4wRM3p9GMKtwIjIT+c3kIc0XF9E/HcMQV8lgKREC6NkzI1oCPeSpGH0SFtypLOzys9AIJQL1XOfMH6YB1t3UQbfWWvirI6rRyiHs6LsAhALYH5veUgkRFPDU1h8QAjTk/xPmAUjotDAz3uwKzwA8AUH6EAMtByHrwhg07l8RK+lKCpkG9t+kLv3hmwU+/S4BKup+DnIL/+kCJL7h8R0u8yz6uAE2BD8FmfhPF6r3X/wmCvjpeBuI7+n+MCPS+pLXpxnnCTOzPWGfzKbke185vZgKRzIXp80lzw+82BwLyicL4bIe+vOv9sgZAcclTbq2KSEq/1njexHhG1zWdySRECzhHTCm0fUiWsicRIHRtwGmNKKvf1121fzWtlBvsHUwfgoY1F41tuuDABr3yCuSslEw/vQ02lcxs++67T8aHgxez4VEbsdZEjwhON1lBxkWAN7VH+j34PHvK/DauiyfxUot7OWc/oQpN8XBPsbLgSQt34Ue0v/c1IhMsbp8NlHxNumdCL0WdNl8Mm/sX+BpRPGizTir9Iv4rxxd+TfZPzK42uQSQe5pDDURmMIVZBuN5VM/23n74SPX5vQnoMZQOvfRA/9kInP2o9j5SBXhCeP/P+rBlwsGFTzpy+qzTd2j7B2fK/K77itPBWXRPBrYGBm4gE+t5nTliDaw/mm+WVu424rInVYVuaX7ezWezpzv/Dqu2GLt9S7u713bQ05J1wfuayiD8BjXr0h+xcf4CUZZs9cjywBH/6Tf6kUpym0IOB4HuMg0lu3ByaEyew2GyIhI/ucSxhVdFsew7yljC4lcRuL4euG2BT8QL/XQ1hVh1YyfPs0EJs6qGPwXONnZMdIKdNCqK6n28fKb++I22Jc4ZEHShPNGIcLaQRk266MnZcqvKXrpNQEb/DMQs+X2FS/jTyCY/Z/b0EF3qHI9oest5SkyFgI9y9ZDnN16+K0Nze0eBQnzVyRI0m4hA9aiIM/rBBYj6KQEUR9BywMrX97uCC/70woY/GsE4wPMB8zciCas5jgKsyRNs75Iq9JN+DINcy+arflA8vWMsox+xYkXFHYlIt9F9J01o8zGJDoG5uWLCHoPe/mO4oYs5sNAJ9/kLiyhzuUZugLl8g0SMe0dFvrqZBc9y95D9NHo+aEXhurO/fwapdfxE/X4/t83JhHvVgs553Ekl9XeJo8OxNHkF9UKhNt+J+LqfPKWIi3rFPqzCPgNscs4T5q5gwy+LiW3ST2o0HX7vhgW8BANcv0HB4z0HPcDDX/slRqf7qQADxUX66wH5vKFC/X40fqV/bIHZRLpzkUaswMZ0hI85ccQILgJVd3iG3fzbAtB5vYnSdqPCj0PEu0bDdTuSxPw9yb31hI/6scOLQbF58AsftrmBa4Ln/b9AeEJMQDb9QEDU/XSFe7tCAvI/z37EfkmD+r3Dguj6uMBMBi+2hoa2/Mn+hUMrvotBWgM/fkZC6T16gPp848OBfmb/JwSffYCBTXnsCEy6swJthHt2yQfF+kVEKnwWg94+KT0Di60xIgumAAM4lUfsQFF4BglqvI275wl0O+71MNKeNWX8CJMBJeNWZXj6tp9Lp7+edW+KhT4EtjIT/G5DRSKJfvBiBoiGyHDhTVb/IHgJhwX+8bqcRiOClXUpSoW6vbwiiGv8Pzv1x3d+PrcIivO8B7r3R11/OjlxhtH9+Dj4StF3t/7+iMJ+W7TuTme8eDG5lDXzaD2/EA9zM751zl5trwWaTcLuD0W4zNYu50dTBtutP9JqN7/+EEWwQX140kJeSHaxGow6ukr/N0OMwfX5ZISigFq5zMUqgZb5FMiM/L88CAnAuB+FjvfqiX652EKlgpE9OcBAAhs+EPyuCYy2EocBQzK2xwJqSRnx6QmTf9568sWm/LcA1X+hRaV1fAwmOSz/k8EKwwc9ET8xBUF6aohSORLEobysQzv9YkI0Aj0+fECVPUPEDDt7g5oA4HzuRf55wMMYwev78kEbAZd/sUDJfh1/HkXpugqFBX85vth/skOSeIDLffnd/grIIrSqSsZ6+wRy+6sD8PvdgxXCUztFBZk6HMXfPBHC+QEhe5VEZD8W/2dEOrw4QVADNPpEBEcCIPxxgtRCDPrdxS1/XbrwiK86u4FPhQk62MAhwWcAxHzhCRC4QcJBw0i6e8SSPXlC1j0tBEK6GUf6ezQAtAF9Ot7HY7rlgg1AN8C4uyoJ1fTSxJ+ERbguxvD9Yb5DAY2C47f4ipM2wsMERFv5V4XePJSA3L8Fg5k4FcnLueC/YAagt4/EtL+bwCO73sniN1tBjkWjN5QFJoF+PHaAZ8X8NxqFQsM/9xXHl37Yu6rFZX6PvELEbn4sfOCEnXtawlsAJz7yvmIDPbuogTxCxDlYRlW6sMPu+yKF0TiQxU+BZ3gsiak2j0X8PRBDDbn5RlI+BDuVBOz8fsKhPQ+DJX0uwX4/lP+q/e4DovuSwznCw3fRRBkBr7zHv6bEYjpqgnUB33odBATAArxVgzF++j4cgEXChDrKgltB6LtGg9C84z9xAZIBEXw0gi1/UH7dgDt/RIC+AUk+9H1fQpG+tr/XP6IBqP3egLABcLv9whfBdrrJxNK+Mf72Aa1Atzp+Qw4EILbBCPT6Rr7SRXY+lXklhrVAz/cWSTP72j1whVl+rbjdiX46pr3ERbn8Fn3GRS+AnHc7CM17j3+PAoN/r32TQsNBO/lcRboAEbx6A8w+wL0YBD4/RH2PwpHAgXstBei+cD0hg84+iP84wVK+7H/5wVg+fEE+wOu90MBqwht7mgRS/qU9pYRJ/TW/X0H5/+k88QRYPa4+L8UhPBg+g4ULO8P/5UOyPfF+0wLb/l0+AMYUuSdEnICovBlCusA6fdaBvkMbeaZDHwJtvNiAtoInO8oEOL63fSkELr33/xNCHAEXOYEG3f6DPO0D7P26QMj/wEECvIdEJ3/LO9jEWr7E/jDDtP2UvnWDnj61PfwC0r7MvhvDr75+fJ7EUT9ifSBC4D7ivhZCcgGH+jdEwf/su0SDcMCNfayAP8NGuwSBeEFIvNECZoAifkXAUgB1fxJ/mAFR/glBnz/6vjnBXH/6P3o/L0K2fa7+usM9v539RoE9QdI888JAP2o+X8Knf4t9qsM+vmu/ecHB/beB8D9sAJ5+TUIIftq/h8FyPh5C5P7/P/Z+uMJWPhoBd0B2fcNESbu5ArQACf/DvvqENz10vvLDun1YwMpAYkNjulpE6L4z/8EBbL+dQbU8XsTw/l4+jACVgVp/DoFKgGv7tEQIgWm8VH/ZAN7ChD5YfRlC8ECT/eA/hIItPqm9twRuPWK+4EHcfXDEKDvugDSBO7/PgRs8WUMQvjZBIz2vQVYA3P9pQBM9QESxO/i/4wHf/mJBzv6pfuzAt8Bgv46+uUDGv9HAyT9xfvpBen84vyUCs7xPwCgEkjvQv/qBv8EFfPNCtL8SvwtDSDwxQ3S9qUHPAHh+bwAUQTABt/xmxCq9Dv+tg8L+Fr16gxQASv9VPp8BZMGtvMvDA735wNG+PoNGfxv8LoaWux1AAUOwfGsAi0Mse72AuANnu4HASEFzgDd/sn23wlO/gb7Uv3xBHr65wLB/MAD2QGy63ARowAF/ETsYB4u+4zqsA9V+bb+7QdJ+N35JA9W9nUL3+ujCY8IVPcu/0YDaAbv9WkH0veeBEQFMftW/VIN0/kz8c0Tnfwp8M8QaAQr8P0K7wUJ9E0BTf/kBef7JAX0/AYDM/vrAOYGBu5aD64CqwR46gMSqQMD8YgHofzWCV33XQ108csLgf8l91kH3f2UD+zsxQxkCnDxLP3ODGsJ8eumCq4P4fDl/1oMgfuf988McAXy82cBww7G/Azs7ROmA7HvGQpUBOABmO2QC4oLZOfrBWEVTO4b8MYaAf+m5A8MFhB58ofvCRlrAQngexlsBE3tzPuCHDvvv/SsFcb2lP9x/GoEPgbX9acBoAnG9PsD8Afl9//89A428rcHaf5Q+gYGpQEP+i4AswWh9noOJ/dW9xsMvP8A8MARhPo49TMKVP+3998Dsf8O98YNzP0n8QkFzgvJ9GL0XwRDD+ztevxIFUD5qepNER4Euej7Dz4EW/Wo/PMO8vn87oIONQxm8Yb4mRUy/U7ywwRuC271FvfPFnD9WO6pC7IOf+tl+OkZ4vkp84sKSgJg9Wj1fRSn+5nkURVWC07k4/ZJGiL2melUCjEHsPvH7XsHbgLd9dr2TwhnAaf4qgTY834C7fleB232//7EDkD57/OTBDoNIe1NA3YMygE9+PUF3weG9UX8dxGK/CXznxTkAvT2Lvn2DGgJlOY9ERUUzeuVATYD9wLv9zP9iggrBK/2nQd/BLvoOwmICAfzdPikDd8BR/Bq+XMQd/Ra9ecMvv+N/RH1PgcJBDT2zADRBuH/OP7SAJkG8PrX+5wNTAC6+v8Jxgpu9/T+UQzJAqf66wXHDFP/cvhxCkkE7/eeAmMMUvoa/rsLOPPfBkL7K/4bCYH3LADzBCz5K/rRBqL7NP9w/G0D7f9Q+2X/4AKB/y76iAVGAtT/7fqcBAMDdf8wAIEAeApW+tL6Rg4x+6/8egtV/bD/mfxjBI8BgfaJA+MCCwHB+fD+rgVZ+2H5k/+nAjb6OwGg/mj6AQMM+n/8jv/IAfIBuPuY/7AA/P/C+dYBrAb3/bz/qQIt/OUBngXK97YEIAno+jn+MQUT/oQBaPtmAu0Fo/dMBK/+ygCg/pn84gCcAdgAifzAAjj/X/1N/gT+zgGF/2z94wLY/ub6+wJr/mr/oQKa/x0CwvwVAhb/CPwdBAIBRf6XAKoCGwF3+2T/eAIQATP9Hf69A/YAKfzf+h8FBgM6+tv9ggPlBYX7LvkJCjECDfXfAtsEG/8YACT9qgF6Aq/9Jf4qA4gBt/x5AwcAAP+HBIz/FvzgAoUFT/45/3AEfv///n8EAf9TA3oAdP/NAyT61AToB3b1Y/2uCZX+hfgSBBwGrfn8/Kj/2gIHAXH8JgA2Ayb95P2SAtH+swKS/2T/owHRAtP79wX/AfH8GgVZAT4CEPyLBv4DGv2LAToEzAPI/fUBlwJhAd/+7P8WBO7+3QOJ+nz/RQQK/Ab+m/2fAZX77/7R/S//qwCz+3L9kgCH/rn/tfyg+t8EcPzY/ZYC+/6+/Wb/UACG/I0AtwC2/XT+FwBHA3P8MflQBPr95v0FAB7+XP4L/Pz97Pw/A4v8Wvqd/xT89Pwh/9X6nfwi/hz6TQAz/pr5Uv+p+7L3xgB2AQn48fwT/8T54/58++r9Y/7h+sj8HgC2/Kb9/f/q+4n93ABOAYf7I/4MAJwA3fw3/7kBTwGZ/d38ngRaABH+SgJxAbcC3gHu/98ExAG7AWcCLQM5ArABiwOoAW8EqP4zAHcD3wFZ//sBPQUy/JD+SQLhBMr/SAH6AnwA6wCJ/ycGfgDE/7cB9f+QAgkD0f8QAuQClwBKA3f/DwWvBTD9PgQ5BzUG7QAmAE0JzQcDAQQFNQjMBQ4E1QGdCfUI4QU2AicI4Qr9BH0IgAX0CKAJdwcQCMcJsgcdB+8HEQn1CfkFMwZUBcYFHgXZCyQEhv62CJUAbAHuBcT/swCVAR38rACLAh796/51/vv6hwBf/WD5+/6K/ln5vv5t/hv5Y/46+dv+8wGV+wn5mf+5/LD45P/lAbL6tPsQ/oX52ACJ++/6cP8D+lb4zwCm+iv3Rf4q+//34fnI+7H4svlA+bP75/n7+Cb7Y/ls+mL8Bvr5+VH8H/lb+7v9FPwg+338j/3s/SX88vyO/wj9XPyTAIH/7P4+/1IArf8gAfID/v0kBBwBmQERBKoDTgSnADwGugLbAfIA3AIZAu0AnQAdAUoA3f3S/xf+NAK1/oP9qvic+04AxPtAAd/6Pfve/az6ef5NAwUAfft7AM38dgQuDCEHsQPLCDsLxwy3EIgR9hUMEtsObxEeHIUZ0xRgF64VQherE3AVYxf9DuoQ2xDYCj8LGwrOCW8EQwH1Bdv/yPqI+u76Q/3A9tX0MfYl8zXwJfN399fzA/EJ8MLzQfiw8Yj56P1p9fH5b/uH/6wCb/7jAdQDSgJoBwgDhQTkCpgDLAW4BkwGEQXFAukCfAJfA9ABHP85/tb8/v1Z/HH4MfyG+nD1lPMb+Of6WfMV9hL5yvCV9MT0GPeU+IT18Pak9Qv5GfYH/GH7k/md+hn9Kvzy/R0Akf7IAv75hAKuBSMB+vzUBlIEbfyVAywB/wROAGv/VwFJBOf/CQCXAt/+AgIFAav+rwCYBZf+M/+nALj9lARz/o3/pQQFAO77vQEgA1X9AgTD/nkAZgEm/CAExwJB/W//9gIjADUAg/7+AXEBvv9ZAAr/jwTv/FD+JQFtAQ3/OQBxAKz7gQIB/9UBrf/R/kgAMP9O/g/+/wOk/yr9mP62AIL9IgCh/VL9pwBD/Iv8e/x+/Vn6j/yB/F/7a/pg+Y/6Avg1+WD8JPpf+AH6Ivq8+un8K/1Q+jL8Rf36+8b7kwELAfT/I/96/1YBBwIBA+3/bwWFAXIAeQMyAnEDAAegA2//bwSjAtkDvADGAB0F+f5y+27/tv9mAQ78aPe+ANL4s/k8/076M/6b+rT4Nf3v/Yz7uvwi/cn5WP0m/zn84v1NADz9lf8TAO3/+QDN/k0BLAIVAboC7AMU/w4ExwXwAYIGfwIfA8MEIwGBB74IEALqA2EFtQIiBeEEBwccBWgBewSPBCYGIgT0At8FcwN4/h4FIQVk/98BwQLCAHv/ygCS/r4C3vxN/T0CUvta/vP+7v11/Ur+fP0I/Tj98/yR+7r+uvth+mwCX/r7/QP/S/ux/z7+nf0YAJv/EfxAAMb9Ef4aA3b+MvriAJP9Gvyh/577jgKR+Wf7CQI4++b/sf19+xr/xf2N/Ir/5vwe/Zf97vwL/ar9Zv3m+az9MvxX/Az/Mvzm+s/74vzA/N38uvvK/f/7QfmY/cn81f3//Af5wP0K/lL68PzR/Tj9jf04/OX+cQAx/ED+dQEa/Zv+UAE8/v/+Vf6GACACcvz9/9P/Tv4t/yL9ygHSAQr+hv9DA38AfQHYAXcCzQIj/0wDzQGQApECRgNvBOgB/wFNBJUDewFqAxID+gTIAfQC/QQeBQ8EZAFGBacEWACPAfMEyv/yAIAB5ACWAXf+zQGXAAf+IABOAZ3+FABN/zIB0QCP/2wCtv9lAfv/YwCOAQ4CowBMAhUDHwGrA7sDKQOcA5IE4gJSBk4E6AS/BjMF2QYPBcsHRwbGBYQGbQWaBV4FsgXgBBwE0wRxBXkCWwQvBMcCYQOBAW4D4wFhAXsBBgFvAPv/MAGN/ZMAGQAp/SQAq/6x/sr+Gf4YAAv/u/3PAYT/1f3jAQoA1/99AIgAvADT/1AAMQCWAJoAqQAcACwBngCe/58AIgHn/3//iwFU/8D/T/8mAFP/BP7C/1j9f/57/f/8lv6i/TH9tf2L/e/8bv2B/U/9yv06/Xr8+/7G/B/9kwDm/KH+6v7c/XX/ev2Y/zz/ef74/87+Df+4/1b/GP99/+j/qv5l/kH/dv76/sv+of73/tf9XP15/hX+Hv0G/h3+aPy1/d/9u/wW/8n9cvzg/kX+tPxS/+n+jv6U/4L+uv/Q/8z///8VAE0B7/9jAMcB0gAlASoCfwGWAbQBEwIYAcQBgALLAPIBNAHaAUAARwEaAhn/iwGOABr/VQFe/8L/vwDW/hAAAP8WAIP/uv8pAEf/qwBG/24AigCMAPYAjQBgAAIB+gAaAI8BcQGaAKEByQDUACwChgC7AHICmQArAVgB5QDOAScAWAF9AP4AiQADAPAAYgBiANz/8ABT/z4A0f9Y/8cAaf+6/1YAE//9/zP/ff/2AAz+ggDH/2L+wwB+/tP/dwD2/qP/0P9z/2P/e/83/9r//P4o/wj/If8j/2X+Uv82/nn+8P1m/j3+a/2j/2r9zv1H/5L9bv0FAEb96P3G/9v88/4Z/qX+qf18/nv+W/wr/0j92v16/iv98v5W/Tn+k/6Y/cn/ov28/cj/y/w0/hz/g/ye/uX9Rfyj/Yv9wPz0/Ef+cvxz/f/9ufyf/tj9OP6f/mD+Tf7H/sr+1P7q/mv/PP7k/lv/sv2i/z7/pP4Y/47/sP4R/3YADv++/0QBZf4PAAMBFf7NAOYA6v0UAV8AM/1WAa3/2f1LAfX+Fv/hAEX/6P+/AH0AgP+QAVoAUQB+Ao//lQE0ApT/CAKjAWYAhgLMAHcBBALjAOwBewFfARECUAGtAYsCRAH5AYoCGgG1AU8C0gB2AtkB2wDOAl8BwAC1AuUAVAGZAhEAdAKBAW8AfAINASUBDQJXAZkANwL9AJz/JAMaAMr/AgNR/2cApAGV/7EATgGZ/5IAAgEv/2oBWAAkAOoBtv+mAAABGgDLAF8AFQG/AHr/8AFUAKP/ngLy//b/ogI1/4AAaQJk/+0AmwGd/1sAfwHI/uQAdgCh/owAQv95/zv/3P+7/un+pv/b/Vj/aP+Q/QIAk/69/YQAZP20/5L/uP0sAKD+xv4OADH/bv9bAET/zf9CAOX/YQBSAFQAWgD7/14AqgC4/xcBewAj/3IBBv+C/yIBm/4/AB4Aw/7f/47/yf78/yz/Sv9t/wf/aP8v/7b/d/+g/4//pv9a/7T/DgC2/xsAbwBN/zwA9/+//xoAGgBdADP/wQBN/8v/cgCZ/wsA6P+q/+P/mf+y/2gAC/9bALz/Lv85AG7/+f+E/7P/fQC9/mYAwwBe/lwBXACg/r4BIQA7/9IB9P+R//oBj/9RAN8BU/+9AFgBSv8IASYBpf8KAekAtP/KAOwA3v/bAPQA3P/BAPMAq/9FAY0AOAAyAToA6wClANwA5wDCACAB4gD6AB0B5AAbAfgAywBLAd4A5ABLAZwArgD4ALIAfgADAccAAAAOARkA4v9WAaD/dgAUAfn+4QBoAD//NAFtALz/AwFbAMP/KQGRAHYALgHAAMwAfwBCAbYAYABUAhAApgAOAoP/vABeAej/QgBAAaX/nP+0AFf/Yv9AADD/9P7G/3n+rf5C/4v+iv5U/zn+Rv5j/6T9p/6Y/5z9bv9m/3n9RADQ/nr+UAAb/wT/DwBB/yX/KwBy/7r/zf+g/4//zP/i/j0APf/8/nkAUP5d/7v/bv4E/5z/I/75/i3/7P3Z/iD/Df6r/l//tv0L/x//G/5H/x3/9f4U/4//U/8z/zYAN//S/08AVP9OAIkAUf/kAJQAK/+FAdr/BADgADAAJQAoAPoAP/9lAPAAZv76ACAAIf5LAfj+xv6xALH+Nf8IALj+eP9a/w3/cv9U/2H/XP/b/+L+HQC3/xH/rgCE/5b/sgCV/wwA6AD//3cA5gBSAGkAJQHCAGAAzwG0AGYACwJaABkB3gG3ABQBXQEXATYA+wHiACwAOAJBAAAAtgFpAK//CQLz/6P/gAGY/7r/LgHu/2H/RgEm/2H/LQHc/hYAvwD1/ikABwCK/xYADABhAI7/cwBDAGX/HQH//wAAKAG4/2MAxADi/5oAgQA8AC0AlQAMAAIAxgCi/zcAcgBx/0EAPgA1/3UAtP9R/3IAPf/G/+T/bf+F/9D/e/9y/zMAJ/+2/w4AHf/u/yAASP/+/2EA8f4sAJYAtf7UAFQAo/4fAdT/Cf8pAa//fP8DAUr/5P+2AE//VAB4ADz/ZAB9ANv+/QBEANz+SQHB///+bwGP/2T/dgE0/9H/BgFc/wQABwF//w0A5wBi/1EAzgCg/2IA0wB6/3AA3QBb/94A1ABH/+cAzQAV/yUB3AAC/2kBiQAY/1EBdAA3/1QBNwBN/z4B5P+A/xYBsP+t/94AZ//s/4oAUP8RADUAZv8cABUAaf8GABgARv8XACkANv9OAAgAIP+VALL/kP+bAJb/6P9bAMf/6/+LAOf/EgCHAO3/CwCoAN7/TADBAH3/zgBHAIH/PgHH/wAABQGG/2cAjQC6/6kAKgDp/6wAyv8gAJ8As/9CAHcAn/9GAF4AtP89AIYAeP9UAJQAM/+dAIsAD//HAF8AC//gAB0AXP+WAC4AWv+FABQAdf9rAAAAk/8xABsAff8iABUAhv/b/28AKv8YAGYA4/6EAO//DP/JAH//cv++ABb/+P87AHn/7f8yAJj/3f8ZAKn/7f8hAM7/1/9HAGP/UQDh/73/WwCy/wsA8//c/x0A2f8zAOz/3f9AAJ7/LwAoAJH/UwAdACL/tgC3/0r/2ABi/3b/igBf/4H/fQBR/5r/PABf/1T/cwA2/1r/jgDH/pP/VAC8/sT/MACk/gUAtP/P/joAV/9L//v/Ov+R/6j/gv+U/7P/jP+b/7T/Y/8HAIL/mP8RAHT/nf8nAHn/qv9SAFL/4/8RAJL/5f8MANb/nP9GAMT/mv9lAMX/s/9PANT/qf9KAAIAo/85ADEAXv98ABIAUv/hAJj/rP/CAFL/JwB0AG3/XgAcAKj/WwAAAMv/dgDZ/9P/ggCl//P/nQBx/ycAjABK/3EAOwCZ/20ANACp/2gAJwC9/4cA+P///2gA3v8rAFcAxv+aAP7/9P++AKr/ZgCcAKL/wwA3ANr/yADr/0YAfgDy/1kAUwDa/5cAHADy/7kA6v8OAJ8AAwABALMA8P8CAJEA8/8CAIYAEQDd/7IA4f/4/84Axf9PAIwA6/9hAEIASgBEAEIAcwAoADoAhwApAE4ApAAmAFoAowA3AEwA5QAmAE8ADAH4/2kAFgHq/5kAAQHR/94AngAPAP8AXABhAN0ARwCMAMMAQADOAIgANgD8AC4APAAlAdz/VwAZAbL/ZQD/ALj/dAD5AJ7/qgC8AKr/1AB2AMz/yABLAO//nQBEACEAYQBbADkATQBkAF8ARwBbAG4AUQBCAHYAagArAG4AcQAfAFUAqQDw/3kArADB/6YAlACv/9IAhACZ/+kAUwC1/9cAWADK/8gAQADh/7QAJQAkAJMALAAfAKAACQA0AMoA1/9+AK0Ax/+gAI8A7v+oAKAA5f+sALQAwf/jAKcA2f/rAJMA7//GAKoA8v/GAJgA/P/AAFwALgCvAEsAYwB7AGEAVQBuAHwAOgB/AHYANgBjAHYAKQBmAHAAFQCCAEMADACXAB4AGQCpABkACQCpACIA8/++AA4AEwC7AOD/SACIAM//fgBhAMf/mAA1ANX/gwAmAPL/cQAUAO7/ZADu////TADt//b/RQDs/83/UwD1/9L/WwDx/+P/RgDq//T/OADx//r/LwDB/w0ADADA/xwA6v/V/woA2P/F/xoAzf/P/x0AvP/T/wgAx//S//X/6P/C/97/8/+m/+3/8P+h//X/5v+e/+r/5f+Y//P/4f+n/9n/zf/M/6L/4P/X/5H/7P/D/6L/xf/e/7X/sP/9/5//s//w/5L/tf/y/53/nv/y/4r/l//6/5r/kP8HAJ7/dv8FAIn/if/3/3//f//O/2//eP++/2n/j/+y/1v/l/+c/27/qf+Z/3b/nP+U/2T/nP+Q/27/pv9//23/nf+A/3b/q/+F/3f/s/+A/3X/u/+U/3v/t/+c/1z/xf+M/1v/1P9k/2f/wv9I/2P/yf85/2j/y/8X/33/xP8T/6D/rP8k/7H/kv86/7T/m/8z/7P/gv8d/73/V/8n/6r/O/86/43/Ov9N/5r/Pf9X/5//Mv9//5L/Ov+g/3T/Wf+W/2j/hP+c/4D/jf+Z/5b/j/+g/6H/lv+l/5n/kP+P/6b/mv+G/7D/g/+L/6z/bP+p/6L/ev+2/4X/lf+z/5n/sP+y/7L/v/+8/7P/3f/G/8D/8/+y/8//+P+1/+f/8//R//b/8P/j/wAA+P/5/wcA+v8AAA8ADwD9/ywAGgABAEIADwARAFAABwAjAEkA+/80AEIA9P88AEcA9f9AAEoAAwBJAFIADABPAEUAHQBdACQAOQBbABQATgBUABoAYwBVABoAbQBEAB8AgQAeADEAeQD4/0QAVwAFAFwATQAhAGEAQAA7AH4ANABdAIYAEABqAGYABgB9AFEAFgBqACsAHQBbACYAMwBPABYALwAmAAkAMgAYABsAIQD8/xYAEgADACUAGwAaACQAFAAdABwAMgA1AB8ANQAvACwALwAsAD8AJAAxADEA9/8mACoA4/8hAB8A1v8+ABMAzP9jAAwA8v9yAPH/HgBpAOT/MQA9APL/VgAWAPT/YgACAAgAYwD1/yUAaQDV/x0AOQDP/0UACgDo/08A8f8TADkABQBaAEEAGABcABkAMgB1AAoAWgCDAAsAZgBiACcAnABqAE8AjQBFAF0AgQAsAHYAjwAfAHQAYwAlAJ8AagBKAJ8ATgBRAIUALgBpAJUAKABoAF8AJQCJAE8AXACVAEkAdgBzAEEAiQCNAFcAbQBxAEMAXABtAEoAbQBzAEwAUwBWAFsAbwBuAF0AZgBqAEkAXABrAFQAegBhADMAYABAAD8AYwAiAEMAUQD1/ywALADz/0gAGwDq/ywA+//w/xQA8P8BABcA5f/x//7/4v8HAPb/6/8JAOT//P/w/9r/JgDx//n/JwDT/w8AEgDR/ycACADu/yYA6P/o/xQA5f/o/wcA1//X/+z/uf/a//L/v//u/9j/sP/u/7z/wv/3/7//0P/a/6v/1P/c/8D/5v/a/8L/3P/N/8n/9f/e/93/6v/E/+v/6v/Z/xUA7f/v/w0AyP/4/wwA2f8NAPL/xP/+/9j/wf8HANn/x//1/6L/u//o/6H/4P/O/5b/2P+S/5n/1f+L/8r/vf90/8X/kf+K/9f/mP+l/8z/kf+f/9H/sf/J//P/s//L/9v/p//h/9P/wP/j/6n/vP+1/5H/0P+e/5n/uf9l/4n/iv9g/47/bf9q/2v/TP9p/1j/Yf+D/2D/Z/9//2X/cP+b/3j/gv+4/3D/iv+8/3D/s/+9/37/uP+g/5T/p/+V/6v/lf+j/6H/gv+k/5j/mP+f/5r/pP+M/6T/mP9//8P/mf+M/8n/gv+W/8T/gf+d/8D/jP+V/6f/gv+T/7X/j/+V/6j/ef+V/5X/dP+s/5P/g/+c/23/jf+Y/33/pP+E/4b/mv9t/4//lP+O/6f/fv+L/5f/f/+t/6r/mv/M/7X/mf/K/8D/vP/2/8X/vP/2/6r/xP/4/53/4//l/3j/zP+q/3b/1f+J/4D/vP9h/3n/mP9k/47/nP9q/3n/jv9u/4T/of+K/6D/o/+M/57/pv+y/6z/uP+8/5T/v/+t/4j/2f+p/4T/yP+G/37/w/+B/4X/v/9z/33/qv9p/47/s/9q/5D/qP9t/53/o/+D/6r/nv+P/5r/of+q/5j/r/+r/43/wv+o/5H/2f+x/6H/5/+2/7r/BADN/9P/FgDe/+z/JwDz/wwAOgAKABoAOQAaACEAOgAjAB4ANgAqABoAPAA1ABcARQA1ABsAVwA9ACwAagBBADoAcwBMAFgAfQBYAGQAfwBdAGcAgwBjAG8AhgBRAGcAhABSAHUAfgBVAIMAcABUAIQAbABwAI0AXwByAIwAYgB8AIUAZgCNAHwAVAB9AHEAVgB/AGAATAB+AFkAQQBxAFsAVwB3AFoAWQB4AHAAYwB9AIoAfACTAI4AbQCdAJ0AdgCoAJIAdwCfAHEAYgCXAHAAbACEAE0AZwB4AEgAeAB6AFkAkgBtAGUAsACLAKAAywCcAMIA2QC1AOMA6wDOAPEA1QC8AOcAxACxAM4AlACNAJ4AXQBzAHQAOwBVAD4AGQBEAC8AHAA9AC0AJQA6ADwAPABYAFoAWQBsAG0AfgCNAIMAmACXAJQApgCYAK4ArgCYALYAmACTAL4AkgCfALsAhwCkAKoAeACtAKcAeAC6AJwAcgDHAJQAdADRAIwAiADUAHkAlADMAHQAqADBAHIArwCuAGsAqgCrAHwAqwCTAGMAlACCAGQAlgB5AFwAfgBMAD8AdwBXAFQAbgA5ADkAUQAvAEUAXgBGAEwARQAxAEoAXABVAGAAWgBNAFQATwBPAGIAYQBTAE8APQA8AEcAQwA1ADcAKwAJABcABwDw/x0A+f/Y/woA1P/N/wgAwf/U/wAAuP/W/+j/sf/b/97/tf/d/9f/u//S/8P/r/++/6//qf+q/53/pf+R/4z/n/99/43/m/9w/5z/nP90/7X/of+B/87/p/+e//D/uf+4//z/vf/J/wQAwv/f/wgAvP/d//j/t//o/+7/s//f/9b/uP/c/83/yv/c/8P/zf/S/8j/6P/b/87/7//H/8f/7/+7/9f/+P+r/9P/5f+X/9X/2f+N/9X/vv99/8//ov9+/9L/kP+G/87/f/+R/8T/eP+b/7H/ev+r/6b/f/+o/5b/hP+l/4z/h/+e/4f/eP9+/3P/dP91/2f/Xv9f/1n/RP9L/0n/O/9S/zv/Fv9E/zH/Ef9G/x3/Ef9N/wf/Cv9B/wf/Kv8+//r+Jf8z/wf/K/8z/yz/Qf87/zL/Nf9O/17/T/9w/4D/av+N/4j/e/+//7v/ov/c/8f/vP/3/9X/1v8WAPj/7/8HAPH///8OAAAA+/8BAAcA7v/w/wkA6v8CAA8Ax//8/wwAx/8RABAA0f8mAAEAx/8tAAUA7v8+APX/9v82AOT/+f8pAOv/DQARANj/AQAAAOf////o//H/AADk/wMAAAD7/yEA/P8DADAACgAxAEoAEQBJAEcACQBSAEgAHQBeAC8ACQBIABEAAAA2APr//v8cANL/6/8GAM3/8P/q/8T/7//k/9f/+v/u//P/AgDu//7/FgAWACUAKwAlAC8AMwAzAD0ARABQAFEAQABLAEMANgBYADsANQBWACEALQBMAA4ANQBNAAcAOwBEAAUATQBVABwAYQBdACgAeQBwAEEAlwB+AE0AmgBsAEwAoABsAFMAjABRAD8AZwA6ADUAWwA6ACsARAA1ADMAUgBMAEQAYABmAFkAcgCLAH8AmACoAIIAmgC5AI0ApAC4AHoAkwCbAFkAfwCNAE0AbwBiACYAVQBLAB8AVgBJACEATwA6ACoAZQBNAD4AaABNAEsAbQBPAF0AgABdAFkAZwBNAF4AbgBLAFQAZwBHAEoAWABBAFoAagA9AEkAXABCAF0AZwBEAGUAcAA9AFsAcABJAHoAdQA1AHIAbwA5AHsAZQBAAIgAVAAtAHMATQA7AHAAOAApAGEAKQAZAE4AHwAZADwA/f8DAC8A+v8FABUA6//8/wAA5P/0/wQA9f/s//P/7P/n/wAA9//p/w4AAQDs/xAABgAAACwAFAD+/zQAIgAPAEgAJAAbAFkAIAAbAFUAIgA0AFEAFQAuAD8AGAAwADIAIwA5ACYAHAAkABoALwArABkAOQAoABsAQAAYABoASgASABwARwAKACwASgD//ykAPgD9/zUAQgAJAEYARQAGAEYAQQATAFsATgAmAGcASQAdAFkAPQAjAFsAOgAiAFEAKQALADUAFQADAC8AEQD//ywACADu/xkA+//x/yUABAD7/ysAAADu/xcA9P/1/ykA///5/yUA7v/m/wsA1f/l/w8A2f/o/wAAyf/Y/+L/s//V/+X/yP/i/+H/x//Y/9j/x//k/+//5f/6//X/5f/5/+//7P8GAP3/AAAKAPT/8v/x/9z/4f/h/9f/2v/Q/8L/uv+p/6D/n/+b/6P/ov+Y/6T/mf+P/6X/mf+m/8r/s//G/+L/wf/g//D/z/8DAAYA5v8UAAIA6v8WAPP/4P8NAOX/2P/3/8j/xv/h/6n/p//F/5j/of+2/4j/nP+1/4P/kv+y/47/p//B/5L/uP/d/6j/x//k/7P/5//6/7v//v8OAM7/BAD+/8j/FgALAM7/GgAKANL/EADr/7z/EgD0/8L/DwDo/8P/BQDN/7D//v/b/8T/AADc/8b/+v/M/7j/9P/e/9X//f/f/9T/7v/X/87/5//x/+r/9f/8/+L/6P/7/97/8f8RAPr/DAAdAPb/AgAUAPj/EAAlAA8AKAAnAAkAGAAOAAkAHgAOAB0AKQALABkADADw/xsAFAD6/y0AFgD8/yoA/P/p/ycAAgD3/ysA///7/ykA8P/p/xsA+f/7/yUA/f8CACoA+f/6/yAAAwAYADAABgAdACkACgAaABkAEQArACUAFgAjABsAFwAeAA4AFAAnABoAHgAjABYAJAAfABEAFwAbACQAIAAiACcAFwAmAB0ABQAmAB0AEgA0ABYAEAA2ABAAEgAvAAoAIAA8AAoAJwA4AAUAMgAqAAAAQgAxABEASgAeABUASgAVACAATgAlADUASgAWACsAQwAXACwAPQAeADgANQAPACgAJgAVACUAHgAfACsAIwAYABkAIgAkACUAKgApADUAMQAoAC4ALwA+AEMANwBEAEUAOgBAADMAMwBKAD8ANwBAACwAKwAyABEAIAAxABYALQAfAAMAKgAOAAUAMgAQACcASgARADAAQQAOAEEARwAiAGAATgAmAFgALgAZAFUAJQAkAFIAEwAhADIA9P8SABYA9/8dAAwA+v8VAP3/+P8EAP7/EQAYABgAHAAPACAAHAAGADAAKQAdAEkAGgAKAD4AAAAEADYA8v8OAC8A0v/1/w0Av//0//z/uv/4//D/rf/i/9X/uf/u/9r/z//2/+D/1f/b/9b/4//n//X/8v/r//z/4P/Q/+L/1v/k//L/4P/l/9z/y//F/7v/xf/T/8//1v/T/77/x/+8/6P/w//I/7r/5P/O/6//2P+y/57/0P+z/73/5f+6/7T/v/+i/6P/sv+v/7X/x/+9/6X/qv+m/5b/rP+2/6r/x//P/6r/tf+7/53/tP/H/6z/y//b/6z/u/+8/5L/r/+3/5X/uf+6/5P/p/+c/4D/nf+Z/4b/oP+Z/4f/lv+N/4b/lf+N/4//l/+S/57/mP+V/6f/lf+c/63/lf+s/7T/lP+0/7X/lv+4/67/lP+0/6P/jv+u/6b/mP+v/5z/kP+j/5D/iP+l/53/nP+t/5n/l/+m/5b/lf+n/6P/q/+w/6P/p/+t/6H/o/+p/6f/vf+9/6r/vv+1/6f/u/+o/7D/0/+4/73/zv+q/7//w/+c/7z/yf+v/8n/yP+t/9H/yf+m/8z/xf+4/+v/z//H//j/zv/J/+f/v//W//H/x//a/+T/xP/T/8r/r//L/8v/vv/T/8v/zf/f/8z/z//a/9b/8v/v/+3/CQD3//T/AQDf//P/BQDn/wAA///j//7/6f/S//j/6v/t/wsA8/8BABQA9P8FAA0A/f8kAB4ACgAvABMAAAAaAPL/9/8eAPT///8aAOf/+v8FANb///8RAPH/GwAdAAUALAAiABEANQAxACoASAA6ADYASAAvAC0AOQAlADIANgAcAC8AHwAGAB0ADAAIACsAEgARAC0ACgAMACcACwAeADwAFwAtAEEAFwAuADcAFQA7AD0AHwA/ADAAHQA0ABgAGQAyAB8AKAAuABYAJQAcAAgAIgAbAB0AOgAeACQAOwAUACYANwAYAEEARQAhAEYANAAYAD0AGgASADwAFgAXACwA/f8LABQA8f8TABoACAAsABcACgAoABAAGgA5ACgAPgBIACYAOAArABcANAAkACQAPwAjACAAKAADABMAGgAIACoAKQAiADcAHQAaACkAFQAmADYAKQA+ADkAIQAvACAAGQAyACUALABDACsALQAxABkAKwAuACQAOgA1ADEAOAAiACIAKQAdACsAKwAoADUAKwAjACQAHAAiACgAIgAtADAALAAtACMAHwAmAB4AHwAjABwAKQAnABwAJwAjAB4AKQAbACEALwAnADAAMQAnADAAKAAcACAAFwAXABoADgAOAAoA/v/8//H/7P/0//P/9//9//z/AAAEAAUADAAYACMALAAzADYAMgA0ADEAKwAuACsAIgAiABEA///9/+r/5f/r/9v/4v/o/9f/4//i/9r/9P/3//r/FAAPABUAIwARABsAJQAXACQAHwAPABkABQD3/wAA7P/w//v/5f/y//T/4//1/+7/6f8DAPv///8OAP7/BwAOAPz/CAAHAPz/DQAAAPb/BwD4//r/BwD1/wMACgD5/wcABQD7/xEABgABABEAAAA=\" type=\"audio/wav\" />\n",
       "                    Your browser does not support the audio element.\n",
       "                </audio>\n",
       "              "
      ],
      "text/plain": [
       "<IPython.lib.display.Audio object>"
      ]
     },
     "execution_count": 13,
     "metadata": {
      "tags": []
     },
     "output_type": "execute_result"
    }
   ],
   "source": [
    "import torchaudio\n",
    "import librosa\n",
    "import IPython.display as ipd\n",
    "import numpy as np\n",
    "\n",
    "idx = np.random.randint(0, len(df))\n",
    "print(idx)\n",
    "sample = df.iloc[idx]\n",
    "\n",
    "path = sample[\"path\"]\n",
    "print(sample[\"sentence\"], \"\\n\")\n",
    "speech, sr = torchaudio.load(path)\n",
    "speech = speech[0].numpy().squeeze()\n",
    "\n",
    "speech = librosa.resample(np.asarray(speech), sr, 16_000)\n",
    "ipd.Audio(data=np.asarray(speech), autoplay=True, rate=16000)"
   ]
  },
  {
   "cell_type": "code",
   "execution_count": 14,
   "metadata": {
    "colab": {
     "base_uri": "https://localhost:8080/"
    },
    "id": "kOyjVvy4yG50",
    "outputId": "412b2e22-d2cc-4235-d318-7a1aa58bc708"
   },
   "outputs": [
    {
     "name": "stdout",
     "output_type": "stream",
     "text": [
      "(2554, 2)\n",
      "(284, 2)\n"
     ]
    }
   ],
   "source": [
    "train_df, test_df = train_test_split(df, test_size=0.1, random_state=101, stratify=df[\"gender\"])\n",
    "\n",
    "train_df = train_df[[\"path\", \"sentence\"]]\n",
    "train_df = train_df.reset_index(drop=True)\n",
    "\n",
    "test_df = test_df[[\"path\", \"sentence\"]]\n",
    "test_df = test_df.reset_index(drop=True)\n",
    "\n",
    "print(train_df.shape)\n",
    "print(test_df.shape)"
   ]
  },
  {
   "cell_type": "code",
   "execution_count": 15,
   "metadata": {
    "colab": {
     "base_uri": "https://localhost:8080/"
    },
    "id": "Pl8XEw2pwZsI",
    "outputId": "11a5c1b7-8a1c-488f-b7fc-4ba464f169a1"
   },
   "outputs": [
    {
     "name": "stdout",
     "output_type": "stream",
     "text": [
      "/content/data/shemo\n",
      "(2554, 2)\n",
      "(284, 2)\n"
     ]
    }
   ],
   "source": [
    "save_path = \"/\".join(abs_path_to_data.split('/'))\n",
    "print(save_path)\n",
    "\n",
    "train_df.to_csv(f\"{save_path}/train.csv\", sep=\"\\t\", encoding=\"utf-8\", index=False)\n",
    "test_df.to_csv(f\"{save_path}/test.csv\", sep=\"\\t\", encoding=\"utf-8\", index=False)\n",
    "\n",
    "print(train_df.shape)\n",
    "print(test_df.shape)"
   ]
  },
  {
   "cell_type": "code",
   "execution_count": 17,
   "metadata": {
    "colab": {
     "base_uri": "https://localhost:8080/",
     "height": 285,
     "referenced_widgets": [
      "24cee8ab38204ec49562c5187ac6638b",
      "0bb868eedfe844cbaa702370a3a7cf26",
      "3f970582bd43494c82544057094a4717",
      "147cc201e1a24ed895b8c69d3666e68b",
      "59fe0bc9a04b449281f8531db047e0a8",
      "6417bd27270d412da6f7f40cc2d2d4a2",
      "9749bb30fdbf4f58aeabb1d9a8a9913a",
      "9f625c158d514b0eb2c84f94c1ef746c",
      "301b30d9295b44f0bc0410f2f8fc441a",
      "e2ffa6b0ce09406f9712f4149066adc5",
      "b4f907f63fe14d5cbf6264c73f398947",
      "7ffb73ff599d4d5ab10262a820593606",
      "114b77b608cc4e3d9eac2a0d14d1e14e",
      "b052e954ad444a48989d475d8d531430",
      "c38e0ad91bc94c87a25d11b773ebe9f4",
      "c9014de8234047158f8546ca45bdd653"
     ]
    },
    "id": "8H1h6KAxxZnn",
    "outputId": "ccf19312-81ed-4589-d46a-e17bf1726f13"
   },
   "outputs": [
    {
     "name": "stderr",
     "output_type": "stream",
     "text": [
      "Using custom data configuration default-ad23541acd8a9a2f\n"
     ]
    },
    {
     "name": "stdout",
     "output_type": "stream",
     "text": [
      "Downloading and preparing dataset csv/default (download: Unknown size, generated: Unknown size, post-processed: Unknown size, total: Unknown size) to /content/cache/csv/default-ad23541acd8a9a2f/0.0.0/2dc6629a9ff6b5697d82c25b73731dd440507a69cbce8b425db50b751e8fcfd0...\n"
     ]
    },
    {
     "data": {
      "application/vnd.jupyter.widget-view+json": {
       "model_id": "24cee8ab38204ec49562c5187ac6638b",
       "version_major": 2,
       "version_minor": 0
      },
      "text/plain": [
       "HBox(children=(FloatProgress(value=1.0, bar_style='info', max=1.0), HTML(value='')))"
      ]
     },
     "metadata": {
      "tags": []
     },
     "output_type": "display_data"
    },
    {
     "name": "stdout",
     "output_type": "stream",
     "text": [
      "Dataset csv downloaded and prepared to /content/cache/csv/default-ad23541acd8a9a2f/0.0.0/2dc6629a9ff6b5697d82c25b73731dd440507a69cbce8b425db50b751e8fcfd0. Subsequent calls will reuse this data.\n"
     ]
    },
    {
     "name": "stderr",
     "output_type": "stream",
     "text": [
      "Using custom data configuration default-0c1dc360ac37b84b\n"
     ]
    },
    {
     "name": "stdout",
     "output_type": "stream",
     "text": [
      "Downloading and preparing dataset csv/default (download: Unknown size, generated: Unknown size, post-processed: Unknown size, total: Unknown size) to /content/cache/csv/default-0c1dc360ac37b84b/0.0.0/2dc6629a9ff6b5697d82c25b73731dd440507a69cbce8b425db50b751e8fcfd0...\n"
     ]
    },
    {
     "data": {
      "application/vnd.jupyter.widget-view+json": {
       "model_id": "301b30d9295b44f0bc0410f2f8fc441a",
       "version_major": 2,
       "version_minor": 0
      },
      "text/plain": [
       "HBox(children=(FloatProgress(value=1.0, bar_style='info', max=1.0), HTML(value='')))"
      ]
     },
     "metadata": {
      "tags": []
     },
     "output_type": "display_data"
    },
    {
     "name": "stdout",
     "output_type": "stream",
     "text": [
      "Dataset csv downloaded and prepared to /content/cache/csv/default-0c1dc360ac37b84b/0.0.0/2dc6629a9ff6b5697d82c25b73731dd440507a69cbce8b425db50b751e8fcfd0. Subsequent calls will reuse this data.\n",
      "Dataset({\n",
      "    features: ['path', 'sentence'],\n",
      "    num_rows: 2554\n",
      "})\n",
      "Dataset({\n",
      "    features: ['path', 'sentence'],\n",
      "    num_rows: 284\n",
      "})\n"
     ]
    }
   ],
   "source": [
    "common_voice_train = load_dataset(\"csv\", data_files={\"train\": \"/content/data/shemo/train.csv\"}, delimiter=\"\\t\")[\"train\"]\n",
    "common_voice_test = load_dataset(\"csv\", data_files={\"test\": \"/content/data/shemo/test.csv\"}, delimiter=\"\\t\")[\"test\"]\n",
    "\n",
    "print(common_voice_train)\n",
    "print(common_voice_test)"
   ]
  },
  {
   "cell_type": "markdown",
   "metadata": {
    "id": "Go9Hq4e4NDT9"
   },
   "source": [
    "Let's write a short function to display some random samples of the dataset and run it a couple of times to get a feeling for the transcriptions."
   ]
  },
  {
   "cell_type": "code",
   "execution_count": 18,
   "metadata": {
    "id": "72737oog2F6U"
   },
   "outputs": [],
   "source": [
    "from datasets import ClassLabel\n",
    "import random\n",
    "import pandas as pd\n",
    "from IPython.display import display, HTML\n",
    "\n",
    "def show_random_elements(dataset, num_examples=10):\n",
    "    assert num_examples <= len(dataset), \"Can't pick more elements than there are in the dataset.\"\n",
    "    picks = []\n",
    "    for _ in range(num_examples):\n",
    "        pick = random.randint(0, len(dataset)-1)\n",
    "        while pick in picks:\n",
    "            pick = random.randint(0, len(dataset)-1)\n",
    "        picks.append(pick)\n",
    "    \n",
    "    df = pd.DataFrame(dataset[picks])\n",
    "    display(HTML(df.to_html()))"
   ]
  },
  {
   "cell_type": "code",
   "execution_count": 19,
   "metadata": {
    "colab": {
     "base_uri": "https://localhost:8080/",
     "height": 647
    },
    "id": "K_JUmf3G3b9S",
    "outputId": "572c45c7-7782-4d62-dc0f-864649548f1c"
   },
   "outputs": [
    {
     "data": {
      "text/html": [
       "<table border=\"1\" class=\"dataframe\">\n",
       "  <thead>\n",
       "    <tr style=\"text-align: right;\">\n",
       "      <th></th>\n",
       "      <th>sentence</th>\n",
       "    </tr>\n",
       "  </thead>\n",
       "  <tbody>\n",
       "    <tr>\n",
       "      <th>0</th>\n",
       "      <td>بعد از اون اتفاقی که افتاد بعد از اینکه همایون اون دو تا رو با همدیگه دید من از خجالت نتونستم باهاش روبرو بشم</td>\n",
       "    </tr>\n",
       "    <tr>\n",
       "      <th>1</th>\n",
       "      <td>آه چه وضع بدی گیر کردم</td>\n",
       "    </tr>\n",
       "    <tr>\n",
       "      <th>2</th>\n",
       "      <td>کجا می ری</td>\n",
       "    </tr>\n",
       "    <tr>\n",
       "      <th>3</th>\n",
       "      <td>ولی اگه مادرت راضی نشد چی</td>\n",
       "    </tr>\n",
       "    <tr>\n",
       "      <th>4</th>\n",
       "      <td>من و دکتر مورتیمر همین دیشب هتل رو انتخاب کردیم</td>\n",
       "    </tr>\n",
       "    <tr>\n",
       "      <th>5</th>\n",
       "      <td>عبدرضا</td>\n",
       "    </tr>\n",
       "    <tr>\n",
       "      <th>6</th>\n",
       "      <td>برادرش ابوالفتح در میان سایر برادرانش به او نزدیک تر است</td>\n",
       "    </tr>\n",
       "    <tr>\n",
       "      <th>7</th>\n",
       "      <td>تحصیلات حوزوی در کنار تحصیلات آکادمیک از سال یک هزار و سیصد و بیست و هفت مطرح می شه</td>\n",
       "    </tr>\n",
       "    <tr>\n",
       "      <th>8</th>\n",
       "      <td>معصومه خانم سواد نداشته یه آدم بی سوادم ممکنه خیلی کارا بکنه که به ضررش باشه</td>\n",
       "    </tr>\n",
       "    <tr>\n",
       "      <th>9</th>\n",
       "      <td>ما داریم از یه چیز دیگه حرف می زنیم ولی تو باز می گی والتر</td>\n",
       "    </tr>\n",
       "    <tr>\n",
       "      <th>10</th>\n",
       "      <td>ولی من فکر کردم جلسه دوستانه است</td>\n",
       "    </tr>\n",
       "    <tr>\n",
       "      <th>11</th>\n",
       "      <td>اول اینکه لازم نیست از من تشکر کنی چون احتیاجی به تشکر نیست</td>\n",
       "    </tr>\n",
       "    <tr>\n",
       "      <th>12</th>\n",
       "      <td>والا از قدیم وندیم گفتن خلایق هر چی لایق</td>\n",
       "    </tr>\n",
       "    <tr>\n",
       "      <th>13</th>\n",
       "      <td>خداوند به شما سزای خیر بده آقایون نگهبانا شنیدید اعلی حضرت از قتل من صرفنظر کرد</td>\n",
       "    </tr>\n",
       "    <tr>\n",
       "      <th>14</th>\n",
       "      <td>و از خانواده بسیار شریفیه</td>\n",
       "    </tr>\n",
       "    <tr>\n",
       "      <th>15</th>\n",
       "      <td>حتی یه سنتش هم نزاشته واسم بمونه</td>\n",
       "    </tr>\n",
       "    <tr>\n",
       "      <th>16</th>\n",
       "      <td>بهت که گفتم اگه منو تیکه تیکه هم بکنی حاضر نیستم به مردم بهتون بزنم</td>\n",
       "    </tr>\n",
       "    <tr>\n",
       "      <th>17</th>\n",
       "      <td>داروندار منو مادرم همین حیاطه که ارثیه پدرمه چطور ممکنه بخشیده باشه اش به شما</td>\n",
       "    </tr>\n",
       "    <tr>\n",
       "      <th>18</th>\n",
       "      <td>ممکنه به من بگین چطور شد که معصومه خانم خدابیامرز خونه رو به اسم آقام کرد هان</td>\n",
       "    </tr>\n",
       "    <tr>\n",
       "      <th>19</th>\n",
       "      <td>با اونها همدستی آره</td>\n",
       "    </tr>\n",
       "  </tbody>\n",
       "</table>"
      ],
      "text/plain": [
       "<IPython.core.display.HTML object>"
      ]
     },
     "metadata": {
      "tags": []
     },
     "output_type": "display_data"
    }
   ],
   "source": [
    "show_random_elements(common_voice_train.remove_columns([\"path\"]), num_examples=20)"
   ]
  },
  {
   "cell_type": "markdown",
   "metadata": {
    "id": "fowcOllGNNju"
   },
   "source": [
    "Alright! The transcriptions look fairly clean. Having translated the transcribed sentences (I'm sadly not a native speaker in Turkish), it seems that the language corresponds more to written text than noisy dialogue. This makes sense taking into account that [Common Voice](https://huggingface.co/datasets/common_voice) is a crowd-sourced read speech corpus."
   ]
  },
  {
   "cell_type": "markdown",
   "metadata": {
    "id": "vq7OR50LN49m"
   },
   "source": [
    "We can see that the transcriptions contain some special characters, such as `,.?!;:`. Without a language model, it is much harder to classify speech chunks to such special characters because they don't really correspond to a characteristic sound unit. *E.g.*, the letter `\"s\"` has a more or less clear sound, whereas the special character `\".\"` does not.\n",
    "Also in order to understand the meaning of a speech signal, it is usually not necessary to include special characters in the transcription.\n",
    "\n",
    "In addition, we normalize the text to only have lower case letters and append a word separator token at the end."
   ]
  },
  {
   "cell_type": "code",
   "execution_count": 20,
   "metadata": {
    "id": "Z6IYIEAbWVdm"
   },
   "outputs": [],
   "source": [
    "def normalizer(batch, chars_to_ignore=chars_to_ignore, chars_to_mapping=chars_to_mapping):\n",
    "    chars_to_ignore_regex = f\"\"\"[{\"\".join(chars_to_ignore)}]\"\"\"\n",
    "    text = batch[\"sentence\"].lower().strip()\n",
    "\n",
    "    text = _normalizer.normalize(text)\n",
    "    text = multiple_replace(text, chars_to_mapping)\n",
    "    text = remove_special_characters(text, chars_to_ignore_regex)\n",
    "    text = re.sub(\" +\", \" \", text)\n",
    "    _text = []\n",
    "    for word in text.split():\n",
    "        try:\n",
    "            word = int(word)\n",
    "            _text.append(words(word))\n",
    "        except:\n",
    "            _text.append(word)\n",
    "            \n",
    "    text = \" \".join(_text) + \" \"\n",
    "    text = text.strip()\n",
    "\n",
    "    if not len(text) > 0:\n",
    "        return None\n",
    "    \n",
    "    batch[\"sentence\"] = text\n",
    "    \n",
    "    return batch"
   ]
  },
  {
   "cell_type": "code",
   "execution_count": 21,
   "metadata": {
    "colab": {
     "base_uri": "https://localhost:8080/"
    },
    "id": "svKzVJ_hQGK6",
    "outputId": "341b2442-1081-4e81-e3d4-771b942e0517"
   },
   "outputs": [
    {
     "name": "stdout",
     "output_type": "stream",
     "text": [
      "گاهی وقتا آهنگ صدات یه جوریه که انگار منو بی عرضه حساب می کنی \n",
      "اوا چرا در حیاتو بستی \n"
     ]
    }
   ],
   "source": [
    "print(common_voice_train[0][\"sentence\"])\n",
    "print(common_voice_test[0][\"sentence\"])"
   ]
  },
  {
   "cell_type": "code",
   "execution_count": 22,
   "metadata": {
    "colab": {
     "base_uri": "https://localhost:8080/",
     "height": 116,
     "referenced_widgets": [
      "613467560e9a46a4a16f8cb416e45b75",
      "6b636b67dc32429f9d36ba07e4152a7e",
      "88d7a25ab3c44edab759e70e92c36cda",
      "aca000c1005844a28bd48ad6e6731afb",
      "100706b8ee254f8685c98901371cf335",
      "b58cd86e11dc48ecb354520fb636dbce",
      "a5be7f73130645f9a0f6fab9982e7288",
      "7298e21aee3c42f0b207012e8f9dd028",
      "cb018166e04c4ce9a8684b18aecd2db2",
      "598ab951bebd4e4893f5c0c50f0e457f",
      "b3bc08c59b934d30b818a0021d0bd788",
      "5cc52e1d08a64e3e8338135ac8e35313",
      "e4f1de7cc99a43949f59987ee685fedb",
      "db561056236f41899704a665cacb0850",
      "28b37b4b7a0e468bbc8f44e0368f1d5c",
      "d63ecc8d703b46848f8ce30327ec8e23"
     ]
    },
    "id": "XIHocAuTQbBR",
    "outputId": "37760d3d-f45d-46e7-f05e-099c65fc7110"
   },
   "outputs": [
    {
     "data": {
      "application/vnd.jupyter.widget-view+json": {
       "model_id": "613467560e9a46a4a16f8cb416e45b75",
       "version_major": 2,
       "version_minor": 0
      },
      "text/plain": [
       "HBox(children=(FloatProgress(value=0.0, max=2554.0), HTML(value='')))"
      ]
     },
     "metadata": {
      "tags": []
     },
     "output_type": "display_data"
    },
    {
     "name": "stdout",
     "output_type": "stream",
     "text": [
      "\n"
     ]
    },
    {
     "data": {
      "application/vnd.jupyter.widget-view+json": {
       "model_id": "cb018166e04c4ce9a8684b18aecd2db2",
       "version_major": 2,
       "version_minor": 0
      },
      "text/plain": [
       "HBox(children=(FloatProgress(value=0.0, max=284.0), HTML(value='')))"
      ]
     },
     "metadata": {
      "tags": []
     },
     "output_type": "display_data"
    },
    {
     "name": "stdout",
     "output_type": "stream",
     "text": [
      "\n"
     ]
    }
   ],
   "source": [
    "common_voice_train = common_voice_train.map(normalizer, fn_kwargs={\"chars_to_ignore\": chars_to_ignore, \"chars_to_mapping\": chars_to_mapping})\n",
    "common_voice_test = common_voice_test.map(normalizer, fn_kwargs={\"chars_to_ignore\": chars_to_ignore, \"chars_to_mapping\": chars_to_mapping})"
   ]
  },
  {
   "cell_type": "code",
   "execution_count": 23,
   "metadata": {
    "colab": {
     "base_uri": "https://localhost:8080/"
    },
    "id": "RBDRAAYxRE6n",
    "outputId": "62f77cb5-79d5-46b8-f491-f8fc1bf34ae0"
   },
   "outputs": [
    {
     "name": "stdout",
     "output_type": "stream",
     "text": [
      "گاهی وقتا آهنگ صدات یه جوریه که انگار منو بی عرضه حساب می کنی\n",
      "اوا چرا در حیاتو بستی\n"
     ]
    }
   ],
   "source": [
    "print(common_voice_train[0][\"sentence\"])\n",
    "print(common_voice_test[0][\"sentence\"])"
   ]
  },
  {
   "cell_type": "markdown",
   "metadata": {
    "id": "jwfaptH5RJwA"
   },
   "source": [
    "Good! This looks better. We have removed most special characters from transcriptions and normalized them to lower-case only.\n",
    "\n",
    "In CTC, it is common to classify speech chunks into letters, so we will do the same here. \n",
    "Let's extract all distinct letters of the training and test data and build our vocabulary from this set of letters.\n",
    "\n",
    "We write a mapping function that concatenates all transcriptions into one long transcription and then transforms the string into a set of chars. \n",
    "It is important to pass the argument `batched=True` to the `map(...)` function so that the mapping function has access to all transcriptions at once."
   ]
  },
  {
   "cell_type": "code",
   "execution_count": 24,
   "metadata": {
    "id": "LwCshNbbeRZR"
   },
   "outputs": [],
   "source": [
    "def extract_all_chars(batch):\n",
    "    all_text = \" \".join(batch[\"sentence\"])\n",
    "    vocab = list(set(all_text))\n",
    "    return {\"vocab\": [vocab], \"all_text\": [all_text]}"
   ]
  },
  {
   "cell_type": "code",
   "execution_count": 25,
   "metadata": {
    "colab": {
     "base_uri": "https://localhost:8080/",
     "height": 116,
     "referenced_widgets": [
      "22f4f83b721f4cc1b1600c80e8f10b8a",
      "10f6895f000040389d9a1d3f2e7d57a3",
      "01f26e916db045f3bc933cfdf412020b",
      "a07576302dc742079329303a1c60ffd1",
      "eb8947bc998f4eefa4e02e7c908f5361",
      "b15247d7fce24127b951f28da0d694f4",
      "85a9c0455bb44c929aaf0ebc591c86e9",
      "44cc1988619a433da23fba11d2bf6302",
      "53b11173c6fb460a9612e3a960754ab4",
      "53f4bf8c20e04745b8723be9a7eea36a",
      "b75026e7e18c4a76a7432b3022ae3cfb",
      "107d1cbdab634eca8179310f84e6107a",
      "98e2a7a13dbe4a899a18813bdb8b746c",
      "24de77a4596c4b81adafbce9936cdd42",
      "9e8704f146cf49e0ad7c8caf8efd8e29",
      "2165a720d8e048a9bf2822495a1805df"
     ]
    },
    "id": "_m6uUjjcfbjH",
    "outputId": "ba128e6c-3965-4c02-8f6e-4b99c19ca93e"
   },
   "outputs": [
    {
     "data": {
      "application/vnd.jupyter.widget-view+json": {
       "model_id": "22f4f83b721f4cc1b1600c80e8f10b8a",
       "version_major": 2,
       "version_minor": 0
      },
      "text/plain": [
       "HBox(children=(FloatProgress(value=0.0, max=1.0), HTML(value='')))"
      ]
     },
     "metadata": {
      "tags": []
     },
     "output_type": "display_data"
    },
    {
     "name": "stdout",
     "output_type": "stream",
     "text": [
      "\n"
     ]
    },
    {
     "data": {
      "application/vnd.jupyter.widget-view+json": {
       "model_id": "53b11173c6fb460a9612e3a960754ab4",
       "version_major": 2,
       "version_minor": 0
      },
      "text/plain": [
       "HBox(children=(FloatProgress(value=0.0, max=1.0), HTML(value='')))"
      ]
     },
     "metadata": {
      "tags": []
     },
     "output_type": "display_data"
    },
    {
     "name": "stdout",
     "output_type": "stream",
     "text": [
      "\n"
     ]
    }
   ],
   "source": [
    "vocab_train = common_voice_train.map(extract_all_chars, batched=True, batch_size=-1, keep_in_memory=True, remove_columns=common_voice_train.column_names)\n",
    "vocab_test = common_voice_train.map(extract_all_chars, batched=True, batch_size=-1, keep_in_memory=True, remove_columns=common_voice_test.column_names)"
   ]
  },
  {
   "cell_type": "markdown",
   "metadata": {
    "id": "7oVgE8RZSJNP"
   },
   "source": [
    "Now, we create the union of all distinct letters in the training dataset and test dataset and convert the resulting list into an enumerated dictionary."
   ]
  },
  {
   "cell_type": "code",
   "execution_count": 26,
   "metadata": {
    "colab": {
     "base_uri": "https://localhost:8080/"
    },
    "id": "aQfneNsmlJI0",
    "outputId": "eb2b52c8-d835-4eac-e6fc-9dbfde2aa956"
   },
   "outputs": [
    {
     "name": "stdout",
     "output_type": "stream",
     "text": [
      "35\n",
      "['ء', 'آ', 'ئ', 'ا', 'ب', 'ت', 'ث', 'ج', 'ح', 'خ', 'د', 'ذ', 'ر', 'ز', 'س', 'ش', 'ص', 'ض', 'ط', 'ظ', 'ع', 'غ', 'ف', 'ق', 'ل', 'م', 'ن', 'ه', 'و', 'پ', 'چ', 'ژ', 'ک', 'گ', 'ی']\n"
     ]
    }
   ],
   "source": [
    "vocab_list = list(sorted(set(vocab_train[\"vocab\"][0]) | set(vocab_test[\"vocab\"][0])))\n",
    "vocab_list = [vocab for vocab in vocab_list if vocab not in [\" \", \"\\u0307\"]]\n",
    "print(len(vocab_list))\n",
    "print(vocab_list)"
   ]
  },
  {
   "cell_type": "code",
   "execution_count": 27,
   "metadata": {
    "colab": {
     "base_uri": "https://localhost:8080/"
    },
    "id": "_0kRndSvqaKk",
    "outputId": "2b3aef2f-8442-4b08-a25b-4ca4ff161552"
   },
   "outputs": [
    {
     "name": "stdout",
     "output_type": "stream",
     "text": [
      "35\n",
      "['ء', 'آ', 'ئ', 'ا', 'ب', 'ت', 'ث', 'ج', 'ح', 'خ', 'د', 'ذ', 'ر', 'ز', 'س', 'ش', 'ص', 'ض', 'ط', 'ظ', 'ع', 'غ', 'ف', 'ق', 'ل', 'م', 'ن', 'ه', 'و', 'پ', 'چ', 'ژ', 'ک', 'گ', 'ی']\n"
     ]
    }
   ],
   "source": [
    "vocab_list = list(sorted(set(vocab_train[\"vocab\"][0]) | set(vocab_test[\"vocab\"][0])))\n",
    "vocab_list = [vocab for vocab in vocab_list if vocab not in [\" \", \"\\u0307\"]]\n",
    "print(len(vocab_list))\n",
    "print(vocab_list)"
   ]
  },
  {
   "cell_type": "markdown",
   "metadata": {
    "id": "JOSzbvs9SXT1"
   },
   "source": [
    "Cool, we see that all letters of the alphabet occur in the dataset (which is not really surprising) and we also extracted the special characters `\" \"` and `'`. Note that we did not exclude those special characters because: \n",
    "\n",
    "- The model has to learn to predict when a word is finished or else the model prediction would always be a sequence of chars which would make it impossible to separate words from each other.\n",
    "- From the transcriptions above it seems that words that include an apostrophe, such as `maktouf'un` do exist in Turkish, so I decided to keep the apostrophe in the dataset. This might be a wrong assumption though.\n",
    "\n",
    "One should always keep in mind that the data-preprocessing is a very important step before training your model. E.g., we don't want our model to differentiate between `a` and `A` just because we forgot to normalize the data. The difference between `a` and `A` does not depend on the \"sound\" of the letter at all, but more on grammatical rules - *e.g.* use a capitalized letter at the beginning of the sentence. So it is sensible to remove the difference between capitalized and non-capitalized letters so that the model has an easier time learning to transcribe speech. \n",
    "\n",
    "It is always advantageous to get help from a native speaker of the language you would like to transcribe to verify whether the assumptions you made are sensible, *e.g.* I should have made sure that keeping `'`, but removing other special characters is a sensible choice for Turkish. "
   ]
  },
  {
   "cell_type": "markdown",
   "metadata": {
    "id": "b1fBRCn-TRaO"
   },
   "source": [
    "To make it clearer that `\" \"` has its own token class, we give it a more visible character `|`. In addition, we also add an \"unknown\" token so that the model can later deal with characters not encountered in Common Voice's training set. \n",
    "\n",
    "Finally, we also add a padding token that corresponds to CTC's \"*blank token*\". The \"blank token\" is a core component of the CTC algorithm. For more information, please take a look at the \"Alignment\" section [here](https://distill.pub/2017/ctc/)."
   ]
  },
  {
   "cell_type": "code",
   "execution_count": 28,
   "metadata": {
    "id": "npbIbBoLgaFX"
   },
   "outputs": [],
   "source": [
    "special_vocab = [\"<pad>\", \"<s>\", \"</s>\", \"<unk>\", \"|\"]"
   ]
  },
  {
   "cell_type": "code",
   "execution_count": 29,
   "metadata": {
    "colab": {
     "base_uri": "https://localhost:8080/"
    },
    "id": "znF0bNunsjbl",
    "outputId": "bed0df05-8289-4498-d697-5b0f999c2ee2"
   },
   "outputs": [
    {
     "name": "stdout",
     "output_type": "stream",
     "text": [
      "40\n",
      "{'<pad>': 0, '<s>': 1, '</s>': 2, '<unk>': 3, '|': 4, 'ء': 5, 'آ': 6, 'ئ': 7, 'ا': 8, 'ب': 9, 'ت': 10, 'ث': 11, 'ج': 12, 'ح': 13, 'خ': 14, 'د': 15, 'ذ': 16, 'ر': 17, 'ز': 18, 'س': 19, 'ش': 20, 'ص': 21, 'ض': 22, 'ط': 23, 'ظ': 24, 'ع': 25, 'غ': 26, 'ف': 27, 'ق': 28, 'ل': 29, 'م': 30, 'ن': 31, 'ه': 32, 'و': 33, 'پ': 34, 'چ': 35, 'ژ': 36, 'ک': 37, 'گ': 38, 'ی': 39}\n"
     ]
    }
   ],
   "source": [
    "vocab_dict = {v: k for k, v in enumerate(special_vocab + vocab_list)}\n",
    "print(len(vocab_dict))\n",
    "print(vocab_dict)"
   ]
  },
  {
   "cell_type": "markdown",
   "metadata": {
    "id": "SFPGfet8U5sL"
   },
   "source": [
    "Cool, now our vocabulary is complete and consists of 39 tokens, which means that the linear layer that we will add on top of the pretrained XLSR-Wav2Vec2 checkpoint will have an output dimension of 39."
   ]
  },
  {
   "cell_type": "markdown",
   "metadata": {
    "id": "1CujRgBNVRaD"
   },
   "source": [
    "Let's now save the vocabulary as a json file."
   ]
  },
  {
   "cell_type": "code",
   "execution_count": 30,
   "metadata": {
    "id": "ehyUoh9vk191"
   },
   "outputs": [],
   "source": [
    "import json\n",
    "with open('vocab.json', 'w') as vocab_file:\n",
    "    json.dump(vocab_dict, vocab_file)"
   ]
  },
  {
   "cell_type": "code",
   "execution_count": 31,
   "metadata": {
    "id": "-ZOtWbQRy0Uk"
   },
   "outputs": [],
   "source": [
    "save_dir = \"/PATH/TO/YOUR/OUTPUT\"\n",
    "model_name_or_path = \"masoudmzb/wav2vec2-xlsr-multilingual-53-fa\""
   ]
  },
  {
   "cell_type": "code",
   "execution_count": 32,
   "metadata": {
    "colab": {
     "base_uri": "https://localhost:8080/"
    },
    "id": "jFLmRGeX1ynT",
    "outputId": "a16e2cbc-2897-45a0-f210-0eff0d1bd7fc"
   },
   "outputs": [
    {
     "name": "stdout",
     "output_type": "stream",
     "text": [
      "None\n"
     ]
    }
   ],
   "source": [
    "from transformers.trainer_utils import get_last_checkpoint\n",
    "\n",
    "last_checkpoint = None\n",
    "if os.path.exists(save_dir):\n",
    "    last_checkpoint = get_last_checkpoint(save_dir)\n",
    "\n",
    "print(last_checkpoint if last_checkpoint else str(None))"
   ]
  },
  {
   "cell_type": "markdown",
   "metadata": {
    "id": "SHJDaKlIVVim"
   },
   "source": [
    "In a final step, we use the json file to instantiate an object of the `Wav2Vec2CTCTokenizer` class."
   ]
  },
  {
   "cell_type": "code",
   "execution_count": 33,
   "metadata": {
    "colab": {
     "base_uri": "https://localhost:8080/",
     "height": 184,
     "referenced_widgets": [
      "1681f97056194d29aecc1d912d6f431b",
      "e7588f915f5f4a12ae38d31a67206dd1",
      "aef1ffdb48dc4c20bba564c894bdcf8d",
      "f6f747607432429d936ea34411655340",
      "7655fde9425e4f5183b1d76d98eeabfc",
      "2af6d799010748e0bb8fc2da45a6ca94",
      "f52c2d9fcc4547f0b4aabdb0c1375357",
      "2636b0736db1442d9e632582f23b5d59",
      "c6347c2cb831422ea0c34cb1584798fe",
      "356e443c65b94bb3ad5bbe8c4dbde133",
      "bcab711c054b4824961face96b90d706",
      "0cd0c670d53a4cf68cbca84f7cb00a07",
      "a93874473d064f638bcea28c5e2fdfd4",
      "44cde1bf1b104c02b867f8b8852eadfc",
      "19a99812495042f2a908ad93aa42b091",
      "963e370b6c384133b5f916eed6d19ca9",
      "92a5920070794a0590b8f04ac0e9db2d",
      "98b11a17941e4a8397cead777018e8ab",
      "f00f014cf8cf4ba9a3335dbdfdd66487",
      "b0ebb9d65b964ed1b5cd31acf464023c",
      "3ddb8bbfc18c4df59ee4a82d64cec7a6",
      "5d81e61dc55e4dde91e66346d2e5e24f",
      "a980666c11c74d959ff230a60e630c58",
      "8fc5ff400f9d46409404f1ecf8a8d05d"
     ]
    },
    "id": "xriFGEWQkO4M",
    "outputId": "1f71eb64-50e2-4d53-8b56-4bfb75f76bef"
   },
   "outputs": [
    {
     "name": "stdout",
     "output_type": "stream",
     "text": [
      "Load from m3hrdadfi/wav2vec2-large-xlsr-persian-v2\n"
     ]
    },
    {
     "data": {
      "application/vnd.jupyter.widget-view+json": {
       "model_id": "1681f97056194d29aecc1d912d6f431b",
       "version_major": 2,
       "version_minor": 0
      },
      "text/plain": [
       "HBox(children=(FloatProgress(value=0.0, description='Downloading', max=398.0, style=ProgressStyle(description_…"
      ]
     },
     "metadata": {
      "tags": []
     },
     "output_type": "display_data"
    },
    {
     "name": "stdout",
     "output_type": "stream",
     "text": [
      "\n"
     ]
    },
    {
     "data": {
      "application/vnd.jupyter.widget-view+json": {
       "model_id": "c6347c2cb831422ea0c34cb1584798fe",
       "version_major": 2,
       "version_minor": 0
      },
      "text/plain": [
       "HBox(children=(FloatProgress(value=0.0, description='Downloading', max=138.0, style=ProgressStyle(description_…"
      ]
     },
     "metadata": {
      "tags": []
     },
     "output_type": "display_data"
    },
    {
     "name": "stdout",
     "output_type": "stream",
     "text": [
      "\n"
     ]
    },
    {
     "data": {
      "application/vnd.jupyter.widget-view+json": {
       "model_id": "92a5920070794a0590b8f04ac0e9db2d",
       "version_major": 2,
       "version_minor": 0
      },
      "text/plain": [
       "HBox(children=(FloatProgress(value=0.0, description='Downloading', max=85.0, style=ProgressStyle(description_w…"
      ]
     },
     "metadata": {
      "tags": []
     },
     "output_type": "display_data"
    },
    {
     "name": "stdout",
     "output_type": "stream",
     "text": [
      "\n"
     ]
    }
   ],
   "source": [
    "from transformers import Wav2Vec2CTCTokenizer\n",
    "\n",
    "if not os.path.exists(save_dir) and not model_name_or_path:\n",
    "    print(\"Load from scratch\")\n",
    "    tokenizer = Wav2Vec2CTCTokenizer(\n",
    "        \"./fa.vocab.json\", \n",
    "        bos_token=\"<s>\",\n",
    "        eos_token=\"</s>\",\n",
    "        unk_token=\"<unk>\",\n",
    "        pad_token=\"<pad>\",\n",
    "        word_delimiter_token=\"|\",\n",
    "        do_lower_case=False\n",
    "    )\n",
    "else:\n",
    "    print(f\"Load from {model_name_or_path}\")\n",
    "    tokenizer = Wav2Vec2CTCTokenizer.from_pretrained(model_name_or_path)"
   ]
  },
  {
   "cell_type": "code",
   "execution_count": 34,
   "metadata": {
    "colab": {
     "base_uri": "https://localhost:8080/"
    },
    "id": "BDggn2nUPNHO",
    "outputId": "b9c8df1a-a46e-43e1-c286-9d0d47467c94"
   },
   "outputs": [
    {
     "name": "stdout",
     "output_type": "stream",
     "text": [
      "ا ز | م ه م و ن د ا ر ی | ک ن ا ر | ب ک ش م\n",
      "از مهمونداری کنار بکشم\n"
     ]
    }
   ],
   "source": [
    "text = \"از مهمونداری کنار بکشم\"\n",
    "print(\" \".join(tokenizer.tokenize(text)))\n",
    "print(tokenizer.decode(tokenizer.encode(text)))"
   ]
  },
  {
   "cell_type": "markdown",
   "metadata": {
    "id": "KvL12DrNV4cx"
   },
   "source": [
    "Next, we will create the feature extractor."
   ]
  },
  {
   "cell_type": "markdown",
   "metadata": {
    "id": "mYcIiR2FQ96i"
   },
   "source": [
    "### Create XLSR-Wav2Vec2 Feature Extractor"
   ]
  },
  {
   "cell_type": "markdown",
   "metadata": {
    "id": "Y6mDEyW719rx"
   },
   "source": [
    "Speech is a continuous signal and to be treated by computers, it first has to be discretized, which is usually called **sampling**. The sampling rate hereby plays an important role in that it defines how many data points of the speech signal are measured per second. Therefore, sampling with a higher sampling rate results in a better approximation of the *real* speech signal but also necessitates more values per second.\n",
    "\n",
    "A pretrained checkpoint expects its input data to have been sampled more or less from the same distribution as the data it was trained on. The same speech signals sampled at two different rates have a very different distribution, *e.g.*, doubling the sampling rate results in data points being twice as long. Thus, \n",
    "before fine-tuning a pretrained checkpoint of an ASR model, it is crucial to verify that the sampling rate of the data that was used to pretrain the model matches the sampling rate of the dataset used to fine-tune the model.\n",
    "\n",
    "XLSR-Wav2Vec2 was pretrained on the audio data of [Babel](https://huggingface.co/datasets/librispeech_asr), \n",
    "[Multilingual LibriSpeech (MLS)](https://ai.facebook.com/blog/a-new-open-data-set-for-multilingual-speech-research/), and [Common Voice](https://huggingface.co/datasets/common_voice). Most of those datasets were sampled at 16kHz, so that Common Voice, sampled at 48kHz, has to be downsampled to 16kHz for training. Therefore, we will have to downsample our fine-tuning data to 16kHz in the following.\n",
    "\n"
   ]
  },
  {
   "cell_type": "markdown",
   "metadata": {
    "id": "KuUbPW7oV-B5"
   },
   "source": [
    "A XLSR-Wav2Vec2 feature extractor object requires the following parameters to be instantiated:\n",
    "\n",
    "- `feature_size`: Speech models take a sequence of feature vectors as an input. While the length of this sequence obviously varies, the feature size should not. In the case of Wav2Vec2, the feature size is 1 because the model was trained on the raw speech signal ${}^2$.\n",
    "- `sampling_rate`: The sampling rate at which the model is trained on.\n",
    "- `padding_value`: For batched inference, shorter inputs need to be padded with a specific value\n",
    "- `do_normalize`: Whether the input should be *zero-mean-unit-variance* normalized or not. Usually, speech models perform better when normalizing the input\n",
    "- `return_attention_mask`: Whether the model should make use of an `attention_mask` for batched inference. In general, XLSR-Wav2Vec2 models should **always** make use of the `attention_mask`."
   ]
  },
  {
   "cell_type": "code",
   "execution_count": 35,
   "metadata": {
    "colab": {
     "base_uri": "https://localhost:8080/",
     "height": 84,
     "referenced_widgets": [
      "a6da1f055ff849ad9b1a1e8e89b49ca6",
      "4793ab8f8bb84e718b5c8529fef87e73",
      "e33b957224c645ecaaf60e059a5af8dd",
      "c8a963b33c00431bac74b49ebd624151",
      "666fdad7e45342feb755a2d6e25c44af",
      "58e1ae7e02b6423593b40b1be0c18b37",
      "59b4920e7e114c37af4c714531f4afe9",
      "fb9b9455890646ff992d86c9f9e94f21"
     ]
    },
    "id": "kAR0-2KLkopp",
    "outputId": "b9fa8299-8106-4ce6-87d7-bb1d0f95ab9c"
   },
   "outputs": [
    {
     "name": "stdout",
     "output_type": "stream",
     "text": [
      "Load from m3hrdadfi/wav2vec2-large-xlsr-persian-v2\n"
     ]
    },
    {
     "data": {
      "application/vnd.jupyter.widget-view+json": {
       "model_id": "a6da1f055ff849ad9b1a1e8e89b49ca6",
       "version_major": 2,
       "version_minor": 0
      },
      "text/plain": [
       "HBox(children=(FloatProgress(value=0.0, description='Downloading', max=158.0, style=ProgressStyle(description_…"
      ]
     },
     "metadata": {
      "tags": []
     },
     "output_type": "display_data"
    },
    {
     "name": "stdout",
     "output_type": "stream",
     "text": [
      "\n"
     ]
    }
   ],
   "source": [
    "from transformers import Wav2Vec2FeatureExtractor\n",
    "\n",
    "if not os.path.exists(save_dir) and not model_name_or_path:\n",
    "    print(\"Load from scratch\")\n",
    "    feature_extractor = Wav2Vec2FeatureExtractor(feature_size=1, sampling_rate=16000, padding_value=0.0, do_normalize=True, return_attention_mask=True)\n",
    "else:\n",
    "    print(f\"Load from {model_name_or_path}\")\n",
    "    feature_extractor = Wav2Vec2FeatureExtractor.from_pretrained(model_name_or_path)"
   ]
  },
  {
   "cell_type": "markdown",
   "metadata": {
    "id": "qUETetgqYC3W"
   },
   "source": [
    "Great, XLSR-Wav2Vec2's feature extraction pipeline is thereby fully defined!\n",
    "\n",
    "To make the usage of XLSR-Wav2Vec2 as user-friendly as possible, the feature extractor and tokenizer are *wrapped* into a single `Wav2Vec2Processor` class so that one only needs a `model` and `processor` object."
   ]
  },
  {
   "cell_type": "code",
   "execution_count": 36,
   "metadata": {
    "colab": {
     "base_uri": "https://localhost:8080/"
    },
    "id": "KYZtoW-tlZgl",
    "outputId": "79a16045-490e-4cd1-a726-94c8e27e8db0"
   },
   "outputs": [
    {
     "name": "stdout",
     "output_type": "stream",
     "text": [
      "Load from m3hrdadfi/wav2vec2-large-xlsr-persian-v2\n"
     ]
    }
   ],
   "source": [
    "from transformers import Wav2Vec2Processor\n",
    "\n",
    "if not os.path.exists(save_dir) and not model_name_or_path:\n",
    "    print(\"Load from scratch\")\n",
    "    processor = Wav2Vec2Processor(feature_extractor=feature_extractor, tokenizer=tokenizer)\n",
    "else:\n",
    "    print(f\"Load from {model_name_or_path}\")\n",
    "    processor = Wav2Vec2Processor.from_pretrained(model_name_or_path)"
   ]
  },
  {
   "cell_type": "code",
   "execution_count": 37,
   "metadata": {
    "colab": {
     "base_uri": "https://localhost:8080/"
    },
    "id": "T2wemzVvPSYt",
    "outputId": "efc1b9f8-7796-400b-c9d7-5a25ed7bef65"
   },
   "outputs": [
    {
     "name": "stdout",
     "output_type": "stream",
     "text": [
      "40\n"
     ]
    }
   ],
   "source": [
    "if len(processor.tokenizer.get_vocab()) == len(processor.tokenizer):\n",
    "    print(len(processor.tokenizer))"
   ]
  },
  {
   "cell_type": "markdown",
   "metadata": {
    "id": "fTfFDSS0YfMN"
   },
   "source": [
    "If one wants to re-use the just created processor and the fine-tuned model of this notebook, one can mount his/her google drive to the notebook and save all relevant files there. To do so, please uncomment the following lines. \n",
    "\n",
    "We will give the fine-tuned model the name `\"wav2vec2-large-xlsr-turkish-demo\"`."
   ]
  },
  {
   "cell_type": "code",
   "execution_count": 38,
   "metadata": {
    "colab": {
     "base_uri": "https://localhost:8080/"
    },
    "id": "Par9rpypPsml",
    "outputId": "e63a9f9e-9dcc-41b9-a47d-d65d37100380"
   },
   "outputs": [
    {
     "name": "stdout",
     "output_type": "stream",
     "text": [
      "Saving ...\n",
      "Saved!\n"
     ]
    }
   ],
   "source": [
    "if not os.path.exists(save_dir):\n",
    "    print(\"Saving ...\")\n",
    "    processor.save_pretrained(save_dir)\n",
    "    print(\"Saved!\")"
   ]
  },
  {
   "cell_type": "markdown",
   "metadata": {
    "id": "DrKnYuvDIoOO"
   },
   "source": [
    "Next, we can prepare the dataset."
   ]
  },
  {
   "cell_type": "markdown",
   "metadata": {
    "id": "YFmShnl7RE35"
   },
   "source": [
    "### Preprocess Data\n",
    "\n",
    "So far, we have not looked at the actual values of the speech signal but just kept the path to its file in the dataset. `XLSR-Wav2Vec2` expects the audio file in the format of a 1-dimensional array, so in the first step, let's load all audio files into the dataset object.\n",
    "\n",
    "Let's first check the serialization format of the downloaded audio files by looking at the first training sample."
   ]
  },
  {
   "cell_type": "code",
   "execution_count": 39,
   "metadata": {
    "colab": {
     "base_uri": "https://localhost:8080/"
    },
    "id": "TTCS7W6XJ9BG",
    "outputId": "dde0a4b3-0c9a-4ca4-c513-b0fd6aa4d861"
   },
   "outputs": [
    {
     "data": {
      "text/plain": [
       "{'path': '/content/data/shemo/male/M12A29.wav',\n",
       " 'sentence': 'گاهی وقتا آهنگ صدات یه جوریه که انگار منو بی عرضه حساب می کنی'}"
      ]
     },
     "execution_count": 39,
     "metadata": {
      "tags": []
     },
     "output_type": "execute_result"
    }
   ],
   "source": [
    "common_voice_train[0]"
   ]
  },
  {
   "cell_type": "markdown",
   "metadata": {
    "id": "wSBIGEiaKHMn"
   },
   "source": [
    "Alright, the audio file is saved in the `.mp3` format. The `.mp3` format is usually not the easiest format to deal with. We found that the [`torchaudio`](https://pytorch.org/audio/stable/index.html) library works best for reading in `.mp3` data. \n",
    "\n",
    "An audio file usually stores both its values and the sampling rate with which the speech signal was digitalized. We want to store both in the dataset and write a `map(...)` function accordingly."
   ]
  },
  {
   "cell_type": "markdown",
   "metadata": {
    "id": "ki5sXmzucc9Q"
   },
   "source": [
    "Great, now we've successfully read in all the audio files, but since we know that Common Voice is sampled at 48kHz, we need to resample the audio files to 16kHz. \n",
    "\n",
    "Let's make use of the [`librosa`](https://github.com/librosa/librosa) library to downsample the data."
   ]
  },
  {
   "cell_type": "code",
   "execution_count": 40,
   "metadata": {
    "id": "al9Luo4LPpwJ"
   },
   "outputs": [],
   "source": [
    "import torchaudio\n",
    "import librosa\n",
    "\n",
    "\n",
    "target_sampling_rate = 16_000\n",
    "\n",
    "def speech_file_to_array_fn(batch):\n",
    "    speech_array, sampling_rate = torchaudio.load(batch[\"path\"])\n",
    "    speech_array = speech_array.squeeze().numpy()\n",
    "    speech_array = librosa.resample(np.asarray(speech_array), sampling_rate, target_sampling_rate)\n",
    "    \n",
    "    \n",
    "    batch[\"speech\"] = speech_array\n",
    "    batch[\"sampling_rate\"] = target_sampling_rate\n",
    "    batch[\"duration_in_seconds\"] = len(batch[\"speech\"]) / target_sampling_rate\n",
    "    batch[\"target_text\"] = batch[\"sentence\"]\n",
    "    return batch"
   ]
  },
  {
   "cell_type": "code",
   "execution_count": 41,
   "metadata": {
    "colab": {
     "base_uri": "https://localhost:8080/",
     "height": 451,
     "referenced_widgets": [
      "898ef336d7104d608de310a37214b37a",
      "ea8daa053f5e450f818af8c81e61a054",
      "c3abb0b49a8e4962aa44290495b58d15",
      "6686c1ee618145bca3fc669472f9ff19",
      "e7621a6152264d37a51ad6a7493e59a1",
      "bcf3660f621f486b8323ddefb719e482",
      "be571158ed1f41bda0a2c11285b29a2b",
      "aa694b2696754e409cbd2e6974dea63a",
      "de0083ba49214ae0bf9fa03f24d59252",
      "cbb9c825928c458fa1d38d178773c67a",
      "2883dbacb6dd411eb274f394316e6f37",
      "c746d537cf2a49578626e98e4af76c1d",
      "3c91cd9a4c774bb58225ae4034ff46f6",
      "6213b09b1e394fdcb5af7d956aab02e2",
      "ccf494b45b474dca84e2b6c28c858240",
      "932f3c7906314d9bbc8216f479ebbb5c",
      "9baa1cac03ed419689c6c6baa5e04cf4",
      "c227cea6359b43168b29b447dd56f844",
      "687c80ddd3ba4101bc8d3f8ee3a5b735",
      "32923af9202e41688ebcda3fd40a6866",
      "7201376a9c4e4f8195bf6ca8871506b6",
      "fe59e93e90c64f978cd45513b6cba8b9",
      "6ba39eae5ad04f77a92953405a5f04f4",
      "748a65bad11e4430afa97a2309925f12",
      "f7018490f1d14d00b6507f682aea065a",
      "a4845495af424c4c8b5bdc7ad249f1d0",
      "c94a90468ed74bfabc021c549e54b0d7",
      "052acf0626e54710b99ef8d922af7864",
      "04bfbeb823734fdc86727bf2ec7f1e29",
      "cb8ebff4856148c9b4a967aaa91f0165",
      "b01beb6c9216431c936fe532035c4c17",
      "a9cb5df978d142c39f7d7071815b6ace",
      "7859ec09826c4cc5aee1338b99e03618",
      "9e67d0cf1772484ea6e615042b218b02",
      "abcc540f951540f89222054128f0f2d6",
      "38ff76e364da4908a809ba1f792aa550",
      "7cede60050794ed082c8c0b54b556f55",
      "fd9d7205d57c4cd0b93aad856e021516",
      "a4906a1ff8a843a7890409b30b8cd990",
      "a65221d962734202aa388c8ce0e7357a",
      "fede86c237ff4fe0bb18a181c3a1c956",
      "397325e6a3634994aafef1d49ef7c680",
      "30071df022da4983a47ce25dbd9c49ce",
      "3a444223c9c34c1d86a5e28ab47f25d9",
      "4b84d941d25f4652922534e81b49b840",
      "4a1f7e5a67cf403086e1ff0539239554",
      "91f67c517828499bbdf9fd9fc9447b8a",
      "c806cd1778384afe8665c1f4e8ae54a3",
      "3da81764ed0d4b02b42000f0b8a8ebe1",
      "0e293cddcaeb4cf88ecb3b7eeb2f6de7",
      "5193422ff22948e194a38f4ff22be033",
      "d142f3190f0549f388831fb50e95184a",
      "db515f7263c74636a73130bc83841e2a",
      "fac052e4037146b1998613ef28fdf790",
      "09e036690769494da989a6c64c112b32",
      "acda6f9d3a6340858f6541df0af2bc21",
      "05e55b7cf5a1490eb2813c6c184985d5",
      "06e80f28bd0f4b308aa4dfe908eb0bf1",
      "0bd3dae6efe042d69948e5588c7434f9",
      "4d4fd258b8a44b48a17ab23e3f8a4a4a",
      "83c2b5d24c114974880b44d28b03a4fc",
      "37a0362815804fe083dd65ff42d52755",
      "ac8b74f7d3284ffc8cc88677cb6102a0",
      "b6184ce2108a4e7387fb97e9deeafadc"
     ]
    },
    "id": "-woOa1100s1r",
    "outputId": "13c9b3c8-c0b5-436a-bee6-a3a8d8e9a32e"
   },
   "outputs": [
    {
     "name": "stdout",
     "output_type": "stream",
     "text": [
      "    "
     ]
    },
    {
     "data": {
      "application/vnd.jupyter.widget-view+json": {
       "model_id": "898ef336d7104d608de310a37214b37a",
       "version_major": 2,
       "version_minor": 0
      },
      "text/plain": [
       "HBox(children=(FloatProgress(value=0.0, description='#0', max=639.0, style=ProgressStyle(description_width='in…"
      ]
     },
     "metadata": {
      "tags": []
     },
     "output_type": "display_data"
    },
    {
     "data": {
      "application/vnd.jupyter.widget-view+json": {
       "model_id": "de0083ba49214ae0bf9fa03f24d59252",
       "version_major": 2,
       "version_minor": 0
      },
      "text/plain": [
       "HBox(children=(FloatProgress(value=0.0, description='#1', max=639.0, style=ProgressStyle(description_width='in…"
      ]
     },
     "metadata": {
      "tags": []
     },
     "output_type": "display_data"
    },
    {
     "data": {
      "application/vnd.jupyter.widget-view+json": {
       "model_id": "9baa1cac03ed419689c6c6baa5e04cf4",
       "version_major": 2,
       "version_minor": 0
      },
      "text/plain": [
       "HBox(children=(FloatProgress(value=0.0, description='#3', max=638.0, style=ProgressStyle(description_width='in…"
      ]
     },
     "metadata": {
      "tags": []
     },
     "output_type": "display_data"
    },
    {
     "data": {
      "application/vnd.jupyter.widget-view+json": {
       "model_id": "f7018490f1d14d00b6507f682aea065a",
       "version_major": 2,
       "version_minor": 0
      },
      "text/plain": [
       "HBox(children=(FloatProgress(value=0.0, description='#2', max=638.0, style=ProgressStyle(description_width='in…"
      ]
     },
     "metadata": {
      "tags": []
     },
     "output_type": "display_data"
    },
    {
     "name": "stdout",
     "output_type": "stream",
     "text": [
      "\n",
      "\n",
      "\n",
      "\n",
      "    "
     ]
    },
    {
     "data": {
      "application/vnd.jupyter.widget-view+json": {
       "model_id": "7859ec09826c4cc5aee1338b99e03618",
       "version_major": 2,
       "version_minor": 0
      },
      "text/plain": [
       "HBox(children=(FloatProgress(value=0.0, description='#2', max=71.0, style=ProgressStyle(description_width='ini…"
      ]
     },
     "metadata": {
      "tags": []
     },
     "output_type": "display_data"
    },
    {
     "data": {
      "application/vnd.jupyter.widget-view+json": {
       "model_id": "fede86c237ff4fe0bb18a181c3a1c956",
       "version_major": 2,
       "version_minor": 0
      },
      "text/plain": [
       "HBox(children=(FloatProgress(value=0.0, description='#3', max=71.0, style=ProgressStyle(description_width='ini…"
      ]
     },
     "metadata": {
      "tags": []
     },
     "output_type": "display_data"
    },
    {
     "data": {
      "application/vnd.jupyter.widget-view+json": {
       "model_id": "3da81764ed0d4b02b42000f0b8a8ebe1",
       "version_major": 2,
       "version_minor": 0
      },
      "text/plain": [
       "HBox(children=(FloatProgress(value=0.0, description='#1', max=71.0, style=ProgressStyle(description_width='ini…"
      ]
     },
     "metadata": {
      "tags": []
     },
     "output_type": "display_data"
    },
    {
     "data": {
      "application/vnd.jupyter.widget-view+json": {
       "model_id": "05e55b7cf5a1490eb2813c6c184985d5",
       "version_major": 2,
       "version_minor": 0
      },
      "text/plain": [
       "HBox(children=(FloatProgress(value=0.0, description='#0', max=71.0, style=ProgressStyle(description_width='ini…"
      ]
     },
     "metadata": {
      "tags": []
     },
     "output_type": "display_data"
    },
    {
     "name": "stdout",
     "output_type": "stream",
     "text": [
      "\n",
      "\n",
      "\n",
      "\n"
     ]
    }
   ],
   "source": [
    "common_voice_train = common_voice_train.map(speech_file_to_array_fn, remove_columns=common_voice_train.column_names, num_proc=4)\n",
    "common_voice_test = common_voice_test.map(speech_file_to_array_fn, remove_columns=common_voice_test.column_names, num_proc=4)"
   ]
  },
  {
   "cell_type": "code",
   "execution_count": 42,
   "metadata": {
    "colab": {
     "base_uri": "https://localhost:8080/"
    },
    "id": "6Y6AK3Z-kHwP",
    "outputId": "cd55d31b-672e-40ef-dd9b-8a0a4869147c"
   },
   "outputs": [
    {
     "data": {
      "text/plain": [
       "dict_keys(['duration_in_seconds', 'sampling_rate', 'speech', 'target_text'])"
      ]
     },
     "execution_count": 42,
     "metadata": {
      "tags": []
     },
     "output_type": "execute_result"
    }
   ],
   "source": [
    "common_voice_train[0].keys()"
   ]
  },
  {
   "cell_type": "code",
   "execution_count": 43,
   "metadata": {
    "colab": {
     "base_uri": "https://localhost:8080/"
    },
    "id": "Ws8DyIL_kjwT",
    "outputId": "11f2f920-decb-4006-e5c9-8d925ce10fd4"
   },
   "outputs": [
    {
     "name": "stdout",
     "output_type": "stream",
     "text": [
      "16000\n",
      "16000\n"
     ]
    }
   ],
   "source": [
    "print(common_voice_train[0][\"sampling_rate\"])\n",
    "print(common_voice_test[0][\"sampling_rate\"])"
   ]
  },
  {
   "cell_type": "code",
   "execution_count": 44,
   "metadata": {
    "id": "WQ97D59-PtlS"
   },
   "outputs": [],
   "source": [
    "min_duration_in_seconds = 5.0\n",
    "max_duration_in_seconds = 10.0\n",
    "\n",
    "def filter_by_max_duration(batch):\n",
    "    return min_duration_in_seconds <= batch[\"duration_in_seconds\"] <= max_duration_in_seconds"
   ]
  },
  {
   "cell_type": "code",
   "execution_count": 74,
   "metadata": {
    "colab": {
     "base_uri": "https://localhost:8080/"
    },
    "id": "Cw2alsdBPySl",
    "outputId": "c24b3d1a-0d09-4415-9cbb-ae9b0f7aee10"
   },
   "outputs": [
    {
     "name": "stdout",
     "output_type": "stream",
     "text": [
      "Split sizes [BEFORE]: 2554 train and 284 validation.\n",
      " "
     ]
    },
    {
     "name": "stderr",
     "output_type": "stream",
     "text": [
      "Loading cached processed dataset at /content/cache/csv/default-ad23541acd8a9a2f/0.0.0/2dc6629a9ff6b5697d82c25b73731dd440507a69cbce8b425db50b751e8fcfd0/cache-fa58d62006a6b647.arrow\n"
     ]
    },
    {
     "name": "stdout",
     "output_type": "stream",
     "text": [
      "  "
     ]
    },
    {
     "name": "stderr",
     "output_type": "stream",
     "text": [
      "Loading cached processed dataset at /content/cache/csv/default-ad23541acd8a9a2f/0.0.0/2dc6629a9ff6b5697d82c25b73731dd440507a69cbce8b425db50b751e8fcfd0/cache-03d4bf2ba56d974e.arrow\n"
     ]
    },
    {
     "name": "stdout",
     "output_type": "stream",
     "text": [
      " "
     ]
    },
    {
     "name": "stderr",
     "output_type": "stream",
     "text": [
      "Loading cached processed dataset at /content/cache/csv/default-ad23541acd8a9a2f/0.0.0/2dc6629a9ff6b5697d82c25b73731dd440507a69cbce8b425db50b751e8fcfd0/cache-9b7c55bdd17b24c1.arrow\n",
      "Loading cached processed dataset at /content/cache/csv/default-ad23541acd8a9a2f/0.0.0/2dc6629a9ff6b5697d82c25b73731dd440507a69cbce8b425db50b751e8fcfd0/cache-57bb83757b2b8559.arrow\n"
     ]
    },
    {
     "name": "stdout",
     "output_type": "stream",
     "text": [
      "Split sizes [AFTER]: 536 train and 284 validation.\n"
     ]
    }
   ],
   "source": [
    "print(f\"Split sizes [BEFORE]: {len(common_voice_train)} train and {len(common_voice_test)} validation.\")\n",
    "\n",
    "_common_voice_train = common_voice_train.filter(filter_by_max_duration, num_proc=4)\n",
    "_common_voice_test = common_voice_test\n",
    "# _common_voice_test = common_voice_test.filter(filter_by_max_duration, num_proc=4)\n",
    "\n",
    "print(f\"Split sizes [AFTER]: {len(_common_voice_train)} train and {len(_common_voice_test)} validation.\")"
   ]
  },
  {
   "cell_type": "markdown",
   "metadata": {
    "id": "SOckzFd4Mbzq"
   },
   "source": [
    "This seemed to have worked! Let's listen to a couple of audio files to better understand the dataset and verify that the audio was correctly loaded. \n",
    "\n",
    "**Note**: *You can click the following cell a couple of times to listen to different speech samples.*"
   ]
  },
  {
   "cell_type": "markdown",
   "metadata": {
    "id": "1MaL9J2dNVtG"
   },
   "source": [
    "It can be heard, that the speakers change along with their speaking rate, accent, and background environment, etc. Overall, the recordings sound acceptably clear though, which is to be expected from a crowd-sourced read speech corpus.\n",
    "\n",
    "Let's do a final check that the data is correctly prepared, by printing the shape of the speech input, its transcription, and the corresponding sampling rate.\n",
    "\n",
    "**Note**: *You can click the following cell a couple of times to verify multiple samples.*"
   ]
  },
  {
   "cell_type": "code",
   "execution_count": 46,
   "metadata": {
    "colab": {
     "base_uri": "https://localhost:8080/",
     "height": 127
    },
    "id": "JmgRe4a0zuDO",
    "outputId": "9d743b4e-9f14-40ae-b577-922afc6d91ee"
   },
   "outputs": [
    {
     "name": "stdout",
     "output_type": "stream",
     "text": [
      "Target text: من آخرین صفحه های زندگی فن شا رو به چاله ای پر از آب باران سپردم\n",
      "Input array shape: (113650,)\n",
      "Sampling rate: 16000\n"
     ]
    },
    {
     "data": {
      "text/html": [
       "\n",
       "                <audio controls=\"controls\" autoplay=\"autoplay\">\n",
       "                    <source src=\"data:audio/wav;base64,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\" type=\"audio/wav\" />\n",
       "                    Your browser does not support the audio element.\n",
       "                </audio>\n",
       "              "
      ],
      "text/plain": [
       "<IPython.lib.display.Audio object>"
      ]
     },
     "execution_count": 46,
     "metadata": {
      "tags": []
     },
     "output_type": "execute_result"
    }
   ],
   "source": [
    "import IPython.display as ipd\n",
    "import numpy as np\n",
    "import random\n",
    "\n",
    "sample = _common_voice_train\n",
    "rand_int = random.randint(0, len(sample))\n",
    "\n",
    "print(\"Target text:\", sample[rand_int][\"target_text\"])\n",
    "print(\"Input array shape:\", np.asarray(sample[rand_int][\"speech\"]).shape)\n",
    "print(\"Sampling rate:\", sample[rand_int][\"sampling_rate\"])\n",
    "\n",
    "ipd.Audio(data=np.asarray(sample[rand_int][\"speech\"]), autoplay=True, rate=16000)"
   ]
  },
  {
   "cell_type": "code",
   "execution_count": 48,
   "metadata": {
    "colab": {
     "base_uri": "https://localhost:8080/",
     "height": 127
    },
    "id": "dueM6U7Ev0OA",
    "outputId": "ab9a9497-b3a2-41d7-ce86-1a60f37a0252"
   },
   "outputs": [
    {
     "name": "stdout",
     "output_type": "stream",
     "text": [
      "Target text: حاضرم یه هفته از صبح تا شب بشینم سر درس ریاضی جدید اما سرما نخورم\n",
      "Input array shape: (81374,)\n",
      "Sampling rate: 16000\n"
     ]
    },
    {
     "data": {
      "text/html": [
       "\n",
       "                <audio controls=\"controls\" autoplay=\"autoplay\">\n",
       "                    <source src=\"data:audio/wav;base64,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\" type=\"audio/wav\" />\n",
       "                    Your browser does not support the audio element.\n",
       "                </audio>\n",
       "              "
      ],
      "text/plain": [
       "<IPython.lib.display.Audio object>"
      ]
     },
     "execution_count": 48,
     "metadata": {
      "tags": []
     },
     "output_type": "execute_result"
    }
   ],
   "source": [
    "import IPython.display as ipd\n",
    "import numpy as np\n",
    "import random\n",
    "\n",
    "sample = _common_voice_train\n",
    "rand_int = random.randint(0, len(sample))\n",
    "\n",
    "print(\"Target text:\", sample[rand_int][\"target_text\"])\n",
    "print(\"Input array shape:\", np.asarray(sample[rand_int][\"speech\"]).shape)\n",
    "print(\"Sampling rate:\", sample[rand_int][\"sampling_rate\"])\n",
    "\n",
    "ipd.Audio(data=np.asarray(sample[rand_int][\"speech\"]), autoplay=True, rate=16000)"
   ]
  },
  {
   "cell_type": "markdown",
   "metadata": {
    "id": "M9teZcSwOBJ4"
   },
   "source": [
    "Good! Everything looks fine - the data is a 1-dimensional array, the sampling rate always corresponds to 16kHz, and the target text is normalized."
   ]
  },
  {
   "cell_type": "markdown",
   "metadata": {
    "id": "k3Pbn5WvOYZF"
   },
   "source": [
    "Finally, we can process the dataset to the format expected by the model for training. We will again make use of the `map(...)` function.\n",
    "\n",
    "First, we check that the data samples have the same sampling rate of 16kHz.\n",
    "Second, we extract the `input_values` from the loaded audio file. In our case, this includes only normalization, but for other speech models, this step could correspond to extracting, *e.g.* [Log-Mel features](https://en.wikipedia.org/wiki/Mel-frequency_cepstrum). \n",
    "Third, we encode the transcriptions to label ids.\n",
    "\n",
    "**Note**: This mapping function is a good example of how the `Wav2Vec2Processor` class should be used. In \"normal\" context, calling `processor(...)` is redirected to `Wav2Vec2FeatureExtractor`'s call method. When wrapping the processor into the `as_target_processor` context, however, the same method is redirected to `Wav2Vec2CTCTokenizer`'s call method.\n",
    "For more information please check the [docs](https://huggingface.co/transformers/master/model_doc/wav2vec2.html#transformers.Wav2Vec2Processor.__call__)."
   ]
  },
  {
   "cell_type": "code",
   "execution_count": 49,
   "metadata": {
    "id": "eJY7I0XAwe9p"
   },
   "outputs": [],
   "source": [
    "def prepare_dataset(batch):\n",
    "    # check that all files have the correct sampling rate\n",
    "    assert (\n",
    "        len(set(batch[\"sampling_rate\"])) == 1\n",
    "    ), f\"Make sure all inputs have the same sampling rate of {processor.feature_extractor.sampling_rate}.\"\n",
    "\n",
    "    batch[\"input_values\"] = processor(batch[\"speech\"], sampling_rate=batch[\"sampling_rate\"][0]).input_values\n",
    "    \n",
    "    with processor.as_target_processor():\n",
    "        batch[\"labels\"] = processor(batch[\"target_text\"]).input_ids\n",
    "    return batch"
   ]
  },
  {
   "cell_type": "code",
   "execution_count": 75,
   "metadata": {
    "colab": {
     "base_uri": "https://localhost:8080/",
     "height": 506,
     "referenced_widgets": [
      "7bd98f7db30b4042a7a72983b9c90a65",
      "f1e53e8511674fd8aa2af5ee26059b46",
      "c2efbe8f9c4c4183a054c3bbd7dc4353",
      "26ae6c3efc1c4eedadd710dec3b3e96f",
      "def782b87a304e8aa9709af27a33b10d",
      "95e892743947491c86a5c936959a83ba",
      "5e3cefa200c0413dabab2c52cf4c375d",
      "4d5a32524cf54d71a56ba2a078276a27",
      "e0545301659643e7bb46e83dc1a594c3",
      "517f5050300b47e585f8dca2fe817a80",
      "9179e7d5b4624f50bd777509e5ee24ab",
      "e1117a22518d4df2bb4ac969c4236d46",
      "75c4190c4f894ae597e15a04dc7c378b",
      "6a3a283e525c446a8e37ce29498d8069",
      "1bc41bf028c047c68139498c16fec1e2",
      "cd435353d6164775a4f6de47c6bc143b",
      "f2da5b2d23de41139d2a9307b0ac7efb",
      "14bf5d956ddc4b3aa0d44b1411f32add",
      "b4c0530b5cdd4b5cb09d0c4d4c6a7546",
      "7c72f34d6def481b8149010e3f7317c4",
      "e702548b0f884ca5941e59238fbc9d20",
      "3db18eab447c4d2382966b762616a421",
      "d25fb9983b824c1b99899f6ab1107616",
      "88838267ea7f43febc44423e1ac1cc6b",
      "b869548c0f34424e8c8198db711f67e6",
      "177adfcd16e046c8b7773445a8530eee",
      "08deccd6ccff4af3b3b27fde8621f2b9",
      "1f93c1d5a1574174b20391eb4a9fc5d6",
      "f62bbb6da0654be39997416e5272b1ee",
      "7a0645047e534e71ae6505077de0f5f3",
      "48ea6fcb5e7b4baba6cbdb3e2e3ac6a2",
      "b22ada62cda04d789e666188d9d996eb",
      "0b5df4202f244ec0b9a141fae4fc17a4",
      "9920a2ab5a904f32a5883cea2ed231c0",
      "84d30397f2834df6a7eaee6a04beec8e",
      "72f8ffcefadc4af784e172e85835ec15",
      "1b62ab4ffb2646258930ecf6e6d8296c",
      "460bd20d76de41ee9ad3e73f522e920d",
      "bbde1f32a8b64aaf977a5bcb1c2f0762",
      "abbbb5f73acc4980b6864eb623a38cd6",
      "cabafbb09aeb46e0a6ece06dfe6a44ff",
      "32495bcd13254fc4a2a4300098836a7e",
      "c0311c31064b49f18a1482391c745d5b",
      "54d5b166688346c68cc6913d591be29f",
      "43902c07dd5540bb909b7623ff37e59d",
      "a7ff337283944f88b5c385155ea96fb8",
      "bde76b808b0c4460820625d0548d63dc",
      "3e49b01f6fac42ecb31bf811245d19ae",
      "479c82e01fa749e5a39f83400e51aa1a",
      "d5a80de0ea474049a01a22d6359a1e42",
      "69f67a0a7ab84240b741c45c197680fe",
      "e1f3854c4d8b49429d0802621416f2b6",
      "04752df1c31a47b686b7a044b97b3260",
      "f40006476a4e498eb412a1a78f3d7548",
      "20e2d995da244e39a84d29bc443073c6",
      "bd335f9b9aa5496486cc988c0dfc2485",
      "45634089b4cf43f8af3118155010af74",
      "e298bfcb762e458fb5095ca2284902d8",
      "fa5c2f4096154291b8447519ae4e540c",
      "7ccc9b6e929949a79db50e5254200aa8",
      "86090fb47fbd4e2087b7a4329c177e56",
      "86d6f4d432a145f183ea78da5eeda94e",
      "d4cdad500cae4628a0e4ddb144eb2a42",
      "6db768f184834e81a330f98e20432215"
     ]
    },
    "id": "-np9xYK-wl8q",
    "outputId": "9cfb3051-997d-4e69-8086-6b7e6c6ae062"
   },
   "outputs": [
    {
     "name": "stderr",
     "output_type": "stream",
     "text": [
      "/usr/local/lib/python3.7/dist-packages/numpy/core/_asarray.py:83: VisibleDeprecationWarning: Creating an ndarray from ragged nested sequences (which is a list-or-tuple of lists-or-tuples-or ndarrays with different lengths or shapes) is deprecated. If you meant to do this, you must specify 'dtype=object' when creating the ndarray\n",
      "  return array(a, dtype, copy=False, order=order)\n"
     ]
    },
    {
     "name": "stdout",
     "output_type": "stream",
     "text": [
      "    "
     ]
    },
    {
     "data": {
      "application/vnd.jupyter.widget-view+json": {
       "model_id": "7bd98f7db30b4042a7a72983b9c90a65",
       "version_major": 2,
       "version_minor": 0
      },
      "text/plain": [
       "HBox(children=(FloatProgress(value=0.0, description='#2', max=17.0, style=ProgressStyle(description_width='ini…"
      ]
     },
     "metadata": {
      "tags": []
     },
     "output_type": "display_data"
    },
    {
     "data": {
      "application/vnd.jupyter.widget-view+json": {
       "model_id": "e0545301659643e7bb46e83dc1a594c3",
       "version_major": 2,
       "version_minor": 0
      },
      "text/plain": [
       "HBox(children=(FloatProgress(value=0.0, description='#0', max=17.0, style=ProgressStyle(description_width='ini…"
      ]
     },
     "metadata": {
      "tags": []
     },
     "output_type": "display_data"
    },
    {
     "data": {
      "application/vnd.jupyter.widget-view+json": {
       "model_id": "f2da5b2d23de41139d2a9307b0ac7efb",
       "version_major": 2,
       "version_minor": 0
      },
      "text/plain": [
       "HBox(children=(FloatProgress(value=0.0, description='#1', max=17.0, style=ProgressStyle(description_width='ini…"
      ]
     },
     "metadata": {
      "tags": []
     },
     "output_type": "display_data"
    },
    {
     "data": {
      "application/vnd.jupyter.widget-view+json": {
       "model_id": "b869548c0f34424e8c8198db711f67e6",
       "version_major": 2,
       "version_minor": 0
      },
      "text/plain": [
       "HBox(children=(FloatProgress(value=0.0, description='#3', max=17.0, style=ProgressStyle(description_width='ini…"
      ]
     },
     "metadata": {
      "tags": []
     },
     "output_type": "display_data"
    },
    {
     "name": "stdout",
     "output_type": "stream",
     "text": [
      "\n",
      "\n",
      "\n",
      "\n",
      "    "
     ]
    },
    {
     "data": {
      "application/vnd.jupyter.widget-view+json": {
       "model_id": "0b5df4202f244ec0b9a141fae4fc17a4",
       "version_major": 2,
       "version_minor": 0
      },
      "text/plain": [
       "HBox(children=(FloatProgress(value=0.0, description='#1', max=9.0, style=ProgressStyle(description_width='init…"
      ]
     },
     "metadata": {
      "tags": []
     },
     "output_type": "display_data"
    },
    {
     "data": {
      "application/vnd.jupyter.widget-view+json": {
       "model_id": "cabafbb09aeb46e0a6ece06dfe6a44ff",
       "version_major": 2,
       "version_minor": 0
      },
      "text/plain": [
       "HBox(children=(FloatProgress(value=0.0, description='#0', max=9.0, style=ProgressStyle(description_width='init…"
      ]
     },
     "metadata": {
      "tags": []
     },
     "output_type": "display_data"
    },
    {
     "data": {
      "application/vnd.jupyter.widget-view+json": {
       "model_id": "479c82e01fa749e5a39f83400e51aa1a",
       "version_major": 2,
       "version_minor": 0
      },
      "text/plain": [
       "HBox(children=(FloatProgress(value=0.0, description='#3', max=9.0, style=ProgressStyle(description_width='init…"
      ]
     },
     "metadata": {
      "tags": []
     },
     "output_type": "display_data"
    },
    {
     "data": {
      "application/vnd.jupyter.widget-view+json": {
       "model_id": "45634089b4cf43f8af3118155010af74",
       "version_major": 2,
       "version_minor": 0
      },
      "text/plain": [
       "HBox(children=(FloatProgress(value=0.0, description='#2', max=9.0, style=ProgressStyle(description_width='init…"
      ]
     },
     "metadata": {
      "tags": []
     },
     "output_type": "display_data"
    },
    {
     "name": "stdout",
     "output_type": "stream",
     "text": [
      "\n",
      "\n",
      "\n",
      "\n"
     ]
    }
   ],
   "source": [
    "_common_voice_train = _common_voice_train.map(prepare_dataset, remove_columns=_common_voice_train.column_names, batch_size=8, num_proc=4, batched=True)\n",
    "_common_voice_test = _common_voice_test.map(prepare_dataset, remove_columns=_common_voice_test.column_names, batch_size=8, num_proc=4, batched=True)"
   ]
  },
  {
   "cell_type": "markdown",
   "metadata": {
    "id": "gYlQkKVoRUos"
   },
   "source": [
    "## Training\n",
    "\n",
    "The data is processed so that we are ready to start setting up the training pipeline. We will make use of 🤗's [Trainer](https://huggingface.co/transformers/master/main_classes/trainer.html?highlight=trainer) for which we essentially need to do the following:\n",
    "\n",
    "- Define a data collator. In contrast to most NLP models, XLSR-Wav2Vec2 has a much larger input length than output length. *E.g.*, a sample of input length 50000 has an output length of no more than 100. Given the large input sizes, it is much more efficient to pad the training batches dynamically meaning that all training samples should only be padded to the longest sample in their batch and not the overall longest sample. Therefore, fine-tuning XLSR-Wav2Vec2 requires a special padding data collator, which we will define below\n",
    "\n",
    "- Evaluation metric. During training, the model should be evaluated on the word error rate. We should define a `compute_metrics` function accordingly\n",
    "\n",
    "- Load a pretrained checkpoint. We need to load a pretrained checkpoint and configure it correctly for training.\n",
    "\n",
    "- Define the training configuration.\n",
    "\n",
    "After having fine-tuned the model, we will correctly evaluate it on the test data and verify that it has indeed learned to correctly transcribe speech."
   ]
  },
  {
   "cell_type": "markdown",
   "metadata": {
    "id": "Slk403unUS91"
   },
   "source": [
    "### Set-up Trainer\n",
    "\n",
    "Let's start by defining the data collator. The code for the data collator was copied from [this example](https://github.com/huggingface/transformers/blob/9a06b6b11bdfc42eea08fa91d0c737d1863c99e3/examples/research_projects/wav2vec2/run_asr.py#L81).\n",
    "\n",
    "Without going into too many details, in contrast to the common data collators, this data collator treats the `input_values` and `labels` differently and thus applies to separate padding functions on them (again making use of XLSR-Wav2Vec2's context manager). This is necessary because in speech input and output are of different modalities meaning that they should not be treated by the same padding function.\n",
    "Analogous to the common data collators, the padding tokens in the labels with `-100` so that those tokens are **not** taken into account when computing the loss."
   ]
  },
  {
   "cell_type": "code",
   "execution_count": 51,
   "metadata": {
    "id": "7EkWZPCu0es_"
   },
   "outputs": [],
   "source": [
    "import torch\n",
    "\n",
    "from dataclasses import dataclass, field\n",
    "from typing import Any, Dict, List, Optional, Union\n",
    "\n",
    "@dataclass\n",
    "class DataCollatorCTCWithPadding:\n",
    "    \"\"\"\n",
    "    Data collator that will dynamically pad the inputs received.\n",
    "    Args:\n",
    "        processor (:class:`~transformers.Wav2Vec2Processor`)\n",
    "            The processor used for proccessing the data.\n",
    "        padding (:obj:`bool`, :obj:`str` or :class:`~transformers.tokenization_utils_base.PaddingStrategy`, `optional`, defaults to :obj:`True`):\n",
    "            Select a strategy to pad the returned sequences (according to the model's padding side and padding index)\n",
    "            among:\n",
    "            * :obj:`True` or :obj:`'longest'`: Pad to the longest sequence in the batch (or no padding if only a single\n",
    "              sequence if provided).\n",
    "            * :obj:`'max_length'`: Pad to a maximum length specified with the argument :obj:`max_length` or to the\n",
    "              maximum acceptable input length for the model if that argument is not provided.\n",
    "            * :obj:`False` or :obj:`'do_not_pad'` (default): No padding (i.e., can output a batch with sequences of\n",
    "              different lengths).\n",
    "        max_length (:obj:`int`, `optional`):\n",
    "            Maximum length of the ``input_values`` of the returned list and optionally padding length (see above).\n",
    "        max_length_labels (:obj:`int`, `optional`):\n",
    "            Maximum length of the ``labels`` returned list and optionally padding length (see above).\n",
    "        pad_to_multiple_of (:obj:`int`, `optional`):\n",
    "            If set will pad the sequence to a multiple of the provided value.\n",
    "            This is especially useful to enable the use of Tensor Cores on NVIDIA hardware with compute capability >=\n",
    "            7.5 (Volta).\n",
    "    \"\"\"\n",
    "\n",
    "    processor: Wav2Vec2Processor\n",
    "    padding: Union[bool, str] = True\n",
    "    max_length: Optional[int] = None\n",
    "    max_length_labels: Optional[int] = None\n",
    "    pad_to_multiple_of: Optional[int] = None\n",
    "    pad_to_multiple_of_labels: Optional[int] = None\n",
    "\n",
    "    def __call__(self, features: List[Dict[str, Union[List[int], torch.Tensor]]]) -> Dict[str, torch.Tensor]:\n",
    "        # split inputs and labels since they have to be of different lenghts and need\n",
    "        # different padding methods\n",
    "        input_features = [{\"input_values\": feature[\"input_values\"]} for feature in features]\n",
    "        label_features = [{\"input_ids\": feature[\"labels\"]} for feature in features]\n",
    "\n",
    "        batch = self.processor.pad(\n",
    "            input_features,\n",
    "            padding=self.padding,\n",
    "            max_length=self.max_length,\n",
    "            pad_to_multiple_of=self.pad_to_multiple_of,\n",
    "            return_tensors=\"pt\",\n",
    "        )\n",
    "        with self.processor.as_target_processor():\n",
    "            labels_batch = self.processor.pad(\n",
    "                label_features,\n",
    "                padding=self.padding,\n",
    "                max_length=self.max_length_labels,\n",
    "                pad_to_multiple_of=self.pad_to_multiple_of_labels,\n",
    "                return_tensors=\"pt\",\n",
    "            )\n",
    "\n",
    "        # replace padding with -100 to ignore loss correctly\n",
    "        labels = labels_batch[\"input_ids\"].masked_fill(labels_batch.attention_mask.ne(1), -100)\n",
    "\n",
    "        batch[\"labels\"] = labels\n",
    "\n",
    "        return batch"
   ]
  },
  {
   "cell_type": "code",
   "execution_count": 52,
   "metadata": {
    "id": "tborvC9hx88e"
   },
   "outputs": [],
   "source": [
    "data_collator = DataCollatorCTCWithPadding(processor=processor, padding=True)"
   ]
  },
  {
   "cell_type": "markdown",
   "metadata": {
    "id": "xO-Zdj-5cxXp"
   },
   "source": [
    "Next, the evaluation metric is defined. As mentioned earlier, the \n",
    "predominant metric in ASR is the word error rate (WER), hence we will use it in this notebook as well."
   ]
  },
  {
   "cell_type": "code",
   "execution_count": 53,
   "metadata": {
    "colab": {
     "base_uri": "https://localhost:8080/",
     "height": 66,
     "referenced_widgets": [
      "a2de501d5f4c4ff093885d6f1e5d3b1c",
      "5a13fb3510a8408a8a7ee4ea46caaf02",
      "768413654b08408f9215427497dfe817",
      "607315cd4c7c4c2ea9c7958167e16070",
      "f6801998b88b44fdbf22077112b810d4",
      "eed947d8095e45209b024c8b5a4438c7",
      "a9f9c42a42ea4e52b1487d79cc4f7f65",
      "5d910b42b22845d0ae87967c2c64e222"
     ]
    },
    "id": "9Xsux2gmyXso",
    "outputId": "37f01036-df97-4eea-980c-5f79c259266f"
   },
   "outputs": [
    {
     "data": {
      "application/vnd.jupyter.widget-view+json": {
       "model_id": "a2de501d5f4c4ff093885d6f1e5d3b1c",
       "version_major": 2,
       "version_minor": 0
      },
      "text/plain": [
       "HBox(children=(FloatProgress(value=0.0, description='Downloading', max=1764.0, style=ProgressStyle(description…"
      ]
     },
     "metadata": {
      "tags": []
     },
     "output_type": "display_data"
    },
    {
     "name": "stdout",
     "output_type": "stream",
     "text": [
      "\n"
     ]
    }
   ],
   "source": [
    "wer_metric = load_metric(\"wer\")"
   ]
  },
  {
   "cell_type": "markdown",
   "metadata": {
    "id": "E1qZU5p-deqB"
   },
   "source": [
    "The model will return a sequence of logit vectors:\n",
    "$\\mathbf{y}_1, \\ldots, \\mathbf{y}_m$ with $\\mathbf{y}_1 = f_{\\theta}(x_1, \\ldots, x_n)[0]$ and $n >> m$.\n",
    "\n",
    "A logit vector $\\mathbf{y}_1$ contains the log-odds for each word in the vocabulary we defined earlier, thus $\\text{len}(\\mathbf{y}_i) =$ `config.vocab_size`. We are interested in the most likely prediction of the model and thus take the `argmax(...)` of the logits. Also, we transform the encoded labels back to the original string by replacing `-100` with the `pad_token_id` and decoding the ids while making sure that consecutive tokens are **not** grouped to the same token in CTC style ${}^1$."
   ]
  },
  {
   "cell_type": "code",
   "execution_count": 54,
   "metadata": {
    "id": "1XZ-kjweyTy_"
   },
   "outputs": [],
   "source": [
    "import random\n",
    "\n",
    "\n",
    "def compute_metrics(pred):\n",
    "    pred_logits = pred.predictions\n",
    "    pred_ids = np.argmax(pred_logits, axis=-1)\n",
    "\n",
    "    pred.label_ids[pred.label_ids == -100] = processor.tokenizer.pad_token_id\n",
    "\n",
    "    pred_str = processor.batch_decode(pred_ids)\n",
    "    # we do not want to group tokens when computing the metrics\n",
    "    label_str = processor.batch_decode(pred.label_ids, group_tokens=False)\n",
    "    \n",
    "    if isinstance(label_str, list):\n",
    "        if isinstance(pred_str, list) and len(pred_str) == len(label_str):\n",
    "            for index in random.sample(range(len(label_str)), 3):\n",
    "                print(f'reference: \"{label_str[index]}\"')\n",
    "                print(f'predicted: \"{pred_str[index]}\"')\n",
    "\n",
    "        else:\n",
    "            for index in random.sample(range(len(label_str)), 3):\n",
    "                print(f'reference: \"{label_str[index]}\"')\n",
    "                print(f'predicted: \"{pred_str}\"')\n",
    "\n",
    "    wer = wer_metric.compute(predictions=pred_str, references=label_str)\n",
    "\n",
    "    return {\"wer\": wer}"
   ]
  },
  {
   "cell_type": "markdown",
   "metadata": {
    "id": "Xmgrx4bRwLIH"
   },
   "source": [
    "Now, we can load the pretrained `XLSR-Wav2Vec2` checkpoint. The tokenizer's `pad_token_id` must be to define the model's `pad_token_id` or in the case of `Wav2Vec2ForCTC` also CTC's *blank token* ${}^2$. To save GPU memory, we enable PyTorch's [gradient checkpointing](https://pytorch.org/docs/stable/checkpoint.html) and also set the loss reduction to \"*mean*\".\n",
    "\n",
    "Because the dataset is quite small (~6h of training data) and because Common Voice is quite noisy, fine-tuning Facebook's [wav2vec2-large-xlsr-53 checkpoint](https://huggingface.co/facebook/wav2vec2-large-xlsr-53) seems to require some hyper-parameter tuning. Therefore, I had to play around a bit with different values for dropout, [SpecAugment](https://arxiv.org/abs/1904.08779)'s masking dropout rate, layer dropout, and the learning rate until training seemed to be stable enough. \n",
    "\n",
    "**Note**: When using this notebook to train XLSR-Wav2Vec2 on another language of Common Voice those hyper-parameter settings might not work very well. Feel free to adapt those depending on your use case. "
   ]
  },
  {
   "cell_type": "code",
   "execution_count": 55,
   "metadata": {
    "colab": {
     "base_uri": "https://localhost:8080/",
     "height": 116,
     "referenced_widgets": [
      "2b6d7871fe12495fbb580e9ea7b28b75",
      "3d8889042fb3447083c917a936f35f20",
      "e2c3cbfdcd704d85b6988228fdf24186",
      "a2717ee928684765b28cb8dd001472d9",
      "4d3f6186d2a842f48a4fe242f8998221",
      "15e9e144022547a8a53b492245184cbd",
      "0cccec4f4f03477881831e942b59db90",
      "bedb8426c57e419697ffe071f55e9913",
      "44f124d123ca489bb9110577bb8a4a4c",
      "a54c2eef86594c5eba681aaa9a2ed072",
      "46193c2067a64e75a65fdb4487e3ffda",
      "051547f24a0e4ecf9894f8b72650402f",
      "2179a4927c97406fb9e7453c5c0fbc85",
      "548e3c7db07d416aaa51acc44b8001f9",
      "003694255e9c44cab4cab900ca9f5c6a",
      "7f8c5b24dde74047bf2e81977897d734"
     ]
    },
    "id": "e7cqAWIayn6w",
    "outputId": "6eb8ba0e-8e60-458f-c5cc-ade368715d00"
   },
   "outputs": [
    {
     "data": {
      "application/vnd.jupyter.widget-view+json": {
       "model_id": "2b6d7871fe12495fbb580e9ea7b28b75",
       "version_major": 2,
       "version_minor": 0
      },
      "text/plain": [
       "HBox(children=(FloatProgress(value=0.0, description='Downloading', max=1561.0, style=ProgressStyle(description…"
      ]
     },
     "metadata": {
      "tags": []
     },
     "output_type": "display_data"
    },
    {
     "name": "stdout",
     "output_type": "stream",
     "text": [
      "\n"
     ]
    },
    {
     "data": {
      "application/vnd.jupyter.widget-view+json": {
       "model_id": "44f124d123ca489bb9110577bb8a4a4c",
       "version_major": 2,
       "version_minor": 0
      },
      "text/plain": [
       "HBox(children=(FloatProgress(value=0.0, description='Downloading', max=1262097815.0, style=ProgressStyle(descr…"
      ]
     },
     "metadata": {
      "tags": []
     },
     "output_type": "display_data"
    },
    {
     "name": "stdout",
     "output_type": "stream",
     "text": [
      "\n"
     ]
    }
   ],
   "source": [
    "from transformers import Wav2Vec2ForCTC\n",
    "\n",
    "model = Wav2Vec2ForCTC.from_pretrained(\n",
    "    # \"facebook/wav2vec2-large-xlsr-53\" if not last_checkpoint else last_checkpoint, \n",
    "    model_name_or_path if not last_checkpoint else last_checkpoint, \n",
    "    attention_dropout=0.1,\n",
    "    hidden_dropout=0.1,\n",
    "    feat_proj_dropout=0.0,\n",
    "    mask_time_prob=0.05,\n",
    "    layerdrop=0.1,\n",
    "    gradient_checkpointing=True, \n",
    "    ctc_loss_reduction=\"mean\", \n",
    "    ctc_zero_infinity=True,\n",
    "    bos_token_id=processor.tokenizer.bos_token_id,\n",
    "    eos_token_id=processor.tokenizer.eos_token_id,\n",
    "    pad_token_id=processor.tokenizer.pad_token_id,\n",
    "    vocab_size=len(processor.tokenizer.get_vocab())\n",
    ")"
   ]
  },
  {
   "cell_type": "markdown",
   "metadata": {
    "id": "1DwR3XLSzGDD"
   },
   "source": [
    "The first component of XLSR-Wav2Vec2 consists of a stack of CNN layers that are used to extract acoustically meaningful - but contextually independent - features from the raw speech signal. This part of the model has already been sufficiently trained during pretraining and as stated in the [paper](https://arxiv.org/pdf/2006.13979.pdf) does not need to be fine-tuned anymore. \n",
    "Thus, we can set the `requires_grad` to `False` for all parameters of the *feature extraction* part."
   ]
  },
  {
   "cell_type": "code",
   "execution_count": 56,
   "metadata": {
    "id": "oGI8zObtZ3V0"
   },
   "outputs": [],
   "source": [
    "model.freeze_feature_extractor()"
   ]
  },
  {
   "cell_type": "markdown",
   "metadata": {
    "id": "lD4aGhQM0K-D"
   },
   "source": [
    "In a final step, we define all parameters related to training. \n",
    "To give more explanation on some of the parameters:\n",
    "- `group_by_length` makes training more efficient by grouping training samples of similar input length into one batch. This can significantly speed up training time by heavily reducing the overall number of useless padding tokens that are passed through the model\n",
    "- `learning_rate` and `weight_decay` were heuristically tuned until fine-tuning has become stable. Note that those parameters strongly depend on the Common Voice dataset and might be suboptimal for other speech datasets.\n",
    "\n",
    "For more explanations on other parameters, one can take a look at the [docs](https://huggingface.co/transformers/master/main_classes/trainer.html?highlight=trainer#trainingarguments).\n",
    "\n",
    "**Note**: If one wants to save the trained models in his/her google drive the commented-out `output_dir` can be used instead."
   ]
  },
  {
   "cell_type": "code",
   "execution_count": 61,
   "metadata": {
    "id": "KbeKSV7uzGPP"
   },
   "outputs": [],
   "source": [
    "from transformers import TrainingArguments\n",
    "\n",
    "training_args = TrainingArguments(\n",
    "    output_dir=save_dir,\n",
    "    group_by_length=True,\n",
    "    per_device_train_batch_size=10,\n",
    "    per_device_eval_batch_size=10,\n",
    "    gradient_accumulation_steps=2,\n",
    "    evaluation_strategy=\"steps\",\n",
    "    num_train_epochs=0.5,\n",
    "    fp16=True,\n",
    "    save_steps=10,\n",
    "    eval_steps=10,\n",
    "    logging_steps=10,\n",
    "    learning_rate=1e-4,\n",
    "    warmup_steps=500,\n",
    "    save_total_limit=2,\n",
    ")"
   ]
  },
  {
   "cell_type": "markdown",
   "metadata": {
    "id": "OsW-WZcL1ZtN"
   },
   "source": [
    "Now, all instances can be passed to Trainer and we are ready to start training!"
   ]
  },
  {
   "cell_type": "code",
   "execution_count": 62,
   "metadata": {
    "id": "F5pcGICU1M7N"
   },
   "outputs": [],
   "source": [
    "from transformers import Trainer\n",
    "\n",
    "trainer = Trainer(\n",
    "    model=model,\n",
    "    data_collator=data_collator,\n",
    "    args=training_args,\n",
    "    compute_metrics=compute_metrics,\n",
    "    train_dataset=_common_voice_train,\n",
    "    eval_dataset=_common_voice_test,\n",
    "    tokenizer=processor.feature_extractor,\n",
    ")"
   ]
  },
  {
   "cell_type": "markdown",
   "metadata": {
    "id": "UoXBx1JAA0DX"
   },
   "source": [
    "\n",
    "\n",
    "---\n",
    "\n",
    "${}^1$ To allow models to become independent of the speaker rate, in CTC, consecutive tokens that are identical are simply grouped as a single token. However, the encoded labels should not be grouped when decoding since they don't correspond to the predicted tokens of the model, which is why the `group_tokens=False` parameter has to be passed. If we wouldn't pass this parameter a word like `\"hello\"` would incorrectly be encoded, and decoded as `\"helo\"`.\n",
    "\n",
    "${}^2$ The blank token allows the model to predict a word, such as `\"hello\"` by forcing it to insert the blank token between the two l's. A CTC-conform prediction of `\"hello\"` of our model would be `[PAD] [PAD] \"h\" \"e\" \"e\" \"l\" \"l\" [PAD] \"l\" \"o\" \"o\" [PAD]`."
   ]
  },
  {
   "cell_type": "markdown",
   "metadata": {
    "id": "rpvZHM1xReIW"
   },
   "source": [
    "### Training"
   ]
  },
  {
   "cell_type": "markdown",
   "metadata": {
    "id": "j-3oKSzZ1hGq"
   },
   "source": [
    "Training will take between 180 and 240 minutes depending on the GPU allocated to this notebook. While the trained model yields somewhat satisfying results on *Common Voice*'s test data of Turkish, it is by no means an optimally fine-tuned model. The purpose of this notebook is to demonstrate how XLSR-Wav2Vec2's [checkpoint](https://huggingface.co/facebook/wav2vec2-large-xlsr-53) can be fine-tuned on a low-resource ASR dataset.\n",
    "\n",
    "In case you want to use this google colab to fine-tune your model, you should make sure that your training doesn't stop due to inactivity. A simple hack to prevent this is to paste the following code into the console of this tab (*right mouse click -> inspect -> Console tab and insert code*)."
   ]
  },
  {
   "cell_type": "markdown",
   "metadata": {
    "id": "VYYAvgkW4P0m"
   },
   "source": [
    "```javascript\n",
    "function ConnectButton(){\n",
    "    console.log(\"Connect pushed\"); \n",
    "    document.querySelector(\"#top-toolbar > colab-connect-button\").shadowRoot.querySelector(\"#connect\").click() \n",
    "}\n",
    "setInterval(ConnectButton,60000);\n",
    "```"
   ]
  },
  {
   "cell_type": "code",
   "execution_count": 63,
   "metadata": {
    "colab": {
     "base_uri": "https://localhost:8080/"
    },
    "id": "5ZDfBmer1fAq",
    "outputId": "59bd4a14-a886-4d10-da78-a422b2b8bc3b"
   },
   "outputs": [
    {
     "name": "stdout",
     "output_type": "stream",
     "text": [
      "last_checkpoint: None\n"
     ]
    }
   ],
   "source": [
    "print(f\"last_checkpoint: {last_checkpoint}\")"
   ]
  },
  {
   "cell_type": "code",
   "execution_count": 64,
   "metadata": {
    "colab": {
     "base_uri": "https://localhost:8080/",
     "height": 211
    },
    "id": "D5fr9_za1iLY",
    "outputId": "f9b74bbc-04b8-4f65-c2ab-6337b9ed281a"
   },
   "outputs": [
    {
     "data": {
      "text/html": [
       "\n",
       "    <div>\n",
       "        <style>\n",
       "            /* Turns off some styling */\n",
       "            progress {\n",
       "                /* gets rid of default border in Firefox and Opera. */\n",
       "                border: none;\n",
       "                /* Needs to be in here for Safari polyfill so background images work as expected. */\n",
       "                background-size: auto;\n",
       "            }\n",
       "        </style>\n",
       "      \n",
       "      <progress value='14' max='14' style='width:300px; height:20px; vertical-align: middle;'></progress>\n",
       "      [14/14 02:17, Epoch 0/1]\n",
       "    </div>\n",
       "    <table border=\"1\" class=\"dataframe\">\n",
       "  <thead>\n",
       "    <tr style=\"text-align: left;\">\n",
       "      <th>Step</th>\n",
       "      <th>Training Loss</th>\n",
       "      <th>Validation Loss</th>\n",
       "      <th>Wer</th>\n",
       "      <th>Runtime</th>\n",
       "      <th>Samples Per Second</th>\n",
       "    </tr>\n",
       "  </thead>\n",
       "  <tbody>\n",
       "    <tr>\n",
       "      <td>10</td>\n",
       "      <td>1.738900</td>\n",
       "      <td>1.174831</td>\n",
       "      <td>0.450450</td>\n",
       "      <td>8.097900</td>\n",
       "      <td>5.927000</td>\n",
       "    </tr>\n",
       "  </tbody>\n",
       "</table><p>"
      ],
      "text/plain": [
       "<IPython.core.display.HTML object>"
      ]
     },
     "metadata": {
      "tags": []
     },
     "output_type": "display_data"
    },
    {
     "name": "stdout",
     "output_type": "stream",
     "text": [
      "reference: \"احتمالا بعد از اینکه از پیش شما رفته خیلی طول نکشیده که به دام شکارچیش بیفته\"\n",
      "predicted: \"احتمانان بعد ازاینکه از پیش شما رفته خیلی طول نکشیده که به دامش کارجوش بیفته\"\n",
      "reference: \"برای من مسئله مهمتری هست که اونم وجود شماست\"\n",
      "predicted: \"بر اگه منمساله مهمتری هستکه اونم واجود شماست\"\n",
      "reference: \"نمی دونم تو چرا همچین نفست از جای گرم بلند می شه من الان بچه می خوام چی کار تو این موقعیت با این همه کار\"\n",
      "predicted: \"نمیدام تو چرا همچین نفت دز جای گرم بلند میشه من انلم بچه میخام چیکار تو این موقعیتی با این همه کار\"\n"
     ]
    }
   ],
   "source": [
    "if last_checkpoint:\n",
    "    print(f\"last_checkpoint: {last_checkpoint}\")\n",
    "    train_result = trainer.train(resume_from_checkpoint=last_checkpoint)\n",
    "else:\n",
    "    train_result = trainer.train()\n",
    "\n",
    "\n",
    "metrics = train_result.metrics\n",
    "max_train_samples = len(_common_voice_train)\n",
    "metrics[\"train_samples\"] = min(max_train_samples, len(_common_voice_train))\n",
    "\n",
    "trainer.save_model()\n",
    "\n",
    "trainer.log_metrics(\"train\", metrics)\n",
    "trainer.save_metrics(\"train\", metrics)\n",
    "trainer.save_state()"
   ]
  },
  {
   "cell_type": "code",
   "execution_count": 65,
   "metadata": {
    "colab": {
     "base_uri": "https://localhost:8080/",
     "height": 143
    },
    "id": "_UEjJqGsQw24",
    "outputId": "fd83917b-01b4-45fa-8ded-068ab2bca378"
   },
   "outputs": [
    {
     "data": {
      "text/html": [
       "\n",
       "    <div>\n",
       "        <style>\n",
       "            /* Turns off some styling */\n",
       "            progress {\n",
       "                /* gets rid of default border in Firefox and Opera. */\n",
       "                border: none;\n",
       "                /* Needs to be in here for Safari polyfill so background images work as expected. */\n",
       "                background-size: auto;\n",
       "            }\n",
       "        </style>\n",
       "      \n",
       "      <progress value='5' max='5' style='width:300px; height:20px; vertical-align: middle;'></progress>\n",
       "      [5/5 00:06]\n",
       "    </div>\n",
       "    "
      ],
      "text/plain": [
       "<IPython.core.display.HTML object>"
      ]
     },
     "metadata": {
      "tags": []
     },
     "output_type": "display_data"
    },
    {
     "name": "stdout",
     "output_type": "stream",
     "text": [
      "reference: \"پس بگو ما در حقیقت زندانی نداریم و آنچه من به عنوان سیاه چال می شناسم بازیچه ای بیش نیست\"\n",
      "predicted: \"پس بگو ما در حقیقت زندانی نداریم و اونچه من بنام سیاهچال می شناسم بازی چهای بیشنیست\"\n",
      "reference: \"در قسمت های قبل شنیدیم در جدالی که بین امیرشفق و قلبش درمی گیره امیرشفق مغلوب می شه و به ملاقات ماه بانو می ره\"\n",
      "predicted: \"در قسمتای قبلشنیدیم در جهدادی که بین امیرشفق و قلبشتر میگیره امیرشفق مقلوب میشه و به ملاقات ماهبانو میره\"\n",
      "reference: \"ولی من بعکس دستور دارم که پل رو ویران کنم و از این دستور اطاعت می کنم ولو اینکه لازم باشه صد نفر یا هزار نفر رو بکشم\"\n",
      "predicted: \"ولی من بکس دستور دارم که پل و دیران کنم و از این دستور اتاحت میکن ولو اینکه لازم باشه صد نفر یا هزار نفر رو بکش\"\n"
     ]
    }
   ],
   "source": [
    "results = {}\n",
    "metrics = trainer.evaluate()\n",
    "max_val_samples = len(_common_voice_test)\n",
    "metrics[\"eval_samples\"] = min(max_val_samples, len(_common_voice_test))\n",
    "\n",
    "trainer.log_metrics(\"eval\", metrics)\n",
    "trainer.save_metrics(\"eval\", metrics)"
   ]
  },
  {
   "cell_type": "markdown",
   "metadata": {
    "id": "RHIVc44_fY2N"
   },
   "source": [
    "The training loss goes down and we can see that the WER on the test set also improves nicely. Because this notebook is just for demonstration purposes, we can stop here.\n",
    "\n",
    "The resulting model of this notebook has been saved to [`patrickvonplaten/wav2vec2-large-xlsr-turkish-demo`](https://huggingface.co/patrickvonplaten/wav2vec2-large-xlsr-turkish-demo)\n",
    "\n",
    "As a final check, let's load the model and verify that it indeed has learned to transcribe Turkish speech.\n",
    "\n",
    "Let's first load the pretrained checkpoint."
   ]
  },
  {
   "cell_type": "code",
   "execution_count": 66,
   "metadata": {
    "id": "OX3sYJYCaRIB"
   },
   "outputs": [],
   "source": [
    "final_path = \"/content/drive/MyDrive/wav2vec2-large-xlsr-persian-shemo\""
   ]
  },
  {
   "cell_type": "code",
   "execution_count": 67,
   "metadata": {
    "id": "J8E8pxJ9hgZS"
   },
   "outputs": [],
   "source": [
    "model = Wav2Vec2ForCTC.from_pretrained(final_path).to(\"cuda\")\n",
    "processor = Wav2Vec2Processor.from_pretrained(final_path)"
   ]
  },
  {
   "cell_type": "markdown",
   "metadata": {
    "id": "QsfGCQYSvY8C"
   },
   "source": [
    "Now, we will just take the first example of the test set, run it through the model and take the `argmax(...)` of the logits to retrieve the predicted token ids."
   ]
  },
  {
   "cell_type": "code",
   "execution_count": 76,
   "metadata": {
    "colab": {
     "base_uri": "https://localhost:8080/"
    },
    "id": "EA6fxk-jiHby",
    "outputId": "0e07d37d-e9b9-4409-913e-7d98680a55ee"
   },
   "outputs": [
    {
     "name": "stderr",
     "output_type": "stream",
     "text": [
      "It is strongly recommended to pass the ``sampling_rate`` argument to this function.Failing to do so can result in silent errors that might be hard to debug.\n"
     ]
    }
   ],
   "source": [
    "input_dict = processor(_common_voice_test[\"input_values\"][0], return_tensors=\"pt\", padding=True)\n",
    "\n",
    "logits = model(input_dict.input_values.to(\"cuda\")).logits\n",
    "\n",
    "pred_ids = torch.argmax(logits, dim=-1)[0]"
   ]
  },
  {
   "cell_type": "markdown",
   "metadata": {
    "id": "1JDyVCMDvlYd"
   },
   "source": [
    "We adapted `common_voice_test` quite a bit so that the dataset instance does not contain the original sentence label anymore. Thus, we re-use the original dataset to get the label of the first example."
   ]
  },
  {
   "cell_type": "code",
   "execution_count": 77,
   "metadata": {
    "colab": {
     "base_uri": "https://localhost:8080/"
    },
    "id": "8dPE2GRIgtx-",
    "outputId": "cb41029d-aee4-4537-80cf-4999525c74a3"
   },
   "outputs": [
    {
     "name": "stderr",
     "output_type": "stream",
     "text": [
      "Using custom data configuration default-0c1dc360ac37b84b\n",
      "Reusing dataset csv (/content/cache/csv/default-0c1dc360ac37b84b/0.0.0/2dc6629a9ff6b5697d82c25b73731dd440507a69cbce8b425db50b751e8fcfd0)\n"
     ]
    }
   ],
   "source": [
    "common_voice_test_transcription = load_dataset(\"csv\", data_files={\"test\": \"/content/data/shemo/test.csv\"}, delimiter=\"\\t\")[\"test\"]"
   ]
  },
  {
   "cell_type": "markdown",
   "metadata": {
    "id": "ApS3MmN4v5P7"
   },
   "source": [
    "Finally, we can decode the example."
   ]
  },
  {
   "cell_type": "code",
   "execution_count": 78,
   "metadata": {
    "colab": {
     "base_uri": "https://localhost:8080/"
    },
    "id": "Phqxa1O1jMDk",
    "outputId": "50ebc8fa-bee4-4bc1-823b-6bb06d91017b"
   },
   "outputs": [
    {
     "name": "stdout",
     "output_type": "stream",
     "text": [
      "Prediction:\n",
      "اوا جرو داره حیاتو بستی\n",
      "\n",
      "Reference:\n",
      "اوا چرا در حیاتو بستی \n"
     ]
    }
   ],
   "source": [
    "print(\"Prediction:\")\n",
    "print(processor.decode(pred_ids))\n",
    "\n",
    "print(\"\\nReference:\")\n",
    "print(common_voice_test_transcription[\"sentence\"][0].lower())\n"
   ]
  },
  {
   "cell_type": "markdown",
   "metadata": {
    "id": "4n_8vhzUv7aw"
   },
   "source": [
    "Alright! The transcription can definitely be recognized from our prediction, but it is far from being perfect. Training the model a bit longer, spending more time on the data preprocessing, and especially using a language model for decoding would certainly improve the model's overall performance. \n",
    "\n",
    "For a demonstration model on a low-resource language, the results are acceptable, however 🤗."
   ]
  }
 ],
 "metadata": {
  "accelerator": "GPU",
  "colab": {
   "collapsed_sections": [],
   "machine_shape": "hm",
   "name": "Fine_Tune_XLSR_Wav2Vec2_on_Persian_ShEMO_ASR_with_🤗_Transformers_ipynb.ipynb",
   "provenance": [],
   "toc_visible": true
  },
  "kernelspec": {
   "display_name": "Python 3",
   "language": "python",
   "name": "python3"
  },
  "language_info": {
   "codemirror_mode": {
    "name": "ipython",
    "version": 3
   },
   "file_extension": ".py",
   "mimetype": "text/x-python",
   "name": "python",
   "nbconvert_exporter": "python",
   "pygments_lexer": "ipython3",
   "version": "3.8.10"
  },
  "widgets": {
   "application/vnd.jupyter.widget-state+json": {
    "003694255e9c44cab4cab900ca9f5c6a": {
     "model_module": "@jupyter-widgets/controls",
     "model_name": "DescriptionStyleModel",
     "state": {
      "_model_module": "@jupyter-widgets/controls",
      "_model_module_version": "1.5.0",
      "_model_name": "DescriptionStyleModel",
      "_view_count": null,
      "_view_module": "@jupyter-widgets/base",
      "_view_module_version": "1.2.0",
      "_view_name": "StyleView",
      "description_width": ""
     }
    },
    "01f26e916db045f3bc933cfdf412020b": {
     "model_module": "@jupyter-widgets/controls",
     "model_name": "FloatProgressModel",
     "state": {
      "_dom_classes": [],
      "_model_module": "@jupyter-widgets/controls",
      "_model_module_version": "1.5.0",
      "_model_name": "FloatProgressModel",
      "_view_count": null,
      "_view_module": "@jupyter-widgets/controls",
      "_view_module_version": "1.5.0",
      "_view_name": "ProgressView",
      "bar_style": "success",
      "description": "100%",
      "description_tooltip": null,
      "layout": "IPY_MODEL_b15247d7fce24127b951f28da0d694f4",
      "max": 1,
      "min": 0,
      "orientation": "horizontal",
      "style": "IPY_MODEL_eb8947bc998f4eefa4e02e7c908f5361",
      "value": 1
     }
    },
    "04752df1c31a47b686b7a044b97b3260": {
     "model_module": "@jupyter-widgets/controls",
     "model_name": "ProgressStyleModel",
     "state": {
      "_model_module": "@jupyter-widgets/controls",
      "_model_module_version": "1.5.0",
      "_model_name": "ProgressStyleModel",
      "_view_count": null,
      "_view_module": "@jupyter-widgets/base",
      "_view_module_version": "1.2.0",
      "_view_name": "StyleView",
      "bar_color": null,
      "description_width": "initial"
     }
    },
    "04bfbeb823734fdc86727bf2ec7f1e29": {
     "model_module": "@jupyter-widgets/controls",
     "model_name": "ProgressStyleModel",
     "state": {
      "_model_module": "@jupyter-widgets/controls",
      "_model_module_version": "1.5.0",
      "_model_name": "ProgressStyleModel",
      "_view_count": null,
      "_view_module": "@jupyter-widgets/base",
      "_view_module_version": "1.2.0",
      "_view_name": "StyleView",
      "bar_color": null,
      "description_width": "initial"
     }
    },
    "051547f24a0e4ecf9894f8b72650402f": {
     "model_module": "@jupyter-widgets/controls",
     "model_name": "HTMLModel",
     "state": {
      "_dom_classes": [],
      "_model_module": "@jupyter-widgets/controls",
      "_model_module_version": "1.5.0",
      "_model_name": "HTMLModel",
      "_view_count": null,
      "_view_module": "@jupyter-widgets/controls",
      "_view_module_version": "1.5.0",
      "_view_name": "HTMLView",
      "description": "",
      "description_tooltip": null,
      "layout": "IPY_MODEL_7f8c5b24dde74047bf2e81977897d734",
      "placeholder": "​",
      "style": "IPY_MODEL_003694255e9c44cab4cab900ca9f5c6a",
      "value": " 1.26G/1.26G [01:43&lt;00:00, 12.2MB/s]"
     }
    },
    "052acf0626e54710b99ef8d922af7864": {
     "model_module": "@jupyter-widgets/controls",
     "model_name": "HTMLModel",
     "state": {
      "_dom_classes": [],
      "_model_module": "@jupyter-widgets/controls",
      "_model_module_version": "1.5.0",
      "_model_name": "HTMLModel",
      "_view_count": null,
      "_view_module": "@jupyter-widgets/controls",
      "_view_module_version": "1.5.0",
      "_view_name": "HTMLView",
      "description": "",
      "description_tooltip": null,
      "layout": "IPY_MODEL_a9cb5df978d142c39f7d7071815b6ace",
      "placeholder": "​",
      "style": "IPY_MODEL_b01beb6c9216431c936fe532035c4c17",
      "value": " 638/638 [02:35&lt;00:00,  4.10ex/s]"
     }
    },
    "05e55b7cf5a1490eb2813c6c184985d5": {
     "model_module": "@jupyter-widgets/controls",
     "model_name": "HBoxModel",
     "state": {
      "_dom_classes": [],
      "_model_module": "@jupyter-widgets/controls",
      "_model_module_version": "1.5.0",
      "_model_name": "HBoxModel",
      "_view_count": null,
      "_view_module": "@jupyter-widgets/controls",
      "_view_module_version": "1.5.0",
      "_view_name": "HBoxView",
      "box_style": "",
      "children": [
       "IPY_MODEL_0bd3dae6efe042d69948e5588c7434f9",
       "IPY_MODEL_4d4fd258b8a44b48a17ab23e3f8a4a4a"
      ],
      "layout": "IPY_MODEL_06e80f28bd0f4b308aa4dfe908eb0bf1"
     }
    },
    "06e80f28bd0f4b308aa4dfe908eb0bf1": {
     "model_module": "@jupyter-widgets/base",
     "model_name": "LayoutModel",
     "state": {
      "_model_module": "@jupyter-widgets/base",
      "_model_module_version": "1.2.0",
      "_model_name": "LayoutModel",
      "_view_count": null,
      "_view_module": "@jupyter-widgets/base",
      "_view_module_version": "1.2.0",
      "_view_name": "LayoutView",
      "align_content": null,
      "align_items": null,
      "align_self": null,
      "border": null,
      "bottom": null,
      "display": null,
      "flex": null,
      "flex_flow": null,
      "grid_area": null,
      "grid_auto_columns": null,
      "grid_auto_flow": null,
      "grid_auto_rows": null,
      "grid_column": null,
      "grid_gap": null,
      "grid_row": null,
      "grid_template_areas": null,
      "grid_template_columns": null,
      "grid_template_rows": null,
      "height": null,
      "justify_content": null,
      "justify_items": null,
      "left": null,
      "margin": null,
      "max_height": null,
      "max_width": null,
      "min_height": null,
      "min_width": null,
      "object_fit": null,
      "object_position": null,
      "order": null,
      "overflow": null,
      "overflow_x": null,
      "overflow_y": null,
      "padding": null,
      "right": null,
      "top": null,
      "visibility": null,
      "width": null
     }
    },
    "08deccd6ccff4af3b3b27fde8621f2b9": {
     "model_module": "@jupyter-widgets/controls",
     "model_name": "FloatProgressModel",
     "state": {
      "_dom_classes": [],
      "_model_module": "@jupyter-widgets/controls",
      "_model_module_version": "1.5.0",
      "_model_name": "FloatProgressModel",
      "_view_count": null,
      "_view_module": "@jupyter-widgets/controls",
      "_view_module_version": "1.5.0",
      "_view_name": "ProgressView",
      "bar_style": "success",
      "description": "#3: 100%",
      "description_tooltip": null,
      "layout": "IPY_MODEL_7a0645047e534e71ae6505077de0f5f3",
      "max": 17,
      "min": 0,
      "orientation": "horizontal",
      "style": "IPY_MODEL_f62bbb6da0654be39997416e5272b1ee",
      "value": 17
     }
    },
    "09e036690769494da989a6c64c112b32": {
     "model_module": "@jupyter-widgets/controls",
     "model_name": "DescriptionStyleModel",
     "state": {
      "_model_module": "@jupyter-widgets/controls",
      "_model_module_version": "1.5.0",
      "_model_name": "DescriptionStyleModel",
      "_view_count": null,
      "_view_module": "@jupyter-widgets/base",
      "_view_module_version": "1.2.0",
      "_view_name": "StyleView",
      "description_width": ""
     }
    },
    "0b5df4202f244ec0b9a141fae4fc17a4": {
     "model_module": "@jupyter-widgets/controls",
     "model_name": "HBoxModel",
     "state": {
      "_dom_classes": [],
      "_model_module": "@jupyter-widgets/controls",
      "_model_module_version": "1.5.0",
      "_model_name": "HBoxModel",
      "_view_count": null,
      "_view_module": "@jupyter-widgets/controls",
      "_view_module_version": "1.5.0",
      "_view_name": "HBoxView",
      "box_style": "",
      "children": [
       "IPY_MODEL_84d30397f2834df6a7eaee6a04beec8e",
       "IPY_MODEL_72f8ffcefadc4af784e172e85835ec15"
      ],
      "layout": "IPY_MODEL_9920a2ab5a904f32a5883cea2ed231c0"
     }
    },
    "0bb868eedfe844cbaa702370a3a7cf26": {
     "model_module": "@jupyter-widgets/base",
     "model_name": "LayoutModel",
     "state": {
      "_model_module": "@jupyter-widgets/base",
      "_model_module_version": "1.2.0",
      "_model_name": "LayoutModel",
      "_view_count": null,
      "_view_module": "@jupyter-widgets/base",
      "_view_module_version": "1.2.0",
      "_view_name": "LayoutView",
      "align_content": null,
      "align_items": null,
      "align_self": null,
      "border": null,
      "bottom": null,
      "display": null,
      "flex": null,
      "flex_flow": null,
      "grid_area": null,
      "grid_auto_columns": null,
      "grid_auto_flow": null,
      "grid_auto_rows": null,
      "grid_column": null,
      "grid_gap": null,
      "grid_row": null,
      "grid_template_areas": null,
      "grid_template_columns": null,
      "grid_template_rows": null,
      "height": null,
      "justify_content": null,
      "justify_items": null,
      "left": null,
      "margin": null,
      "max_height": null,
      "max_width": null,
      "min_height": null,
      "min_width": null,
      "object_fit": null,
      "object_position": null,
      "order": null,
      "overflow": null,
      "overflow_x": null,
      "overflow_y": null,
      "padding": null,
      "right": null,
      "top": null,
      "visibility": null,
      "width": null
     }
    },
    "0bd3dae6efe042d69948e5588c7434f9": {
     "model_module": "@jupyter-widgets/controls",
     "model_name": "FloatProgressModel",
     "state": {
      "_dom_classes": [],
      "_model_module": "@jupyter-widgets/controls",
      "_model_module_version": "1.5.0",
      "_model_name": "FloatProgressModel",
      "_view_count": null,
      "_view_module": "@jupyter-widgets/controls",
      "_view_module_version": "1.5.0",
      "_view_name": "ProgressView",
      "bar_style": "success",
      "description": "#0: 100%",
      "description_tooltip": null,
      "layout": "IPY_MODEL_37a0362815804fe083dd65ff42d52755",
      "max": 71,
      "min": 0,
      "orientation": "horizontal",
      "style": "IPY_MODEL_83c2b5d24c114974880b44d28b03a4fc",
      "value": 71
     }
    },
    "0cccec4f4f03477881831e942b59db90": {
     "model_module": "@jupyter-widgets/controls",
     "model_name": "DescriptionStyleModel",
     "state": {
      "_model_module": "@jupyter-widgets/controls",
      "_model_module_version": "1.5.0",
      "_model_name": "DescriptionStyleModel",
      "_view_count": null,
      "_view_module": "@jupyter-widgets/base",
      "_view_module_version": "1.2.0",
      "_view_name": "StyleView",
      "description_width": ""
     }
    },
    "0cd0c670d53a4cf68cbca84f7cb00a07": {
     "model_module": "@jupyter-widgets/controls",
     "model_name": "HTMLModel",
     "state": {
      "_dom_classes": [],
      "_model_module": "@jupyter-widgets/controls",
      "_model_module_version": "1.5.0",
      "_model_name": "HTMLModel",
      "_view_count": null,
      "_view_module": "@jupyter-widgets/controls",
      "_view_module_version": "1.5.0",
      "_view_name": "HTMLView",
      "description": "",
      "description_tooltip": null,
      "layout": "IPY_MODEL_963e370b6c384133b5f916eed6d19ca9",
      "placeholder": "​",
      "style": "IPY_MODEL_19a99812495042f2a908ad93aa42b091",
      "value": " 138/138 [00:09&lt;00:00, 14.6B/s]"
     }
    },
    "0e293cddcaeb4cf88ecb3b7eeb2f6de7": {
     "model_module": "@jupyter-widgets/base",
     "model_name": "LayoutModel",
     "state": {
      "_model_module": "@jupyter-widgets/base",
      "_model_module_version": "1.2.0",
      "_model_name": "LayoutModel",
      "_view_count": null,
      "_view_module": "@jupyter-widgets/base",
      "_view_module_version": "1.2.0",
      "_view_name": "LayoutView",
      "align_content": null,
      "align_items": null,
      "align_self": null,
      "border": null,
      "bottom": null,
      "display": null,
      "flex": null,
      "flex_flow": null,
      "grid_area": null,
      "grid_auto_columns": null,
      "grid_auto_flow": null,
      "grid_auto_rows": null,
      "grid_column": null,
      "grid_gap": null,
      "grid_row": null,
      "grid_template_areas": null,
      "grid_template_columns": null,
      "grid_template_rows": null,
      "height": null,
      "justify_content": null,
      "justify_items": null,
      "left": null,
      "margin": null,
      "max_height": null,
      "max_width": null,
      "min_height": null,
      "min_width": null,
      "object_fit": null,
      "object_position": null,
      "order": null,
      "overflow": null,
      "overflow_x": null,
      "overflow_y": null,
      "padding": null,
      "right": null,
      "top": null,
      "visibility": null,
      "width": null
     }
    },
    "100706b8ee254f8685c98901371cf335": {
     "model_module": "@jupyter-widgets/controls",
     "model_name": "ProgressStyleModel",
     "state": {
      "_model_module": "@jupyter-widgets/controls",
      "_model_module_version": "1.5.0",
      "_model_name": "ProgressStyleModel",
      "_view_count": null,
      "_view_module": "@jupyter-widgets/base",
      "_view_module_version": "1.2.0",
      "_view_name": "StyleView",
      "bar_color": null,
      "description_width": "initial"
     }
    },
    "107d1cbdab634eca8179310f84e6107a": {
     "model_module": "@jupyter-widgets/controls",
     "model_name": "HTMLModel",
     "state": {
      "_dom_classes": [],
      "_model_module": "@jupyter-widgets/controls",
      "_model_module_version": "1.5.0",
      "_model_name": "HTMLModel",
      "_view_count": null,
      "_view_module": "@jupyter-widgets/controls",
      "_view_module_version": "1.5.0",
      "_view_name": "HTMLView",
      "description": "",
      "description_tooltip": null,
      "layout": "IPY_MODEL_2165a720d8e048a9bf2822495a1805df",
      "placeholder": "​",
      "style": "IPY_MODEL_9e8704f146cf49e0ad7c8caf8efd8e29",
      "value": " 1/1 [00:21&lt;00:00, 21.31s/ba]"
     }
    },
    "10f6895f000040389d9a1d3f2e7d57a3": {
     "model_module": "@jupyter-widgets/base",
     "model_name": "LayoutModel",
     "state": {
      "_model_module": "@jupyter-widgets/base",
      "_model_module_version": "1.2.0",
      "_model_name": "LayoutModel",
      "_view_count": null,
      "_view_module": "@jupyter-widgets/base",
      "_view_module_version": "1.2.0",
      "_view_name": "LayoutView",
      "align_content": null,
      "align_items": null,
      "align_self": null,
      "border": null,
      "bottom": null,
      "display": null,
      "flex": null,
      "flex_flow": null,
      "grid_area": null,
      "grid_auto_columns": null,
      "grid_auto_flow": null,
      "grid_auto_rows": null,
      "grid_column": null,
      "grid_gap": null,
      "grid_row": null,
      "grid_template_areas": null,
      "grid_template_columns": null,
      "grid_template_rows": null,
      "height": null,
      "justify_content": null,
      "justify_items": null,
      "left": null,
      "margin": null,
      "max_height": null,
      "max_width": null,
      "min_height": null,
      "min_width": null,
      "object_fit": null,
      "object_position": null,
      "order": null,
      "overflow": null,
      "overflow_x": null,
      "overflow_y": null,
      "padding": null,
      "right": null,
      "top": null,
      "visibility": null,
      "width": null
     }
    },
    "114b77b608cc4e3d9eac2a0d14d1e14e": {
     "model_module": "@jupyter-widgets/controls",
     "model_name": "ProgressStyleModel",
     "state": {
      "_model_module": "@jupyter-widgets/controls",
      "_model_module_version": "1.5.0",
      "_model_name": "ProgressStyleModel",
      "_view_count": null,
      "_view_module": "@jupyter-widgets/base",
      "_view_module_version": "1.2.0",
      "_view_name": "StyleView",
      "bar_color": null,
      "description_width": "initial"
     }
    },
    "147cc201e1a24ed895b8c69d3666e68b": {
     "model_module": "@jupyter-widgets/controls",
     "model_name": "HTMLModel",
     "state": {
      "_dom_classes": [],
      "_model_module": "@jupyter-widgets/controls",
      "_model_module_version": "1.5.0",
      "_model_name": "HTMLModel",
      "_view_count": null,
      "_view_module": "@jupyter-widgets/controls",
      "_view_module_version": "1.5.0",
      "_view_name": "HTMLView",
      "description": "",
      "description_tooltip": null,
      "layout": "IPY_MODEL_9f625c158d514b0eb2c84f94c1ef746c",
      "placeholder": "​",
      "style": "IPY_MODEL_9749bb30fdbf4f58aeabb1d9a8a9913a",
      "value": " 1/? [00:00&lt;00:00, 13.79 tables/s]"
     }
    },
    "14bf5d956ddc4b3aa0d44b1411f32add": {
     "model_module": "@jupyter-widgets/base",
     "model_name": "LayoutModel",
     "state": {
      "_model_module": "@jupyter-widgets/base",
      "_model_module_version": "1.2.0",
      "_model_name": "LayoutModel",
      "_view_count": null,
      "_view_module": "@jupyter-widgets/base",
      "_view_module_version": "1.2.0",
      "_view_name": "LayoutView",
      "align_content": null,
      "align_items": null,
      "align_self": null,
      "border": null,
      "bottom": null,
      "display": null,
      "flex": null,
      "flex_flow": null,
      "grid_area": null,
      "grid_auto_columns": null,
      "grid_auto_flow": null,
      "grid_auto_rows": null,
      "grid_column": null,
      "grid_gap": null,
      "grid_row": null,
      "grid_template_areas": null,
      "grid_template_columns": null,
      "grid_template_rows": null,
      "height": null,
      "justify_content": null,
      "justify_items": null,
      "left": null,
      "margin": null,
      "max_height": null,
      "max_width": null,
      "min_height": null,
      "min_width": null,
      "object_fit": null,
      "object_position": null,
      "order": null,
      "overflow": null,
      "overflow_x": null,
      "overflow_y": null,
      "padding": null,
      "right": null,
      "top": null,
      "visibility": null,
      "width": null
     }
    },
    "15e9e144022547a8a53b492245184cbd": {
     "model_module": "@jupyter-widgets/base",
     "model_name": "LayoutModel",
     "state": {
      "_model_module": "@jupyter-widgets/base",
      "_model_module_version": "1.2.0",
      "_model_name": "LayoutModel",
      "_view_count": null,
      "_view_module": "@jupyter-widgets/base",
      "_view_module_version": "1.2.0",
      "_view_name": "LayoutView",
      "align_content": null,
      "align_items": null,
      "align_self": null,
      "border": null,
      "bottom": null,
      "display": null,
      "flex": null,
      "flex_flow": null,
      "grid_area": null,
      "grid_auto_columns": null,
      "grid_auto_flow": null,
      "grid_auto_rows": null,
      "grid_column": null,
      "grid_gap": null,
      "grid_row": null,
      "grid_template_areas": null,
      "grid_template_columns": null,
      "grid_template_rows": null,
      "height": null,
      "justify_content": null,
      "justify_items": null,
      "left": null,
      "margin": null,
      "max_height": null,
      "max_width": null,
      "min_height": null,
      "min_width": null,
      "object_fit": null,
      "object_position": null,
      "order": null,
      "overflow": null,
      "overflow_x": null,
      "overflow_y": null,
      "padding": null,
      "right": null,
      "top": null,
      "visibility": null,
      "width": null
     }
    },
    "1681f97056194d29aecc1d912d6f431b": {
     "model_module": "@jupyter-widgets/controls",
     "model_name": "HBoxModel",
     "state": {
      "_dom_classes": [],
      "_model_module": "@jupyter-widgets/controls",
      "_model_module_version": "1.5.0",
      "_model_name": "HBoxModel",
      "_view_count": null,
      "_view_module": "@jupyter-widgets/controls",
      "_view_module_version": "1.5.0",
      "_view_name": "HBoxView",
      "box_style": "",
      "children": [
       "IPY_MODEL_aef1ffdb48dc4c20bba564c894bdcf8d",
       "IPY_MODEL_f6f747607432429d936ea34411655340"
      ],
      "layout": "IPY_MODEL_e7588f915f5f4a12ae38d31a67206dd1"
     }
    },
    "177adfcd16e046c8b7773445a8530eee": {
     "model_module": "@jupyter-widgets/base",
     "model_name": "LayoutModel",
     "state": {
      "_model_module": "@jupyter-widgets/base",
      "_model_module_version": "1.2.0",
      "_model_name": "LayoutModel",
      "_view_count": null,
      "_view_module": "@jupyter-widgets/base",
      "_view_module_version": "1.2.0",
      "_view_name": "LayoutView",
      "align_content": null,
      "align_items": null,
      "align_self": null,
      "border": null,
      "bottom": null,
      "display": null,
      "flex": null,
      "flex_flow": null,
      "grid_area": null,
      "grid_auto_columns": null,
      "grid_auto_flow": null,
      "grid_auto_rows": null,
      "grid_column": null,
      "grid_gap": null,
      "grid_row": null,
      "grid_template_areas": null,
      "grid_template_columns": null,
      "grid_template_rows": null,
      "height": null,
      "justify_content": null,
      "justify_items": null,
      "left": null,
      "margin": null,
      "max_height": null,
      "max_width": null,
      "min_height": null,
      "min_width": null,
      "object_fit": null,
      "object_position": null,
      "order": null,
      "overflow": null,
      "overflow_x": null,
      "overflow_y": null,
      "padding": null,
      "right": null,
      "top": null,
      "visibility": null,
      "width": null
     }
    },
    "19a99812495042f2a908ad93aa42b091": {
     "model_module": "@jupyter-widgets/controls",
     "model_name": "DescriptionStyleModel",
     "state": {
      "_model_module": "@jupyter-widgets/controls",
      "_model_module_version": "1.5.0",
      "_model_name": "DescriptionStyleModel",
      "_view_count": null,
      "_view_module": "@jupyter-widgets/base",
      "_view_module_version": "1.2.0",
      "_view_name": "StyleView",
      "description_width": ""
     }
    },
    "1b62ab4ffb2646258930ecf6e6d8296c": {
     "model_module": "@jupyter-widgets/controls",
     "model_name": "ProgressStyleModel",
     "state": {
      "_model_module": "@jupyter-widgets/controls",
      "_model_module_version": "1.5.0",
      "_model_name": "ProgressStyleModel",
      "_view_count": null,
      "_view_module": "@jupyter-widgets/base",
      "_view_module_version": "1.2.0",
      "_view_name": "StyleView",
      "bar_color": null,
      "description_width": "initial"
     }
    },
    "1bc41bf028c047c68139498c16fec1e2": {
     "model_module": "@jupyter-widgets/controls",
     "model_name": "DescriptionStyleModel",
     "state": {
      "_model_module": "@jupyter-widgets/controls",
      "_model_module_version": "1.5.0",
      "_model_name": "DescriptionStyleModel",
      "_view_count": null,
      "_view_module": "@jupyter-widgets/base",
      "_view_module_version": "1.2.0",
      "_view_name": "StyleView",
      "description_width": ""
     }
    },
    "1f93c1d5a1574174b20391eb4a9fc5d6": {
     "model_module": "@jupyter-widgets/controls",
     "model_name": "HTMLModel",
     "state": {
      "_dom_classes": [],
      "_model_module": "@jupyter-widgets/controls",
      "_model_module_version": "1.5.0",
      "_model_name": "HTMLModel",
      "_view_count": null,
      "_view_module": "@jupyter-widgets/controls",
      "_view_module_version": "1.5.0",
      "_view_name": "HTMLView",
      "description": "",
      "description_tooltip": null,
      "layout": "IPY_MODEL_b22ada62cda04d789e666188d9d996eb",
      "placeholder": "​",
      "style": "IPY_MODEL_48ea6fcb5e7b4baba6cbdb3e2e3ac6a2",
      "value": " 17/17 [00:13&lt;00:00,  1.26ba/s]"
     }
    },
    "20e2d995da244e39a84d29bc443073c6": {
     "model_module": "@jupyter-widgets/controls",
     "model_name": "DescriptionStyleModel",
     "state": {
      "_model_module": "@jupyter-widgets/controls",
      "_model_module_version": "1.5.0",
      "_model_name": "DescriptionStyleModel",
      "_view_count": null,
      "_view_module": "@jupyter-widgets/base",
      "_view_module_version": "1.2.0",
      "_view_name": "StyleView",
      "description_width": ""
     }
    },
    "2165a720d8e048a9bf2822495a1805df": {
     "model_module": "@jupyter-widgets/base",
     "model_name": "LayoutModel",
     "state": {
      "_model_module": "@jupyter-widgets/base",
      "_model_module_version": "1.2.0",
      "_model_name": "LayoutModel",
      "_view_count": null,
      "_view_module": "@jupyter-widgets/base",
      "_view_module_version": "1.2.0",
      "_view_name": "LayoutView",
      "align_content": null,
      "align_items": null,
      "align_self": null,
      "border": null,
      "bottom": null,
      "display": null,
      "flex": null,
      "flex_flow": null,
      "grid_area": null,
      "grid_auto_columns": null,
      "grid_auto_flow": null,
      "grid_auto_rows": null,
      "grid_column": null,
      "grid_gap": null,
      "grid_row": null,
      "grid_template_areas": null,
      "grid_template_columns": null,
      "grid_template_rows": null,
      "height": null,
      "justify_content": null,
      "justify_items": null,
      "left": null,
      "margin": null,
      "max_height": null,
      "max_width": null,
      "min_height": null,
      "min_width": null,
      "object_fit": null,
      "object_position": null,
      "order": null,
      "overflow": null,
      "overflow_x": null,
      "overflow_y": null,
      "padding": null,
      "right": null,
      "top": null,
      "visibility": null,
      "width": null
     }
    },
    "2179a4927c97406fb9e7453c5c0fbc85": {
     "model_module": "@jupyter-widgets/controls",
     "model_name": "ProgressStyleModel",
     "state": {
      "_model_module": "@jupyter-widgets/controls",
      "_model_module_version": "1.5.0",
      "_model_name": "ProgressStyleModel",
      "_view_count": null,
      "_view_module": "@jupyter-widgets/base",
      "_view_module_version": "1.2.0",
      "_view_name": "StyleView",
      "bar_color": null,
      "description_width": "initial"
     }
    },
    "22f4f83b721f4cc1b1600c80e8f10b8a": {
     "model_module": "@jupyter-widgets/controls",
     "model_name": "HBoxModel",
     "state": {
      "_dom_classes": [],
      "_model_module": "@jupyter-widgets/controls",
      "_model_module_version": "1.5.0",
      "_model_name": "HBoxModel",
      "_view_count": null,
      "_view_module": "@jupyter-widgets/controls",
      "_view_module_version": "1.5.0",
      "_view_name": "HBoxView",
      "box_style": "",
      "children": [
       "IPY_MODEL_01f26e916db045f3bc933cfdf412020b",
       "IPY_MODEL_a07576302dc742079329303a1c60ffd1"
      ],
      "layout": "IPY_MODEL_10f6895f000040389d9a1d3f2e7d57a3"
     }
    },
    "24cee8ab38204ec49562c5187ac6638b": {
     "model_module": "@jupyter-widgets/controls",
     "model_name": "HBoxModel",
     "state": {
      "_dom_classes": [],
      "_model_module": "@jupyter-widgets/controls",
      "_model_module_version": "1.5.0",
      "_model_name": "HBoxModel",
      "_view_count": null,
      "_view_module": "@jupyter-widgets/controls",
      "_view_module_version": "1.5.0",
      "_view_name": "HBoxView",
      "box_style": "",
      "children": [
       "IPY_MODEL_3f970582bd43494c82544057094a4717",
       "IPY_MODEL_147cc201e1a24ed895b8c69d3666e68b"
      ],
      "layout": "IPY_MODEL_0bb868eedfe844cbaa702370a3a7cf26"
     }
    },
    "24de77a4596c4b81adafbce9936cdd42": {
     "model_module": "@jupyter-widgets/base",
     "model_name": "LayoutModel",
     "state": {
      "_model_module": "@jupyter-widgets/base",
      "_model_module_version": "1.2.0",
      "_model_name": "LayoutModel",
      "_view_count": null,
      "_view_module": "@jupyter-widgets/base",
      "_view_module_version": "1.2.0",
      "_view_name": "LayoutView",
      "align_content": null,
      "align_items": null,
      "align_self": null,
      "border": null,
      "bottom": null,
      "display": null,
      "flex": null,
      "flex_flow": null,
      "grid_area": null,
      "grid_auto_columns": null,
      "grid_auto_flow": null,
      "grid_auto_rows": null,
      "grid_column": null,
      "grid_gap": null,
      "grid_row": null,
      "grid_template_areas": null,
      "grid_template_columns": null,
      "grid_template_rows": null,
      "height": null,
      "justify_content": null,
      "justify_items": null,
      "left": null,
      "margin": null,
      "max_height": null,
      "max_width": null,
      "min_height": null,
      "min_width": null,
      "object_fit": null,
      "object_position": null,
      "order": null,
      "overflow": null,
      "overflow_x": null,
      "overflow_y": null,
      "padding": null,
      "right": null,
      "top": null,
      "visibility": null,
      "width": null
     }
    },
    "2636b0736db1442d9e632582f23b5d59": {
     "model_module": "@jupyter-widgets/base",
     "model_name": "LayoutModel",
     "state": {
      "_model_module": "@jupyter-widgets/base",
      "_model_module_version": "1.2.0",
      "_model_name": "LayoutModel",
      "_view_count": null,
      "_view_module": "@jupyter-widgets/base",
      "_view_module_version": "1.2.0",
      "_view_name": "LayoutView",
      "align_content": null,
      "align_items": null,
      "align_self": null,
      "border": null,
      "bottom": null,
      "display": null,
      "flex": null,
      "flex_flow": null,
      "grid_area": null,
      "grid_auto_columns": null,
      "grid_auto_flow": null,
      "grid_auto_rows": null,
      "grid_column": null,
      "grid_gap": null,
      "grid_row": null,
      "grid_template_areas": null,
      "grid_template_columns": null,
      "grid_template_rows": null,
      "height": null,
      "justify_content": null,
      "justify_items": null,
      "left": null,
      "margin": null,
      "max_height": null,
      "max_width": null,
      "min_height": null,
      "min_width": null,
      "object_fit": null,
      "object_position": null,
      "order": null,
      "overflow": null,
      "overflow_x": null,
      "overflow_y": null,
      "padding": null,
      "right": null,
      "top": null,
      "visibility": null,
      "width": null
     }
    },
    "26ae6c3efc1c4eedadd710dec3b3e96f": {
     "model_module": "@jupyter-widgets/controls",
     "model_name": "HTMLModel",
     "state": {
      "_dom_classes": [],
      "_model_module": "@jupyter-widgets/controls",
      "_model_module_version": "1.5.0",
      "_model_name": "HTMLModel",
      "_view_count": null,
      "_view_module": "@jupyter-widgets/controls",
      "_view_module_version": "1.5.0",
      "_view_name": "HTMLView",
      "description": "",
      "description_tooltip": null,
      "layout": "IPY_MODEL_4d5a32524cf54d71a56ba2a078276a27",
      "placeholder": "​",
      "style": "IPY_MODEL_5e3cefa200c0413dabab2c52cf4c375d",
      "value": " 17/17 [00:13&lt;00:00,  1.27ba/s]"
     }
    },
    "2883dbacb6dd411eb274f394316e6f37": {
     "model_module": "@jupyter-widgets/controls",
     "model_name": "FloatProgressModel",
     "state": {
      "_dom_classes": [],
      "_model_module": "@jupyter-widgets/controls",
      "_model_module_version": "1.5.0",
      "_model_name": "FloatProgressModel",
      "_view_count": null,
      "_view_module": "@jupyter-widgets/controls",
      "_view_module_version": "1.5.0",
      "_view_name": "ProgressView",
      "bar_style": "success",
      "description": "#1: 100%",
      "description_tooltip": null,
      "layout": "IPY_MODEL_6213b09b1e394fdcb5af7d956aab02e2",
      "max": 639,
      "min": 0,
      "orientation": "horizontal",
      "style": "IPY_MODEL_3c91cd9a4c774bb58225ae4034ff46f6",
      "value": 639
     }
    },
    "28b37b4b7a0e468bbc8f44e0368f1d5c": {
     "model_module": "@jupyter-widgets/controls",
     "model_name": "DescriptionStyleModel",
     "state": {
      "_model_module": "@jupyter-widgets/controls",
      "_model_module_version": "1.5.0",
      "_model_name": "DescriptionStyleModel",
      "_view_count": null,
      "_view_module": "@jupyter-widgets/base",
      "_view_module_version": "1.2.0",
      "_view_name": "StyleView",
      "description_width": ""
     }
    },
    "2af6d799010748e0bb8fc2da45a6ca94": {
     "model_module": "@jupyter-widgets/base",
     "model_name": "LayoutModel",
     "state": {
      "_model_module": "@jupyter-widgets/base",
      "_model_module_version": "1.2.0",
      "_model_name": "LayoutModel",
      "_view_count": null,
      "_view_module": "@jupyter-widgets/base",
      "_view_module_version": "1.2.0",
      "_view_name": "LayoutView",
      "align_content": null,
      "align_items": null,
      "align_self": null,
      "border": null,
      "bottom": null,
      "display": null,
      "flex": null,
      "flex_flow": null,
      "grid_area": null,
      "grid_auto_columns": null,
      "grid_auto_flow": null,
      "grid_auto_rows": null,
      "grid_column": null,
      "grid_gap": null,
      "grid_row": null,
      "grid_template_areas": null,
      "grid_template_columns": null,
      "grid_template_rows": null,
      "height": null,
      "justify_content": null,
      "justify_items": null,
      "left": null,
      "margin": null,
      "max_height": null,
      "max_width": null,
      "min_height": null,
      "min_width": null,
      "object_fit": null,
      "object_position": null,
      "order": null,
      "overflow": null,
      "overflow_x": null,
      "overflow_y": null,
      "padding": null,
      "right": null,
      "top": null,
      "visibility": null,
      "width": null
     }
    },
    "2b6d7871fe12495fbb580e9ea7b28b75": {
     "model_module": "@jupyter-widgets/controls",
     "model_name": "HBoxModel",
     "state": {
      "_dom_classes": [],
      "_model_module": "@jupyter-widgets/controls",
      "_model_module_version": "1.5.0",
      "_model_name": "HBoxModel",
      "_view_count": null,
      "_view_module": "@jupyter-widgets/controls",
      "_view_module_version": "1.5.0",
      "_view_name": "HBoxView",
      "box_style": "",
      "children": [
       "IPY_MODEL_e2c3cbfdcd704d85b6988228fdf24186",
       "IPY_MODEL_a2717ee928684765b28cb8dd001472d9"
      ],
      "layout": "IPY_MODEL_3d8889042fb3447083c917a936f35f20"
     }
    },
    "30071df022da4983a47ce25dbd9c49ce": {
     "model_module": "@jupyter-widgets/controls",
     "model_name": "FloatProgressModel",
     "state": {
      "_dom_classes": [],
      "_model_module": "@jupyter-widgets/controls",
      "_model_module_version": "1.5.0",
      "_model_name": "FloatProgressModel",
      "_view_count": null,
      "_view_module": "@jupyter-widgets/controls",
      "_view_module_version": "1.5.0",
      "_view_name": "ProgressView",
      "bar_style": "success",
      "description": "#3: 100%",
      "description_tooltip": null,
      "layout": "IPY_MODEL_4a1f7e5a67cf403086e1ff0539239554",
      "max": 71,
      "min": 0,
      "orientation": "horizontal",
      "style": "IPY_MODEL_4b84d941d25f4652922534e81b49b840",
      "value": 71
     }
    },
    "301b30d9295b44f0bc0410f2f8fc441a": {
     "model_module": "@jupyter-widgets/controls",
     "model_name": "HBoxModel",
     "state": {
      "_dom_classes": [],
      "_model_module": "@jupyter-widgets/controls",
      "_model_module_version": "1.5.0",
      "_model_name": "HBoxModel",
      "_view_count": null,
      "_view_module": "@jupyter-widgets/controls",
      "_view_module_version": "1.5.0",
      "_view_name": "HBoxView",
      "box_style": "",
      "children": [
       "IPY_MODEL_b4f907f63fe14d5cbf6264c73f398947",
       "IPY_MODEL_7ffb73ff599d4d5ab10262a820593606"
      ],
      "layout": "IPY_MODEL_e2ffa6b0ce09406f9712f4149066adc5"
     }
    },
    "32495bcd13254fc4a2a4300098836a7e": {
     "model_module": "@jupyter-widgets/base",
     "model_name": "LayoutModel",
     "state": {
      "_model_module": "@jupyter-widgets/base",
      "_model_module_version": "1.2.0",
      "_model_name": "LayoutModel",
      "_view_count": null,
      "_view_module": "@jupyter-widgets/base",
      "_view_module_version": "1.2.0",
      "_view_name": "LayoutView",
      "align_content": null,
      "align_items": null,
      "align_self": null,
      "border": null,
      "bottom": null,
      "display": null,
      "flex": null,
      "flex_flow": null,
      "grid_area": null,
      "grid_auto_columns": null,
      "grid_auto_flow": null,
      "grid_auto_rows": null,
      "grid_column": null,
      "grid_gap": null,
      "grid_row": null,
      "grid_template_areas": null,
      "grid_template_columns": null,
      "grid_template_rows": null,
      "height": null,
      "justify_content": null,
      "justify_items": null,
      "left": null,
      "margin": null,
      "max_height": null,
      "max_width": null,
      "min_height": null,
      "min_width": null,
      "object_fit": null,
      "object_position": null,
      "order": null,
      "overflow": null,
      "overflow_x": null,
      "overflow_y": null,
      "padding": null,
      "right": null,
      "top": null,
      "visibility": null,
      "width": null
     }
    },
    "32923af9202e41688ebcda3fd40a6866": {
     "model_module": "@jupyter-widgets/controls",
     "model_name": "HTMLModel",
     "state": {
      "_dom_classes": [],
      "_model_module": "@jupyter-widgets/controls",
      "_model_module_version": "1.5.0",
      "_model_name": "HTMLModel",
      "_view_count": null,
      "_view_module": "@jupyter-widgets/controls",
      "_view_module_version": "1.5.0",
      "_view_name": "HTMLView",
      "description": "",
      "description_tooltip": null,
      "layout": "IPY_MODEL_748a65bad11e4430afa97a2309925f12",
      "placeholder": "​",
      "style": "IPY_MODEL_6ba39eae5ad04f77a92953405a5f04f4",
      "value": " 638/638 [02:43&lt;00:00,  3.90ex/s]"
     }
    },
    "356e443c65b94bb3ad5bbe8c4dbde133": {
     "model_module": "@jupyter-widgets/base",
     "model_name": "LayoutModel",
     "state": {
      "_model_module": "@jupyter-widgets/base",
      "_model_module_version": "1.2.0",
      "_model_name": "LayoutModel",
      "_view_count": null,
      "_view_module": "@jupyter-widgets/base",
      "_view_module_version": "1.2.0",
      "_view_name": "LayoutView",
      "align_content": null,
      "align_items": null,
      "align_self": null,
      "border": null,
      "bottom": null,
      "display": null,
      "flex": null,
      "flex_flow": null,
      "grid_area": null,
      "grid_auto_columns": null,
      "grid_auto_flow": null,
      "grid_auto_rows": null,
      "grid_column": null,
      "grid_gap": null,
      "grid_row": null,
      "grid_template_areas": null,
      "grid_template_columns": null,
      "grid_template_rows": null,
      "height": null,
      "justify_content": null,
      "justify_items": null,
      "left": null,
      "margin": null,
      "max_height": null,
      "max_width": null,
      "min_height": null,
      "min_width": null,
      "object_fit": null,
      "object_position": null,
      "order": null,
      "overflow": null,
      "overflow_x": null,
      "overflow_y": null,
      "padding": null,
      "right": null,
      "top": null,
      "visibility": null,
      "width": null
     }
    },
    "37a0362815804fe083dd65ff42d52755": {
     "model_module": "@jupyter-widgets/base",
     "model_name": "LayoutModel",
     "state": {
      "_model_module": "@jupyter-widgets/base",
      "_model_module_version": "1.2.0",
      "_model_name": "LayoutModel",
      "_view_count": null,
      "_view_module": "@jupyter-widgets/base",
      "_view_module_version": "1.2.0",
      "_view_name": "LayoutView",
      "align_content": null,
      "align_items": null,
      "align_self": null,
      "border": null,
      "bottom": null,
      "display": null,
      "flex": null,
      "flex_flow": null,
      "grid_area": null,
      "grid_auto_columns": null,
      "grid_auto_flow": null,
      "grid_auto_rows": null,
      "grid_column": null,
      "grid_gap": null,
      "grid_row": null,
      "grid_template_areas": null,
      "grid_template_columns": null,
      "grid_template_rows": null,
      "height": null,
      "justify_content": null,
      "justify_items": null,
      "left": null,
      "margin": null,
      "max_height": null,
      "max_width": null,
      "min_height": null,
      "min_width": null,
      "object_fit": null,
      "object_position": null,
      "order": null,
      "overflow": null,
      "overflow_x": null,
      "overflow_y": null,
      "padding": null,
      "right": null,
      "top": null,
      "visibility": null,
      "width": null
     }
    },
    "38ff76e364da4908a809ba1f792aa550": {
     "model_module": "@jupyter-widgets/controls",
     "model_name": "HTMLModel",
     "state": {
      "_dom_classes": [],
      "_model_module": "@jupyter-widgets/controls",
      "_model_module_version": "1.5.0",
      "_model_name": "HTMLModel",
      "_view_count": null,
      "_view_module": "@jupyter-widgets/controls",
      "_view_module_version": "1.5.0",
      "_view_name": "HTMLView",
      "description": "",
      "description_tooltip": null,
      "layout": "IPY_MODEL_a65221d962734202aa388c8ce0e7357a",
      "placeholder": "​",
      "style": "IPY_MODEL_a4906a1ff8a843a7890409b30b8cd990",
      "value": " 71/71 [00:16&lt;00:00,  4.19ex/s]"
     }
    },
    "397325e6a3634994aafef1d49ef7c680": {
     "model_module": "@jupyter-widgets/base",
     "model_name": "LayoutModel",
     "state": {
      "_model_module": "@jupyter-widgets/base",
      "_model_module_version": "1.2.0",
      "_model_name": "LayoutModel",
      "_view_count": null,
      "_view_module": "@jupyter-widgets/base",
      "_view_module_version": "1.2.0",
      "_view_name": "LayoutView",
      "align_content": null,
      "align_items": null,
      "align_self": null,
      "border": null,
      "bottom": null,
      "display": null,
      "flex": null,
      "flex_flow": null,
      "grid_area": null,
      "grid_auto_columns": null,
      "grid_auto_flow": null,
      "grid_auto_rows": null,
      "grid_column": null,
      "grid_gap": null,
      "grid_row": null,
      "grid_template_areas": null,
      "grid_template_columns": null,
      "grid_template_rows": null,
      "height": null,
      "justify_content": null,
      "justify_items": null,
      "left": null,
      "margin": null,
      "max_height": null,
      "max_width": null,
      "min_height": null,
      "min_width": null,
      "object_fit": null,
      "object_position": null,
      "order": null,
      "overflow": null,
      "overflow_x": null,
      "overflow_y": null,
      "padding": null,
      "right": null,
      "top": null,
      "visibility": null,
      "width": null
     }
    },
    "3a444223c9c34c1d86a5e28ab47f25d9": {
     "model_module": "@jupyter-widgets/controls",
     "model_name": "HTMLModel",
     "state": {
      "_dom_classes": [],
      "_model_module": "@jupyter-widgets/controls",
      "_model_module_version": "1.5.0",
      "_model_name": "HTMLModel",
      "_view_count": null,
      "_view_module": "@jupyter-widgets/controls",
      "_view_module_version": "1.5.0",
      "_view_name": "HTMLView",
      "description": "",
      "description_tooltip": null,
      "layout": "IPY_MODEL_c806cd1778384afe8665c1f4e8ae54a3",
      "placeholder": "​",
      "style": "IPY_MODEL_91f67c517828499bbdf9fd9fc9447b8a",
      "value": " 71/71 [00:17&lt;00:00,  4.07ex/s]"
     }
    },
    "3c91cd9a4c774bb58225ae4034ff46f6": {
     "model_module": "@jupyter-widgets/controls",
     "model_name": "ProgressStyleModel",
     "state": {
      "_model_module": "@jupyter-widgets/controls",
      "_model_module_version": "1.5.0",
      "_model_name": "ProgressStyleModel",
      "_view_count": null,
      "_view_module": "@jupyter-widgets/base",
      "_view_module_version": "1.2.0",
      "_view_name": "StyleView",
      "bar_color": null,
      "description_width": "initial"
     }
    },
    "3d8889042fb3447083c917a936f35f20": {
     "model_module": "@jupyter-widgets/base",
     "model_name": "LayoutModel",
     "state": {
      "_model_module": "@jupyter-widgets/base",
      "_model_module_version": "1.2.0",
      "_model_name": "LayoutModel",
      "_view_count": null,
      "_view_module": "@jupyter-widgets/base",
      "_view_module_version": "1.2.0",
      "_view_name": "LayoutView",
      "align_content": null,
      "align_items": null,
      "align_self": null,
      "border": null,
      "bottom": null,
      "display": null,
      "flex": null,
      "flex_flow": null,
      "grid_area": null,
      "grid_auto_columns": null,
      "grid_auto_flow": null,
      "grid_auto_rows": null,
      "grid_column": null,
      "grid_gap": null,
      "grid_row": null,
      "grid_template_areas": null,
      "grid_template_columns": null,
      "grid_template_rows": null,
      "height": null,
      "justify_content": null,
      "justify_items": null,
      "left": null,
      "margin": null,
      "max_height": null,
      "max_width": null,
      "min_height": null,
      "min_width": null,
      "object_fit": null,
      "object_position": null,
      "order": null,
      "overflow": null,
      "overflow_x": null,
      "overflow_y": null,
      "padding": null,
      "right": null,
      "top": null,
      "visibility": null,
      "width": null
     }
    },
    "3da81764ed0d4b02b42000f0b8a8ebe1": {
     "model_module": "@jupyter-widgets/controls",
     "model_name": "HBoxModel",
     "state": {
      "_dom_classes": [],
      "_model_module": "@jupyter-widgets/controls",
      "_model_module_version": "1.5.0",
      "_model_name": "HBoxModel",
      "_view_count": null,
      "_view_module": "@jupyter-widgets/controls",
      "_view_module_version": "1.5.0",
      "_view_name": "HBoxView",
      "box_style": "",
      "children": [
       "IPY_MODEL_5193422ff22948e194a38f4ff22be033",
       "IPY_MODEL_d142f3190f0549f388831fb50e95184a"
      ],
      "layout": "IPY_MODEL_0e293cddcaeb4cf88ecb3b7eeb2f6de7"
     }
    },
    "3db18eab447c4d2382966b762616a421": {
     "model_module": "@jupyter-widgets/base",
     "model_name": "LayoutModel",
     "state": {
      "_model_module": "@jupyter-widgets/base",
      "_model_module_version": "1.2.0",
      "_model_name": "LayoutModel",
      "_view_count": null,
      "_view_module": "@jupyter-widgets/base",
      "_view_module_version": "1.2.0",
      "_view_name": "LayoutView",
      "align_content": null,
      "align_items": null,
      "align_self": null,
      "border": null,
      "bottom": null,
      "display": null,
      "flex": null,
      "flex_flow": null,
      "grid_area": null,
      "grid_auto_columns": null,
      "grid_auto_flow": null,
      "grid_auto_rows": null,
      "grid_column": null,
      "grid_gap": null,
      "grid_row": null,
      "grid_template_areas": null,
      "grid_template_columns": null,
      "grid_template_rows": null,
      "height": null,
      "justify_content": null,
      "justify_items": null,
      "left": null,
      "margin": null,
      "max_height": null,
      "max_width": null,
      "min_height": null,
      "min_width": null,
      "object_fit": null,
      "object_position": null,
      "order": null,
      "overflow": null,
      "overflow_x": null,
      "overflow_y": null,
      "padding": null,
      "right": null,
      "top": null,
      "visibility": null,
      "width": null
     }
    },
    "3ddb8bbfc18c4df59ee4a82d64cec7a6": {
     "model_module": "@jupyter-widgets/controls",
     "model_name": "ProgressStyleModel",
     "state": {
      "_model_module": "@jupyter-widgets/controls",
      "_model_module_version": "1.5.0",
      "_model_name": "ProgressStyleModel",
      "_view_count": null,
      "_view_module": "@jupyter-widgets/base",
      "_view_module_version": "1.2.0",
      "_view_name": "StyleView",
      "bar_color": null,
      "description_width": "initial"
     }
    },
    "3e49b01f6fac42ecb31bf811245d19ae": {
     "model_module": "@jupyter-widgets/base",
     "model_name": "LayoutModel",
     "state": {
      "_model_module": "@jupyter-widgets/base",
      "_model_module_version": "1.2.0",
      "_model_name": "LayoutModel",
      "_view_count": null,
      "_view_module": "@jupyter-widgets/base",
      "_view_module_version": "1.2.0",
      "_view_name": "LayoutView",
      "align_content": null,
      "align_items": null,
      "align_self": null,
      "border": null,
      "bottom": null,
      "display": null,
      "flex": null,
      "flex_flow": null,
      "grid_area": null,
      "grid_auto_columns": null,
      "grid_auto_flow": null,
      "grid_auto_rows": null,
      "grid_column": null,
      "grid_gap": null,
      "grid_row": null,
      "grid_template_areas": null,
      "grid_template_columns": null,
      "grid_template_rows": null,
      "height": null,
      "justify_content": null,
      "justify_items": null,
      "left": null,
      "margin": null,
      "max_height": null,
      "max_width": null,
      "min_height": null,
      "min_width": null,
      "object_fit": null,
      "object_position": null,
      "order": null,
      "overflow": null,
      "overflow_x": null,
      "overflow_y": null,
      "padding": null,
      "right": null,
      "top": null,
      "visibility": null,
      "width": null
     }
    },
    "3f970582bd43494c82544057094a4717": {
     "model_module": "@jupyter-widgets/controls",
     "model_name": "FloatProgressModel",
     "state": {
      "_dom_classes": [],
      "_model_module": "@jupyter-widgets/controls",
      "_model_module_version": "1.5.0",
      "_model_name": "FloatProgressModel",
      "_view_count": null,
      "_view_module": "@jupyter-widgets/controls",
      "_view_module_version": "1.5.0",
      "_view_name": "ProgressView",
      "bar_style": "info",
      "description": "",
      "description_tooltip": null,
      "layout": "IPY_MODEL_6417bd27270d412da6f7f40cc2d2d4a2",
      "max": 1,
      "min": 0,
      "orientation": "horizontal",
      "style": "IPY_MODEL_59fe0bc9a04b449281f8531db047e0a8",
      "value": 1
     }
    },
    "43902c07dd5540bb909b7623ff37e59d": {
     "model_module": "@jupyter-widgets/controls",
     "model_name": "ProgressStyleModel",
     "state": {
      "_model_module": "@jupyter-widgets/controls",
      "_model_module_version": "1.5.0",
      "_model_name": "ProgressStyleModel",
      "_view_count": null,
      "_view_module": "@jupyter-widgets/base",
      "_view_module_version": "1.2.0",
      "_view_name": "StyleView",
      "bar_color": null,
      "description_width": "initial"
     }
    },
    "44cc1988619a433da23fba11d2bf6302": {
     "model_module": "@jupyter-widgets/base",
     "model_name": "LayoutModel",
     "state": {
      "_model_module": "@jupyter-widgets/base",
      "_model_module_version": "1.2.0",
      "_model_name": "LayoutModel",
      "_view_count": null,
      "_view_module": "@jupyter-widgets/base",
      "_view_module_version": "1.2.0",
      "_view_name": "LayoutView",
      "align_content": null,
      "align_items": null,
      "align_self": null,
      "border": null,
      "bottom": null,
      "display": null,
      "flex": null,
      "flex_flow": null,
      "grid_area": null,
      "grid_auto_columns": null,
      "grid_auto_flow": null,
      "grid_auto_rows": null,
      "grid_column": null,
      "grid_gap": null,
      "grid_row": null,
      "grid_template_areas": null,
      "grid_template_columns": null,
      "grid_template_rows": null,
      "height": null,
      "justify_content": null,
      "justify_items": null,
      "left": null,
      "margin": null,
      "max_height": null,
      "max_width": null,
      "min_height": null,
      "min_width": null,
      "object_fit": null,
      "object_position": null,
      "order": null,
      "overflow": null,
      "overflow_x": null,
      "overflow_y": null,
      "padding": null,
      "right": null,
      "top": null,
      "visibility": null,
      "width": null
     }
    },
    "44cde1bf1b104c02b867f8b8852eadfc": {
     "model_module": "@jupyter-widgets/base",
     "model_name": "LayoutModel",
     "state": {
      "_model_module": "@jupyter-widgets/base",
      "_model_module_version": "1.2.0",
      "_model_name": "LayoutModel",
      "_view_count": null,
      "_view_module": "@jupyter-widgets/base",
      "_view_module_version": "1.2.0",
      "_view_name": "LayoutView",
      "align_content": null,
      "align_items": null,
      "align_self": null,
      "border": null,
      "bottom": null,
      "display": null,
      "flex": null,
      "flex_flow": null,
      "grid_area": null,
      "grid_auto_columns": null,
      "grid_auto_flow": null,
      "grid_auto_rows": null,
      "grid_column": null,
      "grid_gap": null,
      "grid_row": null,
      "grid_template_areas": null,
      "grid_template_columns": null,
      "grid_template_rows": null,
      "height": null,
      "justify_content": null,
      "justify_items": null,
      "left": null,
      "margin": null,
      "max_height": null,
      "max_width": null,
      "min_height": null,
      "min_width": null,
      "object_fit": null,
      "object_position": null,
      "order": null,
      "overflow": null,
      "overflow_x": null,
      "overflow_y": null,
      "padding": null,
      "right": null,
      "top": null,
      "visibility": null,
      "width": null
     }
    },
    "44f124d123ca489bb9110577bb8a4a4c": {
     "model_module": "@jupyter-widgets/controls",
     "model_name": "HBoxModel",
     "state": {
      "_dom_classes": [],
      "_model_module": "@jupyter-widgets/controls",
      "_model_module_version": "1.5.0",
      "_model_name": "HBoxModel",
      "_view_count": null,
      "_view_module": "@jupyter-widgets/controls",
      "_view_module_version": "1.5.0",
      "_view_name": "HBoxView",
      "box_style": "",
      "children": [
       "IPY_MODEL_46193c2067a64e75a65fdb4487e3ffda",
       "IPY_MODEL_051547f24a0e4ecf9894f8b72650402f"
      ],
      "layout": "IPY_MODEL_a54c2eef86594c5eba681aaa9a2ed072"
     }
    },
    "45634089b4cf43f8af3118155010af74": {
     "model_module": "@jupyter-widgets/controls",
     "model_name": "HBoxModel",
     "state": {
      "_dom_classes": [],
      "_model_module": "@jupyter-widgets/controls",
      "_model_module_version": "1.5.0",
      "_model_name": "HBoxModel",
      "_view_count": null,
      "_view_module": "@jupyter-widgets/controls",
      "_view_module_version": "1.5.0",
      "_view_name": "HBoxView",
      "box_style": "",
      "children": [
       "IPY_MODEL_fa5c2f4096154291b8447519ae4e540c",
       "IPY_MODEL_7ccc9b6e929949a79db50e5254200aa8"
      ],
      "layout": "IPY_MODEL_e298bfcb762e458fb5095ca2284902d8"
     }
    },
    "460bd20d76de41ee9ad3e73f522e920d": {
     "model_module": "@jupyter-widgets/base",
     "model_name": "LayoutModel",
     "state": {
      "_model_module": "@jupyter-widgets/base",
      "_model_module_version": "1.2.0",
      "_model_name": "LayoutModel",
      "_view_count": null,
      "_view_module": "@jupyter-widgets/base",
      "_view_module_version": "1.2.0",
      "_view_name": "LayoutView",
      "align_content": null,
      "align_items": null,
      "align_self": null,
      "border": null,
      "bottom": null,
      "display": null,
      "flex": null,
      "flex_flow": null,
      "grid_area": null,
      "grid_auto_columns": null,
      "grid_auto_flow": null,
      "grid_auto_rows": null,
      "grid_column": null,
      "grid_gap": null,
      "grid_row": null,
      "grid_template_areas": null,
      "grid_template_columns": null,
      "grid_template_rows": null,
      "height": null,
      "justify_content": null,
      "justify_items": null,
      "left": null,
      "margin": null,
      "max_height": null,
      "max_width": null,
      "min_height": null,
      "min_width": null,
      "object_fit": null,
      "object_position": null,
      "order": null,
      "overflow": null,
      "overflow_x": null,
      "overflow_y": null,
      "padding": null,
      "right": null,
      "top": null,
      "visibility": null,
      "width": null
     }
    },
    "46193c2067a64e75a65fdb4487e3ffda": {
     "model_module": "@jupyter-widgets/controls",
     "model_name": "FloatProgressModel",
     "state": {
      "_dom_classes": [],
      "_model_module": "@jupyter-widgets/controls",
      "_model_module_version": "1.5.0",
      "_model_name": "FloatProgressModel",
      "_view_count": null,
      "_view_module": "@jupyter-widgets/controls",
      "_view_module_version": "1.5.0",
      "_view_name": "ProgressView",
      "bar_style": "success",
      "description": "Downloading: 100%",
      "description_tooltip": null,
      "layout": "IPY_MODEL_548e3c7db07d416aaa51acc44b8001f9",
      "max": 1262097815,
      "min": 0,
      "orientation": "horizontal",
      "style": "IPY_MODEL_2179a4927c97406fb9e7453c5c0fbc85",
      "value": 1262097815
     }
    },
    "4793ab8f8bb84e718b5c8529fef87e73": {
     "model_module": "@jupyter-widgets/base",
     "model_name": "LayoutModel",
     "state": {
      "_model_module": "@jupyter-widgets/base",
      "_model_module_version": "1.2.0",
      "_model_name": "LayoutModel",
      "_view_count": null,
      "_view_module": "@jupyter-widgets/base",
      "_view_module_version": "1.2.0",
      "_view_name": "LayoutView",
      "align_content": null,
      "align_items": null,
      "align_self": null,
      "border": null,
      "bottom": null,
      "display": null,
      "flex": null,
      "flex_flow": null,
      "grid_area": null,
      "grid_auto_columns": null,
      "grid_auto_flow": null,
      "grid_auto_rows": null,
      "grid_column": null,
      "grid_gap": null,
      "grid_row": null,
      "grid_template_areas": null,
      "grid_template_columns": null,
      "grid_template_rows": null,
      "height": null,
      "justify_content": null,
      "justify_items": null,
      "left": null,
      "margin": null,
      "max_height": null,
      "max_width": null,
      "min_height": null,
      "min_width": null,
      "object_fit": null,
      "object_position": null,
      "order": null,
      "overflow": null,
      "overflow_x": null,
      "overflow_y": null,
      "padding": null,
      "right": null,
      "top": null,
      "visibility": null,
      "width": null
     }
    },
    "479c82e01fa749e5a39f83400e51aa1a": {
     "model_module": "@jupyter-widgets/controls",
     "model_name": "HBoxModel",
     "state": {
      "_dom_classes": [],
      "_model_module": "@jupyter-widgets/controls",
      "_model_module_version": "1.5.0",
      "_model_name": "HBoxModel",
      "_view_count": null,
      "_view_module": "@jupyter-widgets/controls",
      "_view_module_version": "1.5.0",
      "_view_name": "HBoxView",
      "box_style": "",
      "children": [
       "IPY_MODEL_69f67a0a7ab84240b741c45c197680fe",
       "IPY_MODEL_e1f3854c4d8b49429d0802621416f2b6"
      ],
      "layout": "IPY_MODEL_d5a80de0ea474049a01a22d6359a1e42"
     }
    },
    "48ea6fcb5e7b4baba6cbdb3e2e3ac6a2": {
     "model_module": "@jupyter-widgets/controls",
     "model_name": "DescriptionStyleModel",
     "state": {
      "_model_module": "@jupyter-widgets/controls",
      "_model_module_version": "1.5.0",
      "_model_name": "DescriptionStyleModel",
      "_view_count": null,
      "_view_module": "@jupyter-widgets/base",
      "_view_module_version": "1.2.0",
      "_view_name": "StyleView",
      "description_width": ""
     }
    },
    "4a1f7e5a67cf403086e1ff0539239554": {
     "model_module": "@jupyter-widgets/base",
     "model_name": "LayoutModel",
     "state": {
      "_model_module": "@jupyter-widgets/base",
      "_model_module_version": "1.2.0",
      "_model_name": "LayoutModel",
      "_view_count": null,
      "_view_module": "@jupyter-widgets/base",
      "_view_module_version": "1.2.0",
      "_view_name": "LayoutView",
      "align_content": null,
      "align_items": null,
      "align_self": null,
      "border": null,
      "bottom": null,
      "display": null,
      "flex": null,
      "flex_flow": null,
      "grid_area": null,
      "grid_auto_columns": null,
      "grid_auto_flow": null,
      "grid_auto_rows": null,
      "grid_column": null,
      "grid_gap": null,
      "grid_row": null,
      "grid_template_areas": null,
      "grid_template_columns": null,
      "grid_template_rows": null,
      "height": null,
      "justify_content": null,
      "justify_items": null,
      "left": null,
      "margin": null,
      "max_height": null,
      "max_width": null,
      "min_height": null,
      "min_width": null,
      "object_fit": null,
      "object_position": null,
      "order": null,
      "overflow": null,
      "overflow_x": null,
      "overflow_y": null,
      "padding": null,
      "right": null,
      "top": null,
      "visibility": null,
      "width": null
     }
    },
    "4b84d941d25f4652922534e81b49b840": {
     "model_module": "@jupyter-widgets/controls",
     "model_name": "ProgressStyleModel",
     "state": {
      "_model_module": "@jupyter-widgets/controls",
      "_model_module_version": "1.5.0",
      "_model_name": "ProgressStyleModel",
      "_view_count": null,
      "_view_module": "@jupyter-widgets/base",
      "_view_module_version": "1.2.0",
      "_view_name": "StyleView",
      "bar_color": null,
      "description_width": "initial"
     }
    },
    "4d3f6186d2a842f48a4fe242f8998221": {
     "model_module": "@jupyter-widgets/controls",
     "model_name": "ProgressStyleModel",
     "state": {
      "_model_module": "@jupyter-widgets/controls",
      "_model_module_version": "1.5.0",
      "_model_name": "ProgressStyleModel",
      "_view_count": null,
      "_view_module": "@jupyter-widgets/base",
      "_view_module_version": "1.2.0",
      "_view_name": "StyleView",
      "bar_color": null,
      "description_width": "initial"
     }
    },
    "4d4fd258b8a44b48a17ab23e3f8a4a4a": {
     "model_module": "@jupyter-widgets/controls",
     "model_name": "HTMLModel",
     "state": {
      "_dom_classes": [],
      "_model_module": "@jupyter-widgets/controls",
      "_model_module_version": "1.5.0",
      "_model_name": "HTMLModel",
      "_view_count": null,
      "_view_module": "@jupyter-widgets/controls",
      "_view_module_version": "1.5.0",
      "_view_name": "HTMLView",
      "description": "",
      "description_tooltip": null,
      "layout": "IPY_MODEL_b6184ce2108a4e7387fb97e9deeafadc",
      "placeholder": "​",
      "style": "IPY_MODEL_ac8b74f7d3284ffc8cc88677cb6102a0",
      "value": " 71/71 [00:20&lt;00:00,  3.47ex/s]"
     }
    },
    "4d5a32524cf54d71a56ba2a078276a27": {
     "model_module": "@jupyter-widgets/base",
     "model_name": "LayoutModel",
     "state": {
      "_model_module": "@jupyter-widgets/base",
      "_model_module_version": "1.2.0",
      "_model_name": "LayoutModel",
      "_view_count": null,
      "_view_module": "@jupyter-widgets/base",
      "_view_module_version": "1.2.0",
      "_view_name": "LayoutView",
      "align_content": null,
      "align_items": null,
      "align_self": null,
      "border": null,
      "bottom": null,
      "display": null,
      "flex": null,
      "flex_flow": null,
      "grid_area": null,
      "grid_auto_columns": null,
      "grid_auto_flow": null,
      "grid_auto_rows": null,
      "grid_column": null,
      "grid_gap": null,
      "grid_row": null,
      "grid_template_areas": null,
      "grid_template_columns": null,
      "grid_template_rows": null,
      "height": null,
      "justify_content": null,
      "justify_items": null,
      "left": null,
      "margin": null,
      "max_height": null,
      "max_width": null,
      "min_height": null,
      "min_width": null,
      "object_fit": null,
      "object_position": null,
      "order": null,
      "overflow": null,
      "overflow_x": null,
      "overflow_y": null,
      "padding": null,
      "right": null,
      "top": null,
      "visibility": null,
      "width": null
     }
    },
    "517f5050300b47e585f8dca2fe817a80": {
     "model_module": "@jupyter-widgets/base",
     "model_name": "LayoutModel",
     "state": {
      "_model_module": "@jupyter-widgets/base",
      "_model_module_version": "1.2.0",
      "_model_name": "LayoutModel",
      "_view_count": null,
      "_view_module": "@jupyter-widgets/base",
      "_view_module_version": "1.2.0",
      "_view_name": "LayoutView",
      "align_content": null,
      "align_items": null,
      "align_self": null,
      "border": null,
      "bottom": null,
      "display": null,
      "flex": null,
      "flex_flow": null,
      "grid_area": null,
      "grid_auto_columns": null,
      "grid_auto_flow": null,
      "grid_auto_rows": null,
      "grid_column": null,
      "grid_gap": null,
      "grid_row": null,
      "grid_template_areas": null,
      "grid_template_columns": null,
      "grid_template_rows": null,
      "height": null,
      "justify_content": null,
      "justify_items": null,
      "left": null,
      "margin": null,
      "max_height": null,
      "max_width": null,
      "min_height": null,
      "min_width": null,
      "object_fit": null,
      "object_position": null,
      "order": null,
      "overflow": null,
      "overflow_x": null,
      "overflow_y": null,
      "padding": null,
      "right": null,
      "top": null,
      "visibility": null,
      "width": null
     }
    },
    "5193422ff22948e194a38f4ff22be033": {
     "model_module": "@jupyter-widgets/controls",
     "model_name": "FloatProgressModel",
     "state": {
      "_dom_classes": [],
      "_model_module": "@jupyter-widgets/controls",
      "_model_module_version": "1.5.0",
      "_model_name": "FloatProgressModel",
      "_view_count": null,
      "_view_module": "@jupyter-widgets/controls",
      "_view_module_version": "1.5.0",
      "_view_name": "ProgressView",
      "bar_style": "success",
      "description": "#1: 100%",
      "description_tooltip": null,
      "layout": "IPY_MODEL_fac052e4037146b1998613ef28fdf790",
      "max": 71,
      "min": 0,
      "orientation": "horizontal",
      "style": "IPY_MODEL_db515f7263c74636a73130bc83841e2a",
      "value": 71
     }
    },
    "53b11173c6fb460a9612e3a960754ab4": {
     "model_module": "@jupyter-widgets/controls",
     "model_name": "HBoxModel",
     "state": {
      "_dom_classes": [],
      "_model_module": "@jupyter-widgets/controls",
      "_model_module_version": "1.5.0",
      "_model_name": "HBoxModel",
      "_view_count": null,
      "_view_module": "@jupyter-widgets/controls",
      "_view_module_version": "1.5.0",
      "_view_name": "HBoxView",
      "box_style": "",
      "children": [
       "IPY_MODEL_b75026e7e18c4a76a7432b3022ae3cfb",
       "IPY_MODEL_107d1cbdab634eca8179310f84e6107a"
      ],
      "layout": "IPY_MODEL_53f4bf8c20e04745b8723be9a7eea36a"
     }
    },
    "53f4bf8c20e04745b8723be9a7eea36a": {
     "model_module": "@jupyter-widgets/base",
     "model_name": "LayoutModel",
     "state": {
      "_model_module": "@jupyter-widgets/base",
      "_model_module_version": "1.2.0",
      "_model_name": "LayoutModel",
      "_view_count": null,
      "_view_module": "@jupyter-widgets/base",
      "_view_module_version": "1.2.0",
      "_view_name": "LayoutView",
      "align_content": null,
      "align_items": null,
      "align_self": null,
      "border": null,
      "bottom": null,
      "display": null,
      "flex": null,
      "flex_flow": null,
      "grid_area": null,
      "grid_auto_columns": null,
      "grid_auto_flow": null,
      "grid_auto_rows": null,
      "grid_column": null,
      "grid_gap": null,
      "grid_row": null,
      "grid_template_areas": null,
      "grid_template_columns": null,
      "grid_template_rows": null,
      "height": null,
      "justify_content": null,
      "justify_items": null,
      "left": null,
      "margin": null,
      "max_height": null,
      "max_width": null,
      "min_height": null,
      "min_width": null,
      "object_fit": null,
      "object_position": null,
      "order": null,
      "overflow": null,
      "overflow_x": null,
      "overflow_y": null,
      "padding": null,
      "right": null,
      "top": null,
      "visibility": null,
      "width": null
     }
    },
    "548e3c7db07d416aaa51acc44b8001f9": {
     "model_module": "@jupyter-widgets/base",
     "model_name": "LayoutModel",
     "state": {
      "_model_module": "@jupyter-widgets/base",
      "_model_module_version": "1.2.0",
      "_model_name": "LayoutModel",
      "_view_count": null,
      "_view_module": "@jupyter-widgets/base",
      "_view_module_version": "1.2.0",
      "_view_name": "LayoutView",
      "align_content": null,
      "align_items": null,
      "align_self": null,
      "border": null,
      "bottom": null,
      "display": null,
      "flex": null,
      "flex_flow": null,
      "grid_area": null,
      "grid_auto_columns": null,
      "grid_auto_flow": null,
      "grid_auto_rows": null,
      "grid_column": null,
      "grid_gap": null,
      "grid_row": null,
      "grid_template_areas": null,
      "grid_template_columns": null,
      "grid_template_rows": null,
      "height": null,
      "justify_content": null,
      "justify_items": null,
      "left": null,
      "margin": null,
      "max_height": null,
      "max_width": null,
      "min_height": null,
      "min_width": null,
      "object_fit": null,
      "object_position": null,
      "order": null,
      "overflow": null,
      "overflow_x": null,
      "overflow_y": null,
      "padding": null,
      "right": null,
      "top": null,
      "visibility": null,
      "width": null
     }
    },
    "54d5b166688346c68cc6913d591be29f": {
     "model_module": "@jupyter-widgets/controls",
     "model_name": "HTMLModel",
     "state": {
      "_dom_classes": [],
      "_model_module": "@jupyter-widgets/controls",
      "_model_module_version": "1.5.0",
      "_model_name": "HTMLModel",
      "_view_count": null,
      "_view_module": "@jupyter-widgets/controls",
      "_view_module_version": "1.5.0",
      "_view_name": "HTMLView",
      "description": "",
      "description_tooltip": null,
      "layout": "IPY_MODEL_3e49b01f6fac42ecb31bf811245d19ae",
      "placeholder": "​",
      "style": "IPY_MODEL_bde76b808b0c4460820625d0548d63dc",
      "value": " 9/9 [00:05&lt;00:00,  1.76ba/s]"
     }
    },
    "58e1ae7e02b6423593b40b1be0c18b37": {
     "model_module": "@jupyter-widgets/base",
     "model_name": "LayoutModel",
     "state": {
      "_model_module": "@jupyter-widgets/base",
      "_model_module_version": "1.2.0",
      "_model_name": "LayoutModel",
      "_view_count": null,
      "_view_module": "@jupyter-widgets/base",
      "_view_module_version": "1.2.0",
      "_view_name": "LayoutView",
      "align_content": null,
      "align_items": null,
      "align_self": null,
      "border": null,
      "bottom": null,
      "display": null,
      "flex": null,
      "flex_flow": null,
      "grid_area": null,
      "grid_auto_columns": null,
      "grid_auto_flow": null,
      "grid_auto_rows": null,
      "grid_column": null,
      "grid_gap": null,
      "grid_row": null,
      "grid_template_areas": null,
      "grid_template_columns": null,
      "grid_template_rows": null,
      "height": null,
      "justify_content": null,
      "justify_items": null,
      "left": null,
      "margin": null,
      "max_height": null,
      "max_width": null,
      "min_height": null,
      "min_width": null,
      "object_fit": null,
      "object_position": null,
      "order": null,
      "overflow": null,
      "overflow_x": null,
      "overflow_y": null,
      "padding": null,
      "right": null,
      "top": null,
      "visibility": null,
      "width": null
     }
    },
    "598ab951bebd4e4893f5c0c50f0e457f": {
     "model_module": "@jupyter-widgets/base",
     "model_name": "LayoutModel",
     "state": {
      "_model_module": "@jupyter-widgets/base",
      "_model_module_version": "1.2.0",
      "_model_name": "LayoutModel",
      "_view_count": null,
      "_view_module": "@jupyter-widgets/base",
      "_view_module_version": "1.2.0",
      "_view_name": "LayoutView",
      "align_content": null,
      "align_items": null,
      "align_self": null,
      "border": null,
      "bottom": null,
      "display": null,
      "flex": null,
      "flex_flow": null,
      "grid_area": null,
      "grid_auto_columns": null,
      "grid_auto_flow": null,
      "grid_auto_rows": null,
      "grid_column": null,
      "grid_gap": null,
      "grid_row": null,
      "grid_template_areas": null,
      "grid_template_columns": null,
      "grid_template_rows": null,
      "height": null,
      "justify_content": null,
      "justify_items": null,
      "left": null,
      "margin": null,
      "max_height": null,
      "max_width": null,
      "min_height": null,
      "min_width": null,
      "object_fit": null,
      "object_position": null,
      "order": null,
      "overflow": null,
      "overflow_x": null,
      "overflow_y": null,
      "padding": null,
      "right": null,
      "top": null,
      "visibility": null,
      "width": null
     }
    },
    "59b4920e7e114c37af4c714531f4afe9": {
     "model_module": "@jupyter-widgets/controls",
     "model_name": "DescriptionStyleModel",
     "state": {
      "_model_module": "@jupyter-widgets/controls",
      "_model_module_version": "1.5.0",
      "_model_name": "DescriptionStyleModel",
      "_view_count": null,
      "_view_module": "@jupyter-widgets/base",
      "_view_module_version": "1.2.0",
      "_view_name": "StyleView",
      "description_width": ""
     }
    },
    "59fe0bc9a04b449281f8531db047e0a8": {
     "model_module": "@jupyter-widgets/controls",
     "model_name": "ProgressStyleModel",
     "state": {
      "_model_module": "@jupyter-widgets/controls",
      "_model_module_version": "1.5.0",
      "_model_name": "ProgressStyleModel",
      "_view_count": null,
      "_view_module": "@jupyter-widgets/base",
      "_view_module_version": "1.2.0",
      "_view_name": "StyleView",
      "bar_color": null,
      "description_width": "initial"
     }
    },
    "5a13fb3510a8408a8a7ee4ea46caaf02": {
     "model_module": "@jupyter-widgets/base",
     "model_name": "LayoutModel",
     "state": {
      "_model_module": "@jupyter-widgets/base",
      "_model_module_version": "1.2.0",
      "_model_name": "LayoutModel",
      "_view_count": null,
      "_view_module": "@jupyter-widgets/base",
      "_view_module_version": "1.2.0",
      "_view_name": "LayoutView",
      "align_content": null,
      "align_items": null,
      "align_self": null,
      "border": null,
      "bottom": null,
      "display": null,
      "flex": null,
      "flex_flow": null,
      "grid_area": null,
      "grid_auto_columns": null,
      "grid_auto_flow": null,
      "grid_auto_rows": null,
      "grid_column": null,
      "grid_gap": null,
      "grid_row": null,
      "grid_template_areas": null,
      "grid_template_columns": null,
      "grid_template_rows": null,
      "height": null,
      "justify_content": null,
      "justify_items": null,
      "left": null,
      "margin": null,
      "max_height": null,
      "max_width": null,
      "min_height": null,
      "min_width": null,
      "object_fit": null,
      "object_position": null,
      "order": null,
      "overflow": null,
      "overflow_x": null,
      "overflow_y": null,
      "padding": null,
      "right": null,
      "top": null,
      "visibility": null,
      "width": null
     }
    },
    "5cc52e1d08a64e3e8338135ac8e35313": {
     "model_module": "@jupyter-widgets/controls",
     "model_name": "HTMLModel",
     "state": {
      "_dom_classes": [],
      "_model_module": "@jupyter-widgets/controls",
      "_model_module_version": "1.5.0",
      "_model_name": "HTMLModel",
      "_view_count": null,
      "_view_module": "@jupyter-widgets/controls",
      "_view_module_version": "1.5.0",
      "_view_name": "HTMLView",
      "description": "",
      "description_tooltip": null,
      "layout": "IPY_MODEL_d63ecc8d703b46848f8ce30327ec8e23",
      "placeholder": "​",
      "style": "IPY_MODEL_28b37b4b7a0e468bbc8f44e0368f1d5c",
      "value": " 284/284 [00:22&lt;00:00, 12.91ex/s]"
     }
    },
    "5d81e61dc55e4dde91e66346d2e5e24f": {
     "model_module": "@jupyter-widgets/base",
     "model_name": "LayoutModel",
     "state": {
      "_model_module": "@jupyter-widgets/base",
      "_model_module_version": "1.2.0",
      "_model_name": "LayoutModel",
      "_view_count": null,
      "_view_module": "@jupyter-widgets/base",
      "_view_module_version": "1.2.0",
      "_view_name": "LayoutView",
      "align_content": null,
      "align_items": null,
      "align_self": null,
      "border": null,
      "bottom": null,
      "display": null,
      "flex": null,
      "flex_flow": null,
      "grid_area": null,
      "grid_auto_columns": null,
      "grid_auto_flow": null,
      "grid_auto_rows": null,
      "grid_column": null,
      "grid_gap": null,
      "grid_row": null,
      "grid_template_areas": null,
      "grid_template_columns": null,
      "grid_template_rows": null,
      "height": null,
      "justify_content": null,
      "justify_items": null,
      "left": null,
      "margin": null,
      "max_height": null,
      "max_width": null,
      "min_height": null,
      "min_width": null,
      "object_fit": null,
      "object_position": null,
      "order": null,
      "overflow": null,
      "overflow_x": null,
      "overflow_y": null,
      "padding": null,
      "right": null,
      "top": null,
      "visibility": null,
      "width": null
     }
    },
    "5d910b42b22845d0ae87967c2c64e222": {
     "model_module": "@jupyter-widgets/base",
     "model_name": "LayoutModel",
     "state": {
      "_model_module": "@jupyter-widgets/base",
      "_model_module_version": "1.2.0",
      "_model_name": "LayoutModel",
      "_view_count": null,
      "_view_module": "@jupyter-widgets/base",
      "_view_module_version": "1.2.0",
      "_view_name": "LayoutView",
      "align_content": null,
      "align_items": null,
      "align_self": null,
      "border": null,
      "bottom": null,
      "display": null,
      "flex": null,
      "flex_flow": null,
      "grid_area": null,
      "grid_auto_columns": null,
      "grid_auto_flow": null,
      "grid_auto_rows": null,
      "grid_column": null,
      "grid_gap": null,
      "grid_row": null,
      "grid_template_areas": null,
      "grid_template_columns": null,
      "grid_template_rows": null,
      "height": null,
      "justify_content": null,
      "justify_items": null,
      "left": null,
      "margin": null,
      "max_height": null,
      "max_width": null,
      "min_height": null,
      "min_width": null,
      "object_fit": null,
      "object_position": null,
      "order": null,
      "overflow": null,
      "overflow_x": null,
      "overflow_y": null,
      "padding": null,
      "right": null,
      "top": null,
      "visibility": null,
      "width": null
     }
    },
    "5e3cefa200c0413dabab2c52cf4c375d": {
     "model_module": "@jupyter-widgets/controls",
     "model_name": "DescriptionStyleModel",
     "state": {
      "_model_module": "@jupyter-widgets/controls",
      "_model_module_version": "1.5.0",
      "_model_name": "DescriptionStyleModel",
      "_view_count": null,
      "_view_module": "@jupyter-widgets/base",
      "_view_module_version": "1.2.0",
      "_view_name": "StyleView",
      "description_width": ""
     }
    },
    "607315cd4c7c4c2ea9c7958167e16070": {
     "model_module": "@jupyter-widgets/controls",
     "model_name": "HTMLModel",
     "state": {
      "_dom_classes": [],
      "_model_module": "@jupyter-widgets/controls",
      "_model_module_version": "1.5.0",
      "_model_name": "HTMLModel",
      "_view_count": null,
      "_view_module": "@jupyter-widgets/controls",
      "_view_module_version": "1.5.0",
      "_view_name": "HTMLView",
      "description": "",
      "description_tooltip": null,
      "layout": "IPY_MODEL_5d910b42b22845d0ae87967c2c64e222",
      "placeholder": "​",
      "style": "IPY_MODEL_a9f9c42a42ea4e52b1487d79cc4f7f65",
      "value": " 3.90k/? [00:00&lt;00:00, 9.24kB/s]"
     }
    },
    "613467560e9a46a4a16f8cb416e45b75": {
     "model_module": "@jupyter-widgets/controls",
     "model_name": "HBoxModel",
     "state": {
      "_dom_classes": [],
      "_model_module": "@jupyter-widgets/controls",
      "_model_module_version": "1.5.0",
      "_model_name": "HBoxModel",
      "_view_count": null,
      "_view_module": "@jupyter-widgets/controls",
      "_view_module_version": "1.5.0",
      "_view_name": "HBoxView",
      "box_style": "",
      "children": [
       "IPY_MODEL_88d7a25ab3c44edab759e70e92c36cda",
       "IPY_MODEL_aca000c1005844a28bd48ad6e6731afb"
      ],
      "layout": "IPY_MODEL_6b636b67dc32429f9d36ba07e4152a7e"
     }
    },
    "6213b09b1e394fdcb5af7d956aab02e2": {
     "model_module": "@jupyter-widgets/base",
     "model_name": "LayoutModel",
     "state": {
      "_model_module": "@jupyter-widgets/base",
      "_model_module_version": "1.2.0",
      "_model_name": "LayoutModel",
      "_view_count": null,
      "_view_module": "@jupyter-widgets/base",
      "_view_module_version": "1.2.0",
      "_view_name": "LayoutView",
      "align_content": null,
      "align_items": null,
      "align_self": null,
      "border": null,
      "bottom": null,
      "display": null,
      "flex": null,
      "flex_flow": null,
      "grid_area": null,
      "grid_auto_columns": null,
      "grid_auto_flow": null,
      "grid_auto_rows": null,
      "grid_column": null,
      "grid_gap": null,
      "grid_row": null,
      "grid_template_areas": null,
      "grid_template_columns": null,
      "grid_template_rows": null,
      "height": null,
      "justify_content": null,
      "justify_items": null,
      "left": null,
      "margin": null,
      "max_height": null,
      "max_width": null,
      "min_height": null,
      "min_width": null,
      "object_fit": null,
      "object_position": null,
      "order": null,
      "overflow": null,
      "overflow_x": null,
      "overflow_y": null,
      "padding": null,
      "right": null,
      "top": null,
      "visibility": null,
      "width": null
     }
    },
    "6417bd27270d412da6f7f40cc2d2d4a2": {
     "model_module": "@jupyter-widgets/base",
     "model_name": "LayoutModel",
     "state": {
      "_model_module": "@jupyter-widgets/base",
      "_model_module_version": "1.2.0",
      "_model_name": "LayoutModel",
      "_view_count": null,
      "_view_module": "@jupyter-widgets/base",
      "_view_module_version": "1.2.0",
      "_view_name": "LayoutView",
      "align_content": null,
      "align_items": null,
      "align_self": null,
      "border": null,
      "bottom": null,
      "display": null,
      "flex": null,
      "flex_flow": null,
      "grid_area": null,
      "grid_auto_columns": null,
      "grid_auto_flow": null,
      "grid_auto_rows": null,
      "grid_column": null,
      "grid_gap": null,
      "grid_row": null,
      "grid_template_areas": null,
      "grid_template_columns": null,
      "grid_template_rows": null,
      "height": null,
      "justify_content": null,
      "justify_items": null,
      "left": null,
      "margin": null,
      "max_height": null,
      "max_width": null,
      "min_height": null,
      "min_width": null,
      "object_fit": null,
      "object_position": null,
      "order": null,
      "overflow": null,
      "overflow_x": null,
      "overflow_y": null,
      "padding": null,
      "right": null,
      "top": null,
      "visibility": null,
      "width": null
     }
    },
    "666fdad7e45342feb755a2d6e25c44af": {
     "model_module": "@jupyter-widgets/controls",
     "model_name": "ProgressStyleModel",
     "state": {
      "_model_module": "@jupyter-widgets/controls",
      "_model_module_version": "1.5.0",
      "_model_name": "ProgressStyleModel",
      "_view_count": null,
      "_view_module": "@jupyter-widgets/base",
      "_view_module_version": "1.2.0",
      "_view_name": "StyleView",
      "bar_color": null,
      "description_width": "initial"
     }
    },
    "6686c1ee618145bca3fc669472f9ff19": {
     "model_module": "@jupyter-widgets/controls",
     "model_name": "HTMLModel",
     "state": {
      "_dom_classes": [],
      "_model_module": "@jupyter-widgets/controls",
      "_model_module_version": "1.5.0",
      "_model_name": "HTMLModel",
      "_view_count": null,
      "_view_module": "@jupyter-widgets/controls",
      "_view_module_version": "1.5.0",
      "_view_name": "HTMLView",
      "description": "",
      "description_tooltip": null,
      "layout": "IPY_MODEL_aa694b2696754e409cbd2e6974dea63a",
      "placeholder": "​",
      "style": "IPY_MODEL_be571158ed1f41bda0a2c11285b29a2b",
      "value": " 639/639 [02:36&lt;00:00,  4.10ex/s]"
     }
    },
    "687c80ddd3ba4101bc8d3f8ee3a5b735": {
     "model_module": "@jupyter-widgets/controls",
     "model_name": "FloatProgressModel",
     "state": {
      "_dom_classes": [],
      "_model_module": "@jupyter-widgets/controls",
      "_model_module_version": "1.5.0",
      "_model_name": "FloatProgressModel",
      "_view_count": null,
      "_view_module": "@jupyter-widgets/controls",
      "_view_module_version": "1.5.0",
      "_view_name": "ProgressView",
      "bar_style": "success",
      "description": "#3: 100%",
      "description_tooltip": null,
      "layout": "IPY_MODEL_fe59e93e90c64f978cd45513b6cba8b9",
      "max": 638,
      "min": 0,
      "orientation": "horizontal",
      "style": "IPY_MODEL_7201376a9c4e4f8195bf6ca8871506b6",
      "value": 638
     }
    },
    "69f67a0a7ab84240b741c45c197680fe": {
     "model_module": "@jupyter-widgets/controls",
     "model_name": "FloatProgressModel",
     "state": {
      "_dom_classes": [],
      "_model_module": "@jupyter-widgets/controls",
      "_model_module_version": "1.5.0",
      "_model_name": "FloatProgressModel",
      "_view_count": null,
      "_view_module": "@jupyter-widgets/controls",
      "_view_module_version": "1.5.0",
      "_view_name": "ProgressView",
      "bar_style": "success",
      "description": "#3: 100%",
      "description_tooltip": null,
      "layout": "IPY_MODEL_f40006476a4e498eb412a1a78f3d7548",
      "max": 9,
      "min": 0,
      "orientation": "horizontal",
      "style": "IPY_MODEL_04752df1c31a47b686b7a044b97b3260",
      "value": 9
     }
    },
    "6a3a283e525c446a8e37ce29498d8069": {
     "model_module": "@jupyter-widgets/base",
     "model_name": "LayoutModel",
     "state": {
      "_model_module": "@jupyter-widgets/base",
      "_model_module_version": "1.2.0",
      "_model_name": "LayoutModel",
      "_view_count": null,
      "_view_module": "@jupyter-widgets/base",
      "_view_module_version": "1.2.0",
      "_view_name": "LayoutView",
      "align_content": null,
      "align_items": null,
      "align_self": null,
      "border": null,
      "bottom": null,
      "display": null,
      "flex": null,
      "flex_flow": null,
      "grid_area": null,
      "grid_auto_columns": null,
      "grid_auto_flow": null,
      "grid_auto_rows": null,
      "grid_column": null,
      "grid_gap": null,
      "grid_row": null,
      "grid_template_areas": null,
      "grid_template_columns": null,
      "grid_template_rows": null,
      "height": null,
      "justify_content": null,
      "justify_items": null,
      "left": null,
      "margin": null,
      "max_height": null,
      "max_width": null,
      "min_height": null,
      "min_width": null,
      "object_fit": null,
      "object_position": null,
      "order": null,
      "overflow": null,
      "overflow_x": null,
      "overflow_y": null,
      "padding": null,
      "right": null,
      "top": null,
      "visibility": null,
      "width": null
     }
    },
    "6b636b67dc32429f9d36ba07e4152a7e": {
     "model_module": "@jupyter-widgets/base",
     "model_name": "LayoutModel",
     "state": {
      "_model_module": "@jupyter-widgets/base",
      "_model_module_version": "1.2.0",
      "_model_name": "LayoutModel",
      "_view_count": null,
      "_view_module": "@jupyter-widgets/base",
      "_view_module_version": "1.2.0",
      "_view_name": "LayoutView",
      "align_content": null,
      "align_items": null,
      "align_self": null,
      "border": null,
      "bottom": null,
      "display": null,
      "flex": null,
      "flex_flow": null,
      "grid_area": null,
      "grid_auto_columns": null,
      "grid_auto_flow": null,
      "grid_auto_rows": null,
      "grid_column": null,
      "grid_gap": null,
      "grid_row": null,
      "grid_template_areas": null,
      "grid_template_columns": null,
      "grid_template_rows": null,
      "height": null,
      "justify_content": null,
      "justify_items": null,
      "left": null,
      "margin": null,
      "max_height": null,
      "max_width": null,
      "min_height": null,
      "min_width": null,
      "object_fit": null,
      "object_position": null,
      "order": null,
      "overflow": null,
      "overflow_x": null,
      "overflow_y": null,
      "padding": null,
      "right": null,
      "top": null,
      "visibility": null,
      "width": null
     }
    },
    "6ba39eae5ad04f77a92953405a5f04f4": {
     "model_module": "@jupyter-widgets/controls",
     "model_name": "DescriptionStyleModel",
     "state": {
      "_model_module": "@jupyter-widgets/controls",
      "_model_module_version": "1.5.0",
      "_model_name": "DescriptionStyleModel",
      "_view_count": null,
      "_view_module": "@jupyter-widgets/base",
      "_view_module_version": "1.2.0",
      "_view_name": "StyleView",
      "description_width": ""
     }
    },
    "6db768f184834e81a330f98e20432215": {
     "model_module": "@jupyter-widgets/base",
     "model_name": "LayoutModel",
     "state": {
      "_model_module": "@jupyter-widgets/base",
      "_model_module_version": "1.2.0",
      "_model_name": "LayoutModel",
      "_view_count": null,
      "_view_module": "@jupyter-widgets/base",
      "_view_module_version": "1.2.0",
      "_view_name": "LayoutView",
      "align_content": null,
      "align_items": null,
      "align_self": null,
      "border": null,
      "bottom": null,
      "display": null,
      "flex": null,
      "flex_flow": null,
      "grid_area": null,
      "grid_auto_columns": null,
      "grid_auto_flow": null,
      "grid_auto_rows": null,
      "grid_column": null,
      "grid_gap": null,
      "grid_row": null,
      "grid_template_areas": null,
      "grid_template_columns": null,
      "grid_template_rows": null,
      "height": null,
      "justify_content": null,
      "justify_items": null,
      "left": null,
      "margin": null,
      "max_height": null,
      "max_width": null,
      "min_height": null,
      "min_width": null,
      "object_fit": null,
      "object_position": null,
      "order": null,
      "overflow": null,
      "overflow_x": null,
      "overflow_y": null,
      "padding": null,
      "right": null,
      "top": null,
      "visibility": null,
      "width": null
     }
    },
    "7201376a9c4e4f8195bf6ca8871506b6": {
     "model_module": "@jupyter-widgets/controls",
     "model_name": "ProgressStyleModel",
     "state": {
      "_model_module": "@jupyter-widgets/controls",
      "_model_module_version": "1.5.0",
      "_model_name": "ProgressStyleModel",
      "_view_count": null,
      "_view_module": "@jupyter-widgets/base",
      "_view_module_version": "1.2.0",
      "_view_name": "StyleView",
      "bar_color": null,
      "description_width": "initial"
     }
    },
    "7298e21aee3c42f0b207012e8f9dd028": {
     "model_module": "@jupyter-widgets/base",
     "model_name": "LayoutModel",
     "state": {
      "_model_module": "@jupyter-widgets/base",
      "_model_module_version": "1.2.0",
      "_model_name": "LayoutModel",
      "_view_count": null,
      "_view_module": "@jupyter-widgets/base",
      "_view_module_version": "1.2.0",
      "_view_name": "LayoutView",
      "align_content": null,
      "align_items": null,
      "align_self": null,
      "border": null,
      "bottom": null,
      "display": null,
      "flex": null,
      "flex_flow": null,
      "grid_area": null,
      "grid_auto_columns": null,
      "grid_auto_flow": null,
      "grid_auto_rows": null,
      "grid_column": null,
      "grid_gap": null,
      "grid_row": null,
      "grid_template_areas": null,
      "grid_template_columns": null,
      "grid_template_rows": null,
      "height": null,
      "justify_content": null,
      "justify_items": null,
      "left": null,
      "margin": null,
      "max_height": null,
      "max_width": null,
      "min_height": null,
      "min_width": null,
      "object_fit": null,
      "object_position": null,
      "order": null,
      "overflow": null,
      "overflow_x": null,
      "overflow_y": null,
      "padding": null,
      "right": null,
      "top": null,
      "visibility": null,
      "width": null
     }
    },
    "72f8ffcefadc4af784e172e85835ec15": {
     "model_module": "@jupyter-widgets/controls",
     "model_name": "HTMLModel",
     "state": {
      "_dom_classes": [],
      "_model_module": "@jupyter-widgets/controls",
      "_model_module_version": "1.5.0",
      "_model_name": "HTMLModel",
      "_view_count": null,
      "_view_module": "@jupyter-widgets/controls",
      "_view_module_version": "1.5.0",
      "_view_name": "HTMLView",
      "description": "",
      "description_tooltip": null,
      "layout": "IPY_MODEL_abbbb5f73acc4980b6864eb623a38cd6",
      "placeholder": "​",
      "style": "IPY_MODEL_bbde1f32a8b64aaf977a5bcb1c2f0762",
      "value": " 9/9 [00:04&lt;00:00,  1.87ba/s]"
     }
    },
    "748a65bad11e4430afa97a2309925f12": {
     "model_module": "@jupyter-widgets/base",
     "model_name": "LayoutModel",
     "state": {
      "_model_module": "@jupyter-widgets/base",
      "_model_module_version": "1.2.0",
      "_model_name": "LayoutModel",
      "_view_count": null,
      "_view_module": "@jupyter-widgets/base",
      "_view_module_version": "1.2.0",
      "_view_name": "LayoutView",
      "align_content": null,
      "align_items": null,
      "align_self": null,
      "border": null,
      "bottom": null,
      "display": null,
      "flex": null,
      "flex_flow": null,
      "grid_area": null,
      "grid_auto_columns": null,
      "grid_auto_flow": null,
      "grid_auto_rows": null,
      "grid_column": null,
      "grid_gap": null,
      "grid_row": null,
      "grid_template_areas": null,
      "grid_template_columns": null,
      "grid_template_rows": null,
      "height": null,
      "justify_content": null,
      "justify_items": null,
      "left": null,
      "margin": null,
      "max_height": null,
      "max_width": null,
      "min_height": null,
      "min_width": null,
      "object_fit": null,
      "object_position": null,
      "order": null,
      "overflow": null,
      "overflow_x": null,
      "overflow_y": null,
      "padding": null,
      "right": null,
      "top": null,
      "visibility": null,
      "width": null
     }
    },
    "75c4190c4f894ae597e15a04dc7c378b": {
     "model_module": "@jupyter-widgets/controls",
     "model_name": "ProgressStyleModel",
     "state": {
      "_model_module": "@jupyter-widgets/controls",
      "_model_module_version": "1.5.0",
      "_model_name": "ProgressStyleModel",
      "_view_count": null,
      "_view_module": "@jupyter-widgets/base",
      "_view_module_version": "1.2.0",
      "_view_name": "StyleView",
      "bar_color": null,
      "description_width": "initial"
     }
    },
    "7655fde9425e4f5183b1d76d98eeabfc": {
     "model_module": "@jupyter-widgets/controls",
     "model_name": "ProgressStyleModel",
     "state": {
      "_model_module": "@jupyter-widgets/controls",
      "_model_module_version": "1.5.0",
      "_model_name": "ProgressStyleModel",
      "_view_count": null,
      "_view_module": "@jupyter-widgets/base",
      "_view_module_version": "1.2.0",
      "_view_name": "StyleView",
      "bar_color": null,
      "description_width": "initial"
     }
    },
    "768413654b08408f9215427497dfe817": {
     "model_module": "@jupyter-widgets/controls",
     "model_name": "FloatProgressModel",
     "state": {
      "_dom_classes": [],
      "_model_module": "@jupyter-widgets/controls",
      "_model_module_version": "1.5.0",
      "_model_name": "FloatProgressModel",
      "_view_count": null,
      "_view_module": "@jupyter-widgets/controls",
      "_view_module_version": "1.5.0",
      "_view_name": "ProgressView",
      "bar_style": "success",
      "description": "Downloading: ",
      "description_tooltip": null,
      "layout": "IPY_MODEL_eed947d8095e45209b024c8b5a4438c7",
      "max": 1764,
      "min": 0,
      "orientation": "horizontal",
      "style": "IPY_MODEL_f6801998b88b44fdbf22077112b810d4",
      "value": 1764
     }
    },
    "7859ec09826c4cc5aee1338b99e03618": {
     "model_module": "@jupyter-widgets/controls",
     "model_name": "HBoxModel",
     "state": {
      "_dom_classes": [],
      "_model_module": "@jupyter-widgets/controls",
      "_model_module_version": "1.5.0",
      "_model_name": "HBoxModel",
      "_view_count": null,
      "_view_module": "@jupyter-widgets/controls",
      "_view_module_version": "1.5.0",
      "_view_name": "HBoxView",
      "box_style": "",
      "children": [
       "IPY_MODEL_abcc540f951540f89222054128f0f2d6",
       "IPY_MODEL_38ff76e364da4908a809ba1f792aa550"
      ],
      "layout": "IPY_MODEL_9e67d0cf1772484ea6e615042b218b02"
     }
    },
    "7a0645047e534e71ae6505077de0f5f3": {
     "model_module": "@jupyter-widgets/base",
     "model_name": "LayoutModel",
     "state": {
      "_model_module": "@jupyter-widgets/base",
      "_model_module_version": "1.2.0",
      "_model_name": "LayoutModel",
      "_view_count": null,
      "_view_module": "@jupyter-widgets/base",
      "_view_module_version": "1.2.0",
      "_view_name": "LayoutView",
      "align_content": null,
      "align_items": null,
      "align_self": null,
      "border": null,
      "bottom": null,
      "display": null,
      "flex": null,
      "flex_flow": null,
      "grid_area": null,
      "grid_auto_columns": null,
      "grid_auto_flow": null,
      "grid_auto_rows": null,
      "grid_column": null,
      "grid_gap": null,
      "grid_row": null,
      "grid_template_areas": null,
      "grid_template_columns": null,
      "grid_template_rows": null,
      "height": null,
      "justify_content": null,
      "justify_items": null,
      "left": null,
      "margin": null,
      "max_height": null,
      "max_width": null,
      "min_height": null,
      "min_width": null,
      "object_fit": null,
      "object_position": null,
      "order": null,
      "overflow": null,
      "overflow_x": null,
      "overflow_y": null,
      "padding": null,
      "right": null,
      "top": null,
      "visibility": null,
      "width": null
     }
    },
    "7bd98f7db30b4042a7a72983b9c90a65": {
     "model_module": "@jupyter-widgets/controls",
     "model_name": "HBoxModel",
     "state": {
      "_dom_classes": [],
      "_model_module": "@jupyter-widgets/controls",
      "_model_module_version": "1.5.0",
      "_model_name": "HBoxModel",
      "_view_count": null,
      "_view_module": "@jupyter-widgets/controls",
      "_view_module_version": "1.5.0",
      "_view_name": "HBoxView",
      "box_style": "",
      "children": [
       "IPY_MODEL_c2efbe8f9c4c4183a054c3bbd7dc4353",
       "IPY_MODEL_26ae6c3efc1c4eedadd710dec3b3e96f"
      ],
      "layout": "IPY_MODEL_f1e53e8511674fd8aa2af5ee26059b46"
     }
    },
    "7c72f34d6def481b8149010e3f7317c4": {
     "model_module": "@jupyter-widgets/controls",
     "model_name": "HTMLModel",
     "state": {
      "_dom_classes": [],
      "_model_module": "@jupyter-widgets/controls",
      "_model_module_version": "1.5.0",
      "_model_name": "HTMLModel",
      "_view_count": null,
      "_view_module": "@jupyter-widgets/controls",
      "_view_module_version": "1.5.0",
      "_view_name": "HTMLView",
      "description": "",
      "description_tooltip": null,
      "layout": "IPY_MODEL_88838267ea7f43febc44423e1ac1cc6b",
      "placeholder": "​",
      "style": "IPY_MODEL_d25fb9983b824c1b99899f6ab1107616",
      "value": " 17/17 [00:13&lt;00:00,  1.24ba/s]"
     }
    },
    "7ccc9b6e929949a79db50e5254200aa8": {
     "model_module": "@jupyter-widgets/controls",
     "model_name": "HTMLModel",
     "state": {
      "_dom_classes": [],
      "_model_module": "@jupyter-widgets/controls",
      "_model_module_version": "1.5.0",
      "_model_name": "HTMLModel",
      "_view_count": null,
      "_view_module": "@jupyter-widgets/controls",
      "_view_module_version": "1.5.0",
      "_view_name": "HTMLView",
      "description": "",
      "description_tooltip": null,
      "layout": "IPY_MODEL_6db768f184834e81a330f98e20432215",
      "placeholder": "​",
      "style": "IPY_MODEL_d4cdad500cae4628a0e4ddb144eb2a42",
      "value": " 9/9 [00:04&lt;00:00,  2.03ba/s]"
     }
    },
    "7cede60050794ed082c8c0b54b556f55": {
     "model_module": "@jupyter-widgets/controls",
     "model_name": "ProgressStyleModel",
     "state": {
      "_model_module": "@jupyter-widgets/controls",
      "_model_module_version": "1.5.0",
      "_model_name": "ProgressStyleModel",
      "_view_count": null,
      "_view_module": "@jupyter-widgets/base",
      "_view_module_version": "1.2.0",
      "_view_name": "StyleView",
      "bar_color": null,
      "description_width": "initial"
     }
    },
    "7f8c5b24dde74047bf2e81977897d734": {
     "model_module": "@jupyter-widgets/base",
     "model_name": "LayoutModel",
     "state": {
      "_model_module": "@jupyter-widgets/base",
      "_model_module_version": "1.2.0",
      "_model_name": "LayoutModel",
      "_view_count": null,
      "_view_module": "@jupyter-widgets/base",
      "_view_module_version": "1.2.0",
      "_view_name": "LayoutView",
      "align_content": null,
      "align_items": null,
      "align_self": null,
      "border": null,
      "bottom": null,
      "display": null,
      "flex": null,
      "flex_flow": null,
      "grid_area": null,
      "grid_auto_columns": null,
      "grid_auto_flow": null,
      "grid_auto_rows": null,
      "grid_column": null,
      "grid_gap": null,
      "grid_row": null,
      "grid_template_areas": null,
      "grid_template_columns": null,
      "grid_template_rows": null,
      "height": null,
      "justify_content": null,
      "justify_items": null,
      "left": null,
      "margin": null,
      "max_height": null,
      "max_width": null,
      "min_height": null,
      "min_width": null,
      "object_fit": null,
      "object_position": null,
      "order": null,
      "overflow": null,
      "overflow_x": null,
      "overflow_y": null,
      "padding": null,
      "right": null,
      "top": null,
      "visibility": null,
      "width": null
     }
    },
    "7ffb73ff599d4d5ab10262a820593606": {
     "model_module": "@jupyter-widgets/controls",
     "model_name": "HTMLModel",
     "state": {
      "_dom_classes": [],
      "_model_module": "@jupyter-widgets/controls",
      "_model_module_version": "1.5.0",
      "_model_name": "HTMLModel",
      "_view_count": null,
      "_view_module": "@jupyter-widgets/controls",
      "_view_module_version": "1.5.0",
      "_view_name": "HTMLView",
      "description": "",
      "description_tooltip": null,
      "layout": "IPY_MODEL_c9014de8234047158f8546ca45bdd653",
      "placeholder": "​",
      "style": "IPY_MODEL_c38e0ad91bc94c87a25d11b773ebe9f4",
      "value": " 1/? [00:00&lt;00:00, 35.74 tables/s]"
     }
    },
    "83c2b5d24c114974880b44d28b03a4fc": {
     "model_module": "@jupyter-widgets/controls",
     "model_name": "ProgressStyleModel",
     "state": {
      "_model_module": "@jupyter-widgets/controls",
      "_model_module_version": "1.5.0",
      "_model_name": "ProgressStyleModel",
      "_view_count": null,
      "_view_module": "@jupyter-widgets/base",
      "_view_module_version": "1.2.0",
      "_view_name": "StyleView",
      "bar_color": null,
      "description_width": "initial"
     }
    },
    "84d30397f2834df6a7eaee6a04beec8e": {
     "model_module": "@jupyter-widgets/controls",
     "model_name": "FloatProgressModel",
     "state": {
      "_dom_classes": [],
      "_model_module": "@jupyter-widgets/controls",
      "_model_module_version": "1.5.0",
      "_model_name": "FloatProgressModel",
      "_view_count": null,
      "_view_module": "@jupyter-widgets/controls",
      "_view_module_version": "1.5.0",
      "_view_name": "ProgressView",
      "bar_style": "success",
      "description": "#1: 100%",
      "description_tooltip": null,
      "layout": "IPY_MODEL_460bd20d76de41ee9ad3e73f522e920d",
      "max": 9,
      "min": 0,
      "orientation": "horizontal",
      "style": "IPY_MODEL_1b62ab4ffb2646258930ecf6e6d8296c",
      "value": 9
     }
    },
    "85a9c0455bb44c929aaf0ebc591c86e9": {
     "model_module": "@jupyter-widgets/controls",
     "model_name": "DescriptionStyleModel",
     "state": {
      "_model_module": "@jupyter-widgets/controls",
      "_model_module_version": "1.5.0",
      "_model_name": "DescriptionStyleModel",
      "_view_count": null,
      "_view_module": "@jupyter-widgets/base",
      "_view_module_version": "1.2.0",
      "_view_name": "StyleView",
      "description_width": ""
     }
    },
    "86090fb47fbd4e2087b7a4329c177e56": {
     "model_module": "@jupyter-widgets/controls",
     "model_name": "ProgressStyleModel",
     "state": {
      "_model_module": "@jupyter-widgets/controls",
      "_model_module_version": "1.5.0",
      "_model_name": "ProgressStyleModel",
      "_view_count": null,
      "_view_module": "@jupyter-widgets/base",
      "_view_module_version": "1.2.0",
      "_view_name": "StyleView",
      "bar_color": null,
      "description_width": "initial"
     }
    },
    "86d6f4d432a145f183ea78da5eeda94e": {
     "model_module": "@jupyter-widgets/base",
     "model_name": "LayoutModel",
     "state": {
      "_model_module": "@jupyter-widgets/base",
      "_model_module_version": "1.2.0",
      "_model_name": "LayoutModel",
      "_view_count": null,
      "_view_module": "@jupyter-widgets/base",
      "_view_module_version": "1.2.0",
      "_view_name": "LayoutView",
      "align_content": null,
      "align_items": null,
      "align_self": null,
      "border": null,
      "bottom": null,
      "display": null,
      "flex": null,
      "flex_flow": null,
      "grid_area": null,
      "grid_auto_columns": null,
      "grid_auto_flow": null,
      "grid_auto_rows": null,
      "grid_column": null,
      "grid_gap": null,
      "grid_row": null,
      "grid_template_areas": null,
      "grid_template_columns": null,
      "grid_template_rows": null,
      "height": null,
      "justify_content": null,
      "justify_items": null,
      "left": null,
      "margin": null,
      "max_height": null,
      "max_width": null,
      "min_height": null,
      "min_width": null,
      "object_fit": null,
      "object_position": null,
      "order": null,
      "overflow": null,
      "overflow_x": null,
      "overflow_y": null,
      "padding": null,
      "right": null,
      "top": null,
      "visibility": null,
      "width": null
     }
    },
    "88838267ea7f43febc44423e1ac1cc6b": {
     "model_module": "@jupyter-widgets/base",
     "model_name": "LayoutModel",
     "state": {
      "_model_module": "@jupyter-widgets/base",
      "_model_module_version": "1.2.0",
      "_model_name": "LayoutModel",
      "_view_count": null,
      "_view_module": "@jupyter-widgets/base",
      "_view_module_version": "1.2.0",
      "_view_name": "LayoutView",
      "align_content": null,
      "align_items": null,
      "align_self": null,
      "border": null,
      "bottom": null,
      "display": null,
      "flex": null,
      "flex_flow": null,
      "grid_area": null,
      "grid_auto_columns": null,
      "grid_auto_flow": null,
      "grid_auto_rows": null,
      "grid_column": null,
      "grid_gap": null,
      "grid_row": null,
      "grid_template_areas": null,
      "grid_template_columns": null,
      "grid_template_rows": null,
      "height": null,
      "justify_content": null,
      "justify_items": null,
      "left": null,
      "margin": null,
      "max_height": null,
      "max_width": null,
      "min_height": null,
      "min_width": null,
      "object_fit": null,
      "object_position": null,
      "order": null,
      "overflow": null,
      "overflow_x": null,
      "overflow_y": null,
      "padding": null,
      "right": null,
      "top": null,
      "visibility": null,
      "width": null
     }
    },
    "88d7a25ab3c44edab759e70e92c36cda": {
     "model_module": "@jupyter-widgets/controls",
     "model_name": "FloatProgressModel",
     "state": {
      "_dom_classes": [],
      "_model_module": "@jupyter-widgets/controls",
      "_model_module_version": "1.5.0",
      "_model_name": "FloatProgressModel",
      "_view_count": null,
      "_view_module": "@jupyter-widgets/controls",
      "_view_module_version": "1.5.0",
      "_view_name": "ProgressView",
      "bar_style": "success",
      "description": "100%",
      "description_tooltip": null,
      "layout": "IPY_MODEL_b58cd86e11dc48ecb354520fb636dbce",
      "max": 2554,
      "min": 0,
      "orientation": "horizontal",
      "style": "IPY_MODEL_100706b8ee254f8685c98901371cf335",
      "value": 2554
     }
    },
    "898ef336d7104d608de310a37214b37a": {
     "model_module": "@jupyter-widgets/controls",
     "model_name": "HBoxModel",
     "state": {
      "_dom_classes": [],
      "_model_module": "@jupyter-widgets/controls",
      "_model_module_version": "1.5.0",
      "_model_name": "HBoxModel",
      "_view_count": null,
      "_view_module": "@jupyter-widgets/controls",
      "_view_module_version": "1.5.0",
      "_view_name": "HBoxView",
      "box_style": "",
      "children": [
       "IPY_MODEL_c3abb0b49a8e4962aa44290495b58d15",
       "IPY_MODEL_6686c1ee618145bca3fc669472f9ff19"
      ],
      "layout": "IPY_MODEL_ea8daa053f5e450f818af8c81e61a054"
     }
    },
    "8fc5ff400f9d46409404f1ecf8a8d05d": {
     "model_module": "@jupyter-widgets/base",
     "model_name": "LayoutModel",
     "state": {
      "_model_module": "@jupyter-widgets/base",
      "_model_module_version": "1.2.0",
      "_model_name": "LayoutModel",
      "_view_count": null,
      "_view_module": "@jupyter-widgets/base",
      "_view_module_version": "1.2.0",
      "_view_name": "LayoutView",
      "align_content": null,
      "align_items": null,
      "align_self": null,
      "border": null,
      "bottom": null,
      "display": null,
      "flex": null,
      "flex_flow": null,
      "grid_area": null,
      "grid_auto_columns": null,
      "grid_auto_flow": null,
      "grid_auto_rows": null,
      "grid_column": null,
      "grid_gap": null,
      "grid_row": null,
      "grid_template_areas": null,
      "grid_template_columns": null,
      "grid_template_rows": null,
      "height": null,
      "justify_content": null,
      "justify_items": null,
      "left": null,
      "margin": null,
      "max_height": null,
      "max_width": null,
      "min_height": null,
      "min_width": null,
      "object_fit": null,
      "object_position": null,
      "order": null,
      "overflow": null,
      "overflow_x": null,
      "overflow_y": null,
      "padding": null,
      "right": null,
      "top": null,
      "visibility": null,
      "width": null
     }
    },
    "9179e7d5b4624f50bd777509e5ee24ab": {
     "model_module": "@jupyter-widgets/controls",
     "model_name": "FloatProgressModel",
     "state": {
      "_dom_classes": [],
      "_model_module": "@jupyter-widgets/controls",
      "_model_module_version": "1.5.0",
      "_model_name": "FloatProgressModel",
      "_view_count": null,
      "_view_module": "@jupyter-widgets/controls",
      "_view_module_version": "1.5.0",
      "_view_name": "ProgressView",
      "bar_style": "success",
      "description": "#0: 100%",
      "description_tooltip": null,
      "layout": "IPY_MODEL_6a3a283e525c446a8e37ce29498d8069",
      "max": 17,
      "min": 0,
      "orientation": "horizontal",
      "style": "IPY_MODEL_75c4190c4f894ae597e15a04dc7c378b",
      "value": 17
     }
    },
    "91f67c517828499bbdf9fd9fc9447b8a": {
     "model_module": "@jupyter-widgets/controls",
     "model_name": "DescriptionStyleModel",
     "state": {
      "_model_module": "@jupyter-widgets/controls",
      "_model_module_version": "1.5.0",
      "_model_name": "DescriptionStyleModel",
      "_view_count": null,
      "_view_module": "@jupyter-widgets/base",
      "_view_module_version": "1.2.0",
      "_view_name": "StyleView",
      "description_width": ""
     }
    },
    "92a5920070794a0590b8f04ac0e9db2d": {
     "model_module": "@jupyter-widgets/controls",
     "model_name": "HBoxModel",
     "state": {
      "_dom_classes": [],
      "_model_module": "@jupyter-widgets/controls",
      "_model_module_version": "1.5.0",
      "_model_name": "HBoxModel",
      "_view_count": null,
      "_view_module": "@jupyter-widgets/controls",
      "_view_module_version": "1.5.0",
      "_view_name": "HBoxView",
      "box_style": "",
      "children": [
       "IPY_MODEL_f00f014cf8cf4ba9a3335dbdfdd66487",
       "IPY_MODEL_b0ebb9d65b964ed1b5cd31acf464023c"
      ],
      "layout": "IPY_MODEL_98b11a17941e4a8397cead777018e8ab"
     }
    },
    "932f3c7906314d9bbc8216f479ebbb5c": {
     "model_module": "@jupyter-widgets/base",
     "model_name": "LayoutModel",
     "state": {
      "_model_module": "@jupyter-widgets/base",
      "_model_module_version": "1.2.0",
      "_model_name": "LayoutModel",
      "_view_count": null,
      "_view_module": "@jupyter-widgets/base",
      "_view_module_version": "1.2.0",
      "_view_name": "LayoutView",
      "align_content": null,
      "align_items": null,
      "align_self": null,
      "border": null,
      "bottom": null,
      "display": null,
      "flex": null,
      "flex_flow": null,
      "grid_area": null,
      "grid_auto_columns": null,
      "grid_auto_flow": null,
      "grid_auto_rows": null,
      "grid_column": null,
      "grid_gap": null,
      "grid_row": null,
      "grid_template_areas": null,
      "grid_template_columns": null,
      "grid_template_rows": null,
      "height": null,
      "justify_content": null,
      "justify_items": null,
      "left": null,
      "margin": null,
      "max_height": null,
      "max_width": null,
      "min_height": null,
      "min_width": null,
      "object_fit": null,
      "object_position": null,
      "order": null,
      "overflow": null,
      "overflow_x": null,
      "overflow_y": null,
      "padding": null,
      "right": null,
      "top": null,
      "visibility": null,
      "width": null
     }
    },
    "95e892743947491c86a5c936959a83ba": {
     "model_module": "@jupyter-widgets/base",
     "model_name": "LayoutModel",
     "state": {
      "_model_module": "@jupyter-widgets/base",
      "_model_module_version": "1.2.0",
      "_model_name": "LayoutModel",
      "_view_count": null,
      "_view_module": "@jupyter-widgets/base",
      "_view_module_version": "1.2.0",
      "_view_name": "LayoutView",
      "align_content": null,
      "align_items": null,
      "align_self": null,
      "border": null,
      "bottom": null,
      "display": null,
      "flex": null,
      "flex_flow": null,
      "grid_area": null,
      "grid_auto_columns": null,
      "grid_auto_flow": null,
      "grid_auto_rows": null,
      "grid_column": null,
      "grid_gap": null,
      "grid_row": null,
      "grid_template_areas": null,
      "grid_template_columns": null,
      "grid_template_rows": null,
      "height": null,
      "justify_content": null,
      "justify_items": null,
      "left": null,
      "margin": null,
      "max_height": null,
      "max_width": null,
      "min_height": null,
      "min_width": null,
      "object_fit": null,
      "object_position": null,
      "order": null,
      "overflow": null,
      "overflow_x": null,
      "overflow_y": null,
      "padding": null,
      "right": null,
      "top": null,
      "visibility": null,
      "width": null
     }
    },
    "963e370b6c384133b5f916eed6d19ca9": {
     "model_module": "@jupyter-widgets/base",
     "model_name": "LayoutModel",
     "state": {
      "_model_module": "@jupyter-widgets/base",
      "_model_module_version": "1.2.0",
      "_model_name": "LayoutModel",
      "_view_count": null,
      "_view_module": "@jupyter-widgets/base",
      "_view_module_version": "1.2.0",
      "_view_name": "LayoutView",
      "align_content": null,
      "align_items": null,
      "align_self": null,
      "border": null,
      "bottom": null,
      "display": null,
      "flex": null,
      "flex_flow": null,
      "grid_area": null,
      "grid_auto_columns": null,
      "grid_auto_flow": null,
      "grid_auto_rows": null,
      "grid_column": null,
      "grid_gap": null,
      "grid_row": null,
      "grid_template_areas": null,
      "grid_template_columns": null,
      "grid_template_rows": null,
      "height": null,
      "justify_content": null,
      "justify_items": null,
      "left": null,
      "margin": null,
      "max_height": null,
      "max_width": null,
      "min_height": null,
      "min_width": null,
      "object_fit": null,
      "object_position": null,
      "order": null,
      "overflow": null,
      "overflow_x": null,
      "overflow_y": null,
      "padding": null,
      "right": null,
      "top": null,
      "visibility": null,
      "width": null
     }
    },
    "9749bb30fdbf4f58aeabb1d9a8a9913a": {
     "model_module": "@jupyter-widgets/controls",
     "model_name": "DescriptionStyleModel",
     "state": {
      "_model_module": "@jupyter-widgets/controls",
      "_model_module_version": "1.5.0",
      "_model_name": "DescriptionStyleModel",
      "_view_count": null,
      "_view_module": "@jupyter-widgets/base",
      "_view_module_version": "1.2.0",
      "_view_name": "StyleView",
      "description_width": ""
     }
    },
    "98b11a17941e4a8397cead777018e8ab": {
     "model_module": "@jupyter-widgets/base",
     "model_name": "LayoutModel",
     "state": {
      "_model_module": "@jupyter-widgets/base",
      "_model_module_version": "1.2.0",
      "_model_name": "LayoutModel",
      "_view_count": null,
      "_view_module": "@jupyter-widgets/base",
      "_view_module_version": "1.2.0",
      "_view_name": "LayoutView",
      "align_content": null,
      "align_items": null,
      "align_self": null,
      "border": null,
      "bottom": null,
      "display": null,
      "flex": null,
      "flex_flow": null,
      "grid_area": null,
      "grid_auto_columns": null,
      "grid_auto_flow": null,
      "grid_auto_rows": null,
      "grid_column": null,
      "grid_gap": null,
      "grid_row": null,
      "grid_template_areas": null,
      "grid_template_columns": null,
      "grid_template_rows": null,
      "height": null,
      "justify_content": null,
      "justify_items": null,
      "left": null,
      "margin": null,
      "max_height": null,
      "max_width": null,
      "min_height": null,
      "min_width": null,
      "object_fit": null,
      "object_position": null,
      "order": null,
      "overflow": null,
      "overflow_x": null,
      "overflow_y": null,
      "padding": null,
      "right": null,
      "top": null,
      "visibility": null,
      "width": null
     }
    },
    "98e2a7a13dbe4a899a18813bdb8b746c": {
     "model_module": "@jupyter-widgets/controls",
     "model_name": "ProgressStyleModel",
     "state": {
      "_model_module": "@jupyter-widgets/controls",
      "_model_module_version": "1.5.0",
      "_model_name": "ProgressStyleModel",
      "_view_count": null,
      "_view_module": "@jupyter-widgets/base",
      "_view_module_version": "1.2.0",
      "_view_name": "StyleView",
      "bar_color": null,
      "description_width": "initial"
     }
    },
    "9920a2ab5a904f32a5883cea2ed231c0": {
     "model_module": "@jupyter-widgets/base",
     "model_name": "LayoutModel",
     "state": {
      "_model_module": "@jupyter-widgets/base",
      "_model_module_version": "1.2.0",
      "_model_name": "LayoutModel",
      "_view_count": null,
      "_view_module": "@jupyter-widgets/base",
      "_view_module_version": "1.2.0",
      "_view_name": "LayoutView",
      "align_content": null,
      "align_items": null,
      "align_self": null,
      "border": null,
      "bottom": null,
      "display": null,
      "flex": null,
      "flex_flow": null,
      "grid_area": null,
      "grid_auto_columns": null,
      "grid_auto_flow": null,
      "grid_auto_rows": null,
      "grid_column": null,
      "grid_gap": null,
      "grid_row": null,
      "grid_template_areas": null,
      "grid_template_columns": null,
      "grid_template_rows": null,
      "height": null,
      "justify_content": null,
      "justify_items": null,
      "left": null,
      "margin": null,
      "max_height": null,
      "max_width": null,
      "min_height": null,
      "min_width": null,
      "object_fit": null,
      "object_position": null,
      "order": null,
      "overflow": null,
      "overflow_x": null,
      "overflow_y": null,
      "padding": null,
      "right": null,
      "top": null,
      "visibility": null,
      "width": null
     }
    },
    "9baa1cac03ed419689c6c6baa5e04cf4": {
     "model_module": "@jupyter-widgets/controls",
     "model_name": "HBoxModel",
     "state": {
      "_dom_classes": [],
      "_model_module": "@jupyter-widgets/controls",
      "_model_module_version": "1.5.0",
      "_model_name": "HBoxModel",
      "_view_count": null,
      "_view_module": "@jupyter-widgets/controls",
      "_view_module_version": "1.5.0",
      "_view_name": "HBoxView",
      "box_style": "",
      "children": [
       "IPY_MODEL_687c80ddd3ba4101bc8d3f8ee3a5b735",
       "IPY_MODEL_32923af9202e41688ebcda3fd40a6866"
      ],
      "layout": "IPY_MODEL_c227cea6359b43168b29b447dd56f844"
     }
    },
    "9e67d0cf1772484ea6e615042b218b02": {
     "model_module": "@jupyter-widgets/base",
     "model_name": "LayoutModel",
     "state": {
      "_model_module": "@jupyter-widgets/base",
      "_model_module_version": "1.2.0",
      "_model_name": "LayoutModel",
      "_view_count": null,
      "_view_module": "@jupyter-widgets/base",
      "_view_module_version": "1.2.0",
      "_view_name": "LayoutView",
      "align_content": null,
      "align_items": null,
      "align_self": null,
      "border": null,
      "bottom": null,
      "display": null,
      "flex": null,
      "flex_flow": null,
      "grid_area": null,
      "grid_auto_columns": null,
      "grid_auto_flow": null,
      "grid_auto_rows": null,
      "grid_column": null,
      "grid_gap": null,
      "grid_row": null,
      "grid_template_areas": null,
      "grid_template_columns": null,
      "grid_template_rows": null,
      "height": null,
      "justify_content": null,
      "justify_items": null,
      "left": null,
      "margin": null,
      "max_height": null,
      "max_width": null,
      "min_height": null,
      "min_width": null,
      "object_fit": null,
      "object_position": null,
      "order": null,
      "overflow": null,
      "overflow_x": null,
      "overflow_y": null,
      "padding": null,
      "right": null,
      "top": null,
      "visibility": null,
      "width": null
     }
    },
    "9e8704f146cf49e0ad7c8caf8efd8e29": {
     "model_module": "@jupyter-widgets/controls",
     "model_name": "DescriptionStyleModel",
     "state": {
      "_model_module": "@jupyter-widgets/controls",
      "_model_module_version": "1.5.0",
      "_model_name": "DescriptionStyleModel",
      "_view_count": null,
      "_view_module": "@jupyter-widgets/base",
      "_view_module_version": "1.2.0",
      "_view_name": "StyleView",
      "description_width": ""
     }
    },
    "9f625c158d514b0eb2c84f94c1ef746c": {
     "model_module": "@jupyter-widgets/base",
     "model_name": "LayoutModel",
     "state": {
      "_model_module": "@jupyter-widgets/base",
      "_model_module_version": "1.2.0",
      "_model_name": "LayoutModel",
      "_view_count": null,
      "_view_module": "@jupyter-widgets/base",
      "_view_module_version": "1.2.0",
      "_view_name": "LayoutView",
      "align_content": null,
      "align_items": null,
      "align_self": null,
      "border": null,
      "bottom": null,
      "display": null,
      "flex": null,
      "flex_flow": null,
      "grid_area": null,
      "grid_auto_columns": null,
      "grid_auto_flow": null,
      "grid_auto_rows": null,
      "grid_column": null,
      "grid_gap": null,
      "grid_row": null,
      "grid_template_areas": null,
      "grid_template_columns": null,
      "grid_template_rows": null,
      "height": null,
      "justify_content": null,
      "justify_items": null,
      "left": null,
      "margin": null,
      "max_height": null,
      "max_width": null,
      "min_height": null,
      "min_width": null,
      "object_fit": null,
      "object_position": null,
      "order": null,
      "overflow": null,
      "overflow_x": null,
      "overflow_y": null,
      "padding": null,
      "right": null,
      "top": null,
      "visibility": null,
      "width": null
     }
    },
    "a07576302dc742079329303a1c60ffd1": {
     "model_module": "@jupyter-widgets/controls",
     "model_name": "HTMLModel",
     "state": {
      "_dom_classes": [],
      "_model_module": "@jupyter-widgets/controls",
      "_model_module_version": "1.5.0",
      "_model_name": "HTMLModel",
      "_view_count": null,
      "_view_module": "@jupyter-widgets/controls",
      "_view_module_version": "1.5.0",
      "_view_name": "HTMLView",
      "description": "",
      "description_tooltip": null,
      "layout": "IPY_MODEL_44cc1988619a433da23fba11d2bf6302",
      "placeholder": "​",
      "style": "IPY_MODEL_85a9c0455bb44c929aaf0ebc591c86e9",
      "value": " 1/1 [00:00&lt;00:00, 18.55ba/s]"
     }
    },
    "a2717ee928684765b28cb8dd001472d9": {
     "model_module": "@jupyter-widgets/controls",
     "model_name": "HTMLModel",
     "state": {
      "_dom_classes": [],
      "_model_module": "@jupyter-widgets/controls",
      "_model_module_version": "1.5.0",
      "_model_name": "HTMLModel",
      "_view_count": null,
      "_view_module": "@jupyter-widgets/controls",
      "_view_module_version": "1.5.0",
      "_view_name": "HTMLView",
      "description": "",
      "description_tooltip": null,
      "layout": "IPY_MODEL_bedb8426c57e419697ffe071f55e9913",
      "placeholder": "​",
      "style": "IPY_MODEL_0cccec4f4f03477881831e942b59db90",
      "value": " 1.56k/1.56k [01:53&lt;00:00, 13.8B/s]"
     }
    },
    "a2de501d5f4c4ff093885d6f1e5d3b1c": {
     "model_module": "@jupyter-widgets/controls",
     "model_name": "HBoxModel",
     "state": {
      "_dom_classes": [],
      "_model_module": "@jupyter-widgets/controls",
      "_model_module_version": "1.5.0",
      "_model_name": "HBoxModel",
      "_view_count": null,
      "_view_module": "@jupyter-widgets/controls",
      "_view_module_version": "1.5.0",
      "_view_name": "HBoxView",
      "box_style": "",
      "children": [
       "IPY_MODEL_768413654b08408f9215427497dfe817",
       "IPY_MODEL_607315cd4c7c4c2ea9c7958167e16070"
      ],
      "layout": "IPY_MODEL_5a13fb3510a8408a8a7ee4ea46caaf02"
     }
    },
    "a4845495af424c4c8b5bdc7ad249f1d0": {
     "model_module": "@jupyter-widgets/base",
     "model_name": "LayoutModel",
     "state": {
      "_model_module": "@jupyter-widgets/base",
      "_model_module_version": "1.2.0",
      "_model_name": "LayoutModel",
      "_view_count": null,
      "_view_module": "@jupyter-widgets/base",
      "_view_module_version": "1.2.0",
      "_view_name": "LayoutView",
      "align_content": null,
      "align_items": null,
      "align_self": null,
      "border": null,
      "bottom": null,
      "display": null,
      "flex": null,
      "flex_flow": null,
      "grid_area": null,
      "grid_auto_columns": null,
      "grid_auto_flow": null,
      "grid_auto_rows": null,
      "grid_column": null,
      "grid_gap": null,
      "grid_row": null,
      "grid_template_areas": null,
      "grid_template_columns": null,
      "grid_template_rows": null,
      "height": null,
      "justify_content": null,
      "justify_items": null,
      "left": null,
      "margin": null,
      "max_height": null,
      "max_width": null,
      "min_height": null,
      "min_width": null,
      "object_fit": null,
      "object_position": null,
      "order": null,
      "overflow": null,
      "overflow_x": null,
      "overflow_y": null,
      "padding": null,
      "right": null,
      "top": null,
      "visibility": null,
      "width": null
     }
    },
    "a4906a1ff8a843a7890409b30b8cd990": {
     "model_module": "@jupyter-widgets/controls",
     "model_name": "DescriptionStyleModel",
     "state": {
      "_model_module": "@jupyter-widgets/controls",
      "_model_module_version": "1.5.0",
      "_model_name": "DescriptionStyleModel",
      "_view_count": null,
      "_view_module": "@jupyter-widgets/base",
      "_view_module_version": "1.2.0",
      "_view_name": "StyleView",
      "description_width": ""
     }
    },
    "a54c2eef86594c5eba681aaa9a2ed072": {
     "model_module": "@jupyter-widgets/base",
     "model_name": "LayoutModel",
     "state": {
      "_model_module": "@jupyter-widgets/base",
      "_model_module_version": "1.2.0",
      "_model_name": "LayoutModel",
      "_view_count": null,
      "_view_module": "@jupyter-widgets/base",
      "_view_module_version": "1.2.0",
      "_view_name": "LayoutView",
      "align_content": null,
      "align_items": null,
      "align_self": null,
      "border": null,
      "bottom": null,
      "display": null,
      "flex": null,
      "flex_flow": null,
      "grid_area": null,
      "grid_auto_columns": null,
      "grid_auto_flow": null,
      "grid_auto_rows": null,
      "grid_column": null,
      "grid_gap": null,
      "grid_row": null,
      "grid_template_areas": null,
      "grid_template_columns": null,
      "grid_template_rows": null,
      "height": null,
      "justify_content": null,
      "justify_items": null,
      "left": null,
      "margin": null,
      "max_height": null,
      "max_width": null,
      "min_height": null,
      "min_width": null,
      "object_fit": null,
      "object_position": null,
      "order": null,
      "overflow": null,
      "overflow_x": null,
      "overflow_y": null,
      "padding": null,
      "right": null,
      "top": null,
      "visibility": null,
      "width": null
     }
    },
    "a5be7f73130645f9a0f6fab9982e7288": {
     "model_module": "@jupyter-widgets/controls",
     "model_name": "DescriptionStyleModel",
     "state": {
      "_model_module": "@jupyter-widgets/controls",
      "_model_module_version": "1.5.0",
      "_model_name": "DescriptionStyleModel",
      "_view_count": null,
      "_view_module": "@jupyter-widgets/base",
      "_view_module_version": "1.2.0",
      "_view_name": "StyleView",
      "description_width": ""
     }
    },
    "a65221d962734202aa388c8ce0e7357a": {
     "model_module": "@jupyter-widgets/base",
     "model_name": "LayoutModel",
     "state": {
      "_model_module": "@jupyter-widgets/base",
      "_model_module_version": "1.2.0",
      "_model_name": "LayoutModel",
      "_view_count": null,
      "_view_module": "@jupyter-widgets/base",
      "_view_module_version": "1.2.0",
      "_view_name": "LayoutView",
      "align_content": null,
      "align_items": null,
      "align_self": null,
      "border": null,
      "bottom": null,
      "display": null,
      "flex": null,
      "flex_flow": null,
      "grid_area": null,
      "grid_auto_columns": null,
      "grid_auto_flow": null,
      "grid_auto_rows": null,
      "grid_column": null,
      "grid_gap": null,
      "grid_row": null,
      "grid_template_areas": null,
      "grid_template_columns": null,
      "grid_template_rows": null,
      "height": null,
      "justify_content": null,
      "justify_items": null,
      "left": null,
      "margin": null,
      "max_height": null,
      "max_width": null,
      "min_height": null,
      "min_width": null,
      "object_fit": null,
      "object_position": null,
      "order": null,
      "overflow": null,
      "overflow_x": null,
      "overflow_y": null,
      "padding": null,
      "right": null,
      "top": null,
      "visibility": null,
      "width": null
     }
    },
    "a6da1f055ff849ad9b1a1e8e89b49ca6": {
     "model_module": "@jupyter-widgets/controls",
     "model_name": "HBoxModel",
     "state": {
      "_dom_classes": [],
      "_model_module": "@jupyter-widgets/controls",
      "_model_module_version": "1.5.0",
      "_model_name": "HBoxModel",
      "_view_count": null,
      "_view_module": "@jupyter-widgets/controls",
      "_view_module_version": "1.5.0",
      "_view_name": "HBoxView",
      "box_style": "",
      "children": [
       "IPY_MODEL_e33b957224c645ecaaf60e059a5af8dd",
       "IPY_MODEL_c8a963b33c00431bac74b49ebd624151"
      ],
      "layout": "IPY_MODEL_4793ab8f8bb84e718b5c8529fef87e73"
     }
    },
    "a7ff337283944f88b5c385155ea96fb8": {
     "model_module": "@jupyter-widgets/base",
     "model_name": "LayoutModel",
     "state": {
      "_model_module": "@jupyter-widgets/base",
      "_model_module_version": "1.2.0",
      "_model_name": "LayoutModel",
      "_view_count": null,
      "_view_module": "@jupyter-widgets/base",
      "_view_module_version": "1.2.0",
      "_view_name": "LayoutView",
      "align_content": null,
      "align_items": null,
      "align_self": null,
      "border": null,
      "bottom": null,
      "display": null,
      "flex": null,
      "flex_flow": null,
      "grid_area": null,
      "grid_auto_columns": null,
      "grid_auto_flow": null,
      "grid_auto_rows": null,
      "grid_column": null,
      "grid_gap": null,
      "grid_row": null,
      "grid_template_areas": null,
      "grid_template_columns": null,
      "grid_template_rows": null,
      "height": null,
      "justify_content": null,
      "justify_items": null,
      "left": null,
      "margin": null,
      "max_height": null,
      "max_width": null,
      "min_height": null,
      "min_width": null,
      "object_fit": null,
      "object_position": null,
      "order": null,
      "overflow": null,
      "overflow_x": null,
      "overflow_y": null,
      "padding": null,
      "right": null,
      "top": null,
      "visibility": null,
      "width": null
     }
    },
    "a93874473d064f638bcea28c5e2fdfd4": {
     "model_module": "@jupyter-widgets/controls",
     "model_name": "ProgressStyleModel",
     "state": {
      "_model_module": "@jupyter-widgets/controls",
      "_model_module_version": "1.5.0",
      "_model_name": "ProgressStyleModel",
      "_view_count": null,
      "_view_module": "@jupyter-widgets/base",
      "_view_module_version": "1.2.0",
      "_view_name": "StyleView",
      "bar_color": null,
      "description_width": "initial"
     }
    },
    "a980666c11c74d959ff230a60e630c58": {
     "model_module": "@jupyter-widgets/controls",
     "model_name": "DescriptionStyleModel",
     "state": {
      "_model_module": "@jupyter-widgets/controls",
      "_model_module_version": "1.5.0",
      "_model_name": "DescriptionStyleModel",
      "_view_count": null,
      "_view_module": "@jupyter-widgets/base",
      "_view_module_version": "1.2.0",
      "_view_name": "StyleView",
      "description_width": ""
     }
    },
    "a9cb5df978d142c39f7d7071815b6ace": {
     "model_module": "@jupyter-widgets/base",
     "model_name": "LayoutModel",
     "state": {
      "_model_module": "@jupyter-widgets/base",
      "_model_module_version": "1.2.0",
      "_model_name": "LayoutModel",
      "_view_count": null,
      "_view_module": "@jupyter-widgets/base",
      "_view_module_version": "1.2.0",
      "_view_name": "LayoutView",
      "align_content": null,
      "align_items": null,
      "align_self": null,
      "border": null,
      "bottom": null,
      "display": null,
      "flex": null,
      "flex_flow": null,
      "grid_area": null,
      "grid_auto_columns": null,
      "grid_auto_flow": null,
      "grid_auto_rows": null,
      "grid_column": null,
      "grid_gap": null,
      "grid_row": null,
      "grid_template_areas": null,
      "grid_template_columns": null,
      "grid_template_rows": null,
      "height": null,
      "justify_content": null,
      "justify_items": null,
      "left": null,
      "margin": null,
      "max_height": null,
      "max_width": null,
      "min_height": null,
      "min_width": null,
      "object_fit": null,
      "object_position": null,
      "order": null,
      "overflow": null,
      "overflow_x": null,
      "overflow_y": null,
      "padding": null,
      "right": null,
      "top": null,
      "visibility": null,
      "width": null
     }
    },
    "a9f9c42a42ea4e52b1487d79cc4f7f65": {
     "model_module": "@jupyter-widgets/controls",
     "model_name": "DescriptionStyleModel",
     "state": {
      "_model_module": "@jupyter-widgets/controls",
      "_model_module_version": "1.5.0",
      "_model_name": "DescriptionStyleModel",
      "_view_count": null,
      "_view_module": "@jupyter-widgets/base",
      "_view_module_version": "1.2.0",
      "_view_name": "StyleView",
      "description_width": ""
     }
    },
    "aa694b2696754e409cbd2e6974dea63a": {
     "model_module": "@jupyter-widgets/base",
     "model_name": "LayoutModel",
     "state": {
      "_model_module": "@jupyter-widgets/base",
      "_model_module_version": "1.2.0",
      "_model_name": "LayoutModel",
      "_view_count": null,
      "_view_module": "@jupyter-widgets/base",
      "_view_module_version": "1.2.0",
      "_view_name": "LayoutView",
      "align_content": null,
      "align_items": null,
      "align_self": null,
      "border": null,
      "bottom": null,
      "display": null,
      "flex": null,
      "flex_flow": null,
      "grid_area": null,
      "grid_auto_columns": null,
      "grid_auto_flow": null,
      "grid_auto_rows": null,
      "grid_column": null,
      "grid_gap": null,
      "grid_row": null,
      "grid_template_areas": null,
      "grid_template_columns": null,
      "grid_template_rows": null,
      "height": null,
      "justify_content": null,
      "justify_items": null,
      "left": null,
      "margin": null,
      "max_height": null,
      "max_width": null,
      "min_height": null,
      "min_width": null,
      "object_fit": null,
      "object_position": null,
      "order": null,
      "overflow": null,
      "overflow_x": null,
      "overflow_y": null,
      "padding": null,
      "right": null,
      "top": null,
      "visibility": null,
      "width": null
     }
    },
    "abbbb5f73acc4980b6864eb623a38cd6": {
     "model_module": "@jupyter-widgets/base",
     "model_name": "LayoutModel",
     "state": {
      "_model_module": "@jupyter-widgets/base",
      "_model_module_version": "1.2.0",
      "_model_name": "LayoutModel",
      "_view_count": null,
      "_view_module": "@jupyter-widgets/base",
      "_view_module_version": "1.2.0",
      "_view_name": "LayoutView",
      "align_content": null,
      "align_items": null,
      "align_self": null,
      "border": null,
      "bottom": null,
      "display": null,
      "flex": null,
      "flex_flow": null,
      "grid_area": null,
      "grid_auto_columns": null,
      "grid_auto_flow": null,
      "grid_auto_rows": null,
      "grid_column": null,
      "grid_gap": null,
      "grid_row": null,
      "grid_template_areas": null,
      "grid_template_columns": null,
      "grid_template_rows": null,
      "height": null,
      "justify_content": null,
      "justify_items": null,
      "left": null,
      "margin": null,
      "max_height": null,
      "max_width": null,
      "min_height": null,
      "min_width": null,
      "object_fit": null,
      "object_position": null,
      "order": null,
      "overflow": null,
      "overflow_x": null,
      "overflow_y": null,
      "padding": null,
      "right": null,
      "top": null,
      "visibility": null,
      "width": null
     }
    },
    "abcc540f951540f89222054128f0f2d6": {
     "model_module": "@jupyter-widgets/controls",
     "model_name": "FloatProgressModel",
     "state": {
      "_dom_classes": [],
      "_model_module": "@jupyter-widgets/controls",
      "_model_module_version": "1.5.0",
      "_model_name": "FloatProgressModel",
      "_view_count": null,
      "_view_module": "@jupyter-widgets/controls",
      "_view_module_version": "1.5.0",
      "_view_name": "ProgressView",
      "bar_style": "success",
      "description": "#2: 100%",
      "description_tooltip": null,
      "layout": "IPY_MODEL_fd9d7205d57c4cd0b93aad856e021516",
      "max": 71,
      "min": 0,
      "orientation": "horizontal",
      "style": "IPY_MODEL_7cede60050794ed082c8c0b54b556f55",
      "value": 71
     }
    },
    "ac8b74f7d3284ffc8cc88677cb6102a0": {
     "model_module": "@jupyter-widgets/controls",
     "model_name": "DescriptionStyleModel",
     "state": {
      "_model_module": "@jupyter-widgets/controls",
      "_model_module_version": "1.5.0",
      "_model_name": "DescriptionStyleModel",
      "_view_count": null,
      "_view_module": "@jupyter-widgets/base",
      "_view_module_version": "1.2.0",
      "_view_name": "StyleView",
      "description_width": ""
     }
    },
    "aca000c1005844a28bd48ad6e6731afb": {
     "model_module": "@jupyter-widgets/controls",
     "model_name": "HTMLModel",
     "state": {
      "_dom_classes": [],
      "_model_module": "@jupyter-widgets/controls",
      "_model_module_version": "1.5.0",
      "_model_name": "HTMLModel",
      "_view_count": null,
      "_view_module": "@jupyter-widgets/controls",
      "_view_module_version": "1.5.0",
      "_view_name": "HTMLView",
      "description": "",
      "description_tooltip": null,
      "layout": "IPY_MODEL_7298e21aee3c42f0b207012e8f9dd028",
      "placeholder": "​",
      "style": "IPY_MODEL_a5be7f73130645f9a0f6fab9982e7288",
      "value": " 2554/2554 [10:40&lt;00:00,  3.99ex/s]"
     }
    },
    "acda6f9d3a6340858f6541df0af2bc21": {
     "model_module": "@jupyter-widgets/base",
     "model_name": "LayoutModel",
     "state": {
      "_model_module": "@jupyter-widgets/base",
      "_model_module_version": "1.2.0",
      "_model_name": "LayoutModel",
      "_view_count": null,
      "_view_module": "@jupyter-widgets/base",
      "_view_module_version": "1.2.0",
      "_view_name": "LayoutView",
      "align_content": null,
      "align_items": null,
      "align_self": null,
      "border": null,
      "bottom": null,
      "display": null,
      "flex": null,
      "flex_flow": null,
      "grid_area": null,
      "grid_auto_columns": null,
      "grid_auto_flow": null,
      "grid_auto_rows": null,
      "grid_column": null,
      "grid_gap": null,
      "grid_row": null,
      "grid_template_areas": null,
      "grid_template_columns": null,
      "grid_template_rows": null,
      "height": null,
      "justify_content": null,
      "justify_items": null,
      "left": null,
      "margin": null,
      "max_height": null,
      "max_width": null,
      "min_height": null,
      "min_width": null,
      "object_fit": null,
      "object_position": null,
      "order": null,
      "overflow": null,
      "overflow_x": null,
      "overflow_y": null,
      "padding": null,
      "right": null,
      "top": null,
      "visibility": null,
      "width": null
     }
    },
    "aef1ffdb48dc4c20bba564c894bdcf8d": {
     "model_module": "@jupyter-widgets/controls",
     "model_name": "FloatProgressModel",
     "state": {
      "_dom_classes": [],
      "_model_module": "@jupyter-widgets/controls",
      "_model_module_version": "1.5.0",
      "_model_name": "FloatProgressModel",
      "_view_count": null,
      "_view_module": "@jupyter-widgets/controls",
      "_view_module_version": "1.5.0",
      "_view_name": "ProgressView",
      "bar_style": "success",
      "description": "Downloading: 100%",
      "description_tooltip": null,
      "layout": "IPY_MODEL_2af6d799010748e0bb8fc2da45a6ca94",
      "max": 398,
      "min": 0,
      "orientation": "horizontal",
      "style": "IPY_MODEL_7655fde9425e4f5183b1d76d98eeabfc",
      "value": 398
     }
    },
    "b01beb6c9216431c936fe532035c4c17": {
     "model_module": "@jupyter-widgets/controls",
     "model_name": "DescriptionStyleModel",
     "state": {
      "_model_module": "@jupyter-widgets/controls",
      "_model_module_version": "1.5.0",
      "_model_name": "DescriptionStyleModel",
      "_view_count": null,
      "_view_module": "@jupyter-widgets/base",
      "_view_module_version": "1.2.0",
      "_view_name": "StyleView",
      "description_width": ""
     }
    },
    "b052e954ad444a48989d475d8d531430": {
     "model_module": "@jupyter-widgets/base",
     "model_name": "LayoutModel",
     "state": {
      "_model_module": "@jupyter-widgets/base",
      "_model_module_version": "1.2.0",
      "_model_name": "LayoutModel",
      "_view_count": null,
      "_view_module": "@jupyter-widgets/base",
      "_view_module_version": "1.2.0",
      "_view_name": "LayoutView",
      "align_content": null,
      "align_items": null,
      "align_self": null,
      "border": null,
      "bottom": null,
      "display": null,
      "flex": null,
      "flex_flow": null,
      "grid_area": null,
      "grid_auto_columns": null,
      "grid_auto_flow": null,
      "grid_auto_rows": null,
      "grid_column": null,
      "grid_gap": null,
      "grid_row": null,
      "grid_template_areas": null,
      "grid_template_columns": null,
      "grid_template_rows": null,
      "height": null,
      "justify_content": null,
      "justify_items": null,
      "left": null,
      "margin": null,
      "max_height": null,
      "max_width": null,
      "min_height": null,
      "min_width": null,
      "object_fit": null,
      "object_position": null,
      "order": null,
      "overflow": null,
      "overflow_x": null,
      "overflow_y": null,
      "padding": null,
      "right": null,
      "top": null,
      "visibility": null,
      "width": null
     }
    },
    "b0ebb9d65b964ed1b5cd31acf464023c": {
     "model_module": "@jupyter-widgets/controls",
     "model_name": "HTMLModel",
     "state": {
      "_dom_classes": [],
      "_model_module": "@jupyter-widgets/controls",
      "_model_module_version": "1.5.0",
      "_model_name": "HTMLModel",
      "_view_count": null,
      "_view_module": "@jupyter-widgets/controls",
      "_view_module_version": "1.5.0",
      "_view_name": "HTMLView",
      "description": "",
      "description_tooltip": null,
      "layout": "IPY_MODEL_8fc5ff400f9d46409404f1ecf8a8d05d",
      "placeholder": "​",
      "style": "IPY_MODEL_a980666c11c74d959ff230a60e630c58",
      "value": " 85.0/85.0 [00:07&lt;00:00, 11.0B/s]"
     }
    },
    "b15247d7fce24127b951f28da0d694f4": {
     "model_module": "@jupyter-widgets/base",
     "model_name": "LayoutModel",
     "state": {
      "_model_module": "@jupyter-widgets/base",
      "_model_module_version": "1.2.0",
      "_model_name": "LayoutModel",
      "_view_count": null,
      "_view_module": "@jupyter-widgets/base",
      "_view_module_version": "1.2.0",
      "_view_name": "LayoutView",
      "align_content": null,
      "align_items": null,
      "align_self": null,
      "border": null,
      "bottom": null,
      "display": null,
      "flex": null,
      "flex_flow": null,
      "grid_area": null,
      "grid_auto_columns": null,
      "grid_auto_flow": null,
      "grid_auto_rows": null,
      "grid_column": null,
      "grid_gap": null,
      "grid_row": null,
      "grid_template_areas": null,
      "grid_template_columns": null,
      "grid_template_rows": null,
      "height": null,
      "justify_content": null,
      "justify_items": null,
      "left": null,
      "margin": null,
      "max_height": null,
      "max_width": null,
      "min_height": null,
      "min_width": null,
      "object_fit": null,
      "object_position": null,
      "order": null,
      "overflow": null,
      "overflow_x": null,
      "overflow_y": null,
      "padding": null,
      "right": null,
      "top": null,
      "visibility": null,
      "width": null
     }
    },
    "b22ada62cda04d789e666188d9d996eb": {
     "model_module": "@jupyter-widgets/base",
     "model_name": "LayoutModel",
     "state": {
      "_model_module": "@jupyter-widgets/base",
      "_model_module_version": "1.2.0",
      "_model_name": "LayoutModel",
      "_view_count": null,
      "_view_module": "@jupyter-widgets/base",
      "_view_module_version": "1.2.0",
      "_view_name": "LayoutView",
      "align_content": null,
      "align_items": null,
      "align_self": null,
      "border": null,
      "bottom": null,
      "display": null,
      "flex": null,
      "flex_flow": null,
      "grid_area": null,
      "grid_auto_columns": null,
      "grid_auto_flow": null,
      "grid_auto_rows": null,
      "grid_column": null,
      "grid_gap": null,
      "grid_row": null,
      "grid_template_areas": null,
      "grid_template_columns": null,
      "grid_template_rows": null,
      "height": null,
      "justify_content": null,
      "justify_items": null,
      "left": null,
      "margin": null,
      "max_height": null,
      "max_width": null,
      "min_height": null,
      "min_width": null,
      "object_fit": null,
      "object_position": null,
      "order": null,
      "overflow": null,
      "overflow_x": null,
      "overflow_y": null,
      "padding": null,
      "right": null,
      "top": null,
      "visibility": null,
      "width": null
     }
    },
    "b3bc08c59b934d30b818a0021d0bd788": {
     "model_module": "@jupyter-widgets/controls",
     "model_name": "FloatProgressModel",
     "state": {
      "_dom_classes": [],
      "_model_module": "@jupyter-widgets/controls",
      "_model_module_version": "1.5.0",
      "_model_name": "FloatProgressModel",
      "_view_count": null,
      "_view_module": "@jupyter-widgets/controls",
      "_view_module_version": "1.5.0",
      "_view_name": "ProgressView",
      "bar_style": "success",
      "description": "100%",
      "description_tooltip": null,
      "layout": "IPY_MODEL_db561056236f41899704a665cacb0850",
      "max": 284,
      "min": 0,
      "orientation": "horizontal",
      "style": "IPY_MODEL_e4f1de7cc99a43949f59987ee685fedb",
      "value": 284
     }
    },
    "b4c0530b5cdd4b5cb09d0c4d4c6a7546": {
     "model_module": "@jupyter-widgets/controls",
     "model_name": "FloatProgressModel",
     "state": {
      "_dom_classes": [],
      "_model_module": "@jupyter-widgets/controls",
      "_model_module_version": "1.5.0",
      "_model_name": "FloatProgressModel",
      "_view_count": null,
      "_view_module": "@jupyter-widgets/controls",
      "_view_module_version": "1.5.0",
      "_view_name": "ProgressView",
      "bar_style": "success",
      "description": "#1: 100%",
      "description_tooltip": null,
      "layout": "IPY_MODEL_3db18eab447c4d2382966b762616a421",
      "max": 17,
      "min": 0,
      "orientation": "horizontal",
      "style": "IPY_MODEL_e702548b0f884ca5941e59238fbc9d20",
      "value": 17
     }
    },
    "b4f907f63fe14d5cbf6264c73f398947": {
     "model_module": "@jupyter-widgets/controls",
     "model_name": "FloatProgressModel",
     "state": {
      "_dom_classes": [],
      "_model_module": "@jupyter-widgets/controls",
      "_model_module_version": "1.5.0",
      "_model_name": "FloatProgressModel",
      "_view_count": null,
      "_view_module": "@jupyter-widgets/controls",
      "_view_module_version": "1.5.0",
      "_view_name": "ProgressView",
      "bar_style": "info",
      "description": "",
      "description_tooltip": null,
      "layout": "IPY_MODEL_b052e954ad444a48989d475d8d531430",
      "max": 1,
      "min": 0,
      "orientation": "horizontal",
      "style": "IPY_MODEL_114b77b608cc4e3d9eac2a0d14d1e14e",
      "value": 1
     }
    },
    "b58cd86e11dc48ecb354520fb636dbce": {
     "model_module": "@jupyter-widgets/base",
     "model_name": "LayoutModel",
     "state": {
      "_model_module": "@jupyter-widgets/base",
      "_model_module_version": "1.2.0",
      "_model_name": "LayoutModel",
      "_view_count": null,
      "_view_module": "@jupyter-widgets/base",
      "_view_module_version": "1.2.0",
      "_view_name": "LayoutView",
      "align_content": null,
      "align_items": null,
      "align_self": null,
      "border": null,
      "bottom": null,
      "display": null,
      "flex": null,
      "flex_flow": null,
      "grid_area": null,
      "grid_auto_columns": null,
      "grid_auto_flow": null,
      "grid_auto_rows": null,
      "grid_column": null,
      "grid_gap": null,
      "grid_row": null,
      "grid_template_areas": null,
      "grid_template_columns": null,
      "grid_template_rows": null,
      "height": null,
      "justify_content": null,
      "justify_items": null,
      "left": null,
      "margin": null,
      "max_height": null,
      "max_width": null,
      "min_height": null,
      "min_width": null,
      "object_fit": null,
      "object_position": null,
      "order": null,
      "overflow": null,
      "overflow_x": null,
      "overflow_y": null,
      "padding": null,
      "right": null,
      "top": null,
      "visibility": null,
      "width": null
     }
    },
    "b6184ce2108a4e7387fb97e9deeafadc": {
     "model_module": "@jupyter-widgets/base",
     "model_name": "LayoutModel",
     "state": {
      "_model_module": "@jupyter-widgets/base",
      "_model_module_version": "1.2.0",
      "_model_name": "LayoutModel",
      "_view_count": null,
      "_view_module": "@jupyter-widgets/base",
      "_view_module_version": "1.2.0",
      "_view_name": "LayoutView",
      "align_content": null,
      "align_items": null,
      "align_self": null,
      "border": null,
      "bottom": null,
      "display": null,
      "flex": null,
      "flex_flow": null,
      "grid_area": null,
      "grid_auto_columns": null,
      "grid_auto_flow": null,
      "grid_auto_rows": null,
      "grid_column": null,
      "grid_gap": null,
      "grid_row": null,
      "grid_template_areas": null,
      "grid_template_columns": null,
      "grid_template_rows": null,
      "height": null,
      "justify_content": null,
      "justify_items": null,
      "left": null,
      "margin": null,
      "max_height": null,
      "max_width": null,
      "min_height": null,
      "min_width": null,
      "object_fit": null,
      "object_position": null,
      "order": null,
      "overflow": null,
      "overflow_x": null,
      "overflow_y": null,
      "padding": null,
      "right": null,
      "top": null,
      "visibility": null,
      "width": null
     }
    },
    "b75026e7e18c4a76a7432b3022ae3cfb": {
     "model_module": "@jupyter-widgets/controls",
     "model_name": "FloatProgressModel",
     "state": {
      "_dom_classes": [],
      "_model_module": "@jupyter-widgets/controls",
      "_model_module_version": "1.5.0",
      "_model_name": "FloatProgressModel",
      "_view_count": null,
      "_view_module": "@jupyter-widgets/controls",
      "_view_module_version": "1.5.0",
      "_view_name": "ProgressView",
      "bar_style": "success",
      "description": "100%",
      "description_tooltip": null,
      "layout": "IPY_MODEL_24de77a4596c4b81adafbce9936cdd42",
      "max": 1,
      "min": 0,
      "orientation": "horizontal",
      "style": "IPY_MODEL_98e2a7a13dbe4a899a18813bdb8b746c",
      "value": 1
     }
    },
    "b869548c0f34424e8c8198db711f67e6": {
     "model_module": "@jupyter-widgets/controls",
     "model_name": "HBoxModel",
     "state": {
      "_dom_classes": [],
      "_model_module": "@jupyter-widgets/controls",
      "_model_module_version": "1.5.0",
      "_model_name": "HBoxModel",
      "_view_count": null,
      "_view_module": "@jupyter-widgets/controls",
      "_view_module_version": "1.5.0",
      "_view_name": "HBoxView",
      "box_style": "",
      "children": [
       "IPY_MODEL_08deccd6ccff4af3b3b27fde8621f2b9",
       "IPY_MODEL_1f93c1d5a1574174b20391eb4a9fc5d6"
      ],
      "layout": "IPY_MODEL_177adfcd16e046c8b7773445a8530eee"
     }
    },
    "bbde1f32a8b64aaf977a5bcb1c2f0762": {
     "model_module": "@jupyter-widgets/controls",
     "model_name": "DescriptionStyleModel",
     "state": {
      "_model_module": "@jupyter-widgets/controls",
      "_model_module_version": "1.5.0",
      "_model_name": "DescriptionStyleModel",
      "_view_count": null,
      "_view_module": "@jupyter-widgets/base",
      "_view_module_version": "1.2.0",
      "_view_name": "StyleView",
      "description_width": ""
     }
    },
    "bcab711c054b4824961face96b90d706": {
     "model_module": "@jupyter-widgets/controls",
     "model_name": "FloatProgressModel",
     "state": {
      "_dom_classes": [],
      "_model_module": "@jupyter-widgets/controls",
      "_model_module_version": "1.5.0",
      "_model_name": "FloatProgressModel",
      "_view_count": null,
      "_view_module": "@jupyter-widgets/controls",
      "_view_module_version": "1.5.0",
      "_view_name": "ProgressView",
      "bar_style": "success",
      "description": "Downloading: 100%",
      "description_tooltip": null,
      "layout": "IPY_MODEL_44cde1bf1b104c02b867f8b8852eadfc",
      "max": 138,
      "min": 0,
      "orientation": "horizontal",
      "style": "IPY_MODEL_a93874473d064f638bcea28c5e2fdfd4",
      "value": 138
     }
    },
    "bcf3660f621f486b8323ddefb719e482": {
     "model_module": "@jupyter-widgets/base",
     "model_name": "LayoutModel",
     "state": {
      "_model_module": "@jupyter-widgets/base",
      "_model_module_version": "1.2.0",
      "_model_name": "LayoutModel",
      "_view_count": null,
      "_view_module": "@jupyter-widgets/base",
      "_view_module_version": "1.2.0",
      "_view_name": "LayoutView",
      "align_content": null,
      "align_items": null,
      "align_self": null,
      "border": null,
      "bottom": null,
      "display": null,
      "flex": null,
      "flex_flow": null,
      "grid_area": null,
      "grid_auto_columns": null,
      "grid_auto_flow": null,
      "grid_auto_rows": null,
      "grid_column": null,
      "grid_gap": null,
      "grid_row": null,
      "grid_template_areas": null,
      "grid_template_columns": null,
      "grid_template_rows": null,
      "height": null,
      "justify_content": null,
      "justify_items": null,
      "left": null,
      "margin": null,
      "max_height": null,
      "max_width": null,
      "min_height": null,
      "min_width": null,
      "object_fit": null,
      "object_position": null,
      "order": null,
      "overflow": null,
      "overflow_x": null,
      "overflow_y": null,
      "padding": null,
      "right": null,
      "top": null,
      "visibility": null,
      "width": null
     }
    },
    "bd335f9b9aa5496486cc988c0dfc2485": {
     "model_module": "@jupyter-widgets/base",
     "model_name": "LayoutModel",
     "state": {
      "_model_module": "@jupyter-widgets/base",
      "_model_module_version": "1.2.0",
      "_model_name": "LayoutModel",
      "_view_count": null,
      "_view_module": "@jupyter-widgets/base",
      "_view_module_version": "1.2.0",
      "_view_name": "LayoutView",
      "align_content": null,
      "align_items": null,
      "align_self": null,
      "border": null,
      "bottom": null,
      "display": null,
      "flex": null,
      "flex_flow": null,
      "grid_area": null,
      "grid_auto_columns": null,
      "grid_auto_flow": null,
      "grid_auto_rows": null,
      "grid_column": null,
      "grid_gap": null,
      "grid_row": null,
      "grid_template_areas": null,
      "grid_template_columns": null,
      "grid_template_rows": null,
      "height": null,
      "justify_content": null,
      "justify_items": null,
      "left": null,
      "margin": null,
      "max_height": null,
      "max_width": null,
      "min_height": null,
      "min_width": null,
      "object_fit": null,
      "object_position": null,
      "order": null,
      "overflow": null,
      "overflow_x": null,
      "overflow_y": null,
      "padding": null,
      "right": null,
      "top": null,
      "visibility": null,
      "width": null
     }
    },
    "bde76b808b0c4460820625d0548d63dc": {
     "model_module": "@jupyter-widgets/controls",
     "model_name": "DescriptionStyleModel",
     "state": {
      "_model_module": "@jupyter-widgets/controls",
      "_model_module_version": "1.5.0",
      "_model_name": "DescriptionStyleModel",
      "_view_count": null,
      "_view_module": "@jupyter-widgets/base",
      "_view_module_version": "1.2.0",
      "_view_name": "StyleView",
      "description_width": ""
     }
    },
    "be571158ed1f41bda0a2c11285b29a2b": {
     "model_module": "@jupyter-widgets/controls",
     "model_name": "DescriptionStyleModel",
     "state": {
      "_model_module": "@jupyter-widgets/controls",
      "_model_module_version": "1.5.0",
      "_model_name": "DescriptionStyleModel",
      "_view_count": null,
      "_view_module": "@jupyter-widgets/base",
      "_view_module_version": "1.2.0",
      "_view_name": "StyleView",
      "description_width": ""
     }
    },
    "bedb8426c57e419697ffe071f55e9913": {
     "model_module": "@jupyter-widgets/base",
     "model_name": "LayoutModel",
     "state": {
      "_model_module": "@jupyter-widgets/base",
      "_model_module_version": "1.2.0",
      "_model_name": "LayoutModel",
      "_view_count": null,
      "_view_module": "@jupyter-widgets/base",
      "_view_module_version": "1.2.0",
      "_view_name": "LayoutView",
      "align_content": null,
      "align_items": null,
      "align_self": null,
      "border": null,
      "bottom": null,
      "display": null,
      "flex": null,
      "flex_flow": null,
      "grid_area": null,
      "grid_auto_columns": null,
      "grid_auto_flow": null,
      "grid_auto_rows": null,
      "grid_column": null,
      "grid_gap": null,
      "grid_row": null,
      "grid_template_areas": null,
      "grid_template_columns": null,
      "grid_template_rows": null,
      "height": null,
      "justify_content": null,
      "justify_items": null,
      "left": null,
      "margin": null,
      "max_height": null,
      "max_width": null,
      "min_height": null,
      "min_width": null,
      "object_fit": null,
      "object_position": null,
      "order": null,
      "overflow": null,
      "overflow_x": null,
      "overflow_y": null,
      "padding": null,
      "right": null,
      "top": null,
      "visibility": null,
      "width": null
     }
    },
    "c0311c31064b49f18a1482391c745d5b": {
     "model_module": "@jupyter-widgets/controls",
     "model_name": "FloatProgressModel",
     "state": {
      "_dom_classes": [],
      "_model_module": "@jupyter-widgets/controls",
      "_model_module_version": "1.5.0",
      "_model_name": "FloatProgressModel",
      "_view_count": null,
      "_view_module": "@jupyter-widgets/controls",
      "_view_module_version": "1.5.0",
      "_view_name": "ProgressView",
      "bar_style": "success",
      "description": "#0: 100%",
      "description_tooltip": null,
      "layout": "IPY_MODEL_a7ff337283944f88b5c385155ea96fb8",
      "max": 9,
      "min": 0,
      "orientation": "horizontal",
      "style": "IPY_MODEL_43902c07dd5540bb909b7623ff37e59d",
      "value": 9
     }
    },
    "c227cea6359b43168b29b447dd56f844": {
     "model_module": "@jupyter-widgets/base",
     "model_name": "LayoutModel",
     "state": {
      "_model_module": "@jupyter-widgets/base",
      "_model_module_version": "1.2.0",
      "_model_name": "LayoutModel",
      "_view_count": null,
      "_view_module": "@jupyter-widgets/base",
      "_view_module_version": "1.2.0",
      "_view_name": "LayoutView",
      "align_content": null,
      "align_items": null,
      "align_self": null,
      "border": null,
      "bottom": null,
      "display": null,
      "flex": null,
      "flex_flow": null,
      "grid_area": null,
      "grid_auto_columns": null,
      "grid_auto_flow": null,
      "grid_auto_rows": null,
      "grid_column": null,
      "grid_gap": null,
      "grid_row": null,
      "grid_template_areas": null,
      "grid_template_columns": null,
      "grid_template_rows": null,
      "height": null,
      "justify_content": null,
      "justify_items": null,
      "left": null,
      "margin": null,
      "max_height": null,
      "max_width": null,
      "min_height": null,
      "min_width": null,
      "object_fit": null,
      "object_position": null,
      "order": null,
      "overflow": null,
      "overflow_x": null,
      "overflow_y": null,
      "padding": null,
      "right": null,
      "top": null,
      "visibility": null,
      "width": null
     }
    },
    "c2efbe8f9c4c4183a054c3bbd7dc4353": {
     "model_module": "@jupyter-widgets/controls",
     "model_name": "FloatProgressModel",
     "state": {
      "_dom_classes": [],
      "_model_module": "@jupyter-widgets/controls",
      "_model_module_version": "1.5.0",
      "_model_name": "FloatProgressModel",
      "_view_count": null,
      "_view_module": "@jupyter-widgets/controls",
      "_view_module_version": "1.5.0",
      "_view_name": "ProgressView",
      "bar_style": "success",
      "description": "#2: 100%",
      "description_tooltip": null,
      "layout": "IPY_MODEL_95e892743947491c86a5c936959a83ba",
      "max": 17,
      "min": 0,
      "orientation": "horizontal",
      "style": "IPY_MODEL_def782b87a304e8aa9709af27a33b10d",
      "value": 17
     }
    },
    "c38e0ad91bc94c87a25d11b773ebe9f4": {
     "model_module": "@jupyter-widgets/controls",
     "model_name": "DescriptionStyleModel",
     "state": {
      "_model_module": "@jupyter-widgets/controls",
      "_model_module_version": "1.5.0",
      "_model_name": "DescriptionStyleModel",
      "_view_count": null,
      "_view_module": "@jupyter-widgets/base",
      "_view_module_version": "1.2.0",
      "_view_name": "StyleView",
      "description_width": ""
     }
    },
    "c3abb0b49a8e4962aa44290495b58d15": {
     "model_module": "@jupyter-widgets/controls",
     "model_name": "FloatProgressModel",
     "state": {
      "_dom_classes": [],
      "_model_module": "@jupyter-widgets/controls",
      "_model_module_version": "1.5.0",
      "_model_name": "FloatProgressModel",
      "_view_count": null,
      "_view_module": "@jupyter-widgets/controls",
      "_view_module_version": "1.5.0",
      "_view_name": "ProgressView",
      "bar_style": "success",
      "description": "#0: 100%",
      "description_tooltip": null,
      "layout": "IPY_MODEL_bcf3660f621f486b8323ddefb719e482",
      "max": 639,
      "min": 0,
      "orientation": "horizontal",
      "style": "IPY_MODEL_e7621a6152264d37a51ad6a7493e59a1",
      "value": 639
     }
    },
    "c6347c2cb831422ea0c34cb1584798fe": {
     "model_module": "@jupyter-widgets/controls",
     "model_name": "HBoxModel",
     "state": {
      "_dom_classes": [],
      "_model_module": "@jupyter-widgets/controls",
      "_model_module_version": "1.5.0",
      "_model_name": "HBoxModel",
      "_view_count": null,
      "_view_module": "@jupyter-widgets/controls",
      "_view_module_version": "1.5.0",
      "_view_name": "HBoxView",
      "box_style": "",
      "children": [
       "IPY_MODEL_bcab711c054b4824961face96b90d706",
       "IPY_MODEL_0cd0c670d53a4cf68cbca84f7cb00a07"
      ],
      "layout": "IPY_MODEL_356e443c65b94bb3ad5bbe8c4dbde133"
     }
    },
    "c746d537cf2a49578626e98e4af76c1d": {
     "model_module": "@jupyter-widgets/controls",
     "model_name": "HTMLModel",
     "state": {
      "_dom_classes": [],
      "_model_module": "@jupyter-widgets/controls",
      "_model_module_version": "1.5.0",
      "_model_name": "HTMLModel",
      "_view_count": null,
      "_view_module": "@jupyter-widgets/controls",
      "_view_module_version": "1.5.0",
      "_view_name": "HTMLView",
      "description": "",
      "description_tooltip": null,
      "layout": "IPY_MODEL_932f3c7906314d9bbc8216f479ebbb5c",
      "placeholder": "​",
      "style": "IPY_MODEL_ccf494b45b474dca84e2b6c28c858240",
      "value": " 639/639 [02:40&lt;00:00,  3.98ex/s]"
     }
    },
    "c806cd1778384afe8665c1f4e8ae54a3": {
     "model_module": "@jupyter-widgets/base",
     "model_name": "LayoutModel",
     "state": {
      "_model_module": "@jupyter-widgets/base",
      "_model_module_version": "1.2.0",
      "_model_name": "LayoutModel",
      "_view_count": null,
      "_view_module": "@jupyter-widgets/base",
      "_view_module_version": "1.2.0",
      "_view_name": "LayoutView",
      "align_content": null,
      "align_items": null,
      "align_self": null,
      "border": null,
      "bottom": null,
      "display": null,
      "flex": null,
      "flex_flow": null,
      "grid_area": null,
      "grid_auto_columns": null,
      "grid_auto_flow": null,
      "grid_auto_rows": null,
      "grid_column": null,
      "grid_gap": null,
      "grid_row": null,
      "grid_template_areas": null,
      "grid_template_columns": null,
      "grid_template_rows": null,
      "height": null,
      "justify_content": null,
      "justify_items": null,
      "left": null,
      "margin": null,
      "max_height": null,
      "max_width": null,
      "min_height": null,
      "min_width": null,
      "object_fit": null,
      "object_position": null,
      "order": null,
      "overflow": null,
      "overflow_x": null,
      "overflow_y": null,
      "padding": null,
      "right": null,
      "top": null,
      "visibility": null,
      "width": null
     }
    },
    "c8a963b33c00431bac74b49ebd624151": {
     "model_module": "@jupyter-widgets/controls",
     "model_name": "HTMLModel",
     "state": {
      "_dom_classes": [],
      "_model_module": "@jupyter-widgets/controls",
      "_model_module_version": "1.5.0",
      "_model_name": "HTMLModel",
      "_view_count": null,
      "_view_module": "@jupyter-widgets/controls",
      "_view_module_version": "1.5.0",
      "_view_name": "HTMLView",
      "description": "",
      "description_tooltip": null,
      "layout": "IPY_MODEL_fb9b9455890646ff992d86c9f9e94f21",
      "placeholder": "​",
      "style": "IPY_MODEL_59b4920e7e114c37af4c714531f4afe9",
      "value": " 158/158 [00:05&lt;00:00, 31.5B/s]"
     }
    },
    "c9014de8234047158f8546ca45bdd653": {
     "model_module": "@jupyter-widgets/base",
     "model_name": "LayoutModel",
     "state": {
      "_model_module": "@jupyter-widgets/base",
      "_model_module_version": "1.2.0",
      "_model_name": "LayoutModel",
      "_view_count": null,
      "_view_module": "@jupyter-widgets/base",
      "_view_module_version": "1.2.0",
      "_view_name": "LayoutView",
      "align_content": null,
      "align_items": null,
      "align_self": null,
      "border": null,
      "bottom": null,
      "display": null,
      "flex": null,
      "flex_flow": null,
      "grid_area": null,
      "grid_auto_columns": null,
      "grid_auto_flow": null,
      "grid_auto_rows": null,
      "grid_column": null,
      "grid_gap": null,
      "grid_row": null,
      "grid_template_areas": null,
      "grid_template_columns": null,
      "grid_template_rows": null,
      "height": null,
      "justify_content": null,
      "justify_items": null,
      "left": null,
      "margin": null,
      "max_height": null,
      "max_width": null,
      "min_height": null,
      "min_width": null,
      "object_fit": null,
      "object_position": null,
      "order": null,
      "overflow": null,
      "overflow_x": null,
      "overflow_y": null,
      "padding": null,
      "right": null,
      "top": null,
      "visibility": null,
      "width": null
     }
    },
    "c94a90468ed74bfabc021c549e54b0d7": {
     "model_module": "@jupyter-widgets/controls",
     "model_name": "FloatProgressModel",
     "state": {
      "_dom_classes": [],
      "_model_module": "@jupyter-widgets/controls",
      "_model_module_version": "1.5.0",
      "_model_name": "FloatProgressModel",
      "_view_count": null,
      "_view_module": "@jupyter-widgets/controls",
      "_view_module_version": "1.5.0",
      "_view_name": "ProgressView",
      "bar_style": "success",
      "description": "#2: 100%",
      "description_tooltip": null,
      "layout": "IPY_MODEL_cb8ebff4856148c9b4a967aaa91f0165",
      "max": 638,
      "min": 0,
      "orientation": "horizontal",
      "style": "IPY_MODEL_04bfbeb823734fdc86727bf2ec7f1e29",
      "value": 638
     }
    },
    "cabafbb09aeb46e0a6ece06dfe6a44ff": {
     "model_module": "@jupyter-widgets/controls",
     "model_name": "HBoxModel",
     "state": {
      "_dom_classes": [],
      "_model_module": "@jupyter-widgets/controls",
      "_model_module_version": "1.5.0",
      "_model_name": "HBoxModel",
      "_view_count": null,
      "_view_module": "@jupyter-widgets/controls",
      "_view_module_version": "1.5.0",
      "_view_name": "HBoxView",
      "box_style": "",
      "children": [
       "IPY_MODEL_c0311c31064b49f18a1482391c745d5b",
       "IPY_MODEL_54d5b166688346c68cc6913d591be29f"
      ],
      "layout": "IPY_MODEL_32495bcd13254fc4a2a4300098836a7e"
     }
    },
    "cb018166e04c4ce9a8684b18aecd2db2": {
     "model_module": "@jupyter-widgets/controls",
     "model_name": "HBoxModel",
     "state": {
      "_dom_classes": [],
      "_model_module": "@jupyter-widgets/controls",
      "_model_module_version": "1.5.0",
      "_model_name": "HBoxModel",
      "_view_count": null,
      "_view_module": "@jupyter-widgets/controls",
      "_view_module_version": "1.5.0",
      "_view_name": "HBoxView",
      "box_style": "",
      "children": [
       "IPY_MODEL_b3bc08c59b934d30b818a0021d0bd788",
       "IPY_MODEL_5cc52e1d08a64e3e8338135ac8e35313"
      ],
      "layout": "IPY_MODEL_598ab951bebd4e4893f5c0c50f0e457f"
     }
    },
    "cb8ebff4856148c9b4a967aaa91f0165": {
     "model_module": "@jupyter-widgets/base",
     "model_name": "LayoutModel",
     "state": {
      "_model_module": "@jupyter-widgets/base",
      "_model_module_version": "1.2.0",
      "_model_name": "LayoutModel",
      "_view_count": null,
      "_view_module": "@jupyter-widgets/base",
      "_view_module_version": "1.2.0",
      "_view_name": "LayoutView",
      "align_content": null,
      "align_items": null,
      "align_self": null,
      "border": null,
      "bottom": null,
      "display": null,
      "flex": null,
      "flex_flow": null,
      "grid_area": null,
      "grid_auto_columns": null,
      "grid_auto_flow": null,
      "grid_auto_rows": null,
      "grid_column": null,
      "grid_gap": null,
      "grid_row": null,
      "grid_template_areas": null,
      "grid_template_columns": null,
      "grid_template_rows": null,
      "height": null,
      "justify_content": null,
      "justify_items": null,
      "left": null,
      "margin": null,
      "max_height": null,
      "max_width": null,
      "min_height": null,
      "min_width": null,
      "object_fit": null,
      "object_position": null,
      "order": null,
      "overflow": null,
      "overflow_x": null,
      "overflow_y": null,
      "padding": null,
      "right": null,
      "top": null,
      "visibility": null,
      "width": null
     }
    },
    "cbb9c825928c458fa1d38d178773c67a": {
     "model_module": "@jupyter-widgets/base",
     "model_name": "LayoutModel",
     "state": {
      "_model_module": "@jupyter-widgets/base",
      "_model_module_version": "1.2.0",
      "_model_name": "LayoutModel",
      "_view_count": null,
      "_view_module": "@jupyter-widgets/base",
      "_view_module_version": "1.2.0",
      "_view_name": "LayoutView",
      "align_content": null,
      "align_items": null,
      "align_self": null,
      "border": null,
      "bottom": null,
      "display": null,
      "flex": null,
      "flex_flow": null,
      "grid_area": null,
      "grid_auto_columns": null,
      "grid_auto_flow": null,
      "grid_auto_rows": null,
      "grid_column": null,
      "grid_gap": null,
      "grid_row": null,
      "grid_template_areas": null,
      "grid_template_columns": null,
      "grid_template_rows": null,
      "height": null,
      "justify_content": null,
      "justify_items": null,
      "left": null,
      "margin": null,
      "max_height": null,
      "max_width": null,
      "min_height": null,
      "min_width": null,
      "object_fit": null,
      "object_position": null,
      "order": null,
      "overflow": null,
      "overflow_x": null,
      "overflow_y": null,
      "padding": null,
      "right": null,
      "top": null,
      "visibility": null,
      "width": null
     }
    },
    "ccf494b45b474dca84e2b6c28c858240": {
     "model_module": "@jupyter-widgets/controls",
     "model_name": "DescriptionStyleModel",
     "state": {
      "_model_module": "@jupyter-widgets/controls",
      "_model_module_version": "1.5.0",
      "_model_name": "DescriptionStyleModel",
      "_view_count": null,
      "_view_module": "@jupyter-widgets/base",
      "_view_module_version": "1.2.0",
      "_view_name": "StyleView",
      "description_width": ""
     }
    },
    "cd435353d6164775a4f6de47c6bc143b": {
     "model_module": "@jupyter-widgets/base",
     "model_name": "LayoutModel",
     "state": {
      "_model_module": "@jupyter-widgets/base",
      "_model_module_version": "1.2.0",
      "_model_name": "LayoutModel",
      "_view_count": null,
      "_view_module": "@jupyter-widgets/base",
      "_view_module_version": "1.2.0",
      "_view_name": "LayoutView",
      "align_content": null,
      "align_items": null,
      "align_self": null,
      "border": null,
      "bottom": null,
      "display": null,
      "flex": null,
      "flex_flow": null,
      "grid_area": null,
      "grid_auto_columns": null,
      "grid_auto_flow": null,
      "grid_auto_rows": null,
      "grid_column": null,
      "grid_gap": null,
      "grid_row": null,
      "grid_template_areas": null,
      "grid_template_columns": null,
      "grid_template_rows": null,
      "height": null,
      "justify_content": null,
      "justify_items": null,
      "left": null,
      "margin": null,
      "max_height": null,
      "max_width": null,
      "min_height": null,
      "min_width": null,
      "object_fit": null,
      "object_position": null,
      "order": null,
      "overflow": null,
      "overflow_x": null,
      "overflow_y": null,
      "padding": null,
      "right": null,
      "top": null,
      "visibility": null,
      "width": null
     }
    },
    "d142f3190f0549f388831fb50e95184a": {
     "model_module": "@jupyter-widgets/controls",
     "model_name": "HTMLModel",
     "state": {
      "_dom_classes": [],
      "_model_module": "@jupyter-widgets/controls",
      "_model_module_version": "1.5.0",
      "_model_name": "HTMLModel",
      "_view_count": null,
      "_view_module": "@jupyter-widgets/controls",
      "_view_module_version": "1.5.0",
      "_view_name": "HTMLView",
      "description": "",
      "description_tooltip": null,
      "layout": "IPY_MODEL_acda6f9d3a6340858f6541df0af2bc21",
      "placeholder": "​",
      "style": "IPY_MODEL_09e036690769494da989a6c64c112b32",
      "value": " 71/71 [00:18&lt;00:00,  3.76ex/s]"
     }
    },
    "d25fb9983b824c1b99899f6ab1107616": {
     "model_module": "@jupyter-widgets/controls",
     "model_name": "DescriptionStyleModel",
     "state": {
      "_model_module": "@jupyter-widgets/controls",
      "_model_module_version": "1.5.0",
      "_model_name": "DescriptionStyleModel",
      "_view_count": null,
      "_view_module": "@jupyter-widgets/base",
      "_view_module_version": "1.2.0",
      "_view_name": "StyleView",
      "description_width": ""
     }
    },
    "d4cdad500cae4628a0e4ddb144eb2a42": {
     "model_module": "@jupyter-widgets/controls",
     "model_name": "DescriptionStyleModel",
     "state": {
      "_model_module": "@jupyter-widgets/controls",
      "_model_module_version": "1.5.0",
      "_model_name": "DescriptionStyleModel",
      "_view_count": null,
      "_view_module": "@jupyter-widgets/base",
      "_view_module_version": "1.2.0",
      "_view_name": "StyleView",
      "description_width": ""
     }
    },
    "d5a80de0ea474049a01a22d6359a1e42": {
     "model_module": "@jupyter-widgets/base",
     "model_name": "LayoutModel",
     "state": {
      "_model_module": "@jupyter-widgets/base",
      "_model_module_version": "1.2.0",
      "_model_name": "LayoutModel",
      "_view_count": null,
      "_view_module": "@jupyter-widgets/base",
      "_view_module_version": "1.2.0",
      "_view_name": "LayoutView",
      "align_content": null,
      "align_items": null,
      "align_self": null,
      "border": null,
      "bottom": null,
      "display": null,
      "flex": null,
      "flex_flow": null,
      "grid_area": null,
      "grid_auto_columns": null,
      "grid_auto_flow": null,
      "grid_auto_rows": null,
      "grid_column": null,
      "grid_gap": null,
      "grid_row": null,
      "grid_template_areas": null,
      "grid_template_columns": null,
      "grid_template_rows": null,
      "height": null,
      "justify_content": null,
      "justify_items": null,
      "left": null,
      "margin": null,
      "max_height": null,
      "max_width": null,
      "min_height": null,
      "min_width": null,
      "object_fit": null,
      "object_position": null,
      "order": null,
      "overflow": null,
      "overflow_x": null,
      "overflow_y": null,
      "padding": null,
      "right": null,
      "top": null,
      "visibility": null,
      "width": null
     }
    },
    "d63ecc8d703b46848f8ce30327ec8e23": {
     "model_module": "@jupyter-widgets/base",
     "model_name": "LayoutModel",
     "state": {
      "_model_module": "@jupyter-widgets/base",
      "_model_module_version": "1.2.0",
      "_model_name": "LayoutModel",
      "_view_count": null,
      "_view_module": "@jupyter-widgets/base",
      "_view_module_version": "1.2.0",
      "_view_name": "LayoutView",
      "align_content": null,
      "align_items": null,
      "align_self": null,
      "border": null,
      "bottom": null,
      "display": null,
      "flex": null,
      "flex_flow": null,
      "grid_area": null,
      "grid_auto_columns": null,
      "grid_auto_flow": null,
      "grid_auto_rows": null,
      "grid_column": null,
      "grid_gap": null,
      "grid_row": null,
      "grid_template_areas": null,
      "grid_template_columns": null,
      "grid_template_rows": null,
      "height": null,
      "justify_content": null,
      "justify_items": null,
      "left": null,
      "margin": null,
      "max_height": null,
      "max_width": null,
      "min_height": null,
      "min_width": null,
      "object_fit": null,
      "object_position": null,
      "order": null,
      "overflow": null,
      "overflow_x": null,
      "overflow_y": null,
      "padding": null,
      "right": null,
      "top": null,
      "visibility": null,
      "width": null
     }
    },
    "db515f7263c74636a73130bc83841e2a": {
     "model_module": "@jupyter-widgets/controls",
     "model_name": "ProgressStyleModel",
     "state": {
      "_model_module": "@jupyter-widgets/controls",
      "_model_module_version": "1.5.0",
      "_model_name": "ProgressStyleModel",
      "_view_count": null,
      "_view_module": "@jupyter-widgets/base",
      "_view_module_version": "1.2.0",
      "_view_name": "StyleView",
      "bar_color": null,
      "description_width": "initial"
     }
    },
    "db561056236f41899704a665cacb0850": {
     "model_module": "@jupyter-widgets/base",
     "model_name": "LayoutModel",
     "state": {
      "_model_module": "@jupyter-widgets/base",
      "_model_module_version": "1.2.0",
      "_model_name": "LayoutModel",
      "_view_count": null,
      "_view_module": "@jupyter-widgets/base",
      "_view_module_version": "1.2.0",
      "_view_name": "LayoutView",
      "align_content": null,
      "align_items": null,
      "align_self": null,
      "border": null,
      "bottom": null,
      "display": null,
      "flex": null,
      "flex_flow": null,
      "grid_area": null,
      "grid_auto_columns": null,
      "grid_auto_flow": null,
      "grid_auto_rows": null,
      "grid_column": null,
      "grid_gap": null,
      "grid_row": null,
      "grid_template_areas": null,
      "grid_template_columns": null,
      "grid_template_rows": null,
      "height": null,
      "justify_content": null,
      "justify_items": null,
      "left": null,
      "margin": null,
      "max_height": null,
      "max_width": null,
      "min_height": null,
      "min_width": null,
      "object_fit": null,
      "object_position": null,
      "order": null,
      "overflow": null,
      "overflow_x": null,
      "overflow_y": null,
      "padding": null,
      "right": null,
      "top": null,
      "visibility": null,
      "width": null
     }
    },
    "de0083ba49214ae0bf9fa03f24d59252": {
     "model_module": "@jupyter-widgets/controls",
     "model_name": "HBoxModel",
     "state": {
      "_dom_classes": [],
      "_model_module": "@jupyter-widgets/controls",
      "_model_module_version": "1.5.0",
      "_model_name": "HBoxModel",
      "_view_count": null,
      "_view_module": "@jupyter-widgets/controls",
      "_view_module_version": "1.5.0",
      "_view_name": "HBoxView",
      "box_style": "",
      "children": [
       "IPY_MODEL_2883dbacb6dd411eb274f394316e6f37",
       "IPY_MODEL_c746d537cf2a49578626e98e4af76c1d"
      ],
      "layout": "IPY_MODEL_cbb9c825928c458fa1d38d178773c67a"
     }
    },
    "def782b87a304e8aa9709af27a33b10d": {
     "model_module": "@jupyter-widgets/controls",
     "model_name": "ProgressStyleModel",
     "state": {
      "_model_module": "@jupyter-widgets/controls",
      "_model_module_version": "1.5.0",
      "_model_name": "ProgressStyleModel",
      "_view_count": null,
      "_view_module": "@jupyter-widgets/base",
      "_view_module_version": "1.2.0",
      "_view_name": "StyleView",
      "bar_color": null,
      "description_width": "initial"
     }
    },
    "e0545301659643e7bb46e83dc1a594c3": {
     "model_module": "@jupyter-widgets/controls",
     "model_name": "HBoxModel",
     "state": {
      "_dom_classes": [],
      "_model_module": "@jupyter-widgets/controls",
      "_model_module_version": "1.5.0",
      "_model_name": "HBoxModel",
      "_view_count": null,
      "_view_module": "@jupyter-widgets/controls",
      "_view_module_version": "1.5.0",
      "_view_name": "HBoxView",
      "box_style": "",
      "children": [
       "IPY_MODEL_9179e7d5b4624f50bd777509e5ee24ab",
       "IPY_MODEL_e1117a22518d4df2bb4ac969c4236d46"
      ],
      "layout": "IPY_MODEL_517f5050300b47e585f8dca2fe817a80"
     }
    },
    "e1117a22518d4df2bb4ac969c4236d46": {
     "model_module": "@jupyter-widgets/controls",
     "model_name": "HTMLModel",
     "state": {
      "_dom_classes": [],
      "_model_module": "@jupyter-widgets/controls",
      "_model_module_version": "1.5.0",
      "_model_name": "HTMLModel",
      "_view_count": null,
      "_view_module": "@jupyter-widgets/controls",
      "_view_module_version": "1.5.0",
      "_view_name": "HTMLView",
      "description": "",
      "description_tooltip": null,
      "layout": "IPY_MODEL_cd435353d6164775a4f6de47c6bc143b",
      "placeholder": "​",
      "style": "IPY_MODEL_1bc41bf028c047c68139498c16fec1e2",
      "value": " 17/17 [00:13&lt;00:00,  1.25ba/s]"
     }
    },
    "e1f3854c4d8b49429d0802621416f2b6": {
     "model_module": "@jupyter-widgets/controls",
     "model_name": "HTMLModel",
     "state": {
      "_dom_classes": [],
      "_model_module": "@jupyter-widgets/controls",
      "_model_module_version": "1.5.0",
      "_model_name": "HTMLModel",
      "_view_count": null,
      "_view_module": "@jupyter-widgets/controls",
      "_view_module_version": "1.5.0",
      "_view_name": "HTMLView",
      "description": "",
      "description_tooltip": null,
      "layout": "IPY_MODEL_bd335f9b9aa5496486cc988c0dfc2485",
      "placeholder": "​",
      "style": "IPY_MODEL_20e2d995da244e39a84d29bc443073c6",
      "value": " 9/9 [00:04&lt;00:00,  2.07ba/s]"
     }
    },
    "e298bfcb762e458fb5095ca2284902d8": {
     "model_module": "@jupyter-widgets/base",
     "model_name": "LayoutModel",
     "state": {
      "_model_module": "@jupyter-widgets/base",
      "_model_module_version": "1.2.0",
      "_model_name": "LayoutModel",
      "_view_count": null,
      "_view_module": "@jupyter-widgets/base",
      "_view_module_version": "1.2.0",
      "_view_name": "LayoutView",
      "align_content": null,
      "align_items": null,
      "align_self": null,
      "border": null,
      "bottom": null,
      "display": null,
      "flex": null,
      "flex_flow": null,
      "grid_area": null,
      "grid_auto_columns": null,
      "grid_auto_flow": null,
      "grid_auto_rows": null,
      "grid_column": null,
      "grid_gap": null,
      "grid_row": null,
      "grid_template_areas": null,
      "grid_template_columns": null,
      "grid_template_rows": null,
      "height": null,
      "justify_content": null,
      "justify_items": null,
      "left": null,
      "margin": null,
      "max_height": null,
      "max_width": null,
      "min_height": null,
      "min_width": null,
      "object_fit": null,
      "object_position": null,
      "order": null,
      "overflow": null,
      "overflow_x": null,
      "overflow_y": null,
      "padding": null,
      "right": null,
      "top": null,
      "visibility": null,
      "width": null
     }
    },
    "e2c3cbfdcd704d85b6988228fdf24186": {
     "model_module": "@jupyter-widgets/controls",
     "model_name": "FloatProgressModel",
     "state": {
      "_dom_classes": [],
      "_model_module": "@jupyter-widgets/controls",
      "_model_module_version": "1.5.0",
      "_model_name": "FloatProgressModel",
      "_view_count": null,
      "_view_module": "@jupyter-widgets/controls",
      "_view_module_version": "1.5.0",
      "_view_name": "ProgressView",
      "bar_style": "success",
      "description": "Downloading: 100%",
      "description_tooltip": null,
      "layout": "IPY_MODEL_15e9e144022547a8a53b492245184cbd",
      "max": 1561,
      "min": 0,
      "orientation": "horizontal",
      "style": "IPY_MODEL_4d3f6186d2a842f48a4fe242f8998221",
      "value": 1561
     }
    },
    "e2ffa6b0ce09406f9712f4149066adc5": {
     "model_module": "@jupyter-widgets/base",
     "model_name": "LayoutModel",
     "state": {
      "_model_module": "@jupyter-widgets/base",
      "_model_module_version": "1.2.0",
      "_model_name": "LayoutModel",
      "_view_count": null,
      "_view_module": "@jupyter-widgets/base",
      "_view_module_version": "1.2.0",
      "_view_name": "LayoutView",
      "align_content": null,
      "align_items": null,
      "align_self": null,
      "border": null,
      "bottom": null,
      "display": null,
      "flex": null,
      "flex_flow": null,
      "grid_area": null,
      "grid_auto_columns": null,
      "grid_auto_flow": null,
      "grid_auto_rows": null,
      "grid_column": null,
      "grid_gap": null,
      "grid_row": null,
      "grid_template_areas": null,
      "grid_template_columns": null,
      "grid_template_rows": null,
      "height": null,
      "justify_content": null,
      "justify_items": null,
      "left": null,
      "margin": null,
      "max_height": null,
      "max_width": null,
      "min_height": null,
      "min_width": null,
      "object_fit": null,
      "object_position": null,
      "order": null,
      "overflow": null,
      "overflow_x": null,
      "overflow_y": null,
      "padding": null,
      "right": null,
      "top": null,
      "visibility": null,
      "width": null
     }
    },
    "e33b957224c645ecaaf60e059a5af8dd": {
     "model_module": "@jupyter-widgets/controls",
     "model_name": "FloatProgressModel",
     "state": {
      "_dom_classes": [],
      "_model_module": "@jupyter-widgets/controls",
      "_model_module_version": "1.5.0",
      "_model_name": "FloatProgressModel",
      "_view_count": null,
      "_view_module": "@jupyter-widgets/controls",
      "_view_module_version": "1.5.0",
      "_view_name": "ProgressView",
      "bar_style": "success",
      "description": "Downloading: 100%",
      "description_tooltip": null,
      "layout": "IPY_MODEL_58e1ae7e02b6423593b40b1be0c18b37",
      "max": 158,
      "min": 0,
      "orientation": "horizontal",
      "style": "IPY_MODEL_666fdad7e45342feb755a2d6e25c44af",
      "value": 158
     }
    },
    "e4f1de7cc99a43949f59987ee685fedb": {
     "model_module": "@jupyter-widgets/controls",
     "model_name": "ProgressStyleModel",
     "state": {
      "_model_module": "@jupyter-widgets/controls",
      "_model_module_version": "1.5.0",
      "_model_name": "ProgressStyleModel",
      "_view_count": null,
      "_view_module": "@jupyter-widgets/base",
      "_view_module_version": "1.2.0",
      "_view_name": "StyleView",
      "bar_color": null,
      "description_width": "initial"
     }
    },
    "e702548b0f884ca5941e59238fbc9d20": {
     "model_module": "@jupyter-widgets/controls",
     "model_name": "ProgressStyleModel",
     "state": {
      "_model_module": "@jupyter-widgets/controls",
      "_model_module_version": "1.5.0",
      "_model_name": "ProgressStyleModel",
      "_view_count": null,
      "_view_module": "@jupyter-widgets/base",
      "_view_module_version": "1.2.0",
      "_view_name": "StyleView",
      "bar_color": null,
      "description_width": "initial"
     }
    },
    "e7588f915f5f4a12ae38d31a67206dd1": {
     "model_module": "@jupyter-widgets/base",
     "model_name": "LayoutModel",
     "state": {
      "_model_module": "@jupyter-widgets/base",
      "_model_module_version": "1.2.0",
      "_model_name": "LayoutModel",
      "_view_count": null,
      "_view_module": "@jupyter-widgets/base",
      "_view_module_version": "1.2.0",
      "_view_name": "LayoutView",
      "align_content": null,
      "align_items": null,
      "align_self": null,
      "border": null,
      "bottom": null,
      "display": null,
      "flex": null,
      "flex_flow": null,
      "grid_area": null,
      "grid_auto_columns": null,
      "grid_auto_flow": null,
      "grid_auto_rows": null,
      "grid_column": null,
      "grid_gap": null,
      "grid_row": null,
      "grid_template_areas": null,
      "grid_template_columns": null,
      "grid_template_rows": null,
      "height": null,
      "justify_content": null,
      "justify_items": null,
      "left": null,
      "margin": null,
      "max_height": null,
      "max_width": null,
      "min_height": null,
      "min_width": null,
      "object_fit": null,
      "object_position": null,
      "order": null,
      "overflow": null,
      "overflow_x": null,
      "overflow_y": null,
      "padding": null,
      "right": null,
      "top": null,
      "visibility": null,
      "width": null
     }
    },
    "e7621a6152264d37a51ad6a7493e59a1": {
     "model_module": "@jupyter-widgets/controls",
     "model_name": "ProgressStyleModel",
     "state": {
      "_model_module": "@jupyter-widgets/controls",
      "_model_module_version": "1.5.0",
      "_model_name": "ProgressStyleModel",
      "_view_count": null,
      "_view_module": "@jupyter-widgets/base",
      "_view_module_version": "1.2.0",
      "_view_name": "StyleView",
      "bar_color": null,
      "description_width": "initial"
     }
    },
    "ea8daa053f5e450f818af8c81e61a054": {
     "model_module": "@jupyter-widgets/base",
     "model_name": "LayoutModel",
     "state": {
      "_model_module": "@jupyter-widgets/base",
      "_model_module_version": "1.2.0",
      "_model_name": "LayoutModel",
      "_view_count": null,
      "_view_module": "@jupyter-widgets/base",
      "_view_module_version": "1.2.0",
      "_view_name": "LayoutView",
      "align_content": null,
      "align_items": null,
      "align_self": null,
      "border": null,
      "bottom": null,
      "display": null,
      "flex": null,
      "flex_flow": null,
      "grid_area": null,
      "grid_auto_columns": null,
      "grid_auto_flow": null,
      "grid_auto_rows": null,
      "grid_column": null,
      "grid_gap": null,
      "grid_row": null,
      "grid_template_areas": null,
      "grid_template_columns": null,
      "grid_template_rows": null,
      "height": null,
      "justify_content": null,
      "justify_items": null,
      "left": null,
      "margin": null,
      "max_height": null,
      "max_width": null,
      "min_height": null,
      "min_width": null,
      "object_fit": null,
      "object_position": null,
      "order": null,
      "overflow": null,
      "overflow_x": null,
      "overflow_y": null,
      "padding": null,
      "right": null,
      "top": null,
      "visibility": null,
      "width": null
     }
    },
    "eb8947bc998f4eefa4e02e7c908f5361": {
     "model_module": "@jupyter-widgets/controls",
     "model_name": "ProgressStyleModel",
     "state": {
      "_model_module": "@jupyter-widgets/controls",
      "_model_module_version": "1.5.0",
      "_model_name": "ProgressStyleModel",
      "_view_count": null,
      "_view_module": "@jupyter-widgets/base",
      "_view_module_version": "1.2.0",
      "_view_name": "StyleView",
      "bar_color": null,
      "description_width": "initial"
     }
    },
    "eed947d8095e45209b024c8b5a4438c7": {
     "model_module": "@jupyter-widgets/base",
     "model_name": "LayoutModel",
     "state": {
      "_model_module": "@jupyter-widgets/base",
      "_model_module_version": "1.2.0",
      "_model_name": "LayoutModel",
      "_view_count": null,
      "_view_module": "@jupyter-widgets/base",
      "_view_module_version": "1.2.0",
      "_view_name": "LayoutView",
      "align_content": null,
      "align_items": null,
      "align_self": null,
      "border": null,
      "bottom": null,
      "display": null,
      "flex": null,
      "flex_flow": null,
      "grid_area": null,
      "grid_auto_columns": null,
      "grid_auto_flow": null,
      "grid_auto_rows": null,
      "grid_column": null,
      "grid_gap": null,
      "grid_row": null,
      "grid_template_areas": null,
      "grid_template_columns": null,
      "grid_template_rows": null,
      "height": null,
      "justify_content": null,
      "justify_items": null,
      "left": null,
      "margin": null,
      "max_height": null,
      "max_width": null,
      "min_height": null,
      "min_width": null,
      "object_fit": null,
      "object_position": null,
      "order": null,
      "overflow": null,
      "overflow_x": null,
      "overflow_y": null,
      "padding": null,
      "right": null,
      "top": null,
      "visibility": null,
      "width": null
     }
    },
    "f00f014cf8cf4ba9a3335dbdfdd66487": {
     "model_module": "@jupyter-widgets/controls",
     "model_name": "FloatProgressModel",
     "state": {
      "_dom_classes": [],
      "_model_module": "@jupyter-widgets/controls",
      "_model_module_version": "1.5.0",
      "_model_name": "FloatProgressModel",
      "_view_count": null,
      "_view_module": "@jupyter-widgets/controls",
      "_view_module_version": "1.5.0",
      "_view_name": "ProgressView",
      "bar_style": "success",
      "description": "Downloading: 100%",
      "description_tooltip": null,
      "layout": "IPY_MODEL_5d81e61dc55e4dde91e66346d2e5e24f",
      "max": 85,
      "min": 0,
      "orientation": "horizontal",
      "style": "IPY_MODEL_3ddb8bbfc18c4df59ee4a82d64cec7a6",
      "value": 85
     }
    },
    "f1e53e8511674fd8aa2af5ee26059b46": {
     "model_module": "@jupyter-widgets/base",
     "model_name": "LayoutModel",
     "state": {
      "_model_module": "@jupyter-widgets/base",
      "_model_module_version": "1.2.0",
      "_model_name": "LayoutModel",
      "_view_count": null,
      "_view_module": "@jupyter-widgets/base",
      "_view_module_version": "1.2.0",
      "_view_name": "LayoutView",
      "align_content": null,
      "align_items": null,
      "align_self": null,
      "border": null,
      "bottom": null,
      "display": null,
      "flex": null,
      "flex_flow": null,
      "grid_area": null,
      "grid_auto_columns": null,
      "grid_auto_flow": null,
      "grid_auto_rows": null,
      "grid_column": null,
      "grid_gap": null,
      "grid_row": null,
      "grid_template_areas": null,
      "grid_template_columns": null,
      "grid_template_rows": null,
      "height": null,
      "justify_content": null,
      "justify_items": null,
      "left": null,
      "margin": null,
      "max_height": null,
      "max_width": null,
      "min_height": null,
      "min_width": null,
      "object_fit": null,
      "object_position": null,
      "order": null,
      "overflow": null,
      "overflow_x": null,
      "overflow_y": null,
      "padding": null,
      "right": null,
      "top": null,
      "visibility": null,
      "width": null
     }
    },
    "f2da5b2d23de41139d2a9307b0ac7efb": {
     "model_module": "@jupyter-widgets/controls",
     "model_name": "HBoxModel",
     "state": {
      "_dom_classes": [],
      "_model_module": "@jupyter-widgets/controls",
      "_model_module_version": "1.5.0",
      "_model_name": "HBoxModel",
      "_view_count": null,
      "_view_module": "@jupyter-widgets/controls",
      "_view_module_version": "1.5.0",
      "_view_name": "HBoxView",
      "box_style": "",
      "children": [
       "IPY_MODEL_b4c0530b5cdd4b5cb09d0c4d4c6a7546",
       "IPY_MODEL_7c72f34d6def481b8149010e3f7317c4"
      ],
      "layout": "IPY_MODEL_14bf5d956ddc4b3aa0d44b1411f32add"
     }
    },
    "f40006476a4e498eb412a1a78f3d7548": {
     "model_module": "@jupyter-widgets/base",
     "model_name": "LayoutModel",
     "state": {
      "_model_module": "@jupyter-widgets/base",
      "_model_module_version": "1.2.0",
      "_model_name": "LayoutModel",
      "_view_count": null,
      "_view_module": "@jupyter-widgets/base",
      "_view_module_version": "1.2.0",
      "_view_name": "LayoutView",
      "align_content": null,
      "align_items": null,
      "align_self": null,
      "border": null,
      "bottom": null,
      "display": null,
      "flex": null,
      "flex_flow": null,
      "grid_area": null,
      "grid_auto_columns": null,
      "grid_auto_flow": null,
      "grid_auto_rows": null,
      "grid_column": null,
      "grid_gap": null,
      "grid_row": null,
      "grid_template_areas": null,
      "grid_template_columns": null,
      "grid_template_rows": null,
      "height": null,
      "justify_content": null,
      "justify_items": null,
      "left": null,
      "margin": null,
      "max_height": null,
      "max_width": null,
      "min_height": null,
      "min_width": null,
      "object_fit": null,
      "object_position": null,
      "order": null,
      "overflow": null,
      "overflow_x": null,
      "overflow_y": null,
      "padding": null,
      "right": null,
      "top": null,
      "visibility": null,
      "width": null
     }
    },
    "f52c2d9fcc4547f0b4aabdb0c1375357": {
     "model_module": "@jupyter-widgets/controls",
     "model_name": "DescriptionStyleModel",
     "state": {
      "_model_module": "@jupyter-widgets/controls",
      "_model_module_version": "1.5.0",
      "_model_name": "DescriptionStyleModel",
      "_view_count": null,
      "_view_module": "@jupyter-widgets/base",
      "_view_module_version": "1.2.0",
      "_view_name": "StyleView",
      "description_width": ""
     }
    },
    "f62bbb6da0654be39997416e5272b1ee": {
     "model_module": "@jupyter-widgets/controls",
     "model_name": "ProgressStyleModel",
     "state": {
      "_model_module": "@jupyter-widgets/controls",
      "_model_module_version": "1.5.0",
      "_model_name": "ProgressStyleModel",
      "_view_count": null,
      "_view_module": "@jupyter-widgets/base",
      "_view_module_version": "1.2.0",
      "_view_name": "StyleView",
      "bar_color": null,
      "description_width": "initial"
     }
    },
    "f6801998b88b44fdbf22077112b810d4": {
     "model_module": "@jupyter-widgets/controls",
     "model_name": "ProgressStyleModel",
     "state": {
      "_model_module": "@jupyter-widgets/controls",
      "_model_module_version": "1.5.0",
      "_model_name": "ProgressStyleModel",
      "_view_count": null,
      "_view_module": "@jupyter-widgets/base",
      "_view_module_version": "1.2.0",
      "_view_name": "StyleView",
      "bar_color": null,
      "description_width": "initial"
     }
    },
    "f6f747607432429d936ea34411655340": {
     "model_module": "@jupyter-widgets/controls",
     "model_name": "HTMLModel",
     "state": {
      "_dom_classes": [],
      "_model_module": "@jupyter-widgets/controls",
      "_model_module_version": "1.5.0",
      "_model_name": "HTMLModel",
      "_view_count": null,
      "_view_module": "@jupyter-widgets/controls",
      "_view_module_version": "1.5.0",
      "_view_name": "HTMLView",
      "description": "",
      "description_tooltip": null,
      "layout": "IPY_MODEL_2636b0736db1442d9e632582f23b5d59",
      "placeholder": "​",
      "style": "IPY_MODEL_f52c2d9fcc4547f0b4aabdb0c1375357",
      "value": " 398/398 [00:01&lt;00:00, 280B/s]"
     }
    },
    "f7018490f1d14d00b6507f682aea065a": {
     "model_module": "@jupyter-widgets/controls",
     "model_name": "HBoxModel",
     "state": {
      "_dom_classes": [],
      "_model_module": "@jupyter-widgets/controls",
      "_model_module_version": "1.5.0",
      "_model_name": "HBoxModel",
      "_view_count": null,
      "_view_module": "@jupyter-widgets/controls",
      "_view_module_version": "1.5.0",
      "_view_name": "HBoxView",
      "box_style": "",
      "children": [
       "IPY_MODEL_c94a90468ed74bfabc021c549e54b0d7",
       "IPY_MODEL_052acf0626e54710b99ef8d922af7864"
      ],
      "layout": "IPY_MODEL_a4845495af424c4c8b5bdc7ad249f1d0"
     }
    },
    "fa5c2f4096154291b8447519ae4e540c": {
     "model_module": "@jupyter-widgets/controls",
     "model_name": "FloatProgressModel",
     "state": {
      "_dom_classes": [],
      "_model_module": "@jupyter-widgets/controls",
      "_model_module_version": "1.5.0",
      "_model_name": "FloatProgressModel",
      "_view_count": null,
      "_view_module": "@jupyter-widgets/controls",
      "_view_module_version": "1.5.0",
      "_view_name": "ProgressView",
      "bar_style": "success",
      "description": "#2: 100%",
      "description_tooltip": null,
      "layout": "IPY_MODEL_86d6f4d432a145f183ea78da5eeda94e",
      "max": 9,
      "min": 0,
      "orientation": "horizontal",
      "style": "IPY_MODEL_86090fb47fbd4e2087b7a4329c177e56",
      "value": 9
     }
    },
    "fac052e4037146b1998613ef28fdf790": {
     "model_module": "@jupyter-widgets/base",
     "model_name": "LayoutModel",
     "state": {
      "_model_module": "@jupyter-widgets/base",
      "_model_module_version": "1.2.0",
      "_model_name": "LayoutModel",
      "_view_count": null,
      "_view_module": "@jupyter-widgets/base",
      "_view_module_version": "1.2.0",
      "_view_name": "LayoutView",
      "align_content": null,
      "align_items": null,
      "align_self": null,
      "border": null,
      "bottom": null,
      "display": null,
      "flex": null,
      "flex_flow": null,
      "grid_area": null,
      "grid_auto_columns": null,
      "grid_auto_flow": null,
      "grid_auto_rows": null,
      "grid_column": null,
      "grid_gap": null,
      "grid_row": null,
      "grid_template_areas": null,
      "grid_template_columns": null,
      "grid_template_rows": null,
      "height": null,
      "justify_content": null,
      "justify_items": null,
      "left": null,
      "margin": null,
      "max_height": null,
      "max_width": null,
      "min_height": null,
      "min_width": null,
      "object_fit": null,
      "object_position": null,
      "order": null,
      "overflow": null,
      "overflow_x": null,
      "overflow_y": null,
      "padding": null,
      "right": null,
      "top": null,
      "visibility": null,
      "width": null
     }
    },
    "fb9b9455890646ff992d86c9f9e94f21": {
     "model_module": "@jupyter-widgets/base",
     "model_name": "LayoutModel",
     "state": {
      "_model_module": "@jupyter-widgets/base",
      "_model_module_version": "1.2.0",
      "_model_name": "LayoutModel",
      "_view_count": null,
      "_view_module": "@jupyter-widgets/base",
      "_view_module_version": "1.2.0",
      "_view_name": "LayoutView",
      "align_content": null,
      "align_items": null,
      "align_self": null,
      "border": null,
      "bottom": null,
      "display": null,
      "flex": null,
      "flex_flow": null,
      "grid_area": null,
      "grid_auto_columns": null,
      "grid_auto_flow": null,
      "grid_auto_rows": null,
      "grid_column": null,
      "grid_gap": null,
      "grid_row": null,
      "grid_template_areas": null,
      "grid_template_columns": null,
      "grid_template_rows": null,
      "height": null,
      "justify_content": null,
      "justify_items": null,
      "left": null,
      "margin": null,
      "max_height": null,
      "max_width": null,
      "min_height": null,
      "min_width": null,
      "object_fit": null,
      "object_position": null,
      "order": null,
      "overflow": null,
      "overflow_x": null,
      "overflow_y": null,
      "padding": null,
      "right": null,
      "top": null,
      "visibility": null,
      "width": null
     }
    },
    "fd9d7205d57c4cd0b93aad856e021516": {
     "model_module": "@jupyter-widgets/base",
     "model_name": "LayoutModel",
     "state": {
      "_model_module": "@jupyter-widgets/base",
      "_model_module_version": "1.2.0",
      "_model_name": "LayoutModel",
      "_view_count": null,
      "_view_module": "@jupyter-widgets/base",
      "_view_module_version": "1.2.0",
      "_view_name": "LayoutView",
      "align_content": null,
      "align_items": null,
      "align_self": null,
      "border": null,
      "bottom": null,
      "display": null,
      "flex": null,
      "flex_flow": null,
      "grid_area": null,
      "grid_auto_columns": null,
      "grid_auto_flow": null,
      "grid_auto_rows": null,
      "grid_column": null,
      "grid_gap": null,
      "grid_row": null,
      "grid_template_areas": null,
      "grid_template_columns": null,
      "grid_template_rows": null,
      "height": null,
      "justify_content": null,
      "justify_items": null,
      "left": null,
      "margin": null,
      "max_height": null,
      "max_width": null,
      "min_height": null,
      "min_width": null,
      "object_fit": null,
      "object_position": null,
      "order": null,
      "overflow": null,
      "overflow_x": null,
      "overflow_y": null,
      "padding": null,
      "right": null,
      "top": null,
      "visibility": null,
      "width": null
     }
    },
    "fe59e93e90c64f978cd45513b6cba8b9": {
     "model_module": "@jupyter-widgets/base",
     "model_name": "LayoutModel",
     "state": {
      "_model_module": "@jupyter-widgets/base",
      "_model_module_version": "1.2.0",
      "_model_name": "LayoutModel",
      "_view_count": null,
      "_view_module": "@jupyter-widgets/base",
      "_view_module_version": "1.2.0",
      "_view_name": "LayoutView",
      "align_content": null,
      "align_items": null,
      "align_self": null,
      "border": null,
      "bottom": null,
      "display": null,
      "flex": null,
      "flex_flow": null,
      "grid_area": null,
      "grid_auto_columns": null,
      "grid_auto_flow": null,
      "grid_auto_rows": null,
      "grid_column": null,
      "grid_gap": null,
      "grid_row": null,
      "grid_template_areas": null,
      "grid_template_columns": null,
      "grid_template_rows": null,
      "height": null,
      "justify_content": null,
      "justify_items": null,
      "left": null,
      "margin": null,
      "max_height": null,
      "max_width": null,
      "min_height": null,
      "min_width": null,
      "object_fit": null,
      "object_position": null,
      "order": null,
      "overflow": null,
      "overflow_x": null,
      "overflow_y": null,
      "padding": null,
      "right": null,
      "top": null,
      "visibility": null,
      "width": null
     }
    },
    "fede86c237ff4fe0bb18a181c3a1c956": {
     "model_module": "@jupyter-widgets/controls",
     "model_name": "HBoxModel",
     "state": {
      "_dom_classes": [],
      "_model_module": "@jupyter-widgets/controls",
      "_model_module_version": "1.5.0",
      "_model_name": "HBoxModel",
      "_view_count": null,
      "_view_module": "@jupyter-widgets/controls",
      "_view_module_version": "1.5.0",
      "_view_name": "HBoxView",
      "box_style": "",
      "children": [
       "IPY_MODEL_30071df022da4983a47ce25dbd9c49ce",
       "IPY_MODEL_3a444223c9c34c1d86a5e28ab47f25d9"
      ],
      "layout": "IPY_MODEL_397325e6a3634994aafef1d49ef7c680"
     }
    }
   }
  }
 },
 "nbformat": 4,
 "nbformat_minor": 4
}
